{
 "cells": [
  {
   "cell_type": "markdown",
   "metadata": {
    "slideshow": {
     "slide_type": "slide"
    }
   },
   "source": [
    "<center><img src=\"julia.svg\" width=\"300\"></center>\n",
    "\n",
    "# <center>A modern language for quantitative computing</center>\n",
    "\n",
    "### <center>Dr Simon Byrne - Julia Computing</center>\n"
   ]
  },
  {
   "cell_type": "markdown",
   "metadata": {
    "slideshow": {
     "slide_type": "slide"
    }
   },
   "source": [
    "# What is Julia?\n",
    "\n",
    "Julia is a modern, high-performance, dynamic programming language for technical computing.\n",
    "\n",
    "- *modern*: based on the lessons of the past 60+ years\n",
    "- *high-performance*: as fast as traditional \"fast\" languages (C/C++/Fortran)\n",
    "- *dynamic*: \"simple to use\" (R/Python/Matlab)\n",
    "- *technical computing*: anything involving numbers"
   ]
  },
  {
   "cell_type": "markdown",
   "metadata": {
    "slideshow": {
     "slide_type": "slide"
    }
   },
   "source": [
    "# Why Julia?"
   ]
  },
  {
   "cell_type": "markdown",
   "metadata": {
    "slideshow": {
     "slide_type": "subslide"
    }
   },
   "source": [
    "## Solve the \"two language problem\"\n",
    "\n",
    "A typical quant workflow:\n",
    "\n",
    "1. A domain expert (analyst/scientist/engineer) writes code in a dynamic language\n",
    "  - resulting code too slow for deployment\n",
    " \n",
    "2. Programmer translates part or all into a compiled language\n",
    "  - adds time/cost\n",
    "  - potential translation errors\n",
    "  - barriers to maintainenance\n",
    " \n",
    "The first aim:\n",
    "> Write fast, efficient code in an easy, elegant dynamic language\n"
   ]
  },
  {
   "cell_type": "markdown",
   "metadata": {
    "slideshow": {
     "slide_type": "subslide"
    }
   },
   "source": [
    "## Innovative design\n",
    "\n",
    "- Multiple-dispatch\n",
    "- High-performance user-defined types\n",
    "- Write generic code that is also fast\n",
    "- Metaprogramming for extensibility\n",
    "\n",
    "The second aim:\n",
    "\n",
    "> Makes it easy to do things which are difficult/impossible in other languages"
   ]
  },
  {
   "cell_type": "markdown",
   "metadata": {
    "slideshow": {
     "slide_type": "subslide"
    }
   },
   "source": [
    "## Open source\n",
    "\n",
    "Julia is an open source language, available under the liberal MIT licence.\n",
    " - Can be deployed and redistributed freely without licencing concerns.\n",
    " - Most of the 1800 packages are also available under such terms.\n",
    "  \n",
    "It's easy to \"look under the hood\"\n",
    " - Most of Julia is written in Julia\n",
    "\n",
    "Contributions from world experts.\n",
    "\n",
    "Julia Computing was founded by the creators of the language to develop products that make Julia easy to use, easy to deploy and easy to scale."
   ]
  },
  {
   "cell_type": "markdown",
   "metadata": {
    "slideshow": {
     "slide_type": "slide"
    }
   },
   "source": [
    "# Who is using Julia?\n",
    "\n",
    "Development originated at MIT, has been adopted extensively in industry and academia.\n",
    "- 1.8 million downloads \n",
    "- \\>100% annual growth"
   ]
  },
  {
   "cell_type": "markdown",
   "metadata": {
    "slideshow": {
     "slide_type": "subslide"
    }
   },
   "source": [
    "- **Aviva**: Julia is used as the computational backbone of the Solvency II model\n",
    "  - Speed and scalability, and eliminates dependence on software firms and updates to proprietary code.\n",
    "  \n",
    "- **Conning**: Core Economic Scenario Generator product is written in Julia\n",
    "  - High performance and productivity, easily scaleable.\n",
    "  \n",
    "- **US Federal Aviation Administration (FAA)**: Julia is used as the reference implementation of ACAS-X, the next-generation air-collistion avoidance system.\n",
    "  - Clear and concise syntax aids clarity, fast enough to allow the specification to be executed directly.\n",
    "  \n",
    "- **Celeste project**: Machine learning astronomy project to identify galaxies and stars from 178 terabytes of images.\n",
    "  - Julia became the 3rd language (after Fortran and C) to break the petaflop barrier (10<sup>15</sup> floating point operations per second).\n",
    "\n",
    "More case studies at [www.juliacomputing.com](www.juliacomputing.com)."
   ]
  },
  {
   "cell_type": "markdown",
   "metadata": {
    "slideshow": {
     "slide_type": "slide"
    }
   },
   "source": [
    "# Example: random walk simulation\n",
    "\n",
    "Simulate from:\n",
    "$$ X_{n+1} = X_n + \\sigma Z_{n+1} $$ where $$Z_i \\sim N(0,1)$$"
   ]
  },
  {
   "cell_type": "code",
   "execution_count": 141,
   "metadata": {
    "slideshow": {
     "slide_type": "fragment"
    }
   },
   "outputs": [
    {
     "data": {
      "text/plain": [
       "rw (generic function with 1 method)"
      ]
     },
     "execution_count": 141,
     "metadata": {},
     "output_type": "execute_result"
    }
   ],
   "source": [
    "function rw(n, σ)\n",
    "    X = zeros(n)\n",
    "    x = 0.0\n",
    "    for i = 1:n\n",
    "        x += σ*randn()\n",
    "        X[i] = x\n",
    "    end\n",
    "    return X\n",
    "end"
   ]
  },
  {
   "cell_type": "markdown",
   "metadata": {
    "slideshow": {
     "slide_type": "subslide"
    }
   },
   "source": [
    "## Syntax\n",
    "Similar to Python and Matlab.\n",
    "\n",
    "Key notes:\n",
    " - explicit `end` to close blocks\n",
    " - 1-based arrays\n",
    " - indexing with square brackets (`[]`)\n",
    " - easy to use unicode symbols\n",
    "   - available via LaTeX completion: `\\sigma` [tab] $\\longrightarrow$ `σ`"
   ]
  },
  {
   "cell_type": "markdown",
   "metadata": {
    "slideshow": {
     "slide_type": "subslide"
    }
   },
   "source": [
    "## Performance\n",
    "\n",
    "Programmers in dynamic languages are taught to avoid `for` loops at all costs.\n",
    "\n",
    "- Instead ecouraged to use _vectorisation_: functions which operate on whole vectors at once.\n",
    "\n",
    "- e.g. the random walk would be written as:\n",
    "```julia\n",
    "cumsum(σ*randn(n))\n",
    "```"
   ]
  },
  {
   "cell_type": "markdown",
   "metadata": {
    "slideshow": {
     "slide_type": "subslide"
    }
   },
   "source": [
    "Julia functions are just-in-time (JIT) compiled\n",
    " - can use `for` loops when they're most appropriate."
   ]
  },
  {
   "cell_type": "code",
   "execution_count": 142,
   "metadata": {},
   "outputs": [
    {
     "name": "stdout",
     "output_type": "stream",
     "text": [
      "  0.018286 seconds (2.31 k allocations: 897.318 KiB)\n"
     ]
    }
   ],
   "source": [
    "@time X = rw(100_000, 0.01); # incurs JIT overhead"
   ]
  },
  {
   "cell_type": "code",
   "execution_count": 143,
   "metadata": {},
   "outputs": [
    {
     "name": "stdout",
     "output_type": "stream",
     "text": [
      "  0.001510 seconds (6 allocations: 781.484 KiB)\n"
     ]
    }
   ],
   "source": [
    "@time X = rw(100_000, 0.01);"
   ]
  },
  {
   "cell_type": "markdown",
   "metadata": {
    "slideshow": {
     "slide_type": "subslide"
    }
   },
   "source": [
    "Consider an first-order autoregressive AR(1) process:\n",
    "\n",
    "$$ X_{n+1} = \\alpha X_n + \\sigma Z_{n+1} $$\n",
    "\n",
    "Difficult to write in vectorised form, but trivial with a `for` loop."
   ]
  },
  {
   "cell_type": "code",
   "execution_count": 144,
   "metadata": {},
   "outputs": [
    {
     "data": {
      "text/plain": [
       "ar1 (generic function with 1 method)"
      ]
     },
     "execution_count": 144,
     "metadata": {},
     "output_type": "execute_result"
    }
   ],
   "source": [
    "function ar1(n, α, σ)\n",
    "    X = zeros(n)\n",
    "    x = 0.0\n",
    "    for i = 1:n\n",
    "        x = α*x + σ*randn()\n",
    "        X[i] = x\n",
    "    end\n",
    "    return X\n",
    "end"
   ]
  },
  {
   "cell_type": "markdown",
   "metadata": {
    "slideshow": {
     "slide_type": "slide"
    }
   },
   "source": [
    "# Types and multiple dispatch\n",
    "\n",
    "Every object in Julia has a type"
   ]
  },
  {
   "cell_type": "code",
   "execution_count": 145,
   "metadata": {},
   "outputs": [
    {
     "data": {
      "text/plain": [
       "Float64"
      ]
     },
     "execution_count": 145,
     "metadata": {},
     "output_type": "execute_result"
    }
   ],
   "source": [
    "typeof(1.0)"
   ]
  },
  {
   "cell_type": "code",
   "execution_count": 146,
   "metadata": {},
   "outputs": [
    {
     "data": {
      "text/plain": [
       "Int64"
      ]
     },
     "execution_count": 146,
     "metadata": {},
     "output_type": "execute_result"
    }
   ],
   "source": [
    "typeof(1)"
   ]
  },
  {
   "cell_type": "code",
   "execution_count": 147,
   "metadata": {},
   "outputs": [
    {
     "data": {
      "text/plain": [
       "Rational{Int64}"
      ]
     },
     "execution_count": 147,
     "metadata": {},
     "output_type": "execute_result"
    }
   ],
   "source": [
    "typeof(1//2)"
   ]
  },
  {
   "cell_type": "markdown",
   "metadata": {
    "slideshow": {
     "slide_type": "subslide"
    }
   },
   "source": [
    "Julia makes it easy to define new types\n",
    "\n",
    "e.g. complex numbers are defined in Julia as:\n",
    "```julia\n",
    "struct Complex{T<:Real} <: Number\n",
    "  re::T\n",
    "  im::T\n",
    "end\n",
    "```\n",
    "- a subtype of `Number`\n",
    "- has 2 fields: `re` and `im`\n",
    "- parameterised by a type `T` which is a subtype of `Real`"
   ]
  },
  {
   "cell_type": "code",
   "execution_count": 148,
   "metadata": {
    "slideshow": {
     "slide_type": "fragment"
    }
   },
   "outputs": [
    {
     "data": {
      "text/plain": [
       "Complex{Int64}"
      ]
     },
     "execution_count": 148,
     "metadata": {},
     "output_type": "execute_result"
    }
   ],
   "source": [
    "typeof(1+2*im)"
   ]
  },
  {
   "cell_type": "code",
   "execution_count": 149,
   "metadata": {},
   "outputs": [
    {
     "data": {
      "text/plain": [
       "Complex{Float64}"
      ]
     },
     "execution_count": 149,
     "metadata": {},
     "output_type": "execute_result"
    }
   ],
   "source": [
    "typeof(1+2.0*im)"
   ]
  },
  {
   "cell_type": "code",
   "execution_count": 150,
   "metadata": {},
   "outputs": [
    {
     "data": {
      "text/plain": [
       "Complex{Rational{Int64}}"
      ]
     },
     "execution_count": 150,
     "metadata": {},
     "output_type": "execute_result"
    }
   ],
   "source": [
    "typeof(1+1//2*im)"
   ]
  },
  {
   "cell_type": "markdown",
   "metadata": {
    "slideshow": {
     "slide_type": "subslide"
    }
   },
   "source": [
    "User-defined types are fast!\n",
    " - immutable types have no creation/destruction overhead\n",
    "\n",
    "Types can extend functionality:\n",
    " - built-in `BigInt` and `BigFloat` for arbitrary precision calculations\n",
    " - Packages provide decimal floating point, fixed point, unitful quantities, quaternions.\n",
    "\n",
    "Types can add metadata for more efficient behaviour:\n",
    " - e.g. `Diagonal`, `Triangular`, `Symmetric` matrix types"
   ]
  },
  {
   "cell_type": "markdown",
   "metadata": {
    "slideshow": {
     "slide_type": "subslide"
    }
   },
   "source": [
    "## Multiple dispatch\n",
    "\n",
    "Julia functions are _generic_: can define different methods for different input types."
   ]
  },
  {
   "cell_type": "code",
   "execution_count": 151,
   "metadata": {},
   "outputs": [
    {
     "data": {
      "text/plain": [
       "f (generic function with 5 methods)"
      ]
     },
     "execution_count": 151,
     "metadata": {},
     "output_type": "execute_result"
    }
   ],
   "source": [
    "f(x::Float64) = \"$x is a float\" # \"$\" does string substitution\n",
    "f(x::Int) = \"$x is an integer\""
   ]
  },
  {
   "cell_type": "markdown",
   "metadata": {},
   "source": [
    "* `f(...) = ...` is the same as `function f(...) ... end`\n",
    "* `::` is an optional *type specification*."
   ]
  },
  {
   "cell_type": "code",
   "execution_count": 152,
   "metadata": {
    "slideshow": {
     "slide_type": "fragment"
    }
   },
   "outputs": [
    {
     "data": {
      "text/plain": [
       "\"1.0 is a float\""
      ]
     },
     "execution_count": 152,
     "metadata": {},
     "output_type": "execute_result"
    }
   ],
   "source": [
    "f(1.0)"
   ]
  },
  {
   "cell_type": "code",
   "execution_count": 153,
   "metadata": {},
   "outputs": [
    {
     "data": {
      "text/plain": [
       "\"1 is an integer\""
      ]
     },
     "execution_count": 153,
     "metadata": {},
     "output_type": "execute_result"
    }
   ],
   "source": [
    "f(1)"
   ]
  },
  {
   "cell_type": "markdown",
   "metadata": {
    "slideshow": {
     "slide_type": "subslide"
    }
   },
   "source": [
    "Unlike traditional object oriented languages (C++, Python, Matlab), functions don't \"belong\" to a type. This allows for *multiple dispatch* on any combination of arguments."
   ]
  },
  {
   "cell_type": "code",
   "execution_count": 154,
   "metadata": {},
   "outputs": [
    {
     "data": {
      "text/plain": [
       "f (generic function with 5 methods)"
      ]
     },
     "execution_count": 154,
     "metadata": {},
     "output_type": "execute_result"
    }
   ],
   "source": [
    "f(x::Float64,y::Int) = \"$x is a float, but $y is an integer\"\n",
    "f(x::Real,y::Real) = \"$x and $y are both some sort of reals\" # Real is an abstract \"super\" type\n",
    "f(x,y) = \"I don't know what $x and $y are\" # fallback"
   ]
  },
  {
   "cell_type": "code",
   "execution_count": 155,
   "metadata": {
    "slideshow": {
     "slide_type": "fragment"
    }
   },
   "outputs": [
    {
     "data": {
      "text/plain": [
       "\"1.0 is a float, but 1 is an integer\""
      ]
     },
     "execution_count": 155,
     "metadata": {},
     "output_type": "execute_result"
    }
   ],
   "source": [
    "f(1.0,1)"
   ]
  },
  {
   "cell_type": "code",
   "execution_count": 156,
   "metadata": {},
   "outputs": [
    {
     "data": {
      "text/plain": [
       "\"1 and 1//2 are both some sort of reals\""
      ]
     },
     "execution_count": 156,
     "metadata": {},
     "output_type": "execute_result"
    }
   ],
   "source": [
    "f(1,1//2)"
   ]
  },
  {
   "cell_type": "code",
   "execution_count": 157,
   "metadata": {},
   "outputs": [
    {
     "data": {
      "text/plain": [
       "\"I don't know what aaa and 2 are\""
      ]
     },
     "execution_count": 157,
     "metadata": {},
     "output_type": "execute_result"
    }
   ],
   "source": [
    "f(\"aaa\",2)"
   ]
  },
  {
   "cell_type": "markdown",
   "metadata": {
    "slideshow": {
     "slide_type": "subslide"
    }
   },
   "source": [
    "Makes it possible to write generic code, but define specific methods where available.\n",
    "\n",
    "e.g. consider the \"linear solve\" operator `A \\ b` (solution to `Ax = b`):\n",
    "\n",
    "| type of `A` | algorithm |\n",
    "|-------------|-------------------------|\n",
    "| `Diagonal{T}` | element-wise division |\n",
    "| `Triangular{T}` | Gaussian elimination |\n",
    "| `Symmetric{T}` | Bunch-Kaufman decomposition |\n",
    "| `Matrix{T}` | LU decomposition |\n",
    "\n",
    "which themselves use generic arithmetic operations (`+`/`*`/`/`) defined for `T`"
   ]
  },
  {
   "cell_type": "code",
   "execution_count": 158,
   "metadata": {
    "slideshow": {
     "slide_type": "subslide"
    }
   },
   "outputs": [
    {
     "data": {
      "text/plain": [
       "5×5 UpperTriangular{Rational{Int64},Array{Rational{Int64},2}}:\n",
       " 1//1  2//1  3//1  4//1  5//1\n",
       "  ⋅    1//1  3//2  2//1  5//2\n",
       "  ⋅     ⋅    1//1  4//3  5//3\n",
       "  ⋅     ⋅     ⋅    1//1  5//4\n",
       "  ⋅     ⋅     ⋅     ⋅    1//1"
      ]
     },
     "execution_count": 158,
     "metadata": {},
     "output_type": "execute_result"
    }
   ],
   "source": [
    "A = UpperTriangular([ j // i for i=1:5, j=1:5])"
   ]
  },
  {
   "cell_type": "code",
   "execution_count": 159,
   "metadata": {},
   "outputs": [
    {
     "data": {
      "text/plain": [
       "1:5"
      ]
     },
     "execution_count": 159,
     "metadata": {},
     "output_type": "execute_result"
    }
   ],
   "source": [
    "x = 1:5 # a Range object: equivalent to [1,2,3,4,5]"
   ]
  },
  {
   "cell_type": "code",
   "execution_count": 160,
   "metadata": {},
   "outputs": [
    {
     "data": {
      "text/plain": [
       "5-element Array{Rational{Int64},1}:\n",
       " -3//1\n",
       " -5//2\n",
       " -7//3\n",
       " -9//4\n",
       "  5//1"
      ]
     },
     "execution_count": 160,
     "metadata": {},
     "output_type": "execute_result"
    }
   ],
   "source": [
    "A \\ x"
   ]
  },
  {
   "cell_type": "markdown",
   "metadata": {
    "slideshow": {
     "slide_type": "subslide"
    }
   },
   "source": [
    "Or using high-precision floating point:"
   ]
  },
  {
   "cell_type": "code",
   "execution_count": 161,
   "metadata": {},
   "outputs": [
    {
     "data": {
      "text/plain": [
       "5-element Array{BigFloat,1}:\n",
       " -3.000000000000000000000000000000000000000000000000000000000000000000000000000000\n",
       " -2.500000000000000000000000000000000000000000000000000000000000000000000000000069\n",
       " -2.333333333333333333333333333333333333333333333333333333333333333333333333333287\n",
       " -2.250000000000000000000000000000000000000000000000000000000000000000000000000000\n",
       "  5.000000000000000000000000000000000000000000000000000000000000000000000000000000"
      ]
     },
     "execution_count": 161,
     "metadata": {},
     "output_type": "execute_result"
    }
   ],
   "source": [
    "BigFloat.(A) \\ BigFloat.(x)"
   ]
  },
  {
   "cell_type": "markdown",
   "metadata": {
    "slideshow": {
     "slide_type": "subslide"
    }
   },
   "source": [
    "Types are critical to Julia's performance\n",
    "\n",
    "At the compilation stage, Julia does _type inference_: it determines the set of possible types each value can have.\n",
    " - if all values are determined to have a unique type, Julia can get performance comparable to statically compiled languages\n",
    "\n",
    "Performance tip:\n",
    "> Aim to write functions which are _type stable_: i.e. always return values of a single type"
   ]
  },
  {
   "cell_type": "code",
   "execution_count": 162,
   "metadata": {
    "slideshow": {
     "slide_type": "fragment"
    }
   },
   "outputs": [
    {
     "data": {
      "text/plain": [
       "9223372036854775807"
      ]
     },
     "execution_count": 162,
     "metadata": {},
     "output_type": "execute_result"
    }
   ],
   "source": [
    "typemax(Int)"
   ]
  },
  {
   "cell_type": "code",
   "execution_count": 163,
   "metadata": {},
   "outputs": [
    {
     "data": {
      "text/plain": [
       "-9223372036854775808"
      ]
     },
     "execution_count": 163,
     "metadata": {},
     "output_type": "execute_result"
    }
   ],
   "source": [
    "typemax(Int)+1"
   ]
  },
  {
   "cell_type": "markdown",
   "metadata": {},
   "source": [
    "If Julia promoted to `BigInt`, any integer arithmetic operations (e.g. array indexing) would incur significant overhead."
   ]
  },
  {
   "cell_type": "markdown",
   "metadata": {
    "slideshow": {
     "slide_type": "slide"
    }
   },
   "source": [
    "# Metaprogramming\n",
    "\n",
    "Julia provides powerful facilities for _metaprogramming_: code that generates other code.\n",
    "\n",
    "**Macros** operate on expressions, and are prefixed with `@`:"
   ]
  },
  {
   "cell_type": "code",
   "execution_count": 164,
   "metadata": {},
   "outputs": [
    {
     "name": "stdout",
     "output_type": "stream",
     "text": [
      "  0.019664 seconds (2.41 k allocations: 902.317 KiB)\n"
     ]
    }
   ],
   "source": [
    "@time ar1(100_000,0.8,0.01);"
   ]
  },
  {
   "cell_type": "code",
   "execution_count": 165,
   "metadata": {
    "slideshow": {
     "slide_type": "fragment"
    }
   },
   "outputs": [
    {
     "data": {
      "text/plain": [
       "quote  # util.jl, line 235:\n",
       "    local #184#stats = (Base.gc_num)() # util.jl, line 236:\n",
       "    local #186#elapsedtime = (Base.time_ns)() # util.jl, line 237:\n",
       "    local #185#val = ar1(100000, 0.8, 0.01) # util.jl, line 238:\n",
       "    #186#elapsedtime = (Base.time_ns)() - #186#elapsedtime # util.jl, line 239:\n",
       "    local #187#diff = (Base.GC_Diff)((Base.gc_num)(), #184#stats) # util.jl, line 240:\n",
       "    (Base.time_print)(#186#elapsedtime, #187#diff.allocd, #187#diff.total_time, (Base.gc_alloc_count)(#187#diff)) # util.jl, line 242:\n",
       "    #185#val\n",
       "end"
      ]
     },
     "execution_count": 165,
     "metadata": {},
     "output_type": "execute_result"
    }
   ],
   "source": [
    "@macroexpand @time ar1(100_000,0.8,0.01)"
   ]
  },
  {
   "cell_type": "markdown",
   "metadata": {
    "slideshow": {
     "slide_type": "subslide"
    }
   },
   "source": [
    "They provide powerful tools to peek inside the Julia internals:"
   ]
  },
  {
   "cell_type": "code",
   "execution_count": 166,
   "metadata": {},
   "outputs": [
    {
     "data": {
      "text/plain": [
       "CodeInfo(:(begin \n",
       "        unless (Base.lt_float)(x, 0.0)::Bool goto 3\n",
       "        return 0\n",
       "        3: \n",
       "        return (Base.mul_float)(x, x)::Float64\n",
       "    end))=>Union{Float64, Int64}"
      ]
     },
     "execution_count": 166,
     "metadata": {},
     "output_type": "execute_result"
    }
   ],
   "source": [
    "g(x) = x < 0.0 ? 0 : x*x # if-else ternary operator _ ? _ : _\n",
    "@code_typed g(0.1) # lowering and type inference"
   ]
  },
  {
   "cell_type": "code",
   "execution_count": 167,
   "metadata": {
    "slideshow": {
     "slide_type": "fragment"
    }
   },
   "outputs": [
    {
     "data": {
      "text/plain": [
       "CodeInfo(:(begin \n",
       "        unless (Base.lt_float)(x, 0.0)::Bool goto 3\n",
       "        return (Base.sitofp)(Float64, 0)::Float64\n",
       "        3: \n",
       "        return (Base.mul_float)(x, x)::Float64\n",
       "    end))=>Float64"
      ]
     },
     "execution_count": 167,
     "metadata": {},
     "output_type": "execute_result"
    }
   ],
   "source": [
    "g2(x) = x < 0.0 ? zero(x) : x*x # zero(x) returns a zero of the same type as x\n",
    "@code_typed g2(0.1)"
   ]
  },
  {
   "cell_type": "code",
   "execution_count": 168,
   "metadata": {
    "slideshow": {
     "slide_type": "subslide"
    }
   },
   "outputs": [
    {
     "name": "stdout",
     "output_type": "stream",
     "text": [
      "\n",
      "define double @julia_g2_67338(double) #0 !dbg !5 {\n",
      "top:\n",
      "  %1 = fcmp uge double %0, 0.000000e+00\n",
      "  br i1 %1, label %L3, label %if\n",
      "\n",
      "if:                                               ; preds = %top\n",
      "  ret double 0.000000e+00\n",
      "\n",
      "L3:                                               ; preds = %top\n",
      "  %2 = fmul double %0, %0\n",
      "  ret double %2\n",
      "}\n"
     ]
    }
   ],
   "source": [
    "@code_llvm g2(0.1)"
   ]
  },
  {
   "cell_type": "code",
   "execution_count": 169,
   "metadata": {
    "slideshow": {
     "slide_type": "subslide"
    }
   },
   "outputs": [
    {
     "name": "stdout",
     "output_type": "stream",
     "text": [
      "\t.section\t__TEXT,__text,regular,pure_instructions\n",
      "Filename: In[167]\n",
      "\tpushq\t%rbp\n",
      "\tmovq\t%rsp, %rbp\n",
      "Source line: 1\n",
      "\txorps\t%xmm1, %xmm1\n",
      "\tucomisd\t%xmm0, %xmm1\n",
      "\tja\tL19\n",
      "\tmulsd\t%xmm0, %xmm0\n",
      "\tpopq\t%rbp\n",
      "\tretq\n",
      "L19:\n",
      "\txorps\t%xmm0, %xmm0\n",
      "\tpopq\t%rbp\n",
      "\tretq\n",
      "\tnopl\t(%rax,%rax)\n"
     ]
    }
   ],
   "source": [
    "@code_native g2(0.1)"
   ]
  },
  {
   "cell_type": "markdown",
   "metadata": {
    "slideshow": {
     "slide_type": "slide"
    }
   },
   "source": [
    "# Parallelism\n",
    "\n",
    "Out-of-the-box support for parallel computing"
   ]
  },
  {
   "cell_type": "code",
   "execution_count": 170,
   "metadata": {},
   "outputs": [
    {
     "data": {
      "text/plain": [
       "4-element Array{Int64,1}:\n",
       " 6\n",
       " 7\n",
       " 8\n",
       " 9"
      ]
     },
     "execution_count": 170,
     "metadata": {},
     "output_type": "execute_result"
    }
   ],
   "source": [
    "addprocs() # adds number based on CPU cores"
   ]
  },
  {
   "cell_type": "code",
   "execution_count": 171,
   "metadata": {},
   "outputs": [
    {
     "data": {
      "text/plain": [
       "findpi (generic function with 1 method)"
      ]
     },
     "execution_count": 171,
     "metadata": {},
     "output_type": "execute_result"
    }
   ],
   "source": [
    "# a simple Monte Carlo approximation to π\n",
    "function findpi(n)\n",
    "    inside = 0\n",
    "    for i = 1:n\n",
    "        x = rand()\n",
    "        y = rand()\n",
    "        if x^2 + y^2 <= 1\n",
    "            inside += 1\n",
    "        end\n",
    "    end\n",
    "    4*inside / n\n",
    "end"
   ]
  },
  {
   "cell_type": "code",
   "execution_count": 172,
   "metadata": {
    "slideshow": {
     "slide_type": "subslide"
    }
   },
   "outputs": [
    {
     "name": "stdout",
     "output_type": "stream",
     "text": [
      "  1.447616 seconds (2.97 k allocations: 151.498 KiB)\n"
     ]
    },
    {
     "data": {
      "text/plain": [
       "3.14185392"
      ]
     },
     "execution_count": 172,
     "metadata": {},
     "output_type": "execute_result"
    }
   ],
   "source": [
    "@time findpi(100_000_000)"
   ]
  },
  {
   "cell_type": "code",
   "execution_count": 173,
   "metadata": {},
   "outputs": [
    {
     "name": "stdout",
     "output_type": "stream",
     "text": [
      "  0.746429 seconds (5 allocations: 176 bytes)\n"
     ]
    },
    {
     "data": {
      "text/plain": [
       "3.14161748"
      ]
     },
     "execution_count": 173,
     "metadata": {},
     "output_type": "execute_result"
    }
   ],
   "source": [
    "@time findpi(100_000_000)"
   ]
  },
  {
   "cell_type": "markdown",
   "metadata": {
    "slideshow": {
     "slide_type": "subslide"
    }
   },
   "source": [
    "Simplest way to use is via `@parallel` macro which shards job across available workers"
   ]
  },
  {
   "cell_type": "code",
   "execution_count": 174,
   "metadata": {},
   "outputs": [
    {
     "data": {
      "text/plain": [
       "parallel_findpi (generic function with 1 method)"
      ]
     },
     "execution_count": 174,
     "metadata": {},
     "output_type": "execute_result"
    }
   ],
   "source": [
    "function parallel_findpi(n)\n",
    "    inside = @parallel (+) for i = 1:n # (+) is the reduction operation to apply\n",
    "        x = rand()\n",
    "        y = rand()\n",
    "        Int(x^2 + y^2 <= 1)\n",
    "    end\n",
    "    4*inside / n\n",
    "end"
   ]
  },
  {
   "cell_type": "code",
   "execution_count": 175,
   "metadata": {},
   "outputs": [
    {
     "name": "stdout",
     "output_type": "stream",
     "text": [
      "  1.250249 seconds (72.61 k allocations: 3.825 MiB)\n"
     ]
    },
    {
     "data": {
      "text/plain": [
       "3.14134676"
      ]
     },
     "execution_count": 175,
     "metadata": {},
     "output_type": "execute_result"
    }
   ],
   "source": [
    "@time parallel_findpi(100_000_000)"
   ]
  },
  {
   "cell_type": "code",
   "execution_count": 176,
   "metadata": {},
   "outputs": [
    {
     "name": "stdout",
     "output_type": "stream",
     "text": [
      "  0.283919 seconds (1.08 k allocations: 71.703 KiB)\n"
     ]
    },
    {
     "data": {
      "text/plain": [
       "3.14162312"
      ]
     },
     "execution_count": 176,
     "metadata": {},
     "output_type": "execute_result"
    }
   ],
   "source": [
    "@time parallel_findpi(100_000_000) # ~3x speedup"
   ]
  },
  {
   "cell_type": "markdown",
   "metadata": {
    "slideshow": {
     "slide_type": "subslide"
    }
   },
   "source": [
    "Other parallel features:\n",
    " - Can distribute across multiple machines\n",
    " - `@sync`/`@async` for controlling synchronization\n",
    " - Parallel data structures:\n",
    "   - SharedArrays\n",
    "   - DistributedArrays\n",
    " - multi-threading: more lightweight, but shared state makes trickier to program"
   ]
  },
  {
   "cell_type": "markdown",
   "metadata": {
    "slideshow": {
     "slide_type": "slide"
    }
   },
   "source": [
    "# Packages\n",
    "\n",
    "Julia has an extensive and growing collection of 3rd party packages. See http://pkg.julialang.org/.\n",
    "\n",
    "Typically suffixed with .jl for ease of searching (e.g. Distributions.jl)\n",
    "\n",
    "Packages are installed with\n",
    "\n",
    "```julia\n",
    "Pkg.add(\"PackageName\")\n",
    "```\n",
    "and loaded with\n",
    "```julia\n",
    "using PackageName\n",
    "```"
   ]
  },
  {
   "cell_type": "markdown",
   "metadata": {
    "slideshow": {
     "slide_type": "slide"
    }
   },
   "source": [
    "## Automatic differentiation\n",
    "\n",
    "Automatic differentiation (AD) is _not_:\n",
    "- Symbolic differentiation (manipulating algebraic expressions)\n",
    "- Numeric differentiation (finite differencing)\n",
    "\n",
    "Instead we propagate the gradient information via standard calculus properties (product rule, chain rule, etc.).\n",
    "\n",
    "e.g. say we want to compute the value and derivative of\n",
    "\n",
    "$$ (x/2 - 2)^2 $$\n",
    "\n",
    "at $x=7$."
   ]
  },
  {
   "cell_type": "code",
   "execution_count": 177,
   "metadata": {
    "slideshow": {
     "slide_type": "subslide"
    }
   },
   "outputs": [],
   "source": [
    "using DualNumbers"
   ]
  },
  {
   "cell_type": "markdown",
   "metadata": {},
   "source": [
    "A dual number carries around an $\\varepsilon$ term representing the derivative\n",
    " - similar to imaginary unit $i$, except $\\varepsilon^2 = 0$"
   ]
  },
  {
   "cell_type": "code",
   "execution_count": 178,
   "metadata": {},
   "outputs": [
    {
     "data": {
      "text/plain": [
       "7 + 1ɛ"
      ]
     },
     "execution_count": 178,
     "metadata": {},
     "output_type": "execute_result"
    }
   ],
   "source": [
    "x = Dual(7,1) # dx/dx = 1"
   ]
  },
  {
   "cell_type": "code",
   "execution_count": 179,
   "metadata": {},
   "outputs": [
    {
     "data": {
      "text/plain": [
       "3.5 + 0.5ɛ"
      ]
     },
     "execution_count": 179,
     "metadata": {},
     "output_type": "execute_result"
    }
   ],
   "source": [
    "x/2"
   ]
  },
  {
   "cell_type": "code",
   "execution_count": 180,
   "metadata": {},
   "outputs": [
    {
     "data": {
      "text/plain": [
       "1.5 + 0.5ɛ"
      ]
     },
     "execution_count": 180,
     "metadata": {},
     "output_type": "execute_result"
    }
   ],
   "source": [
    "x/2-2"
   ]
  },
  {
   "cell_type": "code",
   "execution_count": 181,
   "metadata": {},
   "outputs": [
    {
     "data": {
      "text/plain": [
       "2.25 + 1.5ɛ"
      ]
     },
     "execution_count": 181,
     "metadata": {},
     "output_type": "execute_result"
    }
   ],
   "source": [
    "(x/2-2)^2"
   ]
  },
  {
   "cell_type": "markdown",
   "metadata": {
    "slideshow": {
     "slide_type": "subslide"
    }
   },
   "source": [
    "These are\n",
    "\n",
    "1. _numerically exact_: we don't need to worry about tuning finite differencing parameters\n",
    "2. _fast_ (e.g. 10% overhead per gradient, vs 100% for finite differencing).\n",
    "\n",
    "To make this useable we need a language that supports:\n",
    "- _Generic programming_: reuse same code with different data types\n",
    "- _Function overloading via multiple dispatch_: to define how the gradients operate on each argument of each function and operator.\n",
    "- _Efficient user-defined types_: `Dual` type is as efficient as built-in types.\n",
    "- _High-performance_: otherwise why bother?\n",
    "\n",
    "Julia makes this easy."
   ]
  },
  {
   "cell_type": "markdown",
   "metadata": {
    "slideshow": {
     "slide_type": "subslide"
    }
   },
   "source": [
    "### Example: Greeks for an American put option"
   ]
  },
  {
   "cell_type": "code",
   "execution_count": 182,
   "metadata": {},
   "outputs": [
    {
     "data": {
      "text/plain": [
       "crr_am_put (generic function with 1 method)"
      ]
     },
     "execution_count": 182,
     "metadata": {},
     "output_type": "execute_result"
    }
   ],
   "source": [
    "# 1. Cox-Ross-Rubinstein binomial model\n",
    "function crr_am_put(S, K, r, σ, t, N)\n",
    "    Δt = t/N\n",
    "    U = exp(σ*√Δt)\n",
    "    D = 1/U\n",
    "    R = exp(r*Δt)\n",
    "    p = (R-D)/(U-D) # P(up)\n",
    "    q = (U-R)/(U-D) # P(down)\n",
    "    # value at maturity, allocates buffer array\n",
    "    Z = [max(0, K - S*exp((2*i-N)*σ*√Δt)) for i = 0:N]\n",
    "    for n = N-1:-1:0\n",
    "        for i = 0:n # recombining\n",
    "            x = K - S*exp((2*i-n)*σ*√Δt)  # early exercise value\n",
    "            y = (q*Z[i+1] + p*Z[i+2])/R  # future value\n",
    "            Z[i+1] = max(x, y)\n",
    "        end\n",
    "    end\n",
    "    return Z[1]\n",
    "end"
   ]
  },
  {
   "cell_type": "code",
   "execution_count": 183,
   "metadata": {
    "slideshow": {
     "slide_type": "subslide"
    }
   },
   "outputs": [
    {
     "data": {
      "text/plain": [
       "3.307679908124034"
      ]
     },
     "execution_count": 183,
     "metadata": {},
     "output_type": "execute_result"
    }
   ],
   "source": [
    "# price\n",
    "crr_am_put(100, 90, 0.05, 0.3, 180/365, 1000)"
   ]
  },
  {
   "cell_type": "code",
   "execution_count": 184,
   "metadata": {},
   "outputs": [
    {
     "data": {
      "text/plain": [
       "3.307679908124034 - 0.24947047459851995ɛ"
      ]
     },
     "execution_count": 184,
     "metadata": {},
     "output_type": "execute_result"
    }
   ],
   "source": [
    "# price + delta\n",
    "crr_am_put(Dual(100,1), 90, 0.05, 0.3, 180/365, 1000)"
   ]
  },
  {
   "cell_type": "markdown",
   "metadata": {},
   "source": [
    "Can do the same for higher-order greeks and LSMC-based models, see:\n",
    "\n",
    "> \"Automatic for the Greeks\", Simon Byrne and Andy Greenwell, Wilmott Magazine\n",
    " https://www.wilmott.com/automatic-for-the-greeks/\n",
    "\n",
    "More advanced techniques available in ForwardDiff.jl and ReverseDiff.jl packages."
   ]
  },
  {
   "cell_type": "markdown",
   "metadata": {
    "slideshow": {
     "slide_type": "subslide"
    }
   },
   "source": [
    "# JuMP\n",
    "\n",
    "JuMP (Julia for Mathematical Programming) is a package for mathematical optimization.\n",
    "\n",
    "It provides a domain specific language (DSL) using macros to specify optimization problems."
   ]
  },
  {
   "cell_type": "markdown",
   "metadata": {
    "slideshow": {
     "slide_type": "subslide"
    }
   },
   "source": [
    "### Example: portfolio optimisation\n",
    "\n",
    "Consider a portfolio optimisation problem:\n",
    "\n",
    "> Given expected returns, volatilities and correlations, what is the optimal portfolio weighting subject to certain constraints?"
   ]
  },
  {
   "cell_type": "code",
   "execution_count": 185,
   "metadata": {
    "collapsed": true
   },
   "outputs": [],
   "source": [
    "tickers = [\"AAPL\", \"AMZN\", \"FB\", \"GOOG\", \"DB\", \"JPM\", \"BAC\", \"WFC\", \"XOM\", \"CVX\"]\n",
    "class   = [\"tech\", \"tech\", \"tech\", \"tech\", \"bank\", \"bank\", \"bank\", \"bank\", \"oil\", \"oil\"]\n",
    "\n",
    "returns = [0.260,0.696,0.234,0.182,-0.262,0.336,0.300,0.27,0.27,0.210]\n",
    "volatilities = [0.222,0.268,0.262,0.222,0.285,0.190,0.225,0.209,0.163,0.187]\n",
    "\n",
    "corr = \n",
    "[1.00 0.50 0.48 0.63 0.33 0.38 0.37 0.26 0.30 0.27 ;\n",
    " 0.50 1.00 0.57 0.67 0.14 0.28 0.31 0.22 0.16 0.11 ;\n",
    " 0.48 0.57 1.00 0.72 0.23 0.33 0.33 0.26 0.36 0.29 ;\n",
    " 0.63 0.67 0.72 1.00 0.36 0.47 0.45 0.42 0.39 0.29 ;\n",
    " 0.33 0.14 0.23 0.36 1.00 0.58 0.57 0.45 0.31 0.33 ;\n",
    " 0.38 0.28 0.33 0.47 0.58 1.00 0.92 0.77 0.47 0.53 ;\n",
    " 0.37 0.31 0.33 0.45 0.57 0.92 1.00 0.73 0.38 0.46 ;\n",
    " 0.26 0.22 0.26 0.42 0.45 0.77 0.73 1.00 0.44 0.38 ;\n",
    " 0.30 0.16 0.36 0.39 0.31 0.47 0.38 0.44 1.00 0.66 ;\n",
    " 0.27 0.11 0.29 0.29 0.33 0.53 0.46 0.38 0.66 1.00 ];"
   ]
  },
  {
   "cell_type": "code",
   "execution_count": 186,
   "metadata": {
    "slideshow": {
     "slide_type": "subslide"
    }
   },
   "outputs": [
    {
     "data": {
      "text/plain": [
       "percentage (generic function with 1 method)"
      ]
     },
     "execution_count": 186,
     "metadata": {},
     "output_type": "execute_result"
    }
   ],
   "source": [
    "using JuMP, Ipopt, Plots\n",
    "gr(); percentage(x) = @sprintf \"%.0f%%\" (x*100)"
   ]
  },
  {
   "cell_type": "code",
   "execution_count": 187,
   "metadata": {},
   "outputs": [
    {
     "data": {
      "image/svg+xml": [
       "<?xml version=\"1.0\" encoding=\"utf-8\"?>\n",
       "<svg xmlns=\"http://www.w3.org/2000/svg\" xmlns:xlink=\"http://www.w3.org/1999/xlink\" width=\"600\" height=\"400\" viewBox=\"0 0 600 400\">\n",
       "<defs>\n",
       "  <clipPath id=\"clip8200\">\n",
       "    <rect x=\"0\" y=\"0\" width=\"600\" height=\"400\"/>\n",
       "  </clipPath>\n",
       "</defs>\n",
       "<polygon clip-path=\"url(#clip8200)\" points=\"\n",
       "0,400 600,400 600,0 0,0 \n",
       "  \" fill=\"#ffffff\" fill-opacity=\"1\"/>\n",
       "<defs>\n",
       "  <clipPath id=\"clip8201\">\n",
       "    <rect x=\"120\" y=\"0\" width=\"421\" height=\"400\"/>\n",
       "  </clipPath>\n",
       "</defs>\n",
       "<polygon clip-path=\"url(#clip8200)\" points=\"\n",
       "62.6025,360.121 580.315,360.121 580.315,11.811 62.6025,11.811 \n",
       "  \" fill=\"#ffffff\" fill-opacity=\"1\"/>\n",
       "<defs>\n",
       "  <clipPath id=\"clip8202\">\n",
       "    <rect x=\"62\" y=\"11\" width=\"519\" height=\"349\"/>\n",
       "  </clipPath>\n",
       "</defs>\n",
       "<polyline clip-path=\"url(#clip8202)\" style=\"stroke:#000000; stroke-width:0.5; stroke-opacity:0.1; fill:none\" points=\"\n",
       "  62.6025,360.121 62.6025,11.811 \n",
       "  \"/>\n",
       "<polyline clip-path=\"url(#clip8202)\" style=\"stroke:#000000; stroke-width:0.5; stroke-opacity:0.1; fill:none\" points=\"\n",
       "  185.867,360.121 185.867,11.811 \n",
       "  \"/>\n",
       "<polyline clip-path=\"url(#clip8202)\" style=\"stroke:#000000; stroke-width:0.5; stroke-opacity:0.1; fill:none\" points=\"\n",
       "  309.132,360.121 309.132,11.811 \n",
       "  \"/>\n",
       "<polyline clip-path=\"url(#clip8202)\" style=\"stroke:#000000; stroke-width:0.5; stroke-opacity:0.1; fill:none\" points=\"\n",
       "  432.397,360.121 432.397,11.811 \n",
       "  \"/>\n",
       "<polyline clip-path=\"url(#clip8202)\" style=\"stroke:#000000; stroke-width:0.5; stroke-opacity:0.1; fill:none\" points=\"\n",
       "  555.662,360.121 555.662,11.811 \n",
       "  \"/>\n",
       "<polyline clip-path=\"url(#clip8202)\" style=\"stroke:#000000; stroke-width:0.5; stroke-opacity:0.1; fill:none\" points=\"\n",
       "  62.6025,328.997 580.315,328.997 \n",
       "  \"/>\n",
       "<polyline clip-path=\"url(#clip8202)\" style=\"stroke:#000000; stroke-width:0.5; stroke-opacity:0.1; fill:none\" points=\"\n",
       "  62.6025,260.397 580.315,260.397 \n",
       "  \"/>\n",
       "<polyline clip-path=\"url(#clip8202)\" style=\"stroke:#000000; stroke-width:0.5; stroke-opacity:0.1; fill:none\" points=\"\n",
       "  62.6025,191.797 580.315,191.797 \n",
       "  \"/>\n",
       "<polyline clip-path=\"url(#clip8202)\" style=\"stroke:#000000; stroke-width:0.5; stroke-opacity:0.1; fill:none\" points=\"\n",
       "  62.6025,123.197 580.315,123.197 \n",
       "  \"/>\n",
       "<polyline clip-path=\"url(#clip8202)\" style=\"stroke:#000000; stroke-width:0.5; stroke-opacity:0.1; fill:none\" points=\"\n",
       "  62.6025,54.5968 580.315,54.5968 \n",
       "  \"/>\n",
       "<polyline clip-path=\"url(#clip8200)\" style=\"stroke:#000000; stroke-width:1; stroke-opacity:1; fill:none\" points=\"\n",
       "  62.6025,360.121 580.315,360.121 \n",
       "  \"/>\n",
       "<polyline clip-path=\"url(#clip8200)\" style=\"stroke:#000000; stroke-width:1; stroke-opacity:1; fill:none\" points=\"\n",
       "  62.6025,360.121 62.6025,11.811 \n",
       "  \"/>\n",
       "<polyline clip-path=\"url(#clip8200)\" style=\"stroke:#000000; stroke-width:1; stroke-opacity:1; fill:none\" points=\"\n",
       "  62.6025,360.121 62.6025,354.896 \n",
       "  \"/>\n",
       "<polyline clip-path=\"url(#clip8200)\" style=\"stroke:#000000; stroke-width:1; stroke-opacity:1; fill:none\" points=\"\n",
       "  185.867,360.121 185.867,354.896 \n",
       "  \"/>\n",
       "<polyline clip-path=\"url(#clip8200)\" style=\"stroke:#000000; stroke-width:1; stroke-opacity:1; fill:none\" points=\"\n",
       "  309.132,360.121 309.132,354.896 \n",
       "  \"/>\n",
       "<polyline clip-path=\"url(#clip8200)\" style=\"stroke:#000000; stroke-width:1; stroke-opacity:1; fill:none\" points=\"\n",
       "  432.397,360.121 432.397,354.896 \n",
       "  \"/>\n",
       "<polyline clip-path=\"url(#clip8200)\" style=\"stroke:#000000; stroke-width:1; stroke-opacity:1; fill:none\" points=\"\n",
       "  555.662,360.121 555.662,354.896 \n",
       "  \"/>\n",
       "<polyline clip-path=\"url(#clip8200)\" style=\"stroke:#000000; stroke-width:1; stroke-opacity:1; fill:none\" points=\"\n",
       "  62.6025,328.997 70.3682,328.997 \n",
       "  \"/>\n",
       "<polyline clip-path=\"url(#clip8200)\" style=\"stroke:#000000; stroke-width:1; stroke-opacity:1; fill:none\" points=\"\n",
       "  62.6025,260.397 70.3682,260.397 \n",
       "  \"/>\n",
       "<polyline clip-path=\"url(#clip8200)\" style=\"stroke:#000000; stroke-width:1; stroke-opacity:1; fill:none\" points=\"\n",
       "  62.6025,191.797 70.3682,191.797 \n",
       "  \"/>\n",
       "<polyline clip-path=\"url(#clip8200)\" style=\"stroke:#000000; stroke-width:1; stroke-opacity:1; fill:none\" points=\"\n",
       "  62.6025,123.197 70.3682,123.197 \n",
       "  \"/>\n",
       "<polyline clip-path=\"url(#clip8200)\" style=\"stroke:#000000; stroke-width:1; stroke-opacity:1; fill:none\" points=\"\n",
       "  62.6025,54.5968 70.3682,54.5968 \n",
       "  \"/>\n",
       "<g clip-path=\"url(#clip8200)\">\n",
       "<text style=\"fill:#000000; fill-opacity:1; font-family:Arial,Helvetica Neue,Helvetica,sans-serif; font-size:12; text-anchor:middle;\" transform=\"rotate(0, 62.6025, 373.921)\" x=\"62.6025\" y=\"373.921\">10%</text>\n",
       "</g>\n",
       "<g clip-path=\"url(#clip8200)\">\n",
       "<text style=\"fill:#000000; fill-opacity:1; font-family:Arial,Helvetica Neue,Helvetica,sans-serif; font-size:12; text-anchor:middle;\" transform=\"rotate(0, 185.867, 373.921)\" x=\"185.867\" y=\"373.921\">15%</text>\n",
       "</g>\n",
       "<g clip-path=\"url(#clip8200)\">\n",
       "<text style=\"fill:#000000; fill-opacity:1; font-family:Arial,Helvetica Neue,Helvetica,sans-serif; font-size:12; text-anchor:middle;\" transform=\"rotate(0, 309.132, 373.921)\" x=\"309.132\" y=\"373.921\">20%</text>\n",
       "</g>\n",
       "<g clip-path=\"url(#clip8200)\">\n",
       "<text style=\"fill:#000000; fill-opacity:1; font-family:Arial,Helvetica Neue,Helvetica,sans-serif; font-size:12; text-anchor:middle;\" transform=\"rotate(0, 432.397, 373.921)\" x=\"432.397\" y=\"373.921\">25%</text>\n",
       "</g>\n",
       "<g clip-path=\"url(#clip8200)\">\n",
       "<text style=\"fill:#000000; fill-opacity:1; font-family:Arial,Helvetica Neue,Helvetica,sans-serif; font-size:12; text-anchor:middle;\" transform=\"rotate(0, 555.662, 373.921)\" x=\"555.662\" y=\"373.921\">30%</text>\n",
       "</g>\n",
       "<g clip-path=\"url(#clip8200)\">\n",
       "<text style=\"fill:#000000; fill-opacity:1; font-family:Arial,Helvetica Neue,Helvetica,sans-serif; font-size:12; text-anchor:end;\" transform=\"rotate(0, 56.6025, 333.497)\" x=\"56.6025\" y=\"333.497\">-20%</text>\n",
       "</g>\n",
       "<g clip-path=\"url(#clip8200)\">\n",
       "<text style=\"fill:#000000; fill-opacity:1; font-family:Arial,Helvetica Neue,Helvetica,sans-serif; font-size:12; text-anchor:end;\" transform=\"rotate(0, 56.6025, 264.897)\" x=\"56.6025\" y=\"264.897\">0%</text>\n",
       "</g>\n",
       "<g clip-path=\"url(#clip8200)\">\n",
       "<text style=\"fill:#000000; fill-opacity:1; font-family:Arial,Helvetica Neue,Helvetica,sans-serif; font-size:12; text-anchor:end;\" transform=\"rotate(0, 56.6025, 196.297)\" x=\"56.6025\" y=\"196.297\">20%</text>\n",
       "</g>\n",
       "<g clip-path=\"url(#clip8200)\">\n",
       "<text style=\"fill:#000000; fill-opacity:1; font-family:Arial,Helvetica Neue,Helvetica,sans-serif; font-size:12; text-anchor:end;\" transform=\"rotate(0, 56.6025, 127.697)\" x=\"56.6025\" y=\"127.697\">40%</text>\n",
       "</g>\n",
       "<g clip-path=\"url(#clip8200)\">\n",
       "<text style=\"fill:#000000; fill-opacity:1; font-family:Arial,Helvetica Neue,Helvetica,sans-serif; font-size:12; text-anchor:end;\" transform=\"rotate(0, 56.6025, 59.0968)\" x=\"56.6025\" y=\"59.0968\">60%</text>\n",
       "</g>\n",
       "<g clip-path=\"url(#clip8200)\">\n",
       "<text style=\"fill:#000000; fill-opacity:1; font-family:Arial,Helvetica Neue,Helvetica,sans-serif; font-size:16; text-anchor:middle;\" transform=\"rotate(0, 321.459, 397.6)\" x=\"321.459\" y=\"397.6\">volatility</text>\n",
       "</g>\n",
       "<g clip-path=\"url(#clip8200)\">\n",
       "<text style=\"fill:#000000; fill-opacity:1; font-family:Arial,Helvetica Neue,Helvetica,sans-serif; font-size:16; text-anchor:middle;\" transform=\"rotate(-90, 14.4, 185.966)\" x=\"14.4\" y=\"185.966\">average return</text>\n",
       "</g>\n",
       "<polyline clip-path=\"url(#clip8202)\" style=\"stroke:#009af9; stroke-width:0; stroke-opacity:1; fill:none\" points=\"\n",
       "  518.683,350.263 284.479,145.149 370.765,157.497 331.32,167.787 \n",
       "  \"/>\n",
       "<circle clip-path=\"url(#clip8202)\" style=\"fill:#000000; stroke:none; fill-opacity:1\" cx=\"518.683\" cy=\"350.263\" r=\"4\"/>\n",
       "<circle clip-path=\"url(#clip8202)\" style=\"fill:#009af9; stroke:none; fill-opacity:1\" cx=\"518.683\" cy=\"350.263\" r=\"3\"/>\n",
       "<circle clip-path=\"url(#clip8202)\" style=\"fill:#000000; stroke:none; fill-opacity:1\" cx=\"284.479\" cy=\"145.149\" r=\"4\"/>\n",
       "<circle clip-path=\"url(#clip8202)\" style=\"fill:#009af9; stroke:none; fill-opacity:1\" cx=\"284.479\" cy=\"145.149\" r=\"3\"/>\n",
       "<circle clip-path=\"url(#clip8202)\" style=\"fill:#000000; stroke:none; fill-opacity:1\" cx=\"370.765\" cy=\"157.497\" r=\"4\"/>\n",
       "<circle clip-path=\"url(#clip8202)\" style=\"fill:#009af9; stroke:none; fill-opacity:1\" cx=\"370.765\" cy=\"157.497\" r=\"3\"/>\n",
       "<circle clip-path=\"url(#clip8202)\" style=\"fill:#000000; stroke:none; fill-opacity:1\" cx=\"331.32\" cy=\"167.787\" r=\"4\"/>\n",
       "<circle clip-path=\"url(#clip8202)\" style=\"fill:#009af9; stroke:none; fill-opacity:1\" cx=\"331.32\" cy=\"167.787\" r=\"3\"/>\n",
       "<polyline clip-path=\"url(#clip8202)\" style=\"stroke:#e26f46; stroke-width:0; stroke-opacity:1; fill:none\" points=\"\n",
       "  217.916,167.787 277.083,188.367 \n",
       "  \"/>\n",
       "<circle clip-path=\"url(#clip8202)\" style=\"fill:#000000; stroke:none; fill-opacity:1\" cx=\"217.916\" cy=\"167.787\" r=\"4\"/>\n",
       "<circle clip-path=\"url(#clip8202)\" style=\"fill:#e26f46; stroke:none; fill-opacity:1\" cx=\"217.916\" cy=\"167.787\" r=\"3\"/>\n",
       "<circle clip-path=\"url(#clip8202)\" style=\"fill:#000000; stroke:none; fill-opacity:1\" cx=\"277.083\" cy=\"188.367\" r=\"4\"/>\n",
       "<circle clip-path=\"url(#clip8202)\" style=\"fill:#e26f46; stroke:none; fill-opacity:1\" cx=\"277.083\" cy=\"188.367\" r=\"3\"/>\n",
       "<polyline clip-path=\"url(#clip8202)\" style=\"stroke:#3da44d; stroke-width:0; stroke-opacity:1; fill:none\" points=\"\n",
       "  363.369,171.217 476.772,21.6688 461.981,180.135 363.369,197.971 \n",
       "  \"/>\n",
       "<circle clip-path=\"url(#clip8202)\" style=\"fill:#000000; stroke:none; fill-opacity:1\" cx=\"363.369\" cy=\"171.217\" r=\"4\"/>\n",
       "<circle clip-path=\"url(#clip8202)\" style=\"fill:#3da44d; stroke:none; fill-opacity:1\" cx=\"363.369\" cy=\"171.217\" r=\"3\"/>\n",
       "<circle clip-path=\"url(#clip8202)\" style=\"fill:#000000; stroke:none; fill-opacity:1\" cx=\"476.772\" cy=\"21.6688\" r=\"4\"/>\n",
       "<circle clip-path=\"url(#clip8202)\" style=\"fill:#3da44d; stroke:none; fill-opacity:1\" cx=\"476.772\" cy=\"21.6688\" r=\"3\"/>\n",
       "<circle clip-path=\"url(#clip8202)\" style=\"fill:#000000; stroke:none; fill-opacity:1\" cx=\"461.981\" cy=\"180.135\" r=\"4\"/>\n",
       "<circle clip-path=\"url(#clip8202)\" style=\"fill:#3da44d; stroke:none; fill-opacity:1\" cx=\"461.981\" cy=\"180.135\" r=\"3\"/>\n",
       "<circle clip-path=\"url(#clip8202)\" style=\"fill:#000000; stroke:none; fill-opacity:1\" cx=\"363.369\" cy=\"197.971\" r=\"4\"/>\n",
       "<circle clip-path=\"url(#clip8202)\" style=\"fill:#3da44d; stroke:none; fill-opacity:1\" cx=\"363.369\" cy=\"197.971\" r=\"3\"/>\n",
       "<polygon clip-path=\"url(#clip8200)\" points=\"\n",
       "476.226,93.171 562.315,93.171 562.315,32.691 476.226,32.691 \n",
       "  \" fill=\"#ffffff\" fill-opacity=\"1\"/>\n",
       "<polyline clip-path=\"url(#clip8200)\" style=\"stroke:#000000; stroke-width:1; stroke-opacity:1; fill:none\" points=\"\n",
       "  476.226,93.171 562.315,93.171 562.315,32.691 476.226,32.691 476.226,93.171 \n",
       "  \"/>\n",
       "<polyline clip-path=\"url(#clip8200)\" style=\"stroke:#009af9; stroke-width:0; stroke-opacity:1; fill:none\" points=\"\n",
       "  482.226,47.811 518.226,47.811 \n",
       "  \"/>\n",
       "<circle clip-path=\"url(#clip8200)\" style=\"fill:#000000; stroke:none; fill-opacity:1\" cx=\"503.226\" cy=\"47.811\" r=\"6\"/>\n",
       "<circle clip-path=\"url(#clip8200)\" style=\"fill:#009af9; stroke:none; fill-opacity:1\" cx=\"503.226\" cy=\"47.811\" r=\"5\"/>\n",
       "<g clip-path=\"url(#clip8200)\">\n",
       "<text style=\"fill:#000000; fill-opacity:1; font-family:Arial,Helvetica Neue,Helvetica,sans-serif; font-size:12; text-anchor:start;\" transform=\"rotate(0, 524.226, 52.311)\" x=\"524.226\" y=\"52.311\">bank</text>\n",
       "</g>\n",
       "<polyline clip-path=\"url(#clip8200)\" style=\"stroke:#e26f46; stroke-width:0; stroke-opacity:1; fill:none\" points=\"\n",
       "  482.226,62.931 518.226,62.931 \n",
       "  \"/>\n",
       "<circle clip-path=\"url(#clip8200)\" style=\"fill:#000000; stroke:none; fill-opacity:1\" cx=\"503.226\" cy=\"62.931\" r=\"6\"/>\n",
       "<circle clip-path=\"url(#clip8200)\" style=\"fill:#e26f46; stroke:none; fill-opacity:1\" cx=\"503.226\" cy=\"62.931\" r=\"5\"/>\n",
       "<g clip-path=\"url(#clip8200)\">\n",
       "<text style=\"fill:#000000; fill-opacity:1; font-family:Arial,Helvetica Neue,Helvetica,sans-serif; font-size:12; text-anchor:start;\" transform=\"rotate(0, 524.226, 67.431)\" x=\"524.226\" y=\"67.431\">oil</text>\n",
       "</g>\n",
       "<polyline clip-path=\"url(#clip8200)\" style=\"stroke:#3da44d; stroke-width:0; stroke-opacity:1; fill:none\" points=\"\n",
       "  482.226,78.051 518.226,78.051 \n",
       "  \"/>\n",
       "<circle clip-path=\"url(#clip8200)\" style=\"fill:#000000; stroke:none; fill-opacity:1\" cx=\"503.226\" cy=\"78.051\" r=\"6\"/>\n",
       "<circle clip-path=\"url(#clip8200)\" style=\"fill:#3da44d; stroke:none; fill-opacity:1\" cx=\"503.226\" cy=\"78.051\" r=\"5\"/>\n",
       "<g clip-path=\"url(#clip8200)\">\n",
       "<text style=\"fill:#000000; fill-opacity:1; font-family:Arial,Helvetica Neue,Helvetica,sans-serif; font-size:12; text-anchor:start;\" transform=\"rotate(0, 524.226, 82.551)\" x=\"524.226\" y=\"82.551\">tech</text>\n",
       "</g>\n",
       "</svg>\n"
      ]
     },
     "execution_count": 187,
     "metadata": {},
     "output_type": "execute_result"
    }
   ],
   "source": [
    "plot(volatilities, returns;\n",
    "    group=class, markershape=:circle, line=false, \n",
    "    xlim=(0.1,0.31), xlabel=\"volatility\", ylabel=\"average return\",\n",
    "    xformatter=percentage, yformatter=percentage)"
   ]
  },
  {
   "cell_type": "code",
   "execution_count": 188,
   "metadata": {
    "slideshow": {
     "slide_type": "subslide"
    }
   },
   "outputs": [
    {
     "name": "stdout",
     "output_type": "stream",
     "text": [
      "Average return: 70%\n"
     ]
    },
    {
     "data": {
      "image/svg+xml": [
       "<?xml version=\"1.0\" encoding=\"utf-8\"?>\n",
       "<svg xmlns=\"http://www.w3.org/2000/svg\" xmlns:xlink=\"http://www.w3.org/1999/xlink\" width=\"600\" height=\"400\" viewBox=\"0 0 600 400\">\n",
       "<defs>\n",
       "  <clipPath id=\"clip8400\">\n",
       "    <rect x=\"0\" y=\"0\" width=\"600\" height=\"400\"/>\n",
       "  </clipPath>\n",
       "</defs>\n",
       "<polygon clip-path=\"url(#clip8400)\" points=\"\n",
       "0,400 600,400 600,0 0,0 \n",
       "  \" fill=\"#ffffff\" fill-opacity=\"1\"/>\n",
       "<defs>\n",
       "  <clipPath id=\"clip8401\">\n",
       "    <rect x=\"120\" y=\"0\" width=\"421\" height=\"400\"/>\n",
       "  </clipPath>\n",
       "</defs>\n",
       "<polygon clip-path=\"url(#clip8400)\" points=\"\n",
       "62.2655,375.869 580.315,375.869 580.315,11.811 62.2655,11.811 \n",
       "  \" fill=\"#ffffff\" fill-opacity=\"1\"/>\n",
       "<defs>\n",
       "  <clipPath id=\"clip8402\">\n",
       "    <rect x=\"62\" y=\"11\" width=\"519\" height=\"365\"/>\n",
       "  </clipPath>\n",
       "</defs>\n",
       "<polyline clip-path=\"url(#clip8402)\" style=\"stroke:#000000; stroke-width:0.5; stroke-opacity:0.1; fill:none\" points=\"\n",
       "  86.4814,375.869 86.4814,11.811 \n",
       "  \"/>\n",
       "<polyline clip-path=\"url(#clip8402)\" style=\"stroke:#000000; stroke-width:0.5; stroke-opacity:0.1; fill:none\" points=\"\n",
       "  133.594,375.869 133.594,11.811 \n",
       "  \"/>\n",
       "<polyline clip-path=\"url(#clip8402)\" style=\"stroke:#000000; stroke-width:0.5; stroke-opacity:0.1; fill:none\" points=\"\n",
       "  133.594,375.869 133.594,11.811 \n",
       "  \"/>\n",
       "<polyline clip-path=\"url(#clip8402)\" style=\"stroke:#000000; stroke-width:0.5; stroke-opacity:0.1; fill:none\" points=\"\n",
       "  180.706,375.869 180.706,11.811 \n",
       "  \"/>\n",
       "<polyline clip-path=\"url(#clip8402)\" style=\"stroke:#000000; stroke-width:0.5; stroke-opacity:0.1; fill:none\" points=\"\n",
       "  227.819,375.869 227.819,11.811 \n",
       "  \"/>\n",
       "<polyline clip-path=\"url(#clip8402)\" style=\"stroke:#000000; stroke-width:0.5; stroke-opacity:0.1; fill:none\" points=\"\n",
       "  227.819,375.869 227.819,11.811 \n",
       "  \"/>\n",
       "<polyline clip-path=\"url(#clip8402)\" style=\"stroke:#000000; stroke-width:0.5; stroke-opacity:0.1; fill:none\" points=\"\n",
       "  299.147,375.869 299.147,11.811 \n",
       "  \"/>\n",
       "<polyline clip-path=\"url(#clip8402)\" style=\"stroke:#000000; stroke-width:0.5; stroke-opacity:0.1; fill:none\" points=\"\n",
       "  346.26,375.869 346.26,11.811 \n",
       "  \"/>\n",
       "<polyline clip-path=\"url(#clip8402)\" style=\"stroke:#000000; stroke-width:0.5; stroke-opacity:0.1; fill:none\" points=\"\n",
       "  346.26,375.869 346.26,11.811 \n",
       "  \"/>\n",
       "<polyline clip-path=\"url(#clip8402)\" style=\"stroke:#000000; stroke-width:0.5; stroke-opacity:0.1; fill:none\" points=\"\n",
       "  414.762,375.869 414.762,11.811 \n",
       "  \"/>\n",
       "<polyline clip-path=\"url(#clip8402)\" style=\"stroke:#000000; stroke-width:0.5; stroke-opacity:0.1; fill:none\" points=\"\n",
       "  414.762,375.869 414.762,11.811 \n",
       "  \"/>\n",
       "<polyline clip-path=\"url(#clip8402)\" style=\"stroke:#000000; stroke-width:0.5; stroke-opacity:0.1; fill:none\" points=\"\n",
       "  461.874,375.869 461.874,11.811 \n",
       "  \"/>\n",
       "<polyline clip-path=\"url(#clip8402)\" style=\"stroke:#000000; stroke-width:0.5; stroke-opacity:0.1; fill:none\" points=\"\n",
       "  508.987,375.869 508.987,11.811 \n",
       "  \"/>\n",
       "<polyline clip-path=\"url(#clip8402)\" style=\"stroke:#000000; stroke-width:0.5; stroke-opacity:0.1; fill:none\" points=\"\n",
       "  508.987,375.869 508.987,11.811 \n",
       "  \"/>\n",
       "<polyline clip-path=\"url(#clip8402)\" style=\"stroke:#000000; stroke-width:0.5; stroke-opacity:0.1; fill:none\" points=\"\n",
       "  556.099,375.869 556.099,11.811 \n",
       "  \"/>\n",
       "<polyline clip-path=\"url(#clip8402)\" style=\"stroke:#000000; stroke-width:0.5; stroke-opacity:0.1; fill:none\" points=\"\n",
       "  62.2655,375.869 580.315,375.869 \n",
       "  \"/>\n",
       "<polyline clip-path=\"url(#clip8402)\" style=\"stroke:#000000; stroke-width:0.5; stroke-opacity:0.1; fill:none\" points=\"\n",
       "  62.2655,284.854 580.315,284.854 \n",
       "  \"/>\n",
       "<polyline clip-path=\"url(#clip8402)\" style=\"stroke:#000000; stroke-width:0.5; stroke-opacity:0.1; fill:none\" points=\"\n",
       "  62.2655,193.84 580.315,193.84 \n",
       "  \"/>\n",
       "<polyline clip-path=\"url(#clip8402)\" style=\"stroke:#000000; stroke-width:0.5; stroke-opacity:0.1; fill:none\" points=\"\n",
       "  62.2655,102.825 580.315,102.825 \n",
       "  \"/>\n",
       "<polyline clip-path=\"url(#clip8402)\" style=\"stroke:#000000; stroke-width:0.5; stroke-opacity:0.1; fill:none\" points=\"\n",
       "  62.2655,11.811 580.315,11.811 \n",
       "  \"/>\n",
       "<polyline clip-path=\"url(#clip8400)\" style=\"stroke:#000000; stroke-width:1; stroke-opacity:1; fill:none\" points=\"\n",
       "  62.2655,375.869 580.315,375.869 \n",
       "  \"/>\n",
       "<polyline clip-path=\"url(#clip8400)\" style=\"stroke:#000000; stroke-width:1; stroke-opacity:1; fill:none\" points=\"\n",
       "  62.2655,375.869 62.2655,11.811 \n",
       "  \"/>\n",
       "<polyline clip-path=\"url(#clip8400)\" style=\"stroke:#000000; stroke-width:1; stroke-opacity:1; fill:none\" points=\"\n",
       "  86.4814,375.869 86.4814,370.408 \n",
       "  \"/>\n",
       "<polyline clip-path=\"url(#clip8400)\" style=\"stroke:#000000; stroke-width:1; stroke-opacity:1; fill:none\" points=\"\n",
       "  133.594,375.869 133.594,370.408 \n",
       "  \"/>\n",
       "<polyline clip-path=\"url(#clip8400)\" style=\"stroke:#000000; stroke-width:1; stroke-opacity:1; fill:none\" points=\"\n",
       "  133.594,375.869 133.594,370.408 \n",
       "  \"/>\n",
       "<polyline clip-path=\"url(#clip8400)\" style=\"stroke:#000000; stroke-width:1; stroke-opacity:1; fill:none\" points=\"\n",
       "  180.706,375.869 180.706,370.408 \n",
       "  \"/>\n",
       "<polyline clip-path=\"url(#clip8400)\" style=\"stroke:#000000; stroke-width:1; stroke-opacity:1; fill:none\" points=\"\n",
       "  227.819,375.869 227.819,370.408 \n",
       "  \"/>\n",
       "<polyline clip-path=\"url(#clip8400)\" style=\"stroke:#000000; stroke-width:1; stroke-opacity:1; fill:none\" points=\"\n",
       "  227.819,375.869 227.819,370.408 \n",
       "  \"/>\n",
       "<polyline clip-path=\"url(#clip8400)\" style=\"stroke:#000000; stroke-width:1; stroke-opacity:1; fill:none\" points=\"\n",
       "  299.147,375.869 299.147,370.408 \n",
       "  \"/>\n",
       "<polyline clip-path=\"url(#clip8400)\" style=\"stroke:#000000; stroke-width:1; stroke-opacity:1; fill:none\" points=\"\n",
       "  346.26,375.869 346.26,370.408 \n",
       "  \"/>\n",
       "<polyline clip-path=\"url(#clip8400)\" style=\"stroke:#000000; stroke-width:1; stroke-opacity:1; fill:none\" points=\"\n",
       "  346.26,375.869 346.26,370.408 \n",
       "  \"/>\n",
       "<polyline clip-path=\"url(#clip8400)\" style=\"stroke:#000000; stroke-width:1; stroke-opacity:1; fill:none\" points=\"\n",
       "  414.762,375.869 414.762,370.408 \n",
       "  \"/>\n",
       "<polyline clip-path=\"url(#clip8400)\" style=\"stroke:#000000; stroke-width:1; stroke-opacity:1; fill:none\" points=\"\n",
       "  414.762,375.869 414.762,370.408 \n",
       "  \"/>\n",
       "<polyline clip-path=\"url(#clip8400)\" style=\"stroke:#000000; stroke-width:1; stroke-opacity:1; fill:none\" points=\"\n",
       "  461.874,375.869 461.874,370.408 \n",
       "  \"/>\n",
       "<polyline clip-path=\"url(#clip8400)\" style=\"stroke:#000000; stroke-width:1; stroke-opacity:1; fill:none\" points=\"\n",
       "  508.987,375.869 508.987,370.408 \n",
       "  \"/>\n",
       "<polyline clip-path=\"url(#clip8400)\" style=\"stroke:#000000; stroke-width:1; stroke-opacity:1; fill:none\" points=\"\n",
       "  508.987,375.869 508.987,370.408 \n",
       "  \"/>\n",
       "<polyline clip-path=\"url(#clip8400)\" style=\"stroke:#000000; stroke-width:1; stroke-opacity:1; fill:none\" points=\"\n",
       "  556.099,375.869 556.099,370.408 \n",
       "  \"/>\n",
       "<polyline clip-path=\"url(#clip8400)\" style=\"stroke:#000000; stroke-width:1; stroke-opacity:1; fill:none\" points=\"\n",
       "  62.2655,375.869 70.0363,375.869 \n",
       "  \"/>\n",
       "<polyline clip-path=\"url(#clip8400)\" style=\"stroke:#000000; stroke-width:1; stroke-opacity:1; fill:none\" points=\"\n",
       "  62.2655,284.854 70.0363,284.854 \n",
       "  \"/>\n",
       "<polyline clip-path=\"url(#clip8400)\" style=\"stroke:#000000; stroke-width:1; stroke-opacity:1; fill:none\" points=\"\n",
       "  62.2655,193.84 70.0363,193.84 \n",
       "  \"/>\n",
       "<polyline clip-path=\"url(#clip8400)\" style=\"stroke:#000000; stroke-width:1; stroke-opacity:1; fill:none\" points=\"\n",
       "  62.2655,102.825 70.0363,102.825 \n",
       "  \"/>\n",
       "<polyline clip-path=\"url(#clip8400)\" style=\"stroke:#000000; stroke-width:1; stroke-opacity:1; fill:none\" points=\"\n",
       "  62.2655,11.811 70.0363,11.811 \n",
       "  \"/>\n",
       "<g clip-path=\"url(#clip8400)\">\n",
       "<text style=\"fill:#000000; fill-opacity:1; font-family:Arial,Helvetica Neue,Helvetica,sans-serif; font-size:12; text-anchor:middle;\" transform=\"rotate(0, 86.4814, 389.669)\" x=\"86.4814\" y=\"389.669\">DB</text>\n",
       "</g>\n",
       "<g clip-path=\"url(#clip8400)\">\n",
       "<text style=\"fill:#000000; fill-opacity:1; font-family:Arial,Helvetica Neue,Helvetica,sans-serif; font-size:12; text-anchor:middle;\" transform=\"rotate(0, 133.594, 389.669)\" x=\"133.594\" y=\"389.669\">JPM</text>\n",
       "</g>\n",
       "<g clip-path=\"url(#clip8400)\">\n",
       "<text style=\"fill:#000000; fill-opacity:1; font-family:Arial,Helvetica Neue,Helvetica,sans-serif; font-size:12; text-anchor:middle;\" transform=\"rotate(0, 133.594, 389.669)\" x=\"133.594\" y=\"389.669\">JPM</text>\n",
       "</g>\n",
       "<g clip-path=\"url(#clip8400)\">\n",
       "<text style=\"fill:#000000; fill-opacity:1; font-family:Arial,Helvetica Neue,Helvetica,sans-serif; font-size:12; text-anchor:middle;\" transform=\"rotate(0, 180.706, 389.669)\" x=\"180.706\" y=\"389.669\">BAC</text>\n",
       "</g>\n",
       "<g clip-path=\"url(#clip8400)\">\n",
       "<text style=\"fill:#000000; fill-opacity:1; font-family:Arial,Helvetica Neue,Helvetica,sans-serif; font-size:12; text-anchor:middle;\" transform=\"rotate(0, 227.819, 389.669)\" x=\"227.819\" y=\"389.669\">WFC</text>\n",
       "</g>\n",
       "<g clip-path=\"url(#clip8400)\">\n",
       "<text style=\"fill:#000000; fill-opacity:1; font-family:Arial,Helvetica Neue,Helvetica,sans-serif; font-size:12; text-anchor:middle;\" transform=\"rotate(0, 227.819, 389.669)\" x=\"227.819\" y=\"389.669\">WFC</text>\n",
       "</g>\n",
       "<g clip-path=\"url(#clip8400)\">\n",
       "<text style=\"fill:#000000; fill-opacity:1; font-family:Arial,Helvetica Neue,Helvetica,sans-serif; font-size:12; text-anchor:middle;\" transform=\"rotate(0, 299.147, 389.669)\" x=\"299.147\" y=\"389.669\">XOM</text>\n",
       "</g>\n",
       "<g clip-path=\"url(#clip8400)\">\n",
       "<text style=\"fill:#000000; fill-opacity:1; font-family:Arial,Helvetica Neue,Helvetica,sans-serif; font-size:12; text-anchor:middle;\" transform=\"rotate(0, 346.26, 389.669)\" x=\"346.26\" y=\"389.669\">CVX</text>\n",
       "</g>\n",
       "<g clip-path=\"url(#clip8400)\">\n",
       "<text style=\"fill:#000000; fill-opacity:1; font-family:Arial,Helvetica Neue,Helvetica,sans-serif; font-size:12; text-anchor:middle;\" transform=\"rotate(0, 346.26, 389.669)\" x=\"346.26\" y=\"389.669\">CVX</text>\n",
       "</g>\n",
       "<g clip-path=\"url(#clip8400)\">\n",
       "<text style=\"fill:#000000; fill-opacity:1; font-family:Arial,Helvetica Neue,Helvetica,sans-serif; font-size:12; text-anchor:middle;\" transform=\"rotate(0, 414.762, 389.669)\" x=\"414.762\" y=\"389.669\">AAPL</text>\n",
       "</g>\n",
       "<g clip-path=\"url(#clip8400)\">\n",
       "<text style=\"fill:#000000; fill-opacity:1; font-family:Arial,Helvetica Neue,Helvetica,sans-serif; font-size:12; text-anchor:middle;\" transform=\"rotate(0, 414.762, 389.669)\" x=\"414.762\" y=\"389.669\">AAPL</text>\n",
       "</g>\n",
       "<g clip-path=\"url(#clip8400)\">\n",
       "<text style=\"fill:#000000; fill-opacity:1; font-family:Arial,Helvetica Neue,Helvetica,sans-serif; font-size:12; text-anchor:middle;\" transform=\"rotate(0, 461.874, 389.669)\" x=\"461.874\" y=\"389.669\">AMZN</text>\n",
       "</g>\n",
       "<g clip-path=\"url(#clip8400)\">\n",
       "<text style=\"fill:#000000; fill-opacity:1; font-family:Arial,Helvetica Neue,Helvetica,sans-serif; font-size:12; text-anchor:middle;\" transform=\"rotate(0, 508.987, 389.669)\" x=\"508.987\" y=\"389.669\">FB</text>\n",
       "</g>\n",
       "<g clip-path=\"url(#clip8400)\">\n",
       "<text style=\"fill:#000000; fill-opacity:1; font-family:Arial,Helvetica Neue,Helvetica,sans-serif; font-size:12; text-anchor:middle;\" transform=\"rotate(0, 508.987, 389.669)\" x=\"508.987\" y=\"389.669\">FB</text>\n",
       "</g>\n",
       "<g clip-path=\"url(#clip8400)\">\n",
       "<text style=\"fill:#000000; fill-opacity:1; font-family:Arial,Helvetica Neue,Helvetica,sans-serif; font-size:12; text-anchor:middle;\" transform=\"rotate(0, 556.099, 389.669)\" x=\"556.099\" y=\"389.669\">GOOG</text>\n",
       "</g>\n",
       "<g clip-path=\"url(#clip8400)\">\n",
       "<text style=\"fill:#000000; fill-opacity:1; font-family:Arial,Helvetica Neue,Helvetica,sans-serif; font-size:12; text-anchor:end;\" transform=\"rotate(0, 56.2655, 380.369)\" x=\"56.2655\" y=\"380.369\">0%</text>\n",
       "</g>\n",
       "<g clip-path=\"url(#clip8400)\">\n",
       "<text style=\"fill:#000000; fill-opacity:1; font-family:Arial,Helvetica Neue,Helvetica,sans-serif; font-size:12; text-anchor:end;\" transform=\"rotate(0, 56.2655, 289.354)\" x=\"56.2655\" y=\"289.354\">25%</text>\n",
       "</g>\n",
       "<g clip-path=\"url(#clip8400)\">\n",
       "<text style=\"fill:#000000; fill-opacity:1; font-family:Arial,Helvetica Neue,Helvetica,sans-serif; font-size:12; text-anchor:end;\" transform=\"rotate(0, 56.2655, 198.34)\" x=\"56.2655\" y=\"198.34\">50%</text>\n",
       "</g>\n",
       "<g clip-path=\"url(#clip8400)\">\n",
       "<text style=\"fill:#000000; fill-opacity:1; font-family:Arial,Helvetica Neue,Helvetica,sans-serif; font-size:12; text-anchor:end;\" transform=\"rotate(0, 56.2655, 107.325)\" x=\"56.2655\" y=\"107.325\">75%</text>\n",
       "</g>\n",
       "<g clip-path=\"url(#clip8400)\">\n",
       "<text style=\"fill:#000000; fill-opacity:1; font-family:Arial,Helvetica Neue,Helvetica,sans-serif; font-size:12; text-anchor:end;\" transform=\"rotate(0, 56.2655, 16.311)\" x=\"56.2655\" y=\"16.311\">100%</text>\n",
       "</g>\n",
       "<g clip-path=\"url(#clip8400)\">\n",
       "<text style=\"fill:#000000; fill-opacity:1; font-family:Arial,Helvetica Neue,Helvetica,sans-serif; font-size:16; text-anchor:middle;\" transform=\"rotate(-90, 14.4, 193.84)\" x=\"14.4\" y=\"193.84\">weights</text>\n",
       "</g>\n",
       "<polygon clip-path=\"url(#clip8402)\" points=\"\n",
       "67.6364,375.869 67.6364,375.869 105.326,375.869 105.326,375.869 67.6364,375.869 67.6364,375.869 \n",
       "  \" fill=\"#009af9\" fill-opacity=\"1\"/>\n",
       "<polyline clip-path=\"url(#clip8402)\" style=\"stroke:#000000; stroke-width:1; stroke-opacity:1; fill:none\" points=\"\n",
       "  67.6364,375.869 67.6364,375.869 105.326,375.869 67.6364,375.869 \n",
       "  \"/>\n",
       "<polygon clip-path=\"url(#clip8402)\" points=\"\n",
       "114.749,375.869 114.749,375.869 152.439,375.869 152.439,375.869 114.749,375.869 114.749,375.869 \n",
       "  \" fill=\"#009af9\" fill-opacity=\"1\"/>\n",
       "<polyline clip-path=\"url(#clip8402)\" style=\"stroke:#000000; stroke-width:1; stroke-opacity:1; fill:none\" points=\"\n",
       "  114.749,375.869 114.749,375.869 152.439,375.869 114.749,375.869 \n",
       "  \"/>\n",
       "<polygon clip-path=\"url(#clip8402)\" points=\"\n",
       "161.861,375.869 161.861,375.869 199.551,375.869 199.551,375.869 161.861,375.869 161.861,375.869 \n",
       "  \" fill=\"#009af9\" fill-opacity=\"1\"/>\n",
       "<polyline clip-path=\"url(#clip8402)\" style=\"stroke:#000000; stroke-width:1; stroke-opacity:1; fill:none\" points=\"\n",
       "  161.861,375.869 161.861,375.869 199.551,375.869 161.861,375.869 \n",
       "  \"/>\n",
       "<polygon clip-path=\"url(#clip8402)\" points=\"\n",
       "208.974,375.869 208.974,375.869 246.664,375.869 246.664,375.869 208.974,375.869 208.974,375.869 \n",
       "  \" fill=\"#009af9\" fill-opacity=\"1\"/>\n",
       "<polyline clip-path=\"url(#clip8402)\" style=\"stroke:#000000; stroke-width:1; stroke-opacity:1; fill:none\" points=\"\n",
       "  208.974,375.869 208.974,375.869 246.664,375.869 208.974,375.869 \n",
       "  \"/>\n",
       "<polygon clip-path=\"url(#clip8402)\" points=\"\n",
       "280.302,375.869 280.302,375.869 317.992,375.869 317.992,375.869 280.302,375.869 280.302,375.869 \n",
       "  \" fill=\"#e26f46\" fill-opacity=\"1\"/>\n",
       "<polyline clip-path=\"url(#clip8402)\" style=\"stroke:#000000; stroke-width:1; stroke-opacity:1; fill:none\" points=\"\n",
       "  280.302,375.869 280.302,375.869 317.992,375.869 280.302,375.869 \n",
       "  \"/>\n",
       "<polygon clip-path=\"url(#clip8402)\" points=\"\n",
       "327.415,375.869 327.415,375.869 365.105,375.869 365.105,375.869 327.415,375.869 327.415,375.869 \n",
       "  \" fill=\"#e26f46\" fill-opacity=\"1\"/>\n",
       "<polyline clip-path=\"url(#clip8402)\" style=\"stroke:#000000; stroke-width:1; stroke-opacity:1; fill:none\" points=\"\n",
       "  327.415,375.869 327.415,375.869 365.105,375.869 327.415,375.869 \n",
       "  \"/>\n",
       "<polygon clip-path=\"url(#clip8402)\" points=\"\n",
       "395.917,375.869 395.917,375.869 433.607,375.869 433.607,375.869 395.917,375.869 395.917,375.869 \n",
       "  \" fill=\"#3da44d\" fill-opacity=\"1\"/>\n",
       "<polyline clip-path=\"url(#clip8402)\" style=\"stroke:#000000; stroke-width:1; stroke-opacity:1; fill:none\" points=\"\n",
       "  395.917,375.869 395.917,375.869 433.607,375.869 395.917,375.869 \n",
       "  \"/>\n",
       "<polygon clip-path=\"url(#clip8402)\" points=\"\n",
       "443.029,11.811 443.029,375.869 480.719,375.869 480.719,11.811 443.029,11.811 443.029,11.811 \n",
       "  \" fill=\"#3da44d\" fill-opacity=\"1\"/>\n",
       "<polyline clip-path=\"url(#clip8402)\" style=\"stroke:#000000; stroke-width:1; stroke-opacity:1; fill:none\" points=\"\n",
       "  443.029,11.811 443.029,375.869 480.719,375.869 480.719,11.811 443.029,11.811 \n",
       "  \"/>\n",
       "<polygon clip-path=\"url(#clip8402)\" points=\"\n",
       "490.142,375.869 490.142,375.869 527.832,375.869 527.832,375.869 490.142,375.869 490.142,375.869 \n",
       "  \" fill=\"#3da44d\" fill-opacity=\"1\"/>\n",
       "<polyline clip-path=\"url(#clip8402)\" style=\"stroke:#000000; stroke-width:1; stroke-opacity:1; fill:none\" points=\"\n",
       "  490.142,375.869 490.142,375.869 527.832,375.869 490.142,375.869 \n",
       "  \"/>\n",
       "<polygon clip-path=\"url(#clip8402)\" points=\"\n",
       "537.254,375.869 537.254,375.869 574.944,375.869 574.944,375.869 537.254,375.869 537.254,375.869 \n",
       "  \" fill=\"#3da44d\" fill-opacity=\"1\"/>\n",
       "<polyline clip-path=\"url(#clip8402)\" style=\"stroke:#000000; stroke-width:1; stroke-opacity:1; fill:none\" points=\"\n",
       "  537.254,375.869 537.254,375.869 574.944,375.869 537.254,375.869 \n",
       "  \"/>\n",
       "<polygon clip-path=\"url(#clip8400)\" points=\"\n",
       "476.226,93.171 562.315,93.171 562.315,32.691 476.226,32.691 \n",
       "  \" fill=\"#ffffff\" fill-opacity=\"1\"/>\n",
       "<polyline clip-path=\"url(#clip8400)\" style=\"stroke:#000000; stroke-width:1; stroke-opacity:1; fill:none\" points=\"\n",
       "  476.226,93.171 562.315,93.171 562.315,32.691 476.226,32.691 476.226,93.171 \n",
       "  \"/>\n",
       "<polygon clip-path=\"url(#clip8400)\" points=\"\n",
       "482.226,53.859 518.226,53.859 518.226,41.763 482.226,41.763 482.226,53.859 \n",
       "  \" fill=\"#009af9\" fill-opacity=\"1\"/>\n",
       "<polyline clip-path=\"url(#clip8400)\" style=\"stroke:#000000; stroke-width:1; stroke-opacity:1; fill:none\" points=\"\n",
       "  482.226,53.859 518.226,53.859 518.226,41.763 482.226,41.763 482.226,53.859 \n",
       "  \"/>\n",
       "<g clip-path=\"url(#clip8400)\">\n",
       "<text style=\"fill:#000000; fill-opacity:1; font-family:Arial,Helvetica Neue,Helvetica,sans-serif; font-size:12; text-anchor:start;\" transform=\"rotate(0, 524.226, 52.311)\" x=\"524.226\" y=\"52.311\">bank</text>\n",
       "</g>\n",
       "<polygon clip-path=\"url(#clip8400)\" points=\"\n",
       "482.226,68.979 518.226,68.979 518.226,56.883 482.226,56.883 482.226,68.979 \n",
       "  \" fill=\"#e26f46\" fill-opacity=\"1\"/>\n",
       "<polyline clip-path=\"url(#clip8400)\" style=\"stroke:#000000; stroke-width:1; stroke-opacity:1; fill:none\" points=\"\n",
       "  482.226,68.979 518.226,68.979 518.226,56.883 482.226,56.883 482.226,68.979 \n",
       "  \"/>\n",
       "<g clip-path=\"url(#clip8400)\">\n",
       "<text style=\"fill:#000000; fill-opacity:1; font-family:Arial,Helvetica Neue,Helvetica,sans-serif; font-size:12; text-anchor:start;\" transform=\"rotate(0, 524.226, 67.431)\" x=\"524.226\" y=\"67.431\">oil</text>\n",
       "</g>\n",
       "<polygon clip-path=\"url(#clip8400)\" points=\"\n",
       "482.226,84.099 518.226,84.099 518.226,72.003 482.226,72.003 482.226,84.099 \n",
       "  \" fill=\"#3da44d\" fill-opacity=\"1\"/>\n",
       "<polyline clip-path=\"url(#clip8400)\" style=\"stroke:#000000; stroke-width:1; stroke-opacity:1; fill:none\" points=\"\n",
       "  482.226,84.099 518.226,84.099 518.226,72.003 482.226,72.003 482.226,84.099 \n",
       "  \"/>\n",
       "<g clip-path=\"url(#clip8400)\">\n",
       "<text style=\"fill:#000000; fill-opacity:1; font-family:Arial,Helvetica Neue,Helvetica,sans-serif; font-size:12; text-anchor:start;\" transform=\"rotate(0, 524.226, 82.551)\" x=\"524.226\" y=\"82.551\">tech</text>\n",
       "</g>\n",
       "</svg>\n"
      ]
     },
     "execution_count": 188,
     "metadata": {},
     "output_type": "execute_result"
    }
   ],
   "source": [
    "m = Model(solver=IpoptSolver(print_level=0))\n",
    "@variable(m, weights[1:10] >= 0)  # weights must be >= 0\n",
    "@constraint(m, sum(weights) == 1) # \n",
    "@objective(m, Max, dot(weights, returns))\n",
    "solve(m)\n",
    "\n",
    "println(\"Average return: $(percentage(getobjectivevalue(m)))\")\n",
    "plot(tickers, getvalue(weights); \n",
    "    linetype=:bar, group=class, yformatter=percentage, ylabel=\"weights\")"
   ]
  },
  {
   "cell_type": "markdown",
   "metadata": {
    "slideshow": {
     "slide_type": "subslide"
    }
   },
   "source": [
    "Restrict the portfolio volatility to be at most 20%."
   ]
  },
  {
   "cell_type": "code",
   "execution_count": 189,
   "metadata": {
    "slideshow": {
     "slide_type": "-"
    }
   },
   "outputs": [
    {
     "name": "stdout",
     "output_type": "stream",
     "text": [
      "Average return: 57%\n"
     ]
    },
    {
     "data": {
      "image/svg+xml": [
       "<?xml version=\"1.0\" encoding=\"utf-8\"?>\n",
       "<svg xmlns=\"http://www.w3.org/2000/svg\" xmlns:xlink=\"http://www.w3.org/1999/xlink\" width=\"600\" height=\"400\" viewBox=\"0 0 600 400\">\n",
       "<defs>\n",
       "  <clipPath id=\"clip8600\">\n",
       "    <rect x=\"0\" y=\"0\" width=\"600\" height=\"400\"/>\n",
       "  </clipPath>\n",
       "</defs>\n",
       "<polygon clip-path=\"url(#clip8600)\" points=\"\n",
       "0,400 600,400 600,0 0,0 \n",
       "  \" fill=\"#ffffff\" fill-opacity=\"1\"/>\n",
       "<defs>\n",
       "  <clipPath id=\"clip8601\">\n",
       "    <rect x=\"120\" y=\"0\" width=\"421\" height=\"400\"/>\n",
       "  </clipPath>\n",
       "</defs>\n",
       "<polygon clip-path=\"url(#clip8600)\" points=\"\n",
       "55.5749,375.869 580.315,375.869 580.315,11.811 55.5749,11.811 \n",
       "  \" fill=\"#ffffff\" fill-opacity=\"1\"/>\n",
       "<defs>\n",
       "  <clipPath id=\"clip8602\">\n",
       "    <rect x=\"55\" y=\"11\" width=\"526\" height=\"365\"/>\n",
       "  </clipPath>\n",
       "</defs>\n",
       "<polyline clip-path=\"url(#clip8602)\" style=\"stroke:#000000; stroke-width:0.5; stroke-opacity:0.1; fill:none\" points=\"\n",
       "  80.1035,375.869 80.1035,11.811 \n",
       "  \"/>\n",
       "<polyline clip-path=\"url(#clip8602)\" style=\"stroke:#000000; stroke-width:0.5; stroke-opacity:0.1; fill:none\" points=\"\n",
       "  127.825,375.869 127.825,11.811 \n",
       "  \"/>\n",
       "<polyline clip-path=\"url(#clip8602)\" style=\"stroke:#000000; stroke-width:0.5; stroke-opacity:0.1; fill:none\" points=\"\n",
       "  127.825,375.869 127.825,11.811 \n",
       "  \"/>\n",
       "<polyline clip-path=\"url(#clip8602)\" style=\"stroke:#000000; stroke-width:0.5; stroke-opacity:0.1; fill:none\" points=\"\n",
       "  175.546,375.869 175.546,11.811 \n",
       "  \"/>\n",
       "<polyline clip-path=\"url(#clip8602)\" style=\"stroke:#000000; stroke-width:0.5; stroke-opacity:0.1; fill:none\" points=\"\n",
       "  223.267,375.869 223.267,11.811 \n",
       "  \"/>\n",
       "<polyline clip-path=\"url(#clip8602)\" style=\"stroke:#000000; stroke-width:0.5; stroke-opacity:0.1; fill:none\" points=\"\n",
       "  223.267,375.869 223.267,11.811 \n",
       "  \"/>\n",
       "<polyline clip-path=\"url(#clip8602)\" style=\"stroke:#000000; stroke-width:0.5; stroke-opacity:0.1; fill:none\" points=\"\n",
       "  295.516,375.869 295.516,11.811 \n",
       "  \"/>\n",
       "<polyline clip-path=\"url(#clip8602)\" style=\"stroke:#000000; stroke-width:0.5; stroke-opacity:0.1; fill:none\" points=\"\n",
       "  343.237,375.869 343.237,11.811 \n",
       "  \"/>\n",
       "<polyline clip-path=\"url(#clip8602)\" style=\"stroke:#000000; stroke-width:0.5; stroke-opacity:0.1; fill:none\" points=\"\n",
       "  343.237,375.869 343.237,11.811 \n",
       "  \"/>\n",
       "<polyline clip-path=\"url(#clip8602)\" style=\"stroke:#000000; stroke-width:0.5; stroke-opacity:0.1; fill:none\" points=\"\n",
       "  412.623,375.869 412.623,11.811 \n",
       "  \"/>\n",
       "<polyline clip-path=\"url(#clip8602)\" style=\"stroke:#000000; stroke-width:0.5; stroke-opacity:0.1; fill:none\" points=\"\n",
       "  412.623,375.869 412.623,11.811 \n",
       "  \"/>\n",
       "<polyline clip-path=\"url(#clip8602)\" style=\"stroke:#000000; stroke-width:0.5; stroke-opacity:0.1; fill:none\" points=\"\n",
       "  460.344,375.869 460.344,11.811 \n",
       "  \"/>\n",
       "<polyline clip-path=\"url(#clip8602)\" style=\"stroke:#000000; stroke-width:0.5; stroke-opacity:0.1; fill:none\" points=\"\n",
       "  508.065,375.869 508.065,11.811 \n",
       "  \"/>\n",
       "<polyline clip-path=\"url(#clip8602)\" style=\"stroke:#000000; stroke-width:0.5; stroke-opacity:0.1; fill:none\" points=\"\n",
       "  508.065,375.869 508.065,11.811 \n",
       "  \"/>\n",
       "<polyline clip-path=\"url(#clip8602)\" style=\"stroke:#000000; stroke-width:0.5; stroke-opacity:0.1; fill:none\" points=\"\n",
       "  555.786,375.869 555.786,11.811 \n",
       "  \"/>\n",
       "<polyline clip-path=\"url(#clip8602)\" style=\"stroke:#000000; stroke-width:0.5; stroke-opacity:0.1; fill:none\" points=\"\n",
       "  55.5749,375.869 580.315,375.869 \n",
       "  \"/>\n",
       "<polyline clip-path=\"url(#clip8602)\" style=\"stroke:#000000; stroke-width:0.5; stroke-opacity:0.1; fill:none\" points=\"\n",
       "  55.5749,322.201 580.315,322.201 \n",
       "  \"/>\n",
       "<polyline clip-path=\"url(#clip8602)\" style=\"stroke:#000000; stroke-width:0.5; stroke-opacity:0.1; fill:none\" points=\"\n",
       "  55.5749,268.533 580.315,268.533 \n",
       "  \"/>\n",
       "<polyline clip-path=\"url(#clip8602)\" style=\"stroke:#000000; stroke-width:0.5; stroke-opacity:0.1; fill:none\" points=\"\n",
       "  55.5749,214.865 580.315,214.865 \n",
       "  \"/>\n",
       "<polyline clip-path=\"url(#clip8602)\" style=\"stroke:#000000; stroke-width:0.5; stroke-opacity:0.1; fill:none\" points=\"\n",
       "  55.5749,161.197 580.315,161.197 \n",
       "  \"/>\n",
       "<polyline clip-path=\"url(#clip8602)\" style=\"stroke:#000000; stroke-width:0.5; stroke-opacity:0.1; fill:none\" points=\"\n",
       "  55.5749,107.529 580.315,107.529 \n",
       "  \"/>\n",
       "<polyline clip-path=\"url(#clip8602)\" style=\"stroke:#000000; stroke-width:0.5; stroke-opacity:0.1; fill:none\" points=\"\n",
       "  55.5749,53.8609 580.315,53.8609 \n",
       "  \"/>\n",
       "<polyline clip-path=\"url(#clip8600)\" style=\"stroke:#000000; stroke-width:1; stroke-opacity:1; fill:none\" points=\"\n",
       "  55.5749,375.869 580.315,375.869 \n",
       "  \"/>\n",
       "<polyline clip-path=\"url(#clip8600)\" style=\"stroke:#000000; stroke-width:1; stroke-opacity:1; fill:none\" points=\"\n",
       "  55.5749,375.869 55.5749,11.811 \n",
       "  \"/>\n",
       "<polyline clip-path=\"url(#clip8600)\" style=\"stroke:#000000; stroke-width:1; stroke-opacity:1; fill:none\" points=\"\n",
       "  80.1035,375.869 80.1035,370.408 \n",
       "  \"/>\n",
       "<polyline clip-path=\"url(#clip8600)\" style=\"stroke:#000000; stroke-width:1; stroke-opacity:1; fill:none\" points=\"\n",
       "  127.825,375.869 127.825,370.408 \n",
       "  \"/>\n",
       "<polyline clip-path=\"url(#clip8600)\" style=\"stroke:#000000; stroke-width:1; stroke-opacity:1; fill:none\" points=\"\n",
       "  127.825,375.869 127.825,370.408 \n",
       "  \"/>\n",
       "<polyline clip-path=\"url(#clip8600)\" style=\"stroke:#000000; stroke-width:1; stroke-opacity:1; fill:none\" points=\"\n",
       "  175.546,375.869 175.546,370.408 \n",
       "  \"/>\n",
       "<polyline clip-path=\"url(#clip8600)\" style=\"stroke:#000000; stroke-width:1; stroke-opacity:1; fill:none\" points=\"\n",
       "  223.267,375.869 223.267,370.408 \n",
       "  \"/>\n",
       "<polyline clip-path=\"url(#clip8600)\" style=\"stroke:#000000; stroke-width:1; stroke-opacity:1; fill:none\" points=\"\n",
       "  223.267,375.869 223.267,370.408 \n",
       "  \"/>\n",
       "<polyline clip-path=\"url(#clip8600)\" style=\"stroke:#000000; stroke-width:1; stroke-opacity:1; fill:none\" points=\"\n",
       "  295.516,375.869 295.516,370.408 \n",
       "  \"/>\n",
       "<polyline clip-path=\"url(#clip8600)\" style=\"stroke:#000000; stroke-width:1; stroke-opacity:1; fill:none\" points=\"\n",
       "  343.237,375.869 343.237,370.408 \n",
       "  \"/>\n",
       "<polyline clip-path=\"url(#clip8600)\" style=\"stroke:#000000; stroke-width:1; stroke-opacity:1; fill:none\" points=\"\n",
       "  343.237,375.869 343.237,370.408 \n",
       "  \"/>\n",
       "<polyline clip-path=\"url(#clip8600)\" style=\"stroke:#000000; stroke-width:1; stroke-opacity:1; fill:none\" points=\"\n",
       "  412.623,375.869 412.623,370.408 \n",
       "  \"/>\n",
       "<polyline clip-path=\"url(#clip8600)\" style=\"stroke:#000000; stroke-width:1; stroke-opacity:1; fill:none\" points=\"\n",
       "  412.623,375.869 412.623,370.408 \n",
       "  \"/>\n",
       "<polyline clip-path=\"url(#clip8600)\" style=\"stroke:#000000; stroke-width:1; stroke-opacity:1; fill:none\" points=\"\n",
       "  460.344,375.869 460.344,370.408 \n",
       "  \"/>\n",
       "<polyline clip-path=\"url(#clip8600)\" style=\"stroke:#000000; stroke-width:1; stroke-opacity:1; fill:none\" points=\"\n",
       "  508.065,375.869 508.065,370.408 \n",
       "  \"/>\n",
       "<polyline clip-path=\"url(#clip8600)\" style=\"stroke:#000000; stroke-width:1; stroke-opacity:1; fill:none\" points=\"\n",
       "  508.065,375.869 508.065,370.408 \n",
       "  \"/>\n",
       "<polyline clip-path=\"url(#clip8600)\" style=\"stroke:#000000; stroke-width:1; stroke-opacity:1; fill:none\" points=\"\n",
       "  555.786,375.869 555.786,370.408 \n",
       "  \"/>\n",
       "<polyline clip-path=\"url(#clip8600)\" style=\"stroke:#000000; stroke-width:1; stroke-opacity:1; fill:none\" points=\"\n",
       "  55.5749,375.869 63.446,375.869 \n",
       "  \"/>\n",
       "<polyline clip-path=\"url(#clip8600)\" style=\"stroke:#000000; stroke-width:1; stroke-opacity:1; fill:none\" points=\"\n",
       "  55.5749,322.201 63.446,322.201 \n",
       "  \"/>\n",
       "<polyline clip-path=\"url(#clip8600)\" style=\"stroke:#000000; stroke-width:1; stroke-opacity:1; fill:none\" points=\"\n",
       "  55.5749,268.533 63.446,268.533 \n",
       "  \"/>\n",
       "<polyline clip-path=\"url(#clip8600)\" style=\"stroke:#000000; stroke-width:1; stroke-opacity:1; fill:none\" points=\"\n",
       "  55.5749,214.865 63.446,214.865 \n",
       "  \"/>\n",
       "<polyline clip-path=\"url(#clip8600)\" style=\"stroke:#000000; stroke-width:1; stroke-opacity:1; fill:none\" points=\"\n",
       "  55.5749,161.197 63.446,161.197 \n",
       "  \"/>\n",
       "<polyline clip-path=\"url(#clip8600)\" style=\"stroke:#000000; stroke-width:1; stroke-opacity:1; fill:none\" points=\"\n",
       "  55.5749,107.529 63.446,107.529 \n",
       "  \"/>\n",
       "<polyline clip-path=\"url(#clip8600)\" style=\"stroke:#000000; stroke-width:1; stroke-opacity:1; fill:none\" points=\"\n",
       "  55.5749,53.8609 63.446,53.8609 \n",
       "  \"/>\n",
       "<g clip-path=\"url(#clip8600)\">\n",
       "<text style=\"fill:#000000; fill-opacity:1; font-family:Arial,Helvetica Neue,Helvetica,sans-serif; font-size:12; text-anchor:middle;\" transform=\"rotate(0, 80.1035, 389.669)\" x=\"80.1035\" y=\"389.669\">DB</text>\n",
       "</g>\n",
       "<g clip-path=\"url(#clip8600)\">\n",
       "<text style=\"fill:#000000; fill-opacity:1; font-family:Arial,Helvetica Neue,Helvetica,sans-serif; font-size:12; text-anchor:middle;\" transform=\"rotate(0, 127.825, 389.669)\" x=\"127.825\" y=\"389.669\">JPM</text>\n",
       "</g>\n",
       "<g clip-path=\"url(#clip8600)\">\n",
       "<text style=\"fill:#000000; fill-opacity:1; font-family:Arial,Helvetica Neue,Helvetica,sans-serif; font-size:12; text-anchor:middle;\" transform=\"rotate(0, 127.825, 389.669)\" x=\"127.825\" y=\"389.669\">JPM</text>\n",
       "</g>\n",
       "<g clip-path=\"url(#clip8600)\">\n",
       "<text style=\"fill:#000000; fill-opacity:1; font-family:Arial,Helvetica Neue,Helvetica,sans-serif; font-size:12; text-anchor:middle;\" transform=\"rotate(0, 175.546, 389.669)\" x=\"175.546\" y=\"389.669\">BAC</text>\n",
       "</g>\n",
       "<g clip-path=\"url(#clip8600)\">\n",
       "<text style=\"fill:#000000; fill-opacity:1; font-family:Arial,Helvetica Neue,Helvetica,sans-serif; font-size:12; text-anchor:middle;\" transform=\"rotate(0, 223.267, 389.669)\" x=\"223.267\" y=\"389.669\">WFC</text>\n",
       "</g>\n",
       "<g clip-path=\"url(#clip8600)\">\n",
       "<text style=\"fill:#000000; fill-opacity:1; font-family:Arial,Helvetica Neue,Helvetica,sans-serif; font-size:12; text-anchor:middle;\" transform=\"rotate(0, 223.267, 389.669)\" x=\"223.267\" y=\"389.669\">WFC</text>\n",
       "</g>\n",
       "<g clip-path=\"url(#clip8600)\">\n",
       "<text style=\"fill:#000000; fill-opacity:1; font-family:Arial,Helvetica Neue,Helvetica,sans-serif; font-size:12; text-anchor:middle;\" transform=\"rotate(0, 295.516, 389.669)\" x=\"295.516\" y=\"389.669\">XOM</text>\n",
       "</g>\n",
       "<g clip-path=\"url(#clip8600)\">\n",
       "<text style=\"fill:#000000; fill-opacity:1; font-family:Arial,Helvetica Neue,Helvetica,sans-serif; font-size:12; text-anchor:middle;\" transform=\"rotate(0, 343.237, 389.669)\" x=\"343.237\" y=\"389.669\">CVX</text>\n",
       "</g>\n",
       "<g clip-path=\"url(#clip8600)\">\n",
       "<text style=\"fill:#000000; fill-opacity:1; font-family:Arial,Helvetica Neue,Helvetica,sans-serif; font-size:12; text-anchor:middle;\" transform=\"rotate(0, 343.237, 389.669)\" x=\"343.237\" y=\"389.669\">CVX</text>\n",
       "</g>\n",
       "<g clip-path=\"url(#clip8600)\">\n",
       "<text style=\"fill:#000000; fill-opacity:1; font-family:Arial,Helvetica Neue,Helvetica,sans-serif; font-size:12; text-anchor:middle;\" transform=\"rotate(0, 412.623, 389.669)\" x=\"412.623\" y=\"389.669\">AAPL</text>\n",
       "</g>\n",
       "<g clip-path=\"url(#clip8600)\">\n",
       "<text style=\"fill:#000000; fill-opacity:1; font-family:Arial,Helvetica Neue,Helvetica,sans-serif; font-size:12; text-anchor:middle;\" transform=\"rotate(0, 412.623, 389.669)\" x=\"412.623\" y=\"389.669\">AAPL</text>\n",
       "</g>\n",
       "<g clip-path=\"url(#clip8600)\">\n",
       "<text style=\"fill:#000000; fill-opacity:1; font-family:Arial,Helvetica Neue,Helvetica,sans-serif; font-size:12; text-anchor:middle;\" transform=\"rotate(0, 460.344, 389.669)\" x=\"460.344\" y=\"389.669\">AMZN</text>\n",
       "</g>\n",
       "<g clip-path=\"url(#clip8600)\">\n",
       "<text style=\"fill:#000000; fill-opacity:1; font-family:Arial,Helvetica Neue,Helvetica,sans-serif; font-size:12; text-anchor:middle;\" transform=\"rotate(0, 508.065, 389.669)\" x=\"508.065\" y=\"389.669\">FB</text>\n",
       "</g>\n",
       "<g clip-path=\"url(#clip8600)\">\n",
       "<text style=\"fill:#000000; fill-opacity:1; font-family:Arial,Helvetica Neue,Helvetica,sans-serif; font-size:12; text-anchor:middle;\" transform=\"rotate(0, 508.065, 389.669)\" x=\"508.065\" y=\"389.669\">FB</text>\n",
       "</g>\n",
       "<g clip-path=\"url(#clip8600)\">\n",
       "<text style=\"fill:#000000; fill-opacity:1; font-family:Arial,Helvetica Neue,Helvetica,sans-serif; font-size:12; text-anchor:middle;\" transform=\"rotate(0, 555.786, 389.669)\" x=\"555.786\" y=\"389.669\">GOOG</text>\n",
       "</g>\n",
       "<g clip-path=\"url(#clip8600)\">\n",
       "<text style=\"fill:#000000; fill-opacity:1; font-family:Arial,Helvetica Neue,Helvetica,sans-serif; font-size:12; text-anchor:end;\" transform=\"rotate(0, 49.5749, 380.369)\" x=\"49.5749\" y=\"380.369\">0%</text>\n",
       "</g>\n",
       "<g clip-path=\"url(#clip8600)\">\n",
       "<text style=\"fill:#000000; fill-opacity:1; font-family:Arial,Helvetica Neue,Helvetica,sans-serif; font-size:12; text-anchor:end;\" transform=\"rotate(0, 49.5749, 326.701)\" x=\"49.5749\" y=\"326.701\">10%</text>\n",
       "</g>\n",
       "<g clip-path=\"url(#clip8600)\">\n",
       "<text style=\"fill:#000000; fill-opacity:1; font-family:Arial,Helvetica Neue,Helvetica,sans-serif; font-size:12; text-anchor:end;\" transform=\"rotate(0, 49.5749, 273.033)\" x=\"49.5749\" y=\"273.033\">20%</text>\n",
       "</g>\n",
       "<g clip-path=\"url(#clip8600)\">\n",
       "<text style=\"fill:#000000; fill-opacity:1; font-family:Arial,Helvetica Neue,Helvetica,sans-serif; font-size:12; text-anchor:end;\" transform=\"rotate(0, 49.5749, 219.365)\" x=\"49.5749\" y=\"219.365\">30%</text>\n",
       "</g>\n",
       "<g clip-path=\"url(#clip8600)\">\n",
       "<text style=\"fill:#000000; fill-opacity:1; font-family:Arial,Helvetica Neue,Helvetica,sans-serif; font-size:12; text-anchor:end;\" transform=\"rotate(0, 49.5749, 165.697)\" x=\"49.5749\" y=\"165.697\">40%</text>\n",
       "</g>\n",
       "<g clip-path=\"url(#clip8600)\">\n",
       "<text style=\"fill:#000000; fill-opacity:1; font-family:Arial,Helvetica Neue,Helvetica,sans-serif; font-size:12; text-anchor:end;\" transform=\"rotate(0, 49.5749, 112.029)\" x=\"49.5749\" y=\"112.029\">50%</text>\n",
       "</g>\n",
       "<g clip-path=\"url(#clip8600)\">\n",
       "<text style=\"fill:#000000; fill-opacity:1; font-family:Arial,Helvetica Neue,Helvetica,sans-serif; font-size:12; text-anchor:end;\" transform=\"rotate(0, 49.5749, 58.3609)\" x=\"49.5749\" y=\"58.3609\">60%</text>\n",
       "</g>\n",
       "<g clip-path=\"url(#clip8600)\">\n",
       "<text style=\"fill:#000000; fill-opacity:1; font-family:Arial,Helvetica Neue,Helvetica,sans-serif; font-size:16; text-anchor:middle;\" transform=\"rotate(-90, 14.4, 193.84)\" x=\"14.4\" y=\"193.84\">weights</text>\n",
       "</g>\n",
       "<polygon clip-path=\"url(#clip8602)\" points=\"\n",
       "61.0151,375.869 61.0151,375.869 99.1919,375.869 99.1919,375.869 61.0151,375.869 61.0151,375.869 \n",
       "  \" fill=\"#009af9\" fill-opacity=\"1\"/>\n",
       "<polyline clip-path=\"url(#clip8602)\" style=\"stroke:#000000; stroke-width:1; stroke-opacity:1; fill:none\" points=\"\n",
       "  61.0151,375.869 61.0151,375.869 99.1919,375.869 61.0151,375.869 \n",
       "  \"/>\n",
       "<polygon clip-path=\"url(#clip8602)\" points=\"\n",
       "108.736,292.096 108.736,375.869 146.913,375.869 146.913,292.096 108.736,292.096 108.736,292.096 \n",
       "  \" fill=\"#009af9\" fill-opacity=\"1\"/>\n",
       "<polyline clip-path=\"url(#clip8602)\" style=\"stroke:#000000; stroke-width:1; stroke-opacity:1; fill:none\" points=\"\n",
       "  108.736,292.096 108.736,375.869 146.913,375.869 146.913,292.096 108.736,292.096 \n",
       "  \"/>\n",
       "<polygon clip-path=\"url(#clip8602)\" points=\"\n",
       "156.457,375.869 156.457,375.869 194.634,375.869 194.634,375.869 156.457,375.869 156.457,375.869 \n",
       "  \" fill=\"#009af9\" fill-opacity=\"1\"/>\n",
       "<polyline clip-path=\"url(#clip8602)\" style=\"stroke:#000000; stroke-width:1; stroke-opacity:1; fill:none\" points=\"\n",
       "  156.457,375.869 156.457,375.869 194.634,375.869 194.634,375.869 156.457,375.869 \n",
       "  \"/>\n",
       "<polygon clip-path=\"url(#clip8602)\" points=\"\n",
       "204.178,375.869 204.178,375.869 242.355,375.869 242.355,375.869 204.178,375.869 204.178,375.869 \n",
       "  \" fill=\"#009af9\" fill-opacity=\"1\"/>\n",
       "<polyline clip-path=\"url(#clip8602)\" style=\"stroke:#000000; stroke-width:1; stroke-opacity:1; fill:none\" points=\"\n",
       "  204.178,375.869 204.178,375.869 242.355,375.869 242.355,375.869 204.178,375.869 \n",
       "  \"/>\n",
       "<polygon clip-path=\"url(#clip8602)\" points=\"\n",
       "276.428,287.02 276.428,375.869 314.604,375.869 314.604,287.02 276.428,287.02 276.428,287.02 \n",
       "  \" fill=\"#e26f46\" fill-opacity=\"1\"/>\n",
       "<polyline clip-path=\"url(#clip8602)\" style=\"stroke:#000000; stroke-width:1; stroke-opacity:1; fill:none\" points=\"\n",
       "  276.428,287.02 276.428,375.869 314.604,375.869 314.604,287.02 276.428,287.02 \n",
       "  \"/>\n",
       "<polygon clip-path=\"url(#clip8602)\" points=\"\n",
       "324.149,375.869 324.149,375.869 362.325,375.869 362.325,375.869 324.149,375.869 324.149,375.869 \n",
       "  \" fill=\"#e26f46\" fill-opacity=\"1\"/>\n",
       "<polyline clip-path=\"url(#clip8602)\" style=\"stroke:#000000; stroke-width:1; stroke-opacity:1; fill:none\" points=\"\n",
       "  324.149,375.869 324.149,375.869 362.325,375.869 362.325,375.869 324.149,375.869 \n",
       "  \"/>\n",
       "<polygon clip-path=\"url(#clip8602)\" points=\"\n",
       "393.535,375.869 393.535,375.869 431.712,375.869 431.712,375.869 393.535,375.869 393.535,375.869 \n",
       "  \" fill=\"#3da44d\" fill-opacity=\"1\"/>\n",
       "<polyline clip-path=\"url(#clip8602)\" style=\"stroke:#000000; stroke-width:1; stroke-opacity:1; fill:none\" points=\"\n",
       "  393.535,375.869 393.535,375.869 431.712,375.869 431.712,375.869 393.535,375.869 \n",
       "  \"/>\n",
       "<polygon clip-path=\"url(#clip8602)\" points=\"\n",
       "441.256,11.811 441.256,375.869 479.433,375.869 479.433,11.811 441.256,11.811 441.256,11.811 \n",
       "  \" fill=\"#3da44d\" fill-opacity=\"1\"/>\n",
       "<polyline clip-path=\"url(#clip8602)\" style=\"stroke:#000000; stroke-width:1; stroke-opacity:1; fill:none\" points=\"\n",
       "  441.256,11.811 441.256,375.869 479.433,375.869 479.433,11.811 441.256,11.811 \n",
       "  \"/>\n",
       "<polygon clip-path=\"url(#clip8602)\" points=\"\n",
       "488.977,375.869 488.977,375.869 527.154,375.869 527.154,375.869 488.977,375.869 488.977,375.869 \n",
       "  \" fill=\"#3da44d\" fill-opacity=\"1\"/>\n",
       "<polyline clip-path=\"url(#clip8602)\" style=\"stroke:#000000; stroke-width:1; stroke-opacity:1; fill:none\" points=\"\n",
       "  488.977,375.869 488.977,375.869 527.154,375.869 527.154,375.869 488.977,375.869 \n",
       "  \"/>\n",
       "<polygon clip-path=\"url(#clip8602)\" points=\"\n",
       "536.698,375.869 536.698,375.869 574.875,375.869 574.875,375.869 536.698,375.869 536.698,375.869 \n",
       "  \" fill=\"#3da44d\" fill-opacity=\"1\"/>\n",
       "<polyline clip-path=\"url(#clip8602)\" style=\"stroke:#000000; stroke-width:1; stroke-opacity:1; fill:none\" points=\"\n",
       "  536.698,375.869 536.698,375.869 574.875,375.869 536.698,375.869 \n",
       "  \"/>\n",
       "<polygon clip-path=\"url(#clip8600)\" points=\"\n",
       "476.226,93.171 562.315,93.171 562.315,32.691 476.226,32.691 \n",
       "  \" fill=\"#ffffff\" fill-opacity=\"1\"/>\n",
       "<polyline clip-path=\"url(#clip8600)\" style=\"stroke:#000000; stroke-width:1; stroke-opacity:1; fill:none\" points=\"\n",
       "  476.226,93.171 562.315,93.171 562.315,32.691 476.226,32.691 476.226,93.171 \n",
       "  \"/>\n",
       "<polygon clip-path=\"url(#clip8600)\" points=\"\n",
       "482.226,53.859 518.226,53.859 518.226,41.763 482.226,41.763 482.226,53.859 \n",
       "  \" fill=\"#009af9\" fill-opacity=\"1\"/>\n",
       "<polyline clip-path=\"url(#clip8600)\" style=\"stroke:#000000; stroke-width:1; stroke-opacity:1; fill:none\" points=\"\n",
       "  482.226,53.859 518.226,53.859 518.226,41.763 482.226,41.763 482.226,53.859 \n",
       "  \"/>\n",
       "<g clip-path=\"url(#clip8600)\">\n",
       "<text style=\"fill:#000000; fill-opacity:1; font-family:Arial,Helvetica Neue,Helvetica,sans-serif; font-size:12; text-anchor:start;\" transform=\"rotate(0, 524.226, 52.311)\" x=\"524.226\" y=\"52.311\">bank</text>\n",
       "</g>\n",
       "<polygon clip-path=\"url(#clip8600)\" points=\"\n",
       "482.226,68.979 518.226,68.979 518.226,56.883 482.226,56.883 482.226,68.979 \n",
       "  \" fill=\"#e26f46\" fill-opacity=\"1\"/>\n",
       "<polyline clip-path=\"url(#clip8600)\" style=\"stroke:#000000; stroke-width:1; stroke-opacity:1; fill:none\" points=\"\n",
       "  482.226,68.979 518.226,68.979 518.226,56.883 482.226,56.883 482.226,68.979 \n",
       "  \"/>\n",
       "<g clip-path=\"url(#clip8600)\">\n",
       "<text style=\"fill:#000000; fill-opacity:1; font-family:Arial,Helvetica Neue,Helvetica,sans-serif; font-size:12; text-anchor:start;\" transform=\"rotate(0, 524.226, 67.431)\" x=\"524.226\" y=\"67.431\">oil</text>\n",
       "</g>\n",
       "<polygon clip-path=\"url(#clip8600)\" points=\"\n",
       "482.226,84.099 518.226,84.099 518.226,72.003 482.226,72.003 482.226,84.099 \n",
       "  \" fill=\"#3da44d\" fill-opacity=\"1\"/>\n",
       "<polyline clip-path=\"url(#clip8600)\" style=\"stroke:#000000; stroke-width:1; stroke-opacity:1; fill:none\" points=\"\n",
       "  482.226,84.099 518.226,84.099 518.226,72.003 482.226,72.003 482.226,84.099 \n",
       "  \"/>\n",
       "<g clip-path=\"url(#clip8600)\">\n",
       "<text style=\"fill:#000000; fill-opacity:1; font-family:Arial,Helvetica Neue,Helvetica,sans-serif; font-size:12; text-anchor:start;\" transform=\"rotate(0, 524.226, 82.551)\" x=\"524.226\" y=\"82.551\">tech</text>\n",
       "</g>\n",
       "</svg>\n"
      ]
     },
     "execution_count": 189,
     "metadata": {},
     "output_type": "execute_result"
    }
   ],
   "source": [
    "Σ = Diagonal(volatilities) * corr * Diagonal(volatilities) # covariance matrix\n",
    "@constraint(m, dot(weights, Σ * weights) <= 0.2^2)\n",
    "solve(m)\n",
    "\n",
    "println(\"Average return: $(percentage(getobjectivevalue(m)))\")\n",
    "plot(tickers, getvalue(weights); \n",
    "    linetype=:bar, group=class, yformatter=percentage, ylabel=\"weights\")"
   ]
  },
  {
   "cell_type": "markdown",
   "metadata": {
    "slideshow": {
     "slide_type": "subslide"
    }
   },
   "source": [
    "Restrict the weights of any one stock to be at most 25% of the portfolio:"
   ]
  },
  {
   "cell_type": "code",
   "execution_count": 190,
   "metadata": {},
   "outputs": [
    {
     "name": "stdout",
     "output_type": "stream",
     "text": [
      "Average return: 40%\n"
     ]
    },
    {
     "data": {
      "image/svg+xml": [
       "<?xml version=\"1.0\" encoding=\"utf-8\"?>\n",
       "<svg xmlns=\"http://www.w3.org/2000/svg\" xmlns:xlink=\"http://www.w3.org/1999/xlink\" width=\"600\" height=\"400\" viewBox=\"0 0 600 400\">\n",
       "<defs>\n",
       "  <clipPath id=\"clip8800\">\n",
       "    <rect x=\"0\" y=\"0\" width=\"600\" height=\"400\"/>\n",
       "  </clipPath>\n",
       "</defs>\n",
       "<polygon clip-path=\"url(#clip8800)\" points=\"\n",
       "0,400 600,400 600,0 0,0 \n",
       "  \" fill=\"#ffffff\" fill-opacity=\"1\"/>\n",
       "<defs>\n",
       "  <clipPath id=\"clip8801\">\n",
       "    <rect x=\"120\" y=\"0\" width=\"421\" height=\"400\"/>\n",
       "  </clipPath>\n",
       "</defs>\n",
       "<polygon clip-path=\"url(#clip8800)\" points=\"\n",
       "55.5749,375.869 580.315,375.869 580.315,11.811 55.5749,11.811 \n",
       "  \" fill=\"#ffffff\" fill-opacity=\"1\"/>\n",
       "<defs>\n",
       "  <clipPath id=\"clip8802\">\n",
       "    <rect x=\"55\" y=\"11\" width=\"526\" height=\"365\"/>\n",
       "  </clipPath>\n",
       "</defs>\n",
       "<polyline clip-path=\"url(#clip8802)\" style=\"stroke:#000000; stroke-width:0.5; stroke-opacity:0.1; fill:none\" points=\"\n",
       "  80.1035,375.869 80.1035,11.811 \n",
       "  \"/>\n",
       "<polyline clip-path=\"url(#clip8802)\" style=\"stroke:#000000; stroke-width:0.5; stroke-opacity:0.1; fill:none\" points=\"\n",
       "  127.825,375.869 127.825,11.811 \n",
       "  \"/>\n",
       "<polyline clip-path=\"url(#clip8802)\" style=\"stroke:#000000; stroke-width:0.5; stroke-opacity:0.1; fill:none\" points=\"\n",
       "  127.825,375.869 127.825,11.811 \n",
       "  \"/>\n",
       "<polyline clip-path=\"url(#clip8802)\" style=\"stroke:#000000; stroke-width:0.5; stroke-opacity:0.1; fill:none\" points=\"\n",
       "  175.546,375.869 175.546,11.811 \n",
       "  \"/>\n",
       "<polyline clip-path=\"url(#clip8802)\" style=\"stroke:#000000; stroke-width:0.5; stroke-opacity:0.1; fill:none\" points=\"\n",
       "  223.267,375.869 223.267,11.811 \n",
       "  \"/>\n",
       "<polyline clip-path=\"url(#clip8802)\" style=\"stroke:#000000; stroke-width:0.5; stroke-opacity:0.1; fill:none\" points=\"\n",
       "  223.267,375.869 223.267,11.811 \n",
       "  \"/>\n",
       "<polyline clip-path=\"url(#clip8802)\" style=\"stroke:#000000; stroke-width:0.5; stroke-opacity:0.1; fill:none\" points=\"\n",
       "  295.516,375.869 295.516,11.811 \n",
       "  \"/>\n",
       "<polyline clip-path=\"url(#clip8802)\" style=\"stroke:#000000; stroke-width:0.5; stroke-opacity:0.1; fill:none\" points=\"\n",
       "  343.237,375.869 343.237,11.811 \n",
       "  \"/>\n",
       "<polyline clip-path=\"url(#clip8802)\" style=\"stroke:#000000; stroke-width:0.5; stroke-opacity:0.1; fill:none\" points=\"\n",
       "  343.237,375.869 343.237,11.811 \n",
       "  \"/>\n",
       "<polyline clip-path=\"url(#clip8802)\" style=\"stroke:#000000; stroke-width:0.5; stroke-opacity:0.1; fill:none\" points=\"\n",
       "  412.623,375.869 412.623,11.811 \n",
       "  \"/>\n",
       "<polyline clip-path=\"url(#clip8802)\" style=\"stroke:#000000; stroke-width:0.5; stroke-opacity:0.1; fill:none\" points=\"\n",
       "  412.623,375.869 412.623,11.811 \n",
       "  \"/>\n",
       "<polyline clip-path=\"url(#clip8802)\" style=\"stroke:#000000; stroke-width:0.5; stroke-opacity:0.1; fill:none\" points=\"\n",
       "  460.344,375.869 460.344,11.811 \n",
       "  \"/>\n",
       "<polyline clip-path=\"url(#clip8802)\" style=\"stroke:#000000; stroke-width:0.5; stroke-opacity:0.1; fill:none\" points=\"\n",
       "  508.065,375.869 508.065,11.811 \n",
       "  \"/>\n",
       "<polyline clip-path=\"url(#clip8802)\" style=\"stroke:#000000; stroke-width:0.5; stroke-opacity:0.1; fill:none\" points=\"\n",
       "  508.065,375.869 508.065,11.811 \n",
       "  \"/>\n",
       "<polyline clip-path=\"url(#clip8802)\" style=\"stroke:#000000; stroke-width:0.5; stroke-opacity:0.1; fill:none\" points=\"\n",
       "  555.786,375.869 555.786,11.811 \n",
       "  \"/>\n",
       "<polyline clip-path=\"url(#clip8802)\" style=\"stroke:#000000; stroke-width:0.5; stroke-opacity:0.1; fill:none\" points=\"\n",
       "  55.5749,375.869 580.315,375.869 \n",
       "  \"/>\n",
       "<polyline clip-path=\"url(#clip8802)\" style=\"stroke:#000000; stroke-width:0.5; stroke-opacity:0.1; fill:none\" points=\"\n",
       "  55.5749,303.057 580.315,303.057 \n",
       "  \"/>\n",
       "<polyline clip-path=\"url(#clip8802)\" style=\"stroke:#000000; stroke-width:0.5; stroke-opacity:0.1; fill:none\" points=\"\n",
       "  55.5749,230.246 580.315,230.246 \n",
       "  \"/>\n",
       "<polyline clip-path=\"url(#clip8802)\" style=\"stroke:#000000; stroke-width:0.5; stroke-opacity:0.1; fill:none\" points=\"\n",
       "  55.5749,157.434 580.315,157.434 \n",
       "  \"/>\n",
       "<polyline clip-path=\"url(#clip8802)\" style=\"stroke:#000000; stroke-width:0.5; stroke-opacity:0.1; fill:none\" points=\"\n",
       "  55.5749,84.6226 580.315,84.6226 \n",
       "  \"/>\n",
       "<polyline clip-path=\"url(#clip8802)\" style=\"stroke:#000000; stroke-width:0.5; stroke-opacity:0.1; fill:none\" points=\"\n",
       "  55.5749,11.811 580.315,11.811 \n",
       "  \"/>\n",
       "<polyline clip-path=\"url(#clip8800)\" style=\"stroke:#000000; stroke-width:1; stroke-opacity:1; fill:none\" points=\"\n",
       "  55.5749,375.869 580.315,375.869 \n",
       "  \"/>\n",
       "<polyline clip-path=\"url(#clip8800)\" style=\"stroke:#000000; stroke-width:1; stroke-opacity:1; fill:none\" points=\"\n",
       "  55.5749,375.869 55.5749,11.811 \n",
       "  \"/>\n",
       "<polyline clip-path=\"url(#clip8800)\" style=\"stroke:#000000; stroke-width:1; stroke-opacity:1; fill:none\" points=\"\n",
       "  80.1035,375.869 80.1035,370.408 \n",
       "  \"/>\n",
       "<polyline clip-path=\"url(#clip8800)\" style=\"stroke:#000000; stroke-width:1; stroke-opacity:1; fill:none\" points=\"\n",
       "  127.825,375.869 127.825,370.408 \n",
       "  \"/>\n",
       "<polyline clip-path=\"url(#clip8800)\" style=\"stroke:#000000; stroke-width:1; stroke-opacity:1; fill:none\" points=\"\n",
       "  127.825,375.869 127.825,370.408 \n",
       "  \"/>\n",
       "<polyline clip-path=\"url(#clip8800)\" style=\"stroke:#000000; stroke-width:1; stroke-opacity:1; fill:none\" points=\"\n",
       "  175.546,375.869 175.546,370.408 \n",
       "  \"/>\n",
       "<polyline clip-path=\"url(#clip8800)\" style=\"stroke:#000000; stroke-width:1; stroke-opacity:1; fill:none\" points=\"\n",
       "  223.267,375.869 223.267,370.408 \n",
       "  \"/>\n",
       "<polyline clip-path=\"url(#clip8800)\" style=\"stroke:#000000; stroke-width:1; stroke-opacity:1; fill:none\" points=\"\n",
       "  223.267,375.869 223.267,370.408 \n",
       "  \"/>\n",
       "<polyline clip-path=\"url(#clip8800)\" style=\"stroke:#000000; stroke-width:1; stroke-opacity:1; fill:none\" points=\"\n",
       "  295.516,375.869 295.516,370.408 \n",
       "  \"/>\n",
       "<polyline clip-path=\"url(#clip8800)\" style=\"stroke:#000000; stroke-width:1; stroke-opacity:1; fill:none\" points=\"\n",
       "  343.237,375.869 343.237,370.408 \n",
       "  \"/>\n",
       "<polyline clip-path=\"url(#clip8800)\" style=\"stroke:#000000; stroke-width:1; stroke-opacity:1; fill:none\" points=\"\n",
       "  343.237,375.869 343.237,370.408 \n",
       "  \"/>\n",
       "<polyline clip-path=\"url(#clip8800)\" style=\"stroke:#000000; stroke-width:1; stroke-opacity:1; fill:none\" points=\"\n",
       "  412.623,375.869 412.623,370.408 \n",
       "  \"/>\n",
       "<polyline clip-path=\"url(#clip8800)\" style=\"stroke:#000000; stroke-width:1; stroke-opacity:1; fill:none\" points=\"\n",
       "  412.623,375.869 412.623,370.408 \n",
       "  \"/>\n",
       "<polyline clip-path=\"url(#clip8800)\" style=\"stroke:#000000; stroke-width:1; stroke-opacity:1; fill:none\" points=\"\n",
       "  460.344,375.869 460.344,370.408 \n",
       "  \"/>\n",
       "<polyline clip-path=\"url(#clip8800)\" style=\"stroke:#000000; stroke-width:1; stroke-opacity:1; fill:none\" points=\"\n",
       "  508.065,375.869 508.065,370.408 \n",
       "  \"/>\n",
       "<polyline clip-path=\"url(#clip8800)\" style=\"stroke:#000000; stroke-width:1; stroke-opacity:1; fill:none\" points=\"\n",
       "  508.065,375.869 508.065,370.408 \n",
       "  \"/>\n",
       "<polyline clip-path=\"url(#clip8800)\" style=\"stroke:#000000; stroke-width:1; stroke-opacity:1; fill:none\" points=\"\n",
       "  555.786,375.869 555.786,370.408 \n",
       "  \"/>\n",
       "<polyline clip-path=\"url(#clip8800)\" style=\"stroke:#000000; stroke-width:1; stroke-opacity:1; fill:none\" points=\"\n",
       "  55.5749,375.869 63.446,375.869 \n",
       "  \"/>\n",
       "<polyline clip-path=\"url(#clip8800)\" style=\"stroke:#000000; stroke-width:1; stroke-opacity:1; fill:none\" points=\"\n",
       "  55.5749,303.057 63.446,303.057 \n",
       "  \"/>\n",
       "<polyline clip-path=\"url(#clip8800)\" style=\"stroke:#000000; stroke-width:1; stroke-opacity:1; fill:none\" points=\"\n",
       "  55.5749,230.246 63.446,230.246 \n",
       "  \"/>\n",
       "<polyline clip-path=\"url(#clip8800)\" style=\"stroke:#000000; stroke-width:1; stroke-opacity:1; fill:none\" points=\"\n",
       "  55.5749,157.434 63.446,157.434 \n",
       "  \"/>\n",
       "<polyline clip-path=\"url(#clip8800)\" style=\"stroke:#000000; stroke-width:1; stroke-opacity:1; fill:none\" points=\"\n",
       "  55.5749,84.6226 63.446,84.6226 \n",
       "  \"/>\n",
       "<polyline clip-path=\"url(#clip8800)\" style=\"stroke:#000000; stroke-width:1; stroke-opacity:1; fill:none\" points=\"\n",
       "  55.5749,11.811 63.446,11.811 \n",
       "  \"/>\n",
       "<g clip-path=\"url(#clip8800)\">\n",
       "<text style=\"fill:#000000; fill-opacity:1; font-family:Arial,Helvetica Neue,Helvetica,sans-serif; font-size:12; text-anchor:middle;\" transform=\"rotate(0, 80.1035, 389.669)\" x=\"80.1035\" y=\"389.669\">DB</text>\n",
       "</g>\n",
       "<g clip-path=\"url(#clip8800)\">\n",
       "<text style=\"fill:#000000; fill-opacity:1; font-family:Arial,Helvetica Neue,Helvetica,sans-serif; font-size:12; text-anchor:middle;\" transform=\"rotate(0, 127.825, 389.669)\" x=\"127.825\" y=\"389.669\">JPM</text>\n",
       "</g>\n",
       "<g clip-path=\"url(#clip8800)\">\n",
       "<text style=\"fill:#000000; fill-opacity:1; font-family:Arial,Helvetica Neue,Helvetica,sans-serif; font-size:12; text-anchor:middle;\" transform=\"rotate(0, 127.825, 389.669)\" x=\"127.825\" y=\"389.669\">JPM</text>\n",
       "</g>\n",
       "<g clip-path=\"url(#clip8800)\">\n",
       "<text style=\"fill:#000000; fill-opacity:1; font-family:Arial,Helvetica Neue,Helvetica,sans-serif; font-size:12; text-anchor:middle;\" transform=\"rotate(0, 175.546, 389.669)\" x=\"175.546\" y=\"389.669\">BAC</text>\n",
       "</g>\n",
       "<g clip-path=\"url(#clip8800)\">\n",
       "<text style=\"fill:#000000; fill-opacity:1; font-family:Arial,Helvetica Neue,Helvetica,sans-serif; font-size:12; text-anchor:middle;\" transform=\"rotate(0, 223.267, 389.669)\" x=\"223.267\" y=\"389.669\">WFC</text>\n",
       "</g>\n",
       "<g clip-path=\"url(#clip8800)\">\n",
       "<text style=\"fill:#000000; fill-opacity:1; font-family:Arial,Helvetica Neue,Helvetica,sans-serif; font-size:12; text-anchor:middle;\" transform=\"rotate(0, 223.267, 389.669)\" x=\"223.267\" y=\"389.669\">WFC</text>\n",
       "</g>\n",
       "<g clip-path=\"url(#clip8800)\">\n",
       "<text style=\"fill:#000000; fill-opacity:1; font-family:Arial,Helvetica Neue,Helvetica,sans-serif; font-size:12; text-anchor:middle;\" transform=\"rotate(0, 295.516, 389.669)\" x=\"295.516\" y=\"389.669\">XOM</text>\n",
       "</g>\n",
       "<g clip-path=\"url(#clip8800)\">\n",
       "<text style=\"fill:#000000; fill-opacity:1; font-family:Arial,Helvetica Neue,Helvetica,sans-serif; font-size:12; text-anchor:middle;\" transform=\"rotate(0, 343.237, 389.669)\" x=\"343.237\" y=\"389.669\">CVX</text>\n",
       "</g>\n",
       "<g clip-path=\"url(#clip8800)\">\n",
       "<text style=\"fill:#000000; fill-opacity:1; font-family:Arial,Helvetica Neue,Helvetica,sans-serif; font-size:12; text-anchor:middle;\" transform=\"rotate(0, 343.237, 389.669)\" x=\"343.237\" y=\"389.669\">CVX</text>\n",
       "</g>\n",
       "<g clip-path=\"url(#clip8800)\">\n",
       "<text style=\"fill:#000000; fill-opacity:1; font-family:Arial,Helvetica Neue,Helvetica,sans-serif; font-size:12; text-anchor:middle;\" transform=\"rotate(0, 412.623, 389.669)\" x=\"412.623\" y=\"389.669\">AAPL</text>\n",
       "</g>\n",
       "<g clip-path=\"url(#clip8800)\">\n",
       "<text style=\"fill:#000000; fill-opacity:1; font-family:Arial,Helvetica Neue,Helvetica,sans-serif; font-size:12; text-anchor:middle;\" transform=\"rotate(0, 412.623, 389.669)\" x=\"412.623\" y=\"389.669\">AAPL</text>\n",
       "</g>\n",
       "<g clip-path=\"url(#clip8800)\">\n",
       "<text style=\"fill:#000000; fill-opacity:1; font-family:Arial,Helvetica Neue,Helvetica,sans-serif; font-size:12; text-anchor:middle;\" transform=\"rotate(0, 460.344, 389.669)\" x=\"460.344\" y=\"389.669\">AMZN</text>\n",
       "</g>\n",
       "<g clip-path=\"url(#clip8800)\">\n",
       "<text style=\"fill:#000000; fill-opacity:1; font-family:Arial,Helvetica Neue,Helvetica,sans-serif; font-size:12; text-anchor:middle;\" transform=\"rotate(0, 508.065, 389.669)\" x=\"508.065\" y=\"389.669\">FB</text>\n",
       "</g>\n",
       "<g clip-path=\"url(#clip8800)\">\n",
       "<text style=\"fill:#000000; fill-opacity:1; font-family:Arial,Helvetica Neue,Helvetica,sans-serif; font-size:12; text-anchor:middle;\" transform=\"rotate(0, 508.065, 389.669)\" x=\"508.065\" y=\"389.669\">FB</text>\n",
       "</g>\n",
       "<g clip-path=\"url(#clip8800)\">\n",
       "<text style=\"fill:#000000; fill-opacity:1; font-family:Arial,Helvetica Neue,Helvetica,sans-serif; font-size:12; text-anchor:middle;\" transform=\"rotate(0, 555.786, 389.669)\" x=\"555.786\" y=\"389.669\">GOOG</text>\n",
       "</g>\n",
       "<g clip-path=\"url(#clip8800)\">\n",
       "<text style=\"fill:#000000; fill-opacity:1; font-family:Arial,Helvetica Neue,Helvetica,sans-serif; font-size:12; text-anchor:end;\" transform=\"rotate(0, 49.5749, 380.369)\" x=\"49.5749\" y=\"380.369\">0%</text>\n",
       "</g>\n",
       "<g clip-path=\"url(#clip8800)\">\n",
       "<text style=\"fill:#000000; fill-opacity:1; font-family:Arial,Helvetica Neue,Helvetica,sans-serif; font-size:12; text-anchor:end;\" transform=\"rotate(0, 49.5749, 307.557)\" x=\"49.5749\" y=\"307.557\">5%</text>\n",
       "</g>\n",
       "<g clip-path=\"url(#clip8800)\">\n",
       "<text style=\"fill:#000000; fill-opacity:1; font-family:Arial,Helvetica Neue,Helvetica,sans-serif; font-size:12; text-anchor:end;\" transform=\"rotate(0, 49.5749, 234.746)\" x=\"49.5749\" y=\"234.746\">10%</text>\n",
       "</g>\n",
       "<g clip-path=\"url(#clip8800)\">\n",
       "<text style=\"fill:#000000; fill-opacity:1; font-family:Arial,Helvetica Neue,Helvetica,sans-serif; font-size:12; text-anchor:end;\" transform=\"rotate(0, 49.5749, 161.934)\" x=\"49.5749\" y=\"161.934\">15%</text>\n",
       "</g>\n",
       "<g clip-path=\"url(#clip8800)\">\n",
       "<text style=\"fill:#000000; fill-opacity:1; font-family:Arial,Helvetica Neue,Helvetica,sans-serif; font-size:12; text-anchor:end;\" transform=\"rotate(0, 49.5749, 89.1226)\" x=\"49.5749\" y=\"89.1226\">20%</text>\n",
       "</g>\n",
       "<g clip-path=\"url(#clip8800)\">\n",
       "<text style=\"fill:#000000; fill-opacity:1; font-family:Arial,Helvetica Neue,Helvetica,sans-serif; font-size:12; text-anchor:end;\" transform=\"rotate(0, 49.5749, 16.311)\" x=\"49.5749\" y=\"16.311\">25%</text>\n",
       "</g>\n",
       "<g clip-path=\"url(#clip8800)\">\n",
       "<text style=\"fill:#000000; fill-opacity:1; font-family:Arial,Helvetica Neue,Helvetica,sans-serif; font-size:16; text-anchor:middle;\" transform=\"rotate(-90, 14.4, 193.84)\" x=\"14.4\" y=\"193.84\">weights</text>\n",
       "</g>\n",
       "<polygon clip-path=\"url(#clip8802)\" points=\"\n",
       "61.0151,375.869 61.0151,375.869 99.1919,375.869 99.1919,375.869 61.0151,375.869 61.0151,375.869 \n",
       "  \" fill=\"#009af9\" fill-opacity=\"1\"/>\n",
       "<polyline clip-path=\"url(#clip8802)\" style=\"stroke:#000000; stroke-width:1; stroke-opacity:1; fill:none\" points=\"\n",
       "  61.0151,375.869 61.0151,375.869 99.1919,375.869 61.0151,375.869 \n",
       "  \"/>\n",
       "<polygon clip-path=\"url(#clip8802)\" points=\"\n",
       "108.736,11.8111 108.736,375.869 146.913,375.869 146.913,11.8111 108.736,11.8111 108.736,11.8111 \n",
       "  \" fill=\"#009af9\" fill-opacity=\"1\"/>\n",
       "<polyline clip-path=\"url(#clip8802)\" style=\"stroke:#000000; stroke-width:1; stroke-opacity:1; fill:none\" points=\"\n",
       "  108.736,11.8111 108.736,375.869 146.913,375.869 146.913,11.8111 108.736,11.8111 \n",
       "  \"/>\n",
       "<polygon clip-path=\"url(#clip8802)\" points=\"\n",
       "156.457,11.8111 156.457,375.869 194.634,375.869 194.634,11.8111 156.457,11.8111 156.457,11.8111 \n",
       "  \" fill=\"#009af9\" fill-opacity=\"1\"/>\n",
       "<polyline clip-path=\"url(#clip8802)\" style=\"stroke:#000000; stroke-width:1; stroke-opacity:1; fill:none\" points=\"\n",
       "  156.457,11.8111 156.457,375.869 194.634,375.869 194.634,11.8111 156.457,11.8111 \n",
       "  \"/>\n",
       "<polygon clip-path=\"url(#clip8802)\" points=\"\n",
       "204.178,250.264 204.178,375.869 242.355,375.869 242.355,250.264 204.178,250.264 204.178,250.264 \n",
       "  \" fill=\"#009af9\" fill-opacity=\"1\"/>\n",
       "<polyline clip-path=\"url(#clip8802)\" style=\"stroke:#000000; stroke-width:1; stroke-opacity:1; fill:none\" points=\"\n",
       "  204.178,250.264 204.178,375.869 242.355,375.869 242.355,250.264 204.178,250.264 \n",
       "  \"/>\n",
       "<polygon clip-path=\"url(#clip8802)\" points=\"\n",
       "276.428,137.417 276.428,375.869 314.604,375.869 314.604,137.417 276.428,137.417 276.428,137.417 \n",
       "  \" fill=\"#e26f46\" fill-opacity=\"1\"/>\n",
       "<polyline clip-path=\"url(#clip8802)\" style=\"stroke:#000000; stroke-width:1; stroke-opacity:1; fill:none\" points=\"\n",
       "  276.428,137.417 276.428,375.869 314.604,375.869 314.604,137.417 276.428,137.417 \n",
       "  \"/>\n",
       "<polygon clip-path=\"url(#clip8802)\" points=\"\n",
       "324.149,375.869 324.149,375.869 362.325,375.869 362.325,375.869 324.149,375.869 324.149,375.869 \n",
       "  \" fill=\"#e26f46\" fill-opacity=\"1\"/>\n",
       "<polyline clip-path=\"url(#clip8802)\" style=\"stroke:#000000; stroke-width:1; stroke-opacity:1; fill:none\" points=\"\n",
       "  324.149,375.869 324.149,375.869 362.325,375.869 362.325,375.869 324.149,375.869 \n",
       "  \"/>\n",
       "<polygon clip-path=\"url(#clip8802)\" points=\"\n",
       "393.535,375.868 393.535,375.869 431.712,375.869 431.712,375.868 393.535,375.868 393.535,375.868 \n",
       "  \" fill=\"#3da44d\" fill-opacity=\"1\"/>\n",
       "<polyline clip-path=\"url(#clip8802)\" style=\"stroke:#000000; stroke-width:1; stroke-opacity:1; fill:none\" points=\"\n",
       "  393.535,375.868 393.535,375.869 431.712,375.869 431.712,375.868 393.535,375.868 \n",
       "  \"/>\n",
       "<polygon clip-path=\"url(#clip8802)\" points=\"\n",
       "441.256,11.811 441.256,375.869 479.433,375.869 479.433,11.811 441.256,11.811 441.256,11.811 \n",
       "  \" fill=\"#3da44d\" fill-opacity=\"1\"/>\n",
       "<polyline clip-path=\"url(#clip8802)\" style=\"stroke:#000000; stroke-width:1; stroke-opacity:1; fill:none\" points=\"\n",
       "  441.256,11.811 441.256,375.869 479.433,375.869 479.433,11.811 441.256,11.811 \n",
       "  \"/>\n",
       "<polygon clip-path=\"url(#clip8802)\" points=\"\n",
       "488.977,375.869 488.977,375.869 527.154,375.869 527.154,375.869 488.977,375.869 488.977,375.869 \n",
       "  \" fill=\"#3da44d\" fill-opacity=\"1\"/>\n",
       "<polyline clip-path=\"url(#clip8802)\" style=\"stroke:#000000; stroke-width:1; stroke-opacity:1; fill:none\" points=\"\n",
       "  488.977,375.869 488.977,375.869 527.154,375.869 527.154,375.869 488.977,375.869 \n",
       "  \"/>\n",
       "<polygon clip-path=\"url(#clip8802)\" points=\"\n",
       "536.698,375.869 536.698,375.869 574.875,375.869 574.875,375.869 536.698,375.869 536.698,375.869 \n",
       "  \" fill=\"#3da44d\" fill-opacity=\"1\"/>\n",
       "<polyline clip-path=\"url(#clip8802)\" style=\"stroke:#000000; stroke-width:1; stroke-opacity:1; fill:none\" points=\"\n",
       "  536.698,375.869 536.698,375.869 574.875,375.869 574.875,375.869 536.698,375.869 \n",
       "  \"/>\n",
       "<polygon clip-path=\"url(#clip8800)\" points=\"\n",
       "476.226,93.171 562.315,93.171 562.315,32.691 476.226,32.691 \n",
       "  \" fill=\"#ffffff\" fill-opacity=\"1\"/>\n",
       "<polyline clip-path=\"url(#clip8800)\" style=\"stroke:#000000; stroke-width:1; stroke-opacity:1; fill:none\" points=\"\n",
       "  476.226,93.171 562.315,93.171 562.315,32.691 476.226,32.691 476.226,93.171 \n",
       "  \"/>\n",
       "<polygon clip-path=\"url(#clip8800)\" points=\"\n",
       "482.226,53.859 518.226,53.859 518.226,41.763 482.226,41.763 482.226,53.859 \n",
       "  \" fill=\"#009af9\" fill-opacity=\"1\"/>\n",
       "<polyline clip-path=\"url(#clip8800)\" style=\"stroke:#000000; stroke-width:1; stroke-opacity:1; fill:none\" points=\"\n",
       "  482.226,53.859 518.226,53.859 518.226,41.763 482.226,41.763 482.226,53.859 \n",
       "  \"/>\n",
       "<g clip-path=\"url(#clip8800)\">\n",
       "<text style=\"fill:#000000; fill-opacity:1; font-family:Arial,Helvetica Neue,Helvetica,sans-serif; font-size:12; text-anchor:start;\" transform=\"rotate(0, 524.226, 52.311)\" x=\"524.226\" y=\"52.311\">bank</text>\n",
       "</g>\n",
       "<polygon clip-path=\"url(#clip8800)\" points=\"\n",
       "482.226,68.979 518.226,68.979 518.226,56.883 482.226,56.883 482.226,68.979 \n",
       "  \" fill=\"#e26f46\" fill-opacity=\"1\"/>\n",
       "<polyline clip-path=\"url(#clip8800)\" style=\"stroke:#000000; stroke-width:1; stroke-opacity:1; fill:none\" points=\"\n",
       "  482.226,68.979 518.226,68.979 518.226,56.883 482.226,56.883 482.226,68.979 \n",
       "  \"/>\n",
       "<g clip-path=\"url(#clip8800)\">\n",
       "<text style=\"fill:#000000; fill-opacity:1; font-family:Arial,Helvetica Neue,Helvetica,sans-serif; font-size:12; text-anchor:start;\" transform=\"rotate(0, 524.226, 67.431)\" x=\"524.226\" y=\"67.431\">oil</text>\n",
       "</g>\n",
       "<polygon clip-path=\"url(#clip8800)\" points=\"\n",
       "482.226,84.099 518.226,84.099 518.226,72.003 482.226,72.003 482.226,84.099 \n",
       "  \" fill=\"#3da44d\" fill-opacity=\"1\"/>\n",
       "<polyline clip-path=\"url(#clip8800)\" style=\"stroke:#000000; stroke-width:1; stroke-opacity:1; fill:none\" points=\"\n",
       "  482.226,84.099 518.226,84.099 518.226,72.003 482.226,72.003 482.226,84.099 \n",
       "  \"/>\n",
       "<g clip-path=\"url(#clip8800)\">\n",
       "<text style=\"fill:#000000; fill-opacity:1; font-family:Arial,Helvetica Neue,Helvetica,sans-serif; font-size:12; text-anchor:start;\" transform=\"rotate(0, 524.226, 82.551)\" x=\"524.226\" y=\"82.551\">tech</text>\n",
       "</g>\n",
       "</svg>\n"
      ]
     },
     "execution_count": 190,
     "metadata": {},
     "output_type": "execute_result"
    }
   ],
   "source": [
    "@constraint(m, weights .<= 0.25)\n",
    "solve(m)\n",
    "println(\"Average return: $(percentage(getobjectivevalue(m)))\")\n",
    "plot(tickers, getvalue(weights); \n",
    "    linetype=:bar, group=class, yformatter=percentage, ylabel=\"weights\")"
   ]
  },
  {
   "cell_type": "markdown",
   "metadata": {
    "slideshow": {
     "slide_type": "subslide"
    }
   },
   "source": [
    "Limit each industry to be at most 40%."
   ]
  },
  {
   "cell_type": "code",
   "execution_count": 191,
   "metadata": {},
   "outputs": [
    {
     "name": "stdout",
     "output_type": "stream",
     "text": [
      "Average return: 40%\n"
     ]
    },
    {
     "data": {
      "image/svg+xml": [
       "<?xml version=\"1.0\" encoding=\"utf-8\"?>\n",
       "<svg xmlns=\"http://www.w3.org/2000/svg\" xmlns:xlink=\"http://www.w3.org/1999/xlink\" width=\"600\" height=\"400\" viewBox=\"0 0 600 400\">\n",
       "<defs>\n",
       "  <clipPath id=\"clip9000\">\n",
       "    <rect x=\"0\" y=\"0\" width=\"600\" height=\"400\"/>\n",
       "  </clipPath>\n",
       "</defs>\n",
       "<polygon clip-path=\"url(#clip9000)\" points=\"\n",
       "0,400 600,400 600,0 0,0 \n",
       "  \" fill=\"#ffffff\" fill-opacity=\"1\"/>\n",
       "<defs>\n",
       "  <clipPath id=\"clip9001\">\n",
       "    <rect x=\"120\" y=\"0\" width=\"421\" height=\"400\"/>\n",
       "  </clipPath>\n",
       "</defs>\n",
       "<polygon clip-path=\"url(#clip9000)\" points=\"\n",
       "55.5749,375.869 580.315,375.869 580.315,11.811 55.5749,11.811 \n",
       "  \" fill=\"#ffffff\" fill-opacity=\"1\"/>\n",
       "<defs>\n",
       "  <clipPath id=\"clip9002\">\n",
       "    <rect x=\"55\" y=\"11\" width=\"526\" height=\"365\"/>\n",
       "  </clipPath>\n",
       "</defs>\n",
       "<polyline clip-path=\"url(#clip9002)\" style=\"stroke:#000000; stroke-width:0.5; stroke-opacity:0.1; fill:none\" points=\"\n",
       "  80.1035,375.869 80.1035,11.811 \n",
       "  \"/>\n",
       "<polyline clip-path=\"url(#clip9002)\" style=\"stroke:#000000; stroke-width:0.5; stroke-opacity:0.1; fill:none\" points=\"\n",
       "  127.825,375.869 127.825,11.811 \n",
       "  \"/>\n",
       "<polyline clip-path=\"url(#clip9002)\" style=\"stroke:#000000; stroke-width:0.5; stroke-opacity:0.1; fill:none\" points=\"\n",
       "  127.825,375.869 127.825,11.811 \n",
       "  \"/>\n",
       "<polyline clip-path=\"url(#clip9002)\" style=\"stroke:#000000; stroke-width:0.5; stroke-opacity:0.1; fill:none\" points=\"\n",
       "  175.546,375.869 175.546,11.811 \n",
       "  \"/>\n",
       "<polyline clip-path=\"url(#clip9002)\" style=\"stroke:#000000; stroke-width:0.5; stroke-opacity:0.1; fill:none\" points=\"\n",
       "  223.267,375.869 223.267,11.811 \n",
       "  \"/>\n",
       "<polyline clip-path=\"url(#clip9002)\" style=\"stroke:#000000; stroke-width:0.5; stroke-opacity:0.1; fill:none\" points=\"\n",
       "  223.267,375.869 223.267,11.811 \n",
       "  \"/>\n",
       "<polyline clip-path=\"url(#clip9002)\" style=\"stroke:#000000; stroke-width:0.5; stroke-opacity:0.1; fill:none\" points=\"\n",
       "  295.516,375.869 295.516,11.811 \n",
       "  \"/>\n",
       "<polyline clip-path=\"url(#clip9002)\" style=\"stroke:#000000; stroke-width:0.5; stroke-opacity:0.1; fill:none\" points=\"\n",
       "  343.237,375.869 343.237,11.811 \n",
       "  \"/>\n",
       "<polyline clip-path=\"url(#clip9002)\" style=\"stroke:#000000; stroke-width:0.5; stroke-opacity:0.1; fill:none\" points=\"\n",
       "  343.237,375.869 343.237,11.811 \n",
       "  \"/>\n",
       "<polyline clip-path=\"url(#clip9002)\" style=\"stroke:#000000; stroke-width:0.5; stroke-opacity:0.1; fill:none\" points=\"\n",
       "  412.623,375.869 412.623,11.811 \n",
       "  \"/>\n",
       "<polyline clip-path=\"url(#clip9002)\" style=\"stroke:#000000; stroke-width:0.5; stroke-opacity:0.1; fill:none\" points=\"\n",
       "  412.623,375.869 412.623,11.811 \n",
       "  \"/>\n",
       "<polyline clip-path=\"url(#clip9002)\" style=\"stroke:#000000; stroke-width:0.5; stroke-opacity:0.1; fill:none\" points=\"\n",
       "  460.344,375.869 460.344,11.811 \n",
       "  \"/>\n",
       "<polyline clip-path=\"url(#clip9002)\" style=\"stroke:#000000; stroke-width:0.5; stroke-opacity:0.1; fill:none\" points=\"\n",
       "  508.065,375.869 508.065,11.811 \n",
       "  \"/>\n",
       "<polyline clip-path=\"url(#clip9002)\" style=\"stroke:#000000; stroke-width:0.5; stroke-opacity:0.1; fill:none\" points=\"\n",
       "  508.065,375.869 508.065,11.811 \n",
       "  \"/>\n",
       "<polyline clip-path=\"url(#clip9002)\" style=\"stroke:#000000; stroke-width:0.5; stroke-opacity:0.1; fill:none\" points=\"\n",
       "  555.786,375.869 555.786,11.811 \n",
       "  \"/>\n",
       "<polyline clip-path=\"url(#clip9002)\" style=\"stroke:#000000; stroke-width:0.5; stroke-opacity:0.1; fill:none\" points=\"\n",
       "  55.5749,375.869 580.315,375.869 \n",
       "  \"/>\n",
       "<polyline clip-path=\"url(#clip9002)\" style=\"stroke:#000000; stroke-width:0.5; stroke-opacity:0.1; fill:none\" points=\"\n",
       "  55.5749,303.057 580.315,303.057 \n",
       "  \"/>\n",
       "<polyline clip-path=\"url(#clip9002)\" style=\"stroke:#000000; stroke-width:0.5; stroke-opacity:0.1; fill:none\" points=\"\n",
       "  55.5749,230.246 580.315,230.246 \n",
       "  \"/>\n",
       "<polyline clip-path=\"url(#clip9002)\" style=\"stroke:#000000; stroke-width:0.5; stroke-opacity:0.1; fill:none\" points=\"\n",
       "  55.5749,157.434 580.315,157.434 \n",
       "  \"/>\n",
       "<polyline clip-path=\"url(#clip9002)\" style=\"stroke:#000000; stroke-width:0.5; stroke-opacity:0.1; fill:none\" points=\"\n",
       "  55.5749,84.6226 580.315,84.6226 \n",
       "  \"/>\n",
       "<polyline clip-path=\"url(#clip9002)\" style=\"stroke:#000000; stroke-width:0.5; stroke-opacity:0.1; fill:none\" points=\"\n",
       "  55.5749,11.811 580.315,11.811 \n",
       "  \"/>\n",
       "<polyline clip-path=\"url(#clip9000)\" style=\"stroke:#000000; stroke-width:1; stroke-opacity:1; fill:none\" points=\"\n",
       "  55.5749,375.869 580.315,375.869 \n",
       "  \"/>\n",
       "<polyline clip-path=\"url(#clip9000)\" style=\"stroke:#000000; stroke-width:1; stroke-opacity:1; fill:none\" points=\"\n",
       "  55.5749,375.869 55.5749,11.811 \n",
       "  \"/>\n",
       "<polyline clip-path=\"url(#clip9000)\" style=\"stroke:#000000; stroke-width:1; stroke-opacity:1; fill:none\" points=\"\n",
       "  80.1035,375.869 80.1035,370.408 \n",
       "  \"/>\n",
       "<polyline clip-path=\"url(#clip9000)\" style=\"stroke:#000000; stroke-width:1; stroke-opacity:1; fill:none\" points=\"\n",
       "  127.825,375.869 127.825,370.408 \n",
       "  \"/>\n",
       "<polyline clip-path=\"url(#clip9000)\" style=\"stroke:#000000; stroke-width:1; stroke-opacity:1; fill:none\" points=\"\n",
       "  127.825,375.869 127.825,370.408 \n",
       "  \"/>\n",
       "<polyline clip-path=\"url(#clip9000)\" style=\"stroke:#000000; stroke-width:1; stroke-opacity:1; fill:none\" points=\"\n",
       "  175.546,375.869 175.546,370.408 \n",
       "  \"/>\n",
       "<polyline clip-path=\"url(#clip9000)\" style=\"stroke:#000000; stroke-width:1; stroke-opacity:1; fill:none\" points=\"\n",
       "  223.267,375.869 223.267,370.408 \n",
       "  \"/>\n",
       "<polyline clip-path=\"url(#clip9000)\" style=\"stroke:#000000; stroke-width:1; stroke-opacity:1; fill:none\" points=\"\n",
       "  223.267,375.869 223.267,370.408 \n",
       "  \"/>\n",
       "<polyline clip-path=\"url(#clip9000)\" style=\"stroke:#000000; stroke-width:1; stroke-opacity:1; fill:none\" points=\"\n",
       "  295.516,375.869 295.516,370.408 \n",
       "  \"/>\n",
       "<polyline clip-path=\"url(#clip9000)\" style=\"stroke:#000000; stroke-width:1; stroke-opacity:1; fill:none\" points=\"\n",
       "  343.237,375.869 343.237,370.408 \n",
       "  \"/>\n",
       "<polyline clip-path=\"url(#clip9000)\" style=\"stroke:#000000; stroke-width:1; stroke-opacity:1; fill:none\" points=\"\n",
       "  343.237,375.869 343.237,370.408 \n",
       "  \"/>\n",
       "<polyline clip-path=\"url(#clip9000)\" style=\"stroke:#000000; stroke-width:1; stroke-opacity:1; fill:none\" points=\"\n",
       "  412.623,375.869 412.623,370.408 \n",
       "  \"/>\n",
       "<polyline clip-path=\"url(#clip9000)\" style=\"stroke:#000000; stroke-width:1; stroke-opacity:1; fill:none\" points=\"\n",
       "  412.623,375.869 412.623,370.408 \n",
       "  \"/>\n",
       "<polyline clip-path=\"url(#clip9000)\" style=\"stroke:#000000; stroke-width:1; stroke-opacity:1; fill:none\" points=\"\n",
       "  460.344,375.869 460.344,370.408 \n",
       "  \"/>\n",
       "<polyline clip-path=\"url(#clip9000)\" style=\"stroke:#000000; stroke-width:1; stroke-opacity:1; fill:none\" points=\"\n",
       "  508.065,375.869 508.065,370.408 \n",
       "  \"/>\n",
       "<polyline clip-path=\"url(#clip9000)\" style=\"stroke:#000000; stroke-width:1; stroke-opacity:1; fill:none\" points=\"\n",
       "  508.065,375.869 508.065,370.408 \n",
       "  \"/>\n",
       "<polyline clip-path=\"url(#clip9000)\" style=\"stroke:#000000; stroke-width:1; stroke-opacity:1; fill:none\" points=\"\n",
       "  555.786,375.869 555.786,370.408 \n",
       "  \"/>\n",
       "<polyline clip-path=\"url(#clip9000)\" style=\"stroke:#000000; stroke-width:1; stroke-opacity:1; fill:none\" points=\"\n",
       "  55.5749,375.869 63.446,375.869 \n",
       "  \"/>\n",
       "<polyline clip-path=\"url(#clip9000)\" style=\"stroke:#000000; stroke-width:1; stroke-opacity:1; fill:none\" points=\"\n",
       "  55.5749,303.057 63.446,303.057 \n",
       "  \"/>\n",
       "<polyline clip-path=\"url(#clip9000)\" style=\"stroke:#000000; stroke-width:1; stroke-opacity:1; fill:none\" points=\"\n",
       "  55.5749,230.246 63.446,230.246 \n",
       "  \"/>\n",
       "<polyline clip-path=\"url(#clip9000)\" style=\"stroke:#000000; stroke-width:1; stroke-opacity:1; fill:none\" points=\"\n",
       "  55.5749,157.434 63.446,157.434 \n",
       "  \"/>\n",
       "<polyline clip-path=\"url(#clip9000)\" style=\"stroke:#000000; stroke-width:1; stroke-opacity:1; fill:none\" points=\"\n",
       "  55.5749,84.6226 63.446,84.6226 \n",
       "  \"/>\n",
       "<polyline clip-path=\"url(#clip9000)\" style=\"stroke:#000000; stroke-width:1; stroke-opacity:1; fill:none\" points=\"\n",
       "  55.5749,11.811 63.446,11.811 \n",
       "  \"/>\n",
       "<g clip-path=\"url(#clip9000)\">\n",
       "<text style=\"fill:#000000; fill-opacity:1; font-family:Arial,Helvetica Neue,Helvetica,sans-serif; font-size:12; text-anchor:middle;\" transform=\"rotate(0, 80.1035, 389.669)\" x=\"80.1035\" y=\"389.669\">DB</text>\n",
       "</g>\n",
       "<g clip-path=\"url(#clip9000)\">\n",
       "<text style=\"fill:#000000; fill-opacity:1; font-family:Arial,Helvetica Neue,Helvetica,sans-serif; font-size:12; text-anchor:middle;\" transform=\"rotate(0, 127.825, 389.669)\" x=\"127.825\" y=\"389.669\">JPM</text>\n",
       "</g>\n",
       "<g clip-path=\"url(#clip9000)\">\n",
       "<text style=\"fill:#000000; fill-opacity:1; font-family:Arial,Helvetica Neue,Helvetica,sans-serif; font-size:12; text-anchor:middle;\" transform=\"rotate(0, 127.825, 389.669)\" x=\"127.825\" y=\"389.669\">JPM</text>\n",
       "</g>\n",
       "<g clip-path=\"url(#clip9000)\">\n",
       "<text style=\"fill:#000000; fill-opacity:1; font-family:Arial,Helvetica Neue,Helvetica,sans-serif; font-size:12; text-anchor:middle;\" transform=\"rotate(0, 175.546, 389.669)\" x=\"175.546\" y=\"389.669\">BAC</text>\n",
       "</g>\n",
       "<g clip-path=\"url(#clip9000)\">\n",
       "<text style=\"fill:#000000; fill-opacity:1; font-family:Arial,Helvetica Neue,Helvetica,sans-serif; font-size:12; text-anchor:middle;\" transform=\"rotate(0, 223.267, 389.669)\" x=\"223.267\" y=\"389.669\">WFC</text>\n",
       "</g>\n",
       "<g clip-path=\"url(#clip9000)\">\n",
       "<text style=\"fill:#000000; fill-opacity:1; font-family:Arial,Helvetica Neue,Helvetica,sans-serif; font-size:12; text-anchor:middle;\" transform=\"rotate(0, 223.267, 389.669)\" x=\"223.267\" y=\"389.669\">WFC</text>\n",
       "</g>\n",
       "<g clip-path=\"url(#clip9000)\">\n",
       "<text style=\"fill:#000000; fill-opacity:1; font-family:Arial,Helvetica Neue,Helvetica,sans-serif; font-size:12; text-anchor:middle;\" transform=\"rotate(0, 295.516, 389.669)\" x=\"295.516\" y=\"389.669\">XOM</text>\n",
       "</g>\n",
       "<g clip-path=\"url(#clip9000)\">\n",
       "<text style=\"fill:#000000; fill-opacity:1; font-family:Arial,Helvetica Neue,Helvetica,sans-serif; font-size:12; text-anchor:middle;\" transform=\"rotate(0, 343.237, 389.669)\" x=\"343.237\" y=\"389.669\">CVX</text>\n",
       "</g>\n",
       "<g clip-path=\"url(#clip9000)\">\n",
       "<text style=\"fill:#000000; fill-opacity:1; font-family:Arial,Helvetica Neue,Helvetica,sans-serif; font-size:12; text-anchor:middle;\" transform=\"rotate(0, 343.237, 389.669)\" x=\"343.237\" y=\"389.669\">CVX</text>\n",
       "</g>\n",
       "<g clip-path=\"url(#clip9000)\">\n",
       "<text style=\"fill:#000000; fill-opacity:1; font-family:Arial,Helvetica Neue,Helvetica,sans-serif; font-size:12; text-anchor:middle;\" transform=\"rotate(0, 412.623, 389.669)\" x=\"412.623\" y=\"389.669\">AAPL</text>\n",
       "</g>\n",
       "<g clip-path=\"url(#clip9000)\">\n",
       "<text style=\"fill:#000000; fill-opacity:1; font-family:Arial,Helvetica Neue,Helvetica,sans-serif; font-size:12; text-anchor:middle;\" transform=\"rotate(0, 412.623, 389.669)\" x=\"412.623\" y=\"389.669\">AAPL</text>\n",
       "</g>\n",
       "<g clip-path=\"url(#clip9000)\">\n",
       "<text style=\"fill:#000000; fill-opacity:1; font-family:Arial,Helvetica Neue,Helvetica,sans-serif; font-size:12; text-anchor:middle;\" transform=\"rotate(0, 460.344, 389.669)\" x=\"460.344\" y=\"389.669\">AMZN</text>\n",
       "</g>\n",
       "<g clip-path=\"url(#clip9000)\">\n",
       "<text style=\"fill:#000000; fill-opacity:1; font-family:Arial,Helvetica Neue,Helvetica,sans-serif; font-size:12; text-anchor:middle;\" transform=\"rotate(0, 508.065, 389.669)\" x=\"508.065\" y=\"389.669\">FB</text>\n",
       "</g>\n",
       "<g clip-path=\"url(#clip9000)\">\n",
       "<text style=\"fill:#000000; fill-opacity:1; font-family:Arial,Helvetica Neue,Helvetica,sans-serif; font-size:12; text-anchor:middle;\" transform=\"rotate(0, 508.065, 389.669)\" x=\"508.065\" y=\"389.669\">FB</text>\n",
       "</g>\n",
       "<g clip-path=\"url(#clip9000)\">\n",
       "<text style=\"fill:#000000; fill-opacity:1; font-family:Arial,Helvetica Neue,Helvetica,sans-serif; font-size:12; text-anchor:middle;\" transform=\"rotate(0, 555.786, 389.669)\" x=\"555.786\" y=\"389.669\">GOOG</text>\n",
       "</g>\n",
       "<g clip-path=\"url(#clip9000)\">\n",
       "<text style=\"fill:#000000; fill-opacity:1; font-family:Arial,Helvetica Neue,Helvetica,sans-serif; font-size:12; text-anchor:end;\" transform=\"rotate(0, 49.5749, 380.369)\" x=\"49.5749\" y=\"380.369\">0%</text>\n",
       "</g>\n",
       "<g clip-path=\"url(#clip9000)\">\n",
       "<text style=\"fill:#000000; fill-opacity:1; font-family:Arial,Helvetica Neue,Helvetica,sans-serif; font-size:12; text-anchor:end;\" transform=\"rotate(0, 49.5749, 307.557)\" x=\"49.5749\" y=\"307.557\">5%</text>\n",
       "</g>\n",
       "<g clip-path=\"url(#clip9000)\">\n",
       "<text style=\"fill:#000000; fill-opacity:1; font-family:Arial,Helvetica Neue,Helvetica,sans-serif; font-size:12; text-anchor:end;\" transform=\"rotate(0, 49.5749, 234.746)\" x=\"49.5749\" y=\"234.746\">10%</text>\n",
       "</g>\n",
       "<g clip-path=\"url(#clip9000)\">\n",
       "<text style=\"fill:#000000; fill-opacity:1; font-family:Arial,Helvetica Neue,Helvetica,sans-serif; font-size:12; text-anchor:end;\" transform=\"rotate(0, 49.5749, 161.934)\" x=\"49.5749\" y=\"161.934\">15%</text>\n",
       "</g>\n",
       "<g clip-path=\"url(#clip9000)\">\n",
       "<text style=\"fill:#000000; fill-opacity:1; font-family:Arial,Helvetica Neue,Helvetica,sans-serif; font-size:12; text-anchor:end;\" transform=\"rotate(0, 49.5749, 89.1226)\" x=\"49.5749\" y=\"89.1226\">20%</text>\n",
       "</g>\n",
       "<g clip-path=\"url(#clip9000)\">\n",
       "<text style=\"fill:#000000; fill-opacity:1; font-family:Arial,Helvetica Neue,Helvetica,sans-serif; font-size:12; text-anchor:end;\" transform=\"rotate(0, 49.5749, 16.311)\" x=\"49.5749\" y=\"16.311\">25%</text>\n",
       "</g>\n",
       "<g clip-path=\"url(#clip9000)\">\n",
       "<text style=\"fill:#000000; fill-opacity:1; font-family:Arial,Helvetica Neue,Helvetica,sans-serif; font-size:16; text-anchor:middle;\" transform=\"rotate(-90, 14.4, 193.84)\" x=\"14.4\" y=\"193.84\">weights</text>\n",
       "</g>\n",
       "<polygon clip-path=\"url(#clip9002)\" points=\"\n",
       "61.0151,375.869 61.0151,375.869 99.1919,375.869 99.1919,375.869 61.0151,375.869 61.0151,375.869 \n",
       "  \" fill=\"#009af9\" fill-opacity=\"1\"/>\n",
       "<polyline clip-path=\"url(#clip9002)\" style=\"stroke:#000000; stroke-width:1; stroke-opacity:1; fill:none\" points=\"\n",
       "  61.0151,375.869 61.0151,375.869 99.1919,375.869 61.0151,375.869 \n",
       "  \"/>\n",
       "<polygon clip-path=\"url(#clip9002)\" points=\"\n",
       "108.736,11.8111 108.736,375.869 146.913,375.869 146.913,11.8111 108.736,11.8111 108.736,11.8111 \n",
       "  \" fill=\"#009af9\" fill-opacity=\"1\"/>\n",
       "<polyline clip-path=\"url(#clip9002)\" style=\"stroke:#000000; stroke-width:1; stroke-opacity:1; fill:none\" points=\"\n",
       "  108.736,11.8111 108.736,375.869 146.913,375.869 146.913,11.8111 108.736,11.8111 \n",
       "  \"/>\n",
       "<polygon clip-path=\"url(#clip9002)\" points=\"\n",
       "156.457,157.434 156.457,375.869 194.634,375.869 194.634,157.434 156.457,157.434 156.457,157.434 \n",
       "  \" fill=\"#009af9\" fill-opacity=\"1\"/>\n",
       "<polyline clip-path=\"url(#clip9002)\" style=\"stroke:#000000; stroke-width:1; stroke-opacity:1; fill:none\" points=\"\n",
       "  156.457,157.434 156.457,375.869 194.634,375.869 194.634,157.434 156.457,157.434 \n",
       "  \"/>\n",
       "<polygon clip-path=\"url(#clip9002)\" points=\"\n",
       "204.178,375.869 204.178,375.869 242.355,375.869 242.355,375.869 204.178,375.869 204.178,375.869 \n",
       "  \" fill=\"#009af9\" fill-opacity=\"1\"/>\n",
       "<polyline clip-path=\"url(#clip9002)\" style=\"stroke:#000000; stroke-width:1; stroke-opacity:1; fill:none\" points=\"\n",
       "  204.178,375.869 204.178,375.869 242.355,375.869 242.355,375.869 204.178,375.869 \n",
       "  \"/>\n",
       "<polygon clip-path=\"url(#clip9002)\" points=\"\n",
       "276.428,11.8114 276.428,375.869 314.604,375.869 314.604,11.8114 276.428,11.8114 276.428,11.8114 \n",
       "  \" fill=\"#e26f46\" fill-opacity=\"1\"/>\n",
       "<polyline clip-path=\"url(#clip9002)\" style=\"stroke:#000000; stroke-width:1; stroke-opacity:1; fill:none\" points=\"\n",
       "  276.428,11.8114 276.428,375.869 314.604,375.869 314.604,11.8114 276.428,11.8114 \n",
       "  \"/>\n",
       "<polygon clip-path=\"url(#clip9002)\" points=\"\n",
       "324.149,375.869 324.149,375.869 362.325,375.869 362.325,375.869 324.149,375.869 324.149,375.869 \n",
       "  \" fill=\"#e26f46\" fill-opacity=\"1\"/>\n",
       "<polyline clip-path=\"url(#clip9002)\" style=\"stroke:#000000; stroke-width:1; stroke-opacity:1; fill:none\" points=\"\n",
       "  324.149,375.869 324.149,375.869 362.325,375.869 362.325,375.869 324.149,375.869 \n",
       "  \"/>\n",
       "<polygon clip-path=\"url(#clip9002)\" points=\"\n",
       "393.535,230.245 393.535,375.869 431.712,375.869 431.712,230.245 393.535,230.245 393.535,230.245 \n",
       "  \" fill=\"#3da44d\" fill-opacity=\"1\"/>\n",
       "<polyline clip-path=\"url(#clip9002)\" style=\"stroke:#000000; stroke-width:1; stroke-opacity:1; fill:none\" points=\"\n",
       "  393.535,230.245 393.535,375.869 431.712,375.869 431.712,230.245 393.535,230.245 \n",
       "  \"/>\n",
       "<polygon clip-path=\"url(#clip9002)\" points=\"\n",
       "441.256,11.811 441.256,375.869 479.433,375.869 479.433,11.811 441.256,11.811 441.256,11.811 \n",
       "  \" fill=\"#3da44d\" fill-opacity=\"1\"/>\n",
       "<polyline clip-path=\"url(#clip9002)\" style=\"stroke:#000000; stroke-width:1; stroke-opacity:1; fill:none\" points=\"\n",
       "  441.256,11.811 441.256,375.869 479.433,375.869 479.433,11.811 441.256,11.811 \n",
       "  \"/>\n",
       "<polygon clip-path=\"url(#clip9002)\" points=\"\n",
       "488.977,375.869 488.977,375.869 527.154,375.869 527.154,375.869 488.977,375.869 488.977,375.869 \n",
       "  \" fill=\"#3da44d\" fill-opacity=\"1\"/>\n",
       "<polyline clip-path=\"url(#clip9002)\" style=\"stroke:#000000; stroke-width:1; stroke-opacity:1; fill:none\" points=\"\n",
       "  488.977,375.869 488.977,375.869 527.154,375.869 527.154,375.869 488.977,375.869 \n",
       "  \"/>\n",
       "<polygon clip-path=\"url(#clip9002)\" points=\"\n",
       "536.698,375.869 536.698,375.869 574.875,375.869 574.875,375.869 536.698,375.869 536.698,375.869 \n",
       "  \" fill=\"#3da44d\" fill-opacity=\"1\"/>\n",
       "<polyline clip-path=\"url(#clip9002)\" style=\"stroke:#000000; stroke-width:1; stroke-opacity:1; fill:none\" points=\"\n",
       "  536.698,375.869 536.698,375.869 574.875,375.869 574.875,375.869 536.698,375.869 \n",
       "  \"/>\n",
       "<polygon clip-path=\"url(#clip9000)\" points=\"\n",
       "476.226,93.171 562.315,93.171 562.315,32.691 476.226,32.691 \n",
       "  \" fill=\"#ffffff\" fill-opacity=\"1\"/>\n",
       "<polyline clip-path=\"url(#clip9000)\" style=\"stroke:#000000; stroke-width:1; stroke-opacity:1; fill:none\" points=\"\n",
       "  476.226,93.171 562.315,93.171 562.315,32.691 476.226,32.691 476.226,93.171 \n",
       "  \"/>\n",
       "<polygon clip-path=\"url(#clip9000)\" points=\"\n",
       "482.226,53.859 518.226,53.859 518.226,41.763 482.226,41.763 482.226,53.859 \n",
       "  \" fill=\"#009af9\" fill-opacity=\"1\"/>\n",
       "<polyline clip-path=\"url(#clip9000)\" style=\"stroke:#000000; stroke-width:1; stroke-opacity:1; fill:none\" points=\"\n",
       "  482.226,53.859 518.226,53.859 518.226,41.763 482.226,41.763 482.226,53.859 \n",
       "  \"/>\n",
       "<g clip-path=\"url(#clip9000)\">\n",
       "<text style=\"fill:#000000; fill-opacity:1; font-family:Arial,Helvetica Neue,Helvetica,sans-serif; font-size:12; text-anchor:start;\" transform=\"rotate(0, 524.226, 52.311)\" x=\"524.226\" y=\"52.311\">bank</text>\n",
       "</g>\n",
       "<polygon clip-path=\"url(#clip9000)\" points=\"\n",
       "482.226,68.979 518.226,68.979 518.226,56.883 482.226,56.883 482.226,68.979 \n",
       "  \" fill=\"#e26f46\" fill-opacity=\"1\"/>\n",
       "<polyline clip-path=\"url(#clip9000)\" style=\"stroke:#000000; stroke-width:1; stroke-opacity:1; fill:none\" points=\"\n",
       "  482.226,68.979 518.226,68.979 518.226,56.883 482.226,56.883 482.226,68.979 \n",
       "  \"/>\n",
       "<g clip-path=\"url(#clip9000)\">\n",
       "<text style=\"fill:#000000; fill-opacity:1; font-family:Arial,Helvetica Neue,Helvetica,sans-serif; font-size:12; text-anchor:start;\" transform=\"rotate(0, 524.226, 67.431)\" x=\"524.226\" y=\"67.431\">oil</text>\n",
       "</g>\n",
       "<polygon clip-path=\"url(#clip9000)\" points=\"\n",
       "482.226,84.099 518.226,84.099 518.226,72.003 482.226,72.003 482.226,84.099 \n",
       "  \" fill=\"#3da44d\" fill-opacity=\"1\"/>\n",
       "<polyline clip-path=\"url(#clip9000)\" style=\"stroke:#000000; stroke-width:1; stroke-opacity:1; fill:none\" points=\"\n",
       "  482.226,84.099 518.226,84.099 518.226,72.003 482.226,72.003 482.226,84.099 \n",
       "  \"/>\n",
       "<g clip-path=\"url(#clip9000)\">\n",
       "<text style=\"fill:#000000; fill-opacity:1; font-family:Arial,Helvetica Neue,Helvetica,sans-serif; font-size:12; text-anchor:start;\" transform=\"rotate(0, 524.226, 82.551)\" x=\"524.226\" y=\"82.551\">tech</text>\n",
       "</g>\n",
       "</svg>\n"
      ]
     },
     "execution_count": 191,
     "metadata": {},
     "output_type": "execute_result"
    }
   ],
   "source": [
    "for c in [\"tech\",\"bank\",\"oil\"]\n",
    "    @constraint(m, sum(weights[class .== c]) <= 0.4)\n",
    "end\n",
    "solve(m)\n",
    "println(\"Average return: $(percentage(getobjectivevalue(m)))\")\n",
    "plot(tickers, getvalue(weights); \n",
    "    linetype=:bar, group=class, yformatter=percentage, ylabel=\"weights\")"
   ]
  },
  {
   "cell_type": "markdown",
   "metadata": {
    "slideshow": {
     "slide_type": "slide"
    }
   },
   "source": [
    "# Interoperability\n",
    "\n",
    "Julia makes it easy to interact with other languages and tools."
   ]
  },
  {
   "cell_type": "markdown",
   "metadata": {
    "slideshow": {
     "slide_type": "subslide"
    }
   },
   "source": [
    "## C\n",
    "\n",
    "Julia has a simple built-in interface for calling C libary functions:"
   ]
  },
  {
   "cell_type": "code",
   "execution_count": 192,
   "metadata": {},
   "outputs": [
    {
     "data": {
      "text/plain": [
       "1000.0"
      ]
     },
     "execution_count": 192,
     "metadata": {},
     "output_type": "execute_result"
    }
   ],
   "source": [
    "ccall((\"pow\",\"libm\"),Cdouble,(Cdouble,Cdouble),10.0,3.0)"
   ]
  },
  {
   "cell_type": "markdown",
   "metadata": {},
   "source": [
    "Other low-level functions are similarly straightforward:\n",
    "* Julia structs match layout of C structs\n",
    " - can be passed directly\n",
    "* `cfunction` for making C-compatible function pointers to Julia methods\n",
    " - for implementing callbacks\n",
    "\n",
    "Combined with metaprogramming (for generating such statements) this makes it very easy to interface with existing libraries. "
   ]
  },
  {
   "cell_type": "markdown",
   "metadata": {
    "slideshow": {
     "slide_type": "subslide"
    }
   },
   "source": [
    "## PyCall.jl\n",
    "\n",
    "The **PyCall.jl** package allows calling Python from Julia."
   ]
  },
  {
   "cell_type": "code",
   "execution_count": 193,
   "metadata": {},
   "outputs": [],
   "source": [
    "using PyCall"
   ]
  },
  {
   "cell_type": "code",
   "execution_count": 194,
   "metadata": {},
   "outputs": [
    {
     "data": {
      "text/plain": [
       "4-element Array{Int64,1}:\n",
       " 3\n",
       " 4\n",
       " 5\n",
       " 6"
      ]
     },
     "execution_count": 194,
     "metadata": {},
     "output_type": "execute_result"
    }
   ],
   "source": [
    "py\"[i+3 for i in range(4)]\" "
   ]
  },
  {
   "cell_type": "markdown",
   "metadata": {
    "slideshow": {
     "slide_type": "subslide"
    }
   },
   "source": [
    "The `@pyimport` macro automatically loads the objects from a Python module into a Julia module:"
   ]
  },
  {
   "cell_type": "code",
   "execution_count": 195,
   "metadata": {
    "collapsed": true
   },
   "outputs": [],
   "source": [
    "@pyimport math"
   ]
  },
  {
   "cell_type": "code",
   "execution_count": 196,
   "metadata": {},
   "outputs": [
    {
     "data": {
      "text/plain": [
       "PyObject <built-in function sin>"
      ]
     },
     "execution_count": 196,
     "metadata": {},
     "output_type": "execute_result"
    }
   ],
   "source": [
    "math.sin"
   ]
  },
  {
   "cell_type": "code",
   "execution_count": 197,
   "metadata": {},
   "outputs": [
    {
     "data": {
      "text/plain": [
       "0.19866933079506122"
      ]
     },
     "execution_count": 197,
     "metadata": {},
     "output_type": "execute_result"
    }
   ],
   "source": [
    "math.sin(0.2)"
   ]
  },
  {
   "cell_type": "markdown",
   "metadata": {
    "slideshow": {
     "slide_type": "subslide"
    }
   },
   "source": [
    "As NumPy arrays use the same memory layout, they can be converted directly to the corresponding Julia array:"
   ]
  },
  {
   "cell_type": "code",
   "execution_count": 198,
   "metadata": {},
   "outputs": [
    {
     "data": {
      "text/plain": [
       "7-element Array{Float64,1}:\n",
       "  1.0\n",
       "  4.0\n",
       "  7.0\n",
       " 10.0\n",
       " 13.0\n",
       " 16.0\n",
       " 19.0"
      ]
     },
     "execution_count": 198,
     "metadata": {},
     "output_type": "execute_result"
    }
   ],
   "source": [
    "@pyimport numpy as np\n",
    "np.arange(1.0,20.0,3.0)"
   ]
  },
  {
   "cell_type": "markdown",
   "metadata": {
    "slideshow": {
     "slide_type": "subslide"
    }
   },
   "source": [
    "We can even pass Julia functions as arguments to Python functions:"
   ]
  },
  {
   "cell_type": "code",
   "execution_count": 199,
   "metadata": {},
   "outputs": [
    {
     "data": {
      "text/plain": [
       "0.7390851332151607"
      ]
     },
     "execution_count": 199,
     "metadata": {},
     "output_type": "execute_result"
    }
   ],
   "source": [
    "@pyimport scipy.optimize as so\n",
    "so.newton(x -> cos(x) - x, 1)"
   ]
  },
  {
   "cell_type": "markdown",
   "metadata": {
    "slideshow": {
     "slide_type": "subslide"
    }
   },
   "source": [
    "Similar packages for other languages, including\n",
    " - R: RCall.jl\n",
    " - Java: JavaCall.jl\n",
    " - C++: CxxWrap.jl and C++.jl"
   ]
  },
  {
   "cell_type": "markdown",
   "metadata": {
    "slideshow": {
     "slide_type": "slide"
    }
   },
   "source": [
    "# GPU computing\n",
    "\n",
    "```julia\n",
    "using CuArrays\n",
    "X = randn(1_000_000)\n",
    "cX = cu(X) # creates a CuArray on GPU\n",
    "```\n",
    "A `CuArray` acts like an ordinary Julia array, but is stored on the GPU. Can be used with ordinary Julia code.\n",
    "\n",
    "GPUs have much more limited functionality than CPUs\n",
    " - element-wise or reduction operations are fast\n",
    " - branches or arbitrary indexing will fall back on slower CPU routines\n",
    "   - overhead from copying memory between CPU and GPU\n",
    " \n",
    "Can also write "
   ]
  },
  {
   "cell_type": "markdown",
   "metadata": {
    "slideshow": {
     "slide_type": "subslide"
    }
   },
   "source": [
    "### Example: log-sum-exp function\n",
    "\n",
    "$$ \\log\\left( \\sum_{i=1}^n \\exp X_i \\right) $$\n",
    "\n",
    "avoiding intermediate overflow/underflow if $X_i$ too large/small."
   ]
  },
  {
   "cell_type": "code",
   "execution_count": 200,
   "metadata": {},
   "outputs": [
    {
     "data": {
      "text/plain": [
       "logsumexp (generic function with 1 method)"
      ]
     },
     "execution_count": 200,
     "metadata": {},
     "output_type": "execute_result"
    }
   ],
   "source": [
    "function logsumexp(X)\n",
    "    u = maximum(X)\n",
    "    u + log(sum(x -> exp(x-u), X))\n",
    "end"
   ]
  },
  {
   "cell_type": "markdown",
   "metadata": {},
   "source": [
    "Array of 1 million elements:\n",
    " - 0.03 seconds on CPU\n",
    " - 0.00035 seconds on GPU\n",
    " - 80x speedup"
   ]
  },
  {
   "cell_type": "markdown",
   "metadata": {
    "slideshow": {
     "slide_type": "slide"
    }
   },
   "source": [
    "# Machine Learning and AI\n",
    "\n",
    "Traditional languages struggle the with demands of modern ML: \n",
    " - Support hardware accelerators (GPUs, TPUs, Xeon Phi, etc.)\n",
    " - Parallelization (Multi-threading, Multi-GPU, Distributed)\n",
    " - Automatic Differentiation\n",
    " - Optimization (Placement, Memory Use, Low overhead) \n",
    " - Ease of programming (Math notation, Debuggers, Libraries)\n",
    " - Ease of deployment (Cloud, Phones, Embedded)"
   ]
  },
  {
   "cell_type": "markdown",
   "metadata": {
    "slideshow": {
     "slide_type": "subslide"
    }
   },
   "source": [
    "Lead to the rise of \"frameworks\" (TensorFlow, PyTorch, etc.), which themselves are becoming full programming languages (branching, loops, recursion)\n",
    " - cumbersome: accessible via another language (Python, C++)\n",
    " - require their own libraries for import, manipulation, data processing\n",
    " \n",
    "e.g. typical PyTorch code (https://github.com/pytorch/examples/blob/master/vae/main.py):\n",
    "```python\n",
    "std = torch.exp(0.5*logvar)\n",
    "eps = torch.randn_like(std)\n",
    "return eps.mul(std).add_(mu)\n",
    "```\n",
    "just to write\n",
    "$$ \\mu + \\exp(\\text{log}\\sigma / 2) z_i $$"
   ]
  },
  {
   "cell_type": "markdown",
   "metadata": {
    "slideshow": {
     "slide_type": "subslide"
    }
   },
   "source": [
    "# Flux: a pure-Julia ML framework\n",
    "\n",
    "<center><img src=\"flux.png\"></center>"
   ]
  },
  {
   "cell_type": "markdown",
   "metadata": {
    "slideshow": {
     "slide_type": "subslide"
    }
   },
   "source": [
    "\n",
    "```julia\n",
    "model = Chain(\n",
    "  Dense(768, 128),\n",
    "  LSTM(128, 256)\n",
    "  LSTM(256, 128)\n",
    "  Dense(128, 10),\n",
    "  softmax)\n",
    "\n",
    "loss(x, y) = crossentropy(model(x), y)\n",
    "\n",
    "Flux.train!(loss, data, ADAM(...))\n",
    "```\n",
    "\n",
    "- Concise, clear syntax\n",
    "  - It looks like the mathematics!\n",
    "- Leverages Julia AD and GPU tooling\n",
    "- Easily extensible,\n",
    "  - Layers can incorporate other Julia code: e.g. diffeq solvers, optimization"
   ]
  },
  {
   "cell_type": "markdown",
   "metadata": {},
   "source": [
    "# The future of Julia\n",
    "\n",
    "We are about to release version 1.0\n",
    " - language will be backwards compatible from this point forward\n",
    " \n",
    "Focusing on features that will make Julia easier to deploy:\n",
    " - Binary executables of Julia programs\n",
    " - JuliaRun: self-scaling Julia deployment platform\n",
    " \n",
    "JuliaCon 2018: London, 7th-11th August\n",
    " - [www.juliacon.org](www.juliacon.org)"
   ]
  }
 ],
 "metadata": {
  "celltoolbar": "Slideshow",
  "kernelspec": {
   "display_name": "Julia 0.6.2",
   "language": "julia",
   "name": "julia-0.6"
  },
  "language_info": {
   "file_extension": ".jl",
   "mimetype": "application/julia",
   "name": "julia",
   "version": "0.6.2"
  }
 },
 "nbformat": 4,
 "nbformat_minor": 2
}

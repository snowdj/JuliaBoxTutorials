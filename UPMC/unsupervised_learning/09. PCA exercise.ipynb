{
 "cells": [
  {
   "cell_type": "markdown",
   "metadata": {},
   "source": [
    "## PCA exercise\n",
    "\n",
    "In this notebook, you'll apply PCA to both a dataset of fruit images and a \"mystery\" dataset to see what you can learn about either.\n",
    "\n",
    "One of the takeaways of this exercise and those that follow is that, with real data, you often have to try multiple methods/techniques to understand your data!"
   ]
  },
  {
   "cell_type": "markdown",
   "metadata": {},
   "source": [
    "### Getting our datasets\n",
    "\n",
    "First, lets load in our datasets. You can start with the code provided here to load in your data in each of the exercise notebooks.\n",
    "\n",
    "For our fruit data, we will load pictures of apples and pictures of bananas with JuliaDB."
   ]
  },
  {
   "cell_type": "code",
   "execution_count": null,
   "metadata": {},
   "outputs": [],
   "source": [
    "using JuliaDB, MNIST "
   ]
  },
  {
   "cell_type": "code",
   "execution_count": null,
   "metadata": {},
   "outputs": [],
   "source": [
    "fruit_table = loadtable([\"../training/data/Apple_Golden_1.dat\",\"../training/data/bananas.dat\"]; delim = '\\t',\n",
    "              filenamecol=:apple => (x) -> x==\"../training/data/Apple_Golden_1.dat\" ? true : false)"
   ]
  },
  {
   "cell_type": "markdown",
   "metadata": {},
   "source": [
    "And now let's convert the columns of this `JuliaDB` table to a `Matrix`."
   ]
  },
  {
   "cell_type": "code",
   "execution_count": null,
   "metadata": {},
   "outputs": [],
   "source": [
    "matdata = hcat(columns(fruit_table)...)"
   ]
  },
  {
   "cell_type": "code",
   "execution_count": null,
   "metadata": {},
   "outputs": [],
   "source": [
    "rescale(A, dim::Integer=1) = (A .- mean(A, dim)) ./ max.(std(A, dim), eps())"
   ]
  },
  {
   "cell_type": "code",
   "execution_count": null,
   "metadata": {},
   "outputs": [],
   "source": [
    "fruit_data = rescale(matdata, 1)[:, 2:end]"
   ]
  },
  {
   "cell_type": "markdown",
   "metadata": {},
   "source": [
    "Use the first column of `fruit_table` to create an `Array` called `fruit_labels` that stores the string \"Apple\" for entries that are `true` and \"Banana\" for entries that are `false`.\n",
    "\n",
    "#### Solution:"
   ]
  },
  {
   "cell_type": "code",
   "execution_count": null,
   "metadata": {},
   "outputs": [],
   "source": []
  },
  {
   "cell_type": "code",
   "execution_count": null,
   "metadata": {},
   "outputs": [],
   "source": []
  },
  {
   "cell_type": "markdown",
   "metadata": {},
   "source": [
    "The variable `fruit_data` is bound to an array with columns for each of 5 values describing our fruit images, and `fruit_labels` is an array storing labels for the corresponding images, indicating whether that picture was of an apple or a banana. We will use these labels to visualize how ML techniques change and preserve our data.\n",
    "\n",
    "Our mystery dataset is pulled in as follows:"
   ]
  },
  {
   "cell_type": "code",
   "execution_count": null,
   "metadata": {},
   "outputs": [],
   "source": [
    "mystery_data, labels = traindata()"
   ]
  },
  {
   "cell_type": "code",
   "execution_count": null,
   "metadata": {},
   "outputs": [],
   "source": [
    "N = 2500\n",
    "mystery_data = rescale(convert(Matrix{Float64}, mystery_data[:, 1:N])',1)\n",
    "println(size(data))"
   ]
  },
  {
   "cell_type": "code",
   "execution_count": null,
   "metadata": {},
   "outputs": [],
   "source": [
    "mystery_labels = Int.(labels)[1:N];"
   ]
  },
  {
   "cell_type": "markdown",
   "metadata": {},
   "source": [
    "This dataset has 2500 observations of 784 dimensions each as the variable `mystery_data`. The variable `mystery_labels` are the true groupings in this dataset, and we will to see if we find those true groupings organically."
   ]
  },
  {
   "cell_type": "markdown",
   "metadata": {},
   "source": [
    "### Explore the dataset\n",
    "\n",
    "Before we apply PCA or any other techniques to our mystery data set, let's try to get a feel for what our data set looks like.\n",
    "\n",
    "We have five features in our data set. Can we use the raw data for these five features to distinguish apples from bananas?\n",
    "\n",
    "Plot each pairwise combination of features from the dataset to see if we can tell the difference between apples and bananas. (For example, plot height vs. width.)\n",
    "\n",
    "You may want to use the `group = fruit_labels` keyword argument to `scatter` from the `Plots` package to visualize apple vs. banana data points."
   ]
  },
  {
   "cell_type": "markdown",
   "metadata": {},
   "source": [
    "#### Solution:"
   ]
  },
  {
   "cell_type": "code",
   "execution_count": null,
   "metadata": {},
   "outputs": [],
   "source": []
  },
  {
   "cell_type": "code",
   "execution_count": null,
   "metadata": {},
   "outputs": [],
   "source": []
  },
  {
   "cell_type": "markdown",
   "metadata": {},
   "source": [
    "You should see that we should be able to use colors to distinguish apples and bananas, but let's use PCA to see if we can do any better!"
   ]
  },
  {
   "cell_type": "markdown",
   "metadata": {},
   "source": [
    "### Apply Principal Components Analysis\n",
    "\n",
    "Let's start by performing a Principle Components Analysis of our data. On our fruit data, use the function `fit` with the model `PCA` from the `MultivariateStats` pacakge to tell it to create a PCA model.\n",
    "\n",
    "How many output dimensions do you need to describe your dataset with 90% accuracy? 95% accuracy? 99%?\n",
    "\n",
    "#### Solution:"
   ]
  },
  {
   "cell_type": "code",
   "execution_count": null,
   "metadata": {},
   "outputs": [],
   "source": []
  },
  {
   "cell_type": "code",
   "execution_count": null,
   "metadata": {},
   "outputs": [],
   "source": []
  },
  {
   "cell_type": "markdown",
   "metadata": {},
   "source": [
    "Let's keep as many dimensions as we need for at least 99%  predictive of our real dataset. This way we can lose a dimension without losing much explainability!\n",
    "\n",
    "Transform `fruit_data` to `fruit_PCA` using the model you get from `fit`. Demonstrate that you're able to reconstruct `fruit_data` from `fruit_PCA`.\n",
    "\n",
    "#### Solution"
   ]
  },
  {
   "cell_type": "code",
   "execution_count": null,
   "metadata": {},
   "outputs": [],
   "source": []
  },
  {
   "cell_type": "code",
   "execution_count": null,
   "metadata": {},
   "outputs": [],
   "source": []
  },
  {
   "cell_type": "code",
   "execution_count": null,
   "metadata": {},
   "outputs": [],
   "source": []
  },
  {
   "cell_type": "markdown",
   "metadata": {},
   "source": [
    "Overlay a plot of fruit_data and fruit_labels, for a pair of features, to see if your data has changed much during transformation and reconstruction.\n",
    "\n",
    "For fun, see how this overlay changes as you decrease the number of output dimensions in your model.\n",
    "\n",
    "#### Solution"
   ]
  },
  {
   "cell_type": "code",
   "execution_count": null,
   "metadata": {},
   "outputs": [],
   "source": []
  },
  {
   "cell_type": "code",
   "execution_count": null,
   "metadata": {},
   "outputs": [],
   "source": []
  },
  {
   "cell_type": "code",
   "execution_count": null,
   "metadata": {},
   "outputs": [],
   "source": []
  },
  {
   "cell_type": "markdown",
   "metadata": {},
   "source": [
    "Now that we have dimensionally reduced data, let's plot the principle components. \n",
    "\n",
    "When we explored our untransformed dataset, we tried plotting each possible pairing of features to determine how we might distinguish apples form bananas. We shouldn't have to do this brute force search of features now that we've done PCA.\n",
    "\n",
    "Plot the principal component(s) most likely to show variation in the data.\n",
    "\n",
    "#### Solution"
   ]
  },
  {
   "cell_type": "code",
   "execution_count": null,
   "metadata": {},
   "outputs": [],
   "source": []
  },
  {
   "cell_type": "code",
   "execution_count": null,
   "metadata": {},
   "outputs": [],
   "source": []
  },
  {
   "cell_type": "code",
   "execution_count": null,
   "metadata": {},
   "outputs": [],
   "source": []
  },
  {
   "cell_type": "markdown",
   "metadata": {},
   "source": [
    "### What about our secret data?\n",
    "\n",
    "Let's now do the same analysis on our secret data.\n",
    "\n",
    "Try this without specifying the number of output dimensions. How many do you get?\n",
    "\n",
    "Then try with only two output dimensions? How high is your `principalratio`?\n",
    "\n",
    "Are you able to learn much from PCA on this dataset?\n",
    "\n",
    "#### Solution"
   ]
  },
  {
   "cell_type": "code",
   "execution_count": null,
   "metadata": {},
   "outputs": [],
   "source": []
  },
  {
   "cell_type": "code",
   "execution_count": null,
   "metadata": {},
   "outputs": [],
   "source": []
  },
  {
   "cell_type": "code",
   "execution_count": null,
   "metadata": {},
   "outputs": [],
   "source": []
  },
  {
   "cell_type": "code",
   "execution_count": null,
   "metadata": {},
   "outputs": [],
   "source": []
  },
  {
   "cell_type": "code",
   "execution_count": null,
   "metadata": {},
   "outputs": [],
   "source": []
  }
 ],
 "metadata": {
  "kernelspec": {
   "display_name": "Julia 0.6.2",
   "language": "julia",
   "name": "julia-0.6"
  },
  "language_info": {
   "file_extension": ".jl",
   "mimetype": "application/julia",
   "name": "julia",
   "version": "0.6.2"
  }
 },
 "nbformat": 4,
 "nbformat_minor": 2
}

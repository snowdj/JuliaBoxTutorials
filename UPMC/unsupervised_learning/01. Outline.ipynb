{
 "cells": [
  {
   "cell_type": "markdown",
   "metadata": {},
   "source": [
    "## Unsupervised learning\n",
    "\n",
    "Machine learning is the process by which a computer becomes capable of making predictions on the basis of previous instances or data. Machine learning can be *supervised* or *unsupervised*.\n",
    "\n",
    "The data fed to a *supervised* machine learning algorithm must be labeled. In this programmer, we as the programmer know what features are of interest in our data and how to evaluate similar data. We teach the computer to evaluate or label new data like us by giving it a training dataset already marked with the right answers.\n",
    "\n",
    "In *unsupervised* machine learning, we rely on algorithms to uncover features of interest in a dataset. So, we can use unsupervised learning as a way to explore a dataset.\n",
    "\n",
    "In this segment, we'll talk about a few unsupervised learning techniques, spanning\n",
    "\n",
    "* dimensionality reduction\n",
    "* clustering methods\n",
    "* nearest neighbor techniques\n",
    "\n",
    "For each segment, we'll show you how to apply the relevant methods to a dataset. We'll get started by exploring/manipulating this dataset (stored in \"houses.csv\") to get you a bit comfortable with `JuliaDB`."
   ]
  },
  {
   "cell_type": "code",
   "execution_count": null,
   "metadata": {
    "collapsed": true
   },
   "outputs": [],
   "source": []
  }
 ],
 "metadata": {
  "kernelspec": {
   "display_name": "Julia 0.6.0",
   "language": "julia",
   "name": "julia-0.6"
  },
  "language_info": {
   "file_extension": ".jl",
   "mimetype": "application/julia",
   "name": "julia",
   "version": "0.6.0"
  }
 },
 "nbformat": 4,
 "nbformat_minor": 2
}

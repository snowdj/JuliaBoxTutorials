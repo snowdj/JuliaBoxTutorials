{
 "cells": [
  {
   "cell_type": "markdown",
   "metadata": {},
   "source": [
    "# Nearest Neighbor with a KDTree\n",
    "\n",
    "For this example, load the `NearestNeighbors` package in addition to `JuliaDB` and `Plots`."
   ]
  },
  {
   "cell_type": "code",
   "execution_count": null,
   "metadata": {
    "collapsed": true
   },
   "outputs": [],
   "source": [
    "using JuliaDB\n",
    "using Plots; gr()\n",
    "using NearestNeighbors"
   ]
  },
  {
   "cell_type": "markdown",
   "metadata": {},
   "source": [
    "As before, let's load in our housing data, grab information about house locations, and then store this information as an `Array` with a column for every data point."
   ]
  },
  {
   "cell_type": "code",
   "execution_count": null,
   "metadata": {},
   "outputs": [],
   "source": [
    "houses = loadtable(\"houses.csv\")\n",
    "locations = select(houses, (:latitude, :longitude))\n",
    "locations = hcat(columns(locations)...)'"
   ]
  },
  {
   "cell_type": "markdown",
   "metadata": {},
   "source": [
    "With the `NearestNeighbors` package, we'll look for the `knearest` neighbors of one of the houses, `point`.\n",
    "\n",
    "We'll choose `knearest` to be `10` and then randomly select one of our data points (one of the columns of `locations`) to be the point of interest."
   ]
  },
  {
   "cell_type": "code",
   "execution_count": null,
   "metadata": {},
   "outputs": [],
   "source": [
    "knearest = 10\n",
    "id = rand(1:size(locations, 2))\n",
    "point = locations[:,id]\n",
    "println(\"We'll find the $knearest nearest neighbors of `point`,  # $id\")"
   ]
  },
  {
   "cell_type": "markdown",
   "metadata": {},
   "source": [
    "Now we can build a `KDTree` and use `knn` to look for `point`'s nearest neighbors!"
   ]
  },
  {
   "cell_type": "code",
   "execution_count": null,
   "metadata": {},
   "outputs": [],
   "source": [
    "kdtree = KDTree(locations)\n",
    "idxs, dists = knn(kdtree, point, knearest, true)"
   ]
  },
  {
   "cell_type": "markdown",
   "metadata": {},
   "source": [
    "We'll first generate a plot with all of the houses in the same color, except for our point of interest in a separate color."
   ]
  },
  {
   "cell_type": "code",
   "execution_count": null,
   "metadata": {},
   "outputs": [],
   "source": [
    "x = select(houses, :latitude);\n",
    "y = select(houses, :longitude);\n",
    "scatter(x,y)\n",
    "scatter!([point[1]], [point[2]])"
   ]
  },
  {
   "cell_type": "markdown",
   "metadata": {},
   "source": [
    "and then overlay the data corresponding to the nearest neighbors of `point` in a different color."
   ]
  },
  {
   "cell_type": "code",
   "execution_count": null,
   "metadata": {},
   "outputs": [],
   "source": [
    "x = select(houses, :latitude)[idxs, :]\n",
    "y = select(houses, :longitude)[idxs, :]\n",
    "scatter!(x,y, palette=:heat)\n",
    "xlabel!(\"Latitudes\")\n",
    "ylabel!(\"Longitudes\")\n",
    "title!(\"Map of houses in dataset with differently colored neighbors for # $id\")"
   ]
  },
  {
   "cell_type": "markdown",
   "metadata": {},
   "source": [
    "There are those nearest neighbors in red!\n",
    "\n",
    "We can see the cities of the neighboring houses by using the indices, `idxs`, and the feature, `:city`, to index into the `Array` `houses`."
   ]
  },
  {
   "cell_type": "code",
   "execution_count": null,
   "metadata": {},
   "outputs": [],
   "source": [
    "cities = select(houses, :city)[idxs]"
   ]
  },
  {
   "cell_type": "code",
   "execution_count": null,
   "metadata": {
    "collapsed": true
   },
   "outputs": [],
   "source": []
  }
 ],
 "metadata": {
  "kernelspec": {
   "display_name": "Julia 0.6.0",
   "language": "julia",
   "name": "julia-0.6"
  },
  "language_info": {
   "file_extension": ".jl",
   "mimetype": "application/julia",
   "name": "julia",
   "version": "0.6.0"
  }
 },
 "nbformat": 4,
 "nbformat_minor": 2
}

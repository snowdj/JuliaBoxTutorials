{
 "cells": [
  {
   "cell_type": "markdown",
   "metadata": {},
   "source": [
    "# Dimensionality reduction for image classification\n",
    "\n",
    "#### Goal\n",
    "\n",
    "In some of the previous notebooks, we showed how dimensionality reduction allows us to visualize our data. Principal Components Analysis, or PCA, gives us a way to rotate the axes and write our data using much fewer dimensions. \n",
    "\n",
    "In our last notebook on PCA, we tried to apply PCA in a naive way to the MNIST dataset, but in this notebook we'll do something more clever!\n",
    "\n",
    "We will investigate in this notebook how PCA can be used for image classification.\n",
    "\n",
    "#### Strategy\n",
    "\n",
    "Recall that the basic idea of PCA was to find the axis rotations that goes through our data, as demonstrated by this figure:\n",
    "\n",
    "![PCA](https://newonlinecourses.science.psu.edu/stat857/sites/onlinecourses.science.psu.edu.stat857/files/lesson05/PCA_plot/index.gif)\n",
    "\n",
    "Now let's take that one step further. If we perform a PCA on the subset of the data that corresponds to images of the digit `1`, then the axis that is found will do well at reproducing data from pictures of 1's, but not other digits. \n",
    "\n",
    "Therefore, we should be able to do the following:\n",
    "\n",
    "* perform PCA/find the principal components for the subset of the data pertaining to each image class (the subset of data associated with each unique label)\n",
    "* transform and reconstruct new, unlabeled images, with each of the sets of principal components/each of the PCA output models trained on each image class\n",
    "* classify each new image by identifying the PCA model that does the best job of reconstructing the original image from a transformation."
   ]
  },
  {
   "cell_type": "markdown",
   "metadata": {},
   "source": [
    "## Data Setup\n",
    "\n",
    "First let's pull in the MNIST data."
   ]
  },
  {
   "cell_type": "code",
   "execution_count": 2,
   "metadata": {},
   "outputs": [
    {
     "name": "stderr",
     "output_type": "stream",
     "text": [
      "\u001b[1m\u001b[36mINFO: \u001b[39m\u001b[22m\u001b[36mDownloading MNIST dataset\n",
      "\u001b[39m  % Total    % Received % Xferd  Average Speed   Time    Time     Time  Current\n",
      "                                 Dload  Upload   Total   Spent    Left  Speed\n",
      "100   469  100   469    0     0   1439      0 --:--:-- --:--:-- --:--:--  1443\n",
      "100 9680k  100 9680k    0     0  12.3M      0 --:--:-- --:--:-- --:--:-- 12.3M\n",
      "\u001b[1m\u001b[36mINFO: \u001b[39m\u001b[22m\u001b[36mDownloading MNIST dataset\n",
      "\u001b[39m  % Total    % Received % Xferd  Average Speed   Time    Time     Time  Current\n",
      "                                 Dload  Upload   Total   Spent    Left  Speed\n",
      "100   469  100   469    0     0   2087      0 --:--:-- --:--:-- --:--:--  2093\n",
      "100 28881  100 28881    0     0  70928      0 --:--:-- --:--:-- --:--:-- 70928\n",
      "\u001b[1m\u001b[36mINFO: \u001b[39m\u001b[22m\u001b[36mDownloading MNIST dataset\n",
      "\u001b[39m  % Total    % Received % Xferd  Average Speed   Time    Time     Time  Current\n",
      "                                 Dload  Upload   Total   Spent    Left  Speed\n",
      "100   467  100   467    0     0   2129      0 --:--:-- --:--:-- --:--:--  2122\n",
      "100 1610k  100 1610k    0     0  2832k      0 --:--:-- --:--:-- --:--:-- 2832k\n",
      "\u001b[1m\u001b[36mINFO: \u001b[39m\u001b[22m\u001b[36mDownloading MNIST dataset\n",
      "\u001b[39m  % Total    % Received % Xferd  Average Speed   Time    Time     Time  Current\n",
      "                                 Dload  Upload   Total   Spent    Left  Speed\n",
      "100   467  100   467    0     0   2817      0 --:--:-- --:--:-- --:--:--  2813\n",
      "100  4542  100  4542    0     0  13128      0 --:--:-- --:--:-- --:--:-- 13128\n"
     ]
    }
   ],
   "source": [
    "using Flux, Flux.Data.MNIST, Images\n",
    "\n",
    "imgs = MNIST.images()\n",
    "labels = MNIST.labels();"
   ]
  },
  {
   "cell_type": "markdown",
   "metadata": {},
   "source": [
    "Here's what the first 24 images look like:"
   ]
  },
  {
   "cell_type": "code",
   "execution_count": 3,
   "metadata": {},
   "outputs": [
    {
     "data": {
      "text/html": [
       "<table><tbody><tr><td style='text-align:center;vertical-align:middle; margin: 0.5em;border:1px #90999f solid;border-collapse:collapse'><img style='max-width: 100px; max-height:100px;display:inline' src=\"data:image/png;base64,iVBORw0KGgoAAAANSUhEUgAAAHAAAABwCAAAAADji6uXAAAABGdBTUEAALGPC/xhBQAAAAJiS0dEAP+Hj8y/AAAAB3RJTUUH4gcFDykhEdX0gwAAAYxJREFUaN7t2r8rRWEcx/GLSUqy+FUWyiDKxCiDURgV/wCTxUaJKKsMMpgMKBtFWZQyyMIkA2UVUvLjxvtTnrrdTunqua6Tz2u5t26dd8/wnB/fczMZMzMzs3+oArU5prGIHTRiAx94xgwcLH2wGa0Ywyo2kU1wjW3o+yOO0AsHSxvswh2y33jDKIa/9KANBa/OwehBbexLJEWOsQtt8AcUfHAHfyUog1jDOELsFFXQ7+3QCcHBvxuUapRBB1ZwBFEDDhY9GCxBwUOUw8H0BbXZFVO0Hw6mLygt0AVXN77rmIBOCg6mJyhDuEe4IE+hAQ6mJygd2EeIrqAJDqYnKDXQg+g7FD2Ag+kKBi9QUJ8/mj45WJJgJ2axh7D5z1C0G2QHo9HQbhm3yB0UvUKDougrczBaqB6TuEL+oO8EA4i6MgejBevQhwskDWl1Uxx1szsYLagB+xaShux6kaXBbSWirczBaMFu6MXjDfJDT5hHGLBH4WD0oP4EkBs5xwLmoIeXaCEHixY0M7OCfQI3irirkfzU5gAAAABJRU5ErkJg\"></td><td style='text-align:center;vertical-align:middle; margin: 0.5em;border:1px #90999f solid;border-collapse:collapse'><img style='max-width: 100px; max-height:100px;display:inline' src=\"data:image/png;base64,iVBORw0KGgoAAAANSUhEUgAAAHAAAABwCAAAAADji6uXAAAABGdBTUEAALGPC/xhBQAAAAJiS0dEAP+Hj8y/AAAAB3RJTUUH4gcFDykhEdX0gwAAALtJREFUaN7t2bHNAQAQR3GRSJSKr9DpRKlVfSNIWENjEioDqNR2MIDGCFoU6PBuCOIf77fAqy53yTUakiRJP6iFf+xgMDP4hweO6MJgbrAMYTA3+ITB7GAZwWB2cAaDecEOTqjgAgbzgmULgwYNfkdwDYPZwTMMZgbnMJgdnKKCV/RgMC84RgVv6MNgXrAcUNEVDGYGl7igDYO5wVrATRjMDdbgT2AwM1gPyzsGMJgZ3GCPjxzCBiVJ7/UCjcCnv5d7AwAAAAAASUVORK5C\"></td><td style='text-align:center;vertical-align:middle; margin: 0.5em;border:1px #90999f solid;border-collapse:collapse'><img style='max-width: 100px; max-height:100px;display:inline' src=\"data:image/png;base64,iVBORw0KGgoAAAANSUhEUgAAAHAAAABwCAAAAADji6uXAAAABGdBTUEAALGPC/xhBQAAAAJiS0dEAP+Hj8y/AAAAB3RJTUUH4gcFDykhEdX0gwAAAYpJREFUaN7t2L8rhVEcx/E7kB+JklFJBiZFBoNBScmi7Eomf4QQgwwWoyKDMliIxWoxEMrvkptSDJRfJb8u7289p55uV3LvfXKefF7jOafn3a3vfW73JBIiIiIi/0wfFrCP18AGKqCg38EqLOMDt1gLPCKFIyjod3AbN5hAJdx6Ax7wjmEo6GewEzYsi8i0PwYbnCQU9DPYjVP0INN+Iyx4hXIo6F+wGKX4br8eqcAgFPQv+JNCHMCCU1AwfkGzCwXjGyzCMSw4CgXjFwy/vFvh1u0PUAeGYGcU9C9ow1KHAbjgHmZhL4IL2No95qHg3wVLUINeTGIr4H50w96QDIygBbX41SdRMG9BC1nALn3SH3yHS9jlnlubQTOyG0EFowiuwx70jFVMw17GbaiGnTmBnTlDGbKOKRhJ8BPnaEL6XgFsoJ5wjZyGRcHIgjYMO7CHh9ftksGGyA1UO3KOKRhJ0H2p57ACu4jtxyHsUn0TmQZKQX+CZhw2GC8hS+hCXkMKRhYUERERiYkvp9sEC/elM3oAAAAASUVORK5C\"></td></tr><tr><td style='text-align:center;vertical-align:middle; margin: 0.5em;border:1px #90999f solid;border-collapse:collapse'><img style='max-width: 100px; max-height:100px;display:inline' src=\"data:image/png;base64,iVBORw0KGgoAAAANSUhEUgAAAHAAAABwCAAAAADji6uXAAAABGdBTUEAALGPC/xhBQAAAAJiS0dEAP+Hj8y/AAAAB3RJTUUH4gcFDykhEdX0gwAAAatJREFUaN7t2L0rRWEAx/E7UbLJoBhZiRKljAbKgtmfINs1icFkILsisVjYFAtRJpsReSmDl1JKufH9ladOct1z3Xs65+b3We7t9JzzvcM5z3Puk8uZmZlZRXqwigL02Q0HayfYhUe8RzzAwdoI9uIaulkUesI99L0fdXAwm8EGDOASungInmIM4dgMHMxmcB3RBz0EZRL70LFNOJi9oBZbTdaFLweYhr7foBOj+MAWHMxW8Ptiu4tGDCOPZoSx+gEvqOiFysGqBjuwAV1Ii+wZNFEXGx8mA53jYPrBeuxAF3jGEJrQilLBQziYflAvteFhH0SccxzMVvAYYbGNe44WYJ1zBAfTDY7gFboBphD3vHDTrMDBdIPj0Il3aEGp8ZroF6DgHvSS5WA2gheIE5uHxl9BC3VZMQcTDS7ht3H6o6OXXo3dRtkhBxMLTkAPsW6CYmO0qRA2Gtbw55iDiQTDTfOGZejmaIOO6w+OfohCmhi0mdcHB7MZDG5xjugxvezOoaKQg4kFtXFwgp821LVBVGpSdzD9oOgFeBbR4CLaUfWYg4kEzczM/olPb9eX2t8FSoIAAAAASUVORK5C\"></td><td style='text-align:center;vertical-align:middle; margin: 0.5em;border:1px #90999f solid;border-collapse:collapse'><img style='max-width: 100px; max-height:100px;display:inline' src=\"data:image/png;base64,iVBORw0KGgoAAAANSUhEUgAAAHAAAABwCAAAAADji6uXAAAABGdBTUEAALGPC/xhBQAAAAJiS0dEAP+Hj8y/AAAAB3RJTUUH4gcFDykhEdX0gwAAAYpJREFUaN7t2D8rRWEAx/E7kEFRyqDIYLslXoBIeQMMpAyyGC0WNllsFotFsngNEhkoFpPBnywMDEpZhCu+v7qnTifTvc9Tz9Hvs5x7z3M733Pq3HOecyoVMzMzi+YIx3CwnMFNvGMbDpYvuAHF3jANB8sXPEENh4gec7AhozhAF4pjs3jBDYbgYJrBa3xjBMWxK/xgEkFiDkYJXkJ/7Ank1w9DF2ztjE4eB9MMruMLOjm6ka1vxz60I2dohYPpBfvwDE2QxpAf04RXsQcEOTIHgwcHcQdtVA8q+bFlfEBji3AwrWAL5qELsm6sWp5jFW3owQU+sYOmj8zB4ME51OoU0wQ3+67wI/T5CU3HHAwenIFutrpYa4Pj0ERJL+3yO6Glfqf4ABxMJ6iXq/dYQH59FafIB2UPDcccjBJcgiZOxfV6qfAKRfTyrlrXAQfTCv6lE1vQyXKL4AEHowdXkN1we+FguYL90MVcN9s1RD86B4PTH10nzC6ixxyMQg+hCk7BwXIGzczM/rFfdhhZTNymX2MAAAAASUVORK5C\"></td><td style='text-align:center;vertical-align:middle; margin: 0.5em;border:1px #90999f solid;border-collapse:collapse'><img style='max-width: 100px; max-height:100px;display:inline' src=\"data:image/png;base64,iVBORw0KGgoAAAANSUhEUgAAAHAAAABwCAAAAADji6uXAAAABGdBTUEAALGPC/xhBQAAAAJiS0dEAP+Hj8y/AAAAB3RJTUUH4gcFDykhEdX0gwAAAZpJREFUaN7t2L0rRWEAx/FbEpJBMlBkkE1sVn8AZbGRXYhFSYlikPwBXlJGDIpJCaOyKoPBwkDK4GW7l++v7qnDpO7z6FG/z3LvfU6db7eec85znkLBzMzMzL6pxxUe0AEH0w+2oqesHWMo4QYNcDC9YDc2cVJ2h2LZCg7xiVM0wcH0glMo5nxgF/fIxjRpRlBxzMHgwUW8QyfdwSqaoWO9eISO6bMWDqYXXIMmhC72FmTjndiHjr1hHBXHHIwS7MM1NDF0sWvBpAfwETT2jBkEiTkYJViDLejkulkPIf8AnkSwmINRgrKO/ANYF7s+tbBqg4PpB38uohQ8RheCxxwMHqvCAUo5ikX5Zw5GoVjxBz18HUw/qIXSPLIbtTbvtqHvl3Aw/eAoshv1HLRpl43pxdTBtIP9eIFOPgBtFmjz/BYaW4CDaQe16arJcg79rsYEnqDxYBsIDkYLLkOT4wyKDSPbQNALTNCYg1GCG1BgDxfIFk+DCB5zMEpwGvmXT02WJdTBwf8RbMQsXqEbeNANWAf/JGhmZr/yBfjwnntEy7VqAAAAAElFTkSuQmCC\"></td></tr><tr><td style='text-align:center;vertical-align:middle; margin: 0.5em;border:1px #90999f solid;border-collapse:collapse'><img style='max-width: 100px; max-height:100px;display:inline' src=\"data:image/png;base64,iVBORw0KGgoAAAANSUhEUgAAAHAAAABwCAAAAADji6uXAAAABGdBTUEAALGPC/xhBQAAAAJiS0dEAP+Hj8y/AAAAB3RJTUUH4gcFDykhEdX0gwAAAUVJREFUaN7t2S1LBFEYhuFFsIrNoGZNKzYtFn+BQYsgssFfsKBF+yZNgknQZPQD/AdWwWQQ66ogKCKI+LH30xZW4XjY8eXAc7Wd2XfvE84wM2ytZmZmZmY95nGHCTgYE5zDAnKDGziDg3HBLRwiJzaAPVxhEg7GBG+QGxzFFw6QPORg34O3yA2eQ8FNOBgTrOMVucELKDgDB2OCunlqICc4gjY0Pw4HY4L70IDCfw1qkZq9xjAcjA3qhSTl+0NYwgneoNllJK/SwcqCi+g+PoVpNLGDXTzjBQ84hT5/IPkB2MFKgvqhTzzisouOaSHveIJutNvQBhnDIO6h88kxBysJyjqOf9DAbw9Ha9CC9CLkYHwwxxEUbMHBsoOzcNBBB+OC31iBg+UGtWlW4WDZQf1J4mC5QV34DpYb1AX/r5vGQTMz668O1qS/bXAGxQwAAAAASUVORK5C\"></td><td style='text-align:center;vertical-align:middle; margin: 0.5em;border:1px #90999f solid;border-collapse:collapse'><img style='max-width: 100px; max-height:100px;display:inline' src=\"data:image/png;base64,iVBORw0KGgoAAAANSUhEUgAAAHAAAABwCAAAAADji6uXAAAABGdBTUEAALGPC/xhBQAAAAJiS0dEAP+Hj8y/AAAAB3RJTUUH4gcFDykhEdX0gwAAAU9JREFUaN7t2L8rx0Ecx/GvBWVjoZSSASOTSRmUUVmQGYsMfGerX4u/AYtJ+ResRGFQMhrkV6KUT57v+lxduu/wzX3qLq/HeFf3nO5HV6uJiIhIU4ZRxy0OUS+1QsH0g4t4QxEwAQXTD3biAaHgEyahYNpBs4R3WOQefnQXCqYfNOewwCX8YD8UzCM4gzP83vxDUDCPoOnGBfzgERTMIziPTXzDD65CwbSDg7jGF0IPqeiHt4LRg9P4RNHAHhRMO2hW8IFQsJLDW8HoQTOF2dICXqBgXkFfCzZgQfvw64OCeQXb4Da+Xc69UDCv4BZccA2VxhRsWheOMYfQfA/cwR3lIaxg9OA+bKEbjGMANj4Ku3z9z6FttEPBtIJjOIVb9A4neIUbs4+FK3TgTzEFKwmaHSyjaOARUUIKVhY09lBaLx3AxZ4xAgXTD4qIiPwDP5Wo+JudipyJAAAAAElFTkSuQmCC\"></td><td style='text-align:center;vertical-align:middle; margin: 0.5em;border:1px #90999f solid;border-collapse:collapse'><img style='max-width: 100px; max-height:100px;display:inline' src=\"data:image/png;base64,iVBORw0KGgoAAAANSUhEUgAAAHAAAABwCAAAAADji6uXAAAABGdBTUEAALGPC/xhBQAAAAJiS0dEAP+Hj8y/AAAAB3RJTUUH4gcFDykhEdX0gwAAAVZJREFUaN7t2L8rRlEcx/En5UeKEouYlPJjYpJSikHpKYMyssrfYLEaDAYG/4A/QIxksVIGg0wyKRGKHrw/Rd3Bj+Wcx/fW5zU953bq3alzz33urVTMzOzf9WEXLxiAg+UKjuMel9hABxwsT3AWz1CoFVlX5mBy/XjEARqQfXUOJtWCQ5ygHdlX52By69AN34vsMQeTa8YN9lGX1TmY3CoeMAoHyxk8hh66dYk5mNwEXjGI4vVJDMPB+MFtnEEHuMZLuMUb9EBegYOxg/rwMw/9bsIVNG7DAp4wAwdjBnVja3PMQeMxbKE4ZxNHcDBmcAoKfh3c2iidKM4ZQg0Oxg4q9NMcfWBwMG5wGu/4LVjFHRyMGfxr0zRiDzrAHYwZ7MY1lvFdbAfn6IKDMYOilxX92VVUB/UIFnGBU/QgWczBLMFitPZJh/Ua9HKTPOZglqCZmZlZUB++olF+p+WUoQAAAABJRU5ErkJg\"></td></tr><tr><td style='text-align:center;vertical-align:middle; margin: 0.5em;border:1px #90999f solid;border-collapse:collapse'><img style='max-width: 100px; max-height:100px;display:inline' src=\"data:image/png;base64,iVBORw0KGgoAAAANSUhEUgAAAHAAAABwCAAAAADji6uXAAAABGdBTUEAALGPC/xhBQAAAAJiS0dEAP+Hj8y/AAAAB3RJTUUH4gcFDykhEdX0gwAAARFJREFUaN7t2SFKRUEUgOEXDYJF0KbN6gJERVyA1SJGFyG6AbvB4AZcgOUFwWqyajOpwSAYLhf9D7yRV8QyJxz4vw38HJh7Z+7cyUSSJEm/TjHiGzswWCt4jE8MiOg2DNYKnmOYMVgvuI93ROwRa1iAwRrBLbygLZgjpE1mMMUVxpkpUmMGu1tGhGKxvGEPBusE1/GAFjxD6nQGuztBOzDdYgkG6wQP8IEI3mEFqdMZ7Coe+HHONVKnM9jdJYY5GzBYJ7iJZ7TYDVKnM9jdK1rsHoswWCvYDr3hEKkxg93FRhs/QNrGGxd4BusE46UdF3gR+sIFUm98DXa3i/bx+YS0kEGDBv+0irg8MFg3KEn61w99Ni8tJcZfTQAAAABJRU5ErkJg\"></td><td style='text-align:center;vertical-align:middle; margin: 0.5em;border:1px #90999f solid;border-collapse:collapse'><img style='max-width: 100px; max-height:100px;display:inline' src=\"data:image/png;base64,iVBORw0KGgoAAAANSUhEUgAAAHAAAABwCAAAAADji6uXAAAABGdBTUEAALGPC/xhBQAAAAJiS0dEAP+Hj8y/AAAAB3RJTUUH4gcFDykhEdX0gwAAARlJREFUaN7t2KFLQ0EcwPHBQGSIQS0WjWq1CMtaNVhNy0bLmsIwb8UgwtLYP2DxTxAxi0XBIlNBDEan3x9s8OLCHZzw/ZT3uPLlwb17965WkyRJkqQCrWMTZ3ib6MNg+cFdXOATY/xUPMBgucEr3GJc8YWItzCPpE9mMFlwGZeIwAfucIgNrCHpUxnMEuwiXuoeFpA8YDBLpIH4sD5hHwdIvpIYzBo8R0yUIbKGDGbzi1isY8JkjxnMIjZLMWlesAeD/yO4gznE/RJOEdHY7G7BYLnBVdzjHUeYjq9g+qPZhMFyg6/4xjGq4x1E7AaLMFhusI0IVg8LHhHXZ2wjWcxglmA4wQCjiThsvUYcHNRhsPygJEmSJM3oDy6kes4YdrD2AAAAAElFTkSuQmCC\"></td><td style='text-align:center;vertical-align:middle; margin: 0.5em;border:1px #90999f solid;border-collapse:collapse'><img style='max-width: 100px; max-height:100px;display:inline' src=\"data:image/png;base64,iVBORw0KGgoAAAANSUhEUgAAAHAAAABwCAAAAADji6uXAAAABGdBTUEAALGPC/xhBQAAAAJiS0dEAP+Hj8y/AAAAB3RJTUUH4gcFDykhEdX0gwAAAUJJREFUaN7t2LErhHEcx/GbDpOS7QwWCl22i91iIunKXyBWm+1mq4GJQcmsTO4mwiyZhVK6hWzE+1Oe0mX8ffP88nmNz/C8+9Vz3+f7XKViZmZmZmb2R4awhnt8fNuEg3kEZ3EBRd577MHBcgeHcQ3d/Ak7mMchdO0WVThY3uA5dOMT/Lw+hme8YhoOljd4CgVX8VvwETU4WN5gGxraTfRjClvoQAOhjmQxB0OCGth6aC5xheLFu4ykIQfDgjd4gyLFEvWCSTiYR1BmoIekCO4jLOZgGA3pIjgOB/MLruATijqYZ3ARimmpGoWDeQUncAwtVGHLk4NhBnEHDe0NhJ/OweR2odgBwmMOJjcHfcjoD7wFOJhXUC/ZLhRcQvjpHExqANvQD/4I4adzMLl1aOk9Qx8czCvYwANaGEH46Ry0/+kLKZJU3RxnO4oAAAAASUVORK5C\"></td></tr><tr><td style='text-align:center;vertical-align:middle; margin: 0.5em;border:1px #90999f solid;border-collapse:collapse'><img style='max-width: 100px; max-height:100px;display:inline' src=\"data:image/png;base64,iVBORw0KGgoAAAANSUhEUgAAAHAAAABwCAAAAADji6uXAAAABGdBTUEAALGPC/xhBQAAAAJiS0dEAP+Hj8y/AAAAB3RJTUUH4gcFDykhEdX0gwAAAWhJREFUaN7t2bErBnEcx/FnoIhkIZPJpMxYlMmE0WIwK4NSNqVMFoU/ApMJC1kMVovYMFAmSgYn3p96vnWL6Z7n3O/6vKbnud/1ez9Xv+6eu2s0zMzMzMzM/sE49nGD76ZVLEDbNe5gdYOa9AUZFDqHwlmTth3AweoFOzCJd2jiC0yjE704QQTX4GD1gkuIhXGKPsTYImLsAQNwsFrBLWgxaMJd5GNyiwjOo/DROdjS4AYU+8QxuhFjXZjDB7TPJgofnYMtDfYjLraK5cdGcI1YLIfogYPVCg4iJhyGvq/jCm+Ik8EXZlEo5mBbglo0z4g/R1nOI56gz9qncMzBtgRFN5evUPAO2xjFEC6h4A4crG7wL1P4gX7IChxMLziDOBm05G7JwdKD4mDawfqv0voHl+Fg2sExxAXYwTSDcg8tmgk4mGYwHrzrhZducBxML6iH7WdQ9AiFH+45WHowontQtLSF46DVzy+EgqssLrxZiAAAAABJRU5ErkJg\"></td><td style='text-align:center;vertical-align:middle; margin: 0.5em;border:1px #90999f solid;border-collapse:collapse'><img style='max-width: 100px; max-height:100px;display:inline' src=\"data:image/png;base64,iVBORw0KGgoAAAANSUhEUgAAAHAAAABwCAAAAADji6uXAAAABGdBTUEAALGPC/xhBQAAAAJiS0dEAP+Hj8y/AAAAB3RJTUUH4gcFDykhEdX0gwAAAZZJREFUaN7t2c0rBHEcx3F5VuTm4aK0Z4U8lJLihLvEUfIPyEHh4EQ4it1ylH+Ak6ecpBw4Ozhz4uDZ8v7W/GqaTNtus82sPq/Lbs1v5z1T08zs71dWJiIiIvLP1GMG09hCBi84QiZgFT1QMFnBdWTz8IVbLKIdCsYfvIN/h484CdiGfV7DP3YcCsYfTGEMKU8rwsY24B4uuAsF4w/mYwou9opeKFgawWrswB7MLtiFop2ZgpEaxh5c6B1zqIWCyQ/24RP+h+4b7GZfBQWTH9xA2AvxFZbQAQWTGxzAIR4QFrY/N3ZgTVAweUGnDd0YhU0ufCMYPkM5FExmMMgmkS4RjC5AwdIImkqcwx9MQ8HSCZpN+IPzUDAZQZscWsYEwsZU4Bgu9oFBKBh/sAU3sJ004q8xzViD/4Kx3xR0dgpGHjyA20kn6uC22fcVPMGN+cEzhqBgMoKz8F8Mtjhy6gkulBiLjaCgmIJFCdoi5D6yOdjN2hY7+1FwTMGiBE0NJmEvtvZidOFJe2xbpJPsCkYeFBGRnH4BzaO7ibhWc5wAAAAASUVORK5C\"></td><td style='text-align:center;vertical-align:middle; margin: 0.5em;border:1px #90999f solid;border-collapse:collapse'><img style='max-width: 100px; max-height:100px;display:inline' src=\"data:image/png;base64,iVBORw0KGgoAAAANSUhEUgAAAHAAAABwCAAAAADji6uXAAAABGdBTUEAALGPC/xhBQAAAAJiS0dEAP+Hj8y/AAAAB3RJTUUH4gcFDykhEdX0gwAAAWRJREFUaN7t2UErBGEcx/EtmwNrJQdxU3JTFCklL8HFhSsXB0U5KVJcnR3EyVtwlRycxMUBN2VLDvICRnz/tZOnbWd2RmufZ+r3Oe7M//nO4ZmZpi2VREREpC3GcYlhKOg32Acb6kGeuU1E2EUZCvoLHsIGt5AnOI+obgwK+g9+YhFZ55agYFhB84FptJqp4Abx3A4U9BdcReS4wADSZqbgzijoN9gFe4m6C6whbWYEz/jTja9g24OmH4+IF7jHIJLOb9w0CvoPmlO4i0zCPd6NjbprKBhe0G52d5F12O9z2MY+oiYekLbBFOxc0JzjK8E3ko7ZS1zBMIKND2WXLZx07AQKhh98gr2kj7AHBYsRfMctlpF2noLhBKs4wxWOMYEsF/aCVh+xCnYmmFWzB8QQFCxOcBSvcIP2MZTrDxMFvQbNLGpwo71QsDhBM4M3xMEFKFisoFnBHQ7w75tGQREREfn1A7+TV4ksz8phAAAAAElFTkSuQmCC\"></td></tr><tr><td style='text-align:center;vertical-align:middle; margin: 0.5em;border:1px #90999f solid;border-collapse:collapse'><img style='max-width: 100px; max-height:100px;display:inline' src=\"data:image/png;base64,iVBORw0KGgoAAAANSUhEUgAAAHAAAABwCAAAAADji6uXAAAABGdBTUEAALGPC/xhBQAAAAJiS0dEAP+Hj8y/AAAAB3RJTUUH4gcFDykhEdX0gwAAAa1JREFUaN7t2U8opGEAx3HlXyl/a4lC21KuDvawXDhx4IqDctgLhz1xWLGtE7ctF3txclDKhVHOTiJRLpSiKG6bRS4z2e+v5qnpvSjend7J73OZMc/7Pt/U+2+eKSoyMzMze+cq0YivmEE5HCyM4Ecs4xjpHEtwMNnBDvzGAxTI4BIn0N+30DYOJi9YDYX+IPcgOUUr2hE+64GDyQuOIx1xhmZo3MHkB7cRJjzHGloQxgfhYLKDTfiJL6hHdFwPUQ4mO/iSFThYWMFv+A59gdHrPhTbRTEcTGawAl3YQibrGeH9NT4htv/KwdiCpfiMK+jAuIcmX8dfhBP+BtMog4PJCWrnIYRJ59ANjdUhuqggw3j1ApGDsQZ1sCwgTJRCDTT2AQfQCf+EeWwgbLuDPnRmOZj/oG6ii9DOd5hELTSmC/geNKZFhV7o8yr0YxXaJ8Qv4GD+gxPQxro4j0An+QB0wQ4Lez8QFhWiRpHK0oKDg/kP6maqSR9xCB0cuRfoWcT6hO1g7MEjRG+sm5hCG0oQW8zB/xLUD5Fj+AV94WzAm5+oHcxr0MzMzKzA/APi6Dp6kH0fRgAAAABJRU5ErkJg\"></td><td style='text-align:center;vertical-align:middle; margin: 0.5em;border:1px #90999f solid;border-collapse:collapse'><img style='max-width: 100px; max-height:100px;display:inline' src=\"data:image/png;base64,iVBORw0KGgoAAAANSUhEUgAAAHAAAABwCAAAAADji6uXAAAABGdBTUEAALGPC/xhBQAAAAJiS0dEAP+Hj8y/AAAAB3RJTUUH4gcFDykhEdX0gwAAAZ5JREFUaN7t2b8rRWEcx3GbhVIGA2ViMpCFSUY/yuw/sMiPwmZgsNyNlYmRxCwTsplYRH4NTDKY7o33p+63TnfTOec6pz6vicfpvDt1zvM8PVpazKz0+vGAJzhYvuA2PlDFMRwsT7ALF6hBsRt0wsFyBPWhn0AhBVcwjtyezsHMjaJap+Ascos5mLlYbGt1M8j16RzM3Cb0spyiG7nGHMzcJb5xjz7k/nQOZkofeGyYttADB8sT7EAFEVxF4zULqNQ5WLxgO87xA0VHEH9bxhKSi7KuSzWxO5h5cBqx6X1ETNyDOEJsir9wC113hV44+P9BvTDz0A1fsQGNa0N8AN38HfsYwhg0prCDxQhOIF6KdWhMh0JxqPCJHbRiAHeIsT/HHMwluIYIxpgO9WJML4nGkgcNqRZhBzMPatOrD1mTtH7XhP0GjS1CY8mDhhhzsFhBvQiHiOALNLaHZ+gfJdfQxqkNDhYrmPyg9fMcNDknD2i1AE8iVcjB3ILD0AY3bl5tkGqxdbApQZnCGZLBXWiijgXYwWIHzczMzMya4Be7uPILBKY8CAAAAABJRU5ErkJg\"></td><td style='text-align:center;vertical-align:middle; margin: 0.5em;border:1px #90999f solid;border-collapse:collapse'><img style='max-width: 100px; max-height:100px;display:inline' src=\"data:image/png;base64,iVBORw0KGgoAAAANSUhEUgAAAHAAAABwCAAAAADji6uXAAAABGdBTUEAALGPC/xhBQAAAAJiS0dEAP+Hj8y/AAAAB3RJTUUH4gcFDykhEdX0gwAAAZhJREFUaN7t2T0vBFEYhuEtlBI6hUIjISKhV5BolKIW/AERpdK/Uel0PiodFQpBVCJEIaHbbLifxJtMJiuZmZzhkOeqZs/u7L3FmTk7M52OmZmZJbGAHj4wDwf/VnAD5+hCUW1vYQAO5h9U7AjdLwrG9hgczDM4DB3o93hHBC5wBQfzDi7jAOUJImvQJHIw3+AqegVabIuv16FgvHYwr6BiL9BkeMMtnhATRGMrSDZpHEwa1MFePMgPofHil2+iPOZgHkF9wSsU1MRQbArx3hkUiz+9gziFg/kE7xCL7Q6K741jBOV9juFgHsFZPEOxOvudoNEC7GDS4DRiwkjV/Rof+A4mD8bBWzfYeAF2sNXgNqrsMwmdKLTPDfqd2B38naBuFlSJXUMn7UfMoHLMwVaCsYiG7z6nk/U+4nOaLBOoFXOwleAi4iaC6AdoIukByBK0rbFYbHWhoz/KjWIOthIUPXiMaPlmbHFMF6lVTg4O/nxQRrGLfsEH7GEISWIOthIMuoF+CYX0UEuTZA7JQw62FjQzM/vnPgGmmacJzBaFxwAAAABJRU5ErkJg\"></td></tr><tr><td style='text-align:center;vertical-align:middle; margin: 0.5em;border:1px #90999f solid;border-collapse:collapse'><img style='max-width: 100px; max-height:100px;display:inline' src=\"data:image/png;base64,iVBORw0KGgoAAAANSUhEUgAAAHAAAABwCAAAAADji6uXAAAABGdBTUEAALGPC/xhBQAAAAJiS0dEAP+Hj8y/AAAAB3RJTUUH4gcFDykhEdX0gwAAAMVJREFUaN7t2rEJwlAURuH0NtY2CnYuIu6iG+gOWriEjSM4hJ3gCG5g0HPBgK1FhD+cb4HTXO7jvaRpJEnSzw544YopDGYFZ3igxRNLGMwKjnCGwdxg2cNgbnCMCwzmBie4owtu0eshbLAXO3TBsobBrGAxmB+sy0z7YTAzOPwpNWjQoMH/Lu8TDOYFv4emLGAwK3jEd7AeiwxmBTcwmB0sN3QLvJb5HAazgvXBpBuaihrMC65gMDtYj+v184DB3KAkSQPyBmsnTx16xAqqAAAAAElFTkSuQmCC\"></td><td style='text-align:center;vertical-align:middle; margin: 0.5em;border:1px #90999f solid;border-collapse:collapse'><img style='max-width: 100px; max-height:100px;display:inline' src=\"data:image/png;base64,iVBORw0KGgoAAAANSUhEUgAAAHAAAABwCAAAAADji6uXAAAABGdBTUEAALGPC/xhBQAAAAJiS0dEAP+Hj8y/AAAAB3RJTUUH4gcFDykhEdX0gwAAALpJREFUaN7t2bENgWEURmEahQ0kJBKDGMIKEhoLWEWnUhtAq9AawQQq1c+5CYVGoZC8v/MscJov9yb363QkSZL+TBc7XDGEwbxgHxc0mMNgXrAcUME1DGYGZ6jgFgYzgyNU8IYBDGYG76joAgYzg83TCgYNGjRo8Lvga3gbzA22/5X+T3AKg9nBnxz4DBo0+DE4gcHsYPs3fjuDPZxhMDdYTqjgHgYzgxtUsD6+DGYGxzhiCYOZQUnSmwd9odZ/2qlTuwAAAABJRU5ErkJg\"></td><td style='text-align:center;vertical-align:middle; margin: 0.5em;border:1px #90999f solid;border-collapse:collapse'><img style='max-width: 100px; max-height:100px;display:inline' src=\"data:image/png;base64,iVBORw0KGgoAAAANSUhEUgAAAHAAAABwCAAAAADji6uXAAAABGdBTUEAALGPC/xhBQAAAAJiS0dEAP+Hj8y/AAAAB3RJTUUH4gcFDykhEdX0gwAAAVxJREFUaN7t2b0rhVEAx/GrkCJkoQxWi0XMlMFmlkGxXJSslAzKZGHwL5C/wGSQbGIRJUWUt43Ba16+v+Gp5w8453ZO/T7bOU/d732Gc07n3krFzMzMzCxzPdjAF36xDQfzCU7jBceYwgp+0AsH0w42YgnvWEM7NN8PBbvhYNrBKvTB8yjPL+IBQWMOBg924Bm7qEcxr038Cg6mHVTgAmdQuPzsEDqA1+FgusFxaMEPoTw/gW+8ohMOphvcwzkaUMx14Qn6IjqMg8UcjBLUwl5GMW7FERTbgsYOphscgYJ90HgUN9DcJdoQ9O0cDB5U6A1a+Hf4gC6jf1hA0JiDUYIyiQPsYAy32EcTHMwjWKjDJj4xiKgxB6MYhg7dVUSPORjFPbSBt8DB/IID0J8iM6jJ2zkYlA7aE1yjGQ7mF5yFNu3iQuNgfkFdZE5R/nHdwbyCj5hDTWIOmlle/gH7ZNJetq8WuwAAAABJRU5ErkJg\"></td></tr><tr><td style='text-align:center;vertical-align:middle; margin: 0.5em;border:1px #90999f solid;border-collapse:collapse'><img style='max-width: 100px; max-height:100px;display:inline' src=\"data:image/png;base64,iVBORw0KGgoAAAANSUhEUgAAAHAAAABwCAAAAADji6uXAAAABGdBTUEAALGPC/xhBQAAAAJiS0dEAP+Hj8y/AAAAB3RJTUUH4gcFDykhEdX0gwAAAXVJREFUaN7t2b8rRWEcx/E7+LlQJgMxWTAomwxWRpFyJwMZ/AWyXRYDMRn4C6RYLAxmisFiQQaLohgsV7y/dU+dns49dM89+srntd1OPe9O3XPuc79PoSAiIiLyz/ShH4v4xEeCAzRBQV9Bi6zjHg8owxYvV7GHNijoJ3iEcNG0oBmBgn6CS4gWekQJqyhVnEJB38EGdFd0IrxuD3n0QjD7aIaCfoLfmcIbouAmcospWHczCB/8TD++Cv5acBbXeEc8doFWKOgr2IsVnMWEm6hnzKMLme9GwboGB3GLcJMUBg+R+c4UzC14h3B4kDRUGIeC/oKmB8sYxkBgA9EXR0G/wTTtUPBvB6ehoM9gIyaQtqmdwysU9BccxTFsERsGhdc7UMQLopgNFcagoI/gFaKFtrEWOEd8I3yCSdQUUzD3YDUWtIH7DlpQc0zBXIJD2EVS6AaX2IL90ckUUjC3oLGDjgU8wUJ2+GGfkw5KFPQZFBGRH/sCTLDCKc3kJ5IAAAAASUVORK5C\"></td><td style='text-align:center;vertical-align:middle; margin: 0.5em;border:1px #90999f solid;border-collapse:collapse'><img style='max-width: 100px; max-height:100px;display:inline' src=\"data:image/png;base64,iVBORw0KGgoAAAANSUhEUgAAAHAAAABwCAAAAADji6uXAAAABGdBTUEAALGPC/xhBQAAAAJiS0dEAP+Hj8y/AAAAB3RJTUUH4gcFDykhEdX0gwAAAWtJREFUaN7t2D8rhWEYx/GTwaAUMTAZkdlkkMgmg80LMCCLyRtQBqvFRkpGBjFIRmUwUMr/V4ASccT3qnPV6fSgdF89z8nvs5zhXN3f89R9Tve5SyUREREREZGczWMBa/ioOIOCxQ4OYgZbeEe5xhvOoWBxgp04xH3FI2xh2yDHKGe4g4LFCI7gBlmLdqMN9jqEW/h7u1CwGMF9VEeeMYt+VM+twGcu0Q4F8w+O4gm+0DUGkDW7DZ9bxp+eTsHkwT34IkcYRu1MKybxgJ/mFMwnOIETHKADWTN2CPYPdYrv5hTMJ/ibMbzAYq+YRlhMwRB2EPYNM4XQmILJLeITfpFgh2EF6yfYCPuz4pvGLhgaoGB9BJtgX3ILWXAdLQh7OgWTasYm/Ad7DqG7U8HkeuGxC4SFFAzRg1VYzC7Qu6BgfQU34Bsm/E+Lgsn1YQcWs4vY8FO2gsktwWJXCI8pGMIuXC04jvCYgvI/fQHPLC1bbBtyYwAAAABJRU5ErkJg\"></td><td style='text-align:center;vertical-align:middle; margin: 0.5em;border:1px #90999f solid;border-collapse:collapse'><img style='max-width: 100px; max-height:100px;display:inline' src=\"data:image/png;base64,iVBORw0KGgoAAAANSUhEUgAAAHAAAABwCAAAAADji6uXAAAABGdBTUEAALGPC/xhBQAAAAJiS0dEAP+Hj8y/AAAAB3RJTUUH4gcFDykhEdX0gwAAAR9JREFUaN7t2SFPQmEUh3HYDBgIBgsbm8EEiUJxRgpUK4lkM+koNDYtNDc/ixtfAQJq1gCFYHW6Czxn42Uk03vC2f6/L/DsbOfe++6+pZKIiIiIHAyxwSMUjBesYoUCPxhAwTjBE9yj2PtCAwrGCV6jONKFW0zB7C4wQ4q94hQKxgkukGLf6MAtpqALOzSl4BiuMQWzm2CL9MBXoGCc4DOWsKWZ4xyu0ymYVRsWs2Wx4C1cp1Mwuxds9t5Rg4Jxgnf4Q/rouk+nYFZ1vMFCv7AXuOt0CmZ1iQ+kZXmC63QKZtfD8c+fKygYK9hHik1xBgVjBT+RgjdwjSmYXRNrWGyEMhSMFbTLR7uEtOADXGMKurFLSFucFhSMGRQRkX/tAOF+DE3/2+f0AAAAAElFTkSuQmCC\"></td></tr></tbody></table>"
      ],
      "text/plain": [
       "8×3 Array{Array{ColorTypes.Gray{FixedPointNumbers.Normed{UInt8,8}},2},2}:\n",
       " ColorTypes.Gray{FixedPointNumbers.Normed{UInt8,8}}[Gray{N0f8}(0.0) Gray{N0f8}(0.0) … Gray{N0f8}(0.0) Gray{N0f8}(0.0); Gray{N0f8}(0.0) Gray{N0f8}(0.0) … Gray{N0f8}(0.0) Gray{N0f8}(0.0); … ; Gray{N0f8}(0.0) Gray{N0f8}(0.0) … Gray{N0f8}(0.0) Gray{N0f8}(0.0); Gray{N0f8}(0.0) Gray{N0f8}(0.0) … Gray{N0f8}(0.0) Gray{N0f8}(0.0)]  …  ColorTypes.Gray{FixedPointNumbers.Normed{UInt8,8}}[Gray{N0f8}(0.0) Gray{N0f8}(0.0) … Gray{N0f8}(0.0) Gray{N0f8}(0.0); Gray{N0f8}(0.0) Gray{N0f8}(0.0) … Gray{N0f8}(0.0) Gray{N0f8}(0.0); … ; Gray{N0f8}(0.0) Gray{N0f8}(0.0) … Gray{N0f8}(0.0) Gray{N0f8}(0.0); Gray{N0f8}(0.0) Gray{N0f8}(0.0) … Gray{N0f8}(0.0) Gray{N0f8}(0.0)]\n",
       " ColorTypes.Gray{FixedPointNumbers.Normed{UInt8,8}}[Gray{N0f8}(0.0) Gray{N0f8}(0.0) … Gray{N0f8}(0.0) Gray{N0f8}(0.0); Gray{N0f8}(0.0) Gray{N0f8}(0.0) … Gray{N0f8}(0.0) Gray{N0f8}(0.0); … ; Gray{N0f8}(0.0) Gray{N0f8}(0.0) … Gray{N0f8}(0.0) Gray{N0f8}(0.0); Gray{N0f8}(0.0) Gray{N0f8}(0.0) … Gray{N0f8}(0.0) Gray{N0f8}(0.0)]     ColorTypes.Gray{FixedPointNumbers.Normed{UInt8,8}}[Gray{N0f8}(0.0) Gray{N0f8}(0.0) … Gray{N0f8}(0.0) Gray{N0f8}(0.0); Gray{N0f8}(0.0) Gray{N0f8}(0.0) … Gray{N0f8}(0.0) Gray{N0f8}(0.0); … ; Gray{N0f8}(0.0) Gray{N0f8}(0.0) … Gray{N0f8}(0.0) Gray{N0f8}(0.0); Gray{N0f8}(0.0) Gray{N0f8}(0.0) … Gray{N0f8}(0.0) Gray{N0f8}(0.0)]\n",
       " ColorTypes.Gray{FixedPointNumbers.Normed{UInt8,8}}[Gray{N0f8}(0.0) Gray{N0f8}(0.0) … Gray{N0f8}(0.0) Gray{N0f8}(0.0); Gray{N0f8}(0.0) Gray{N0f8}(0.0) … Gray{N0f8}(0.0) Gray{N0f8}(0.0); … ; Gray{N0f8}(0.0) Gray{N0f8}(0.0) … Gray{N0f8}(0.0) Gray{N0f8}(0.0); Gray{N0f8}(0.0) Gray{N0f8}(0.0) … Gray{N0f8}(0.0) Gray{N0f8}(0.0)]     ColorTypes.Gray{FixedPointNumbers.Normed{UInt8,8}}[Gray{N0f8}(0.0) Gray{N0f8}(0.0) … Gray{N0f8}(0.0) Gray{N0f8}(0.0); Gray{N0f8}(0.0) Gray{N0f8}(0.0) … Gray{N0f8}(0.0) Gray{N0f8}(0.0); … ; Gray{N0f8}(0.0) Gray{N0f8}(0.0) … Gray{N0f8}(0.0) Gray{N0f8}(0.0); Gray{N0f8}(0.0) Gray{N0f8}(0.0) … Gray{N0f8}(0.0) Gray{N0f8}(0.0)]\n",
       " ColorTypes.Gray{FixedPointNumbers.Normed{UInt8,8}}[Gray{N0f8}(0.0) Gray{N0f8}(0.0) … Gray{N0f8}(0.0) Gray{N0f8}(0.0); Gray{N0f8}(0.0) Gray{N0f8}(0.0) … Gray{N0f8}(0.0) Gray{N0f8}(0.0); … ; Gray{N0f8}(0.0) Gray{N0f8}(0.0) … Gray{N0f8}(0.0) Gray{N0f8}(0.0); Gray{N0f8}(0.0) Gray{N0f8}(0.0) … Gray{N0f8}(0.0) Gray{N0f8}(0.0)]     ColorTypes.Gray{FixedPointNumbers.Normed{UInt8,8}}[Gray{N0f8}(0.0) Gray{N0f8}(0.0) … Gray{N0f8}(0.0) Gray{N0f8}(0.0); Gray{N0f8}(0.0) Gray{N0f8}(0.0) … Gray{N0f8}(0.0) Gray{N0f8}(0.0); … ; Gray{N0f8}(0.0) Gray{N0f8}(0.0) … Gray{N0f8}(0.0) Gray{N0f8}(0.0); Gray{N0f8}(0.0) Gray{N0f8}(0.0) … Gray{N0f8}(0.0) Gray{N0f8}(0.0)]\n",
       " ColorTypes.Gray{FixedPointNumbers.Normed{UInt8,8}}[Gray{N0f8}(0.0) Gray{N0f8}(0.0) … Gray{N0f8}(0.0) Gray{N0f8}(0.0); Gray{N0f8}(0.0) Gray{N0f8}(0.0) … Gray{N0f8}(0.0) Gray{N0f8}(0.0); … ; Gray{N0f8}(0.0) Gray{N0f8}(0.0) … Gray{N0f8}(0.0) Gray{N0f8}(0.0); Gray{N0f8}(0.0) Gray{N0f8}(0.0) … Gray{N0f8}(0.0) Gray{N0f8}(0.0)]     ColorTypes.Gray{FixedPointNumbers.Normed{UInt8,8}}[Gray{N0f8}(0.0) Gray{N0f8}(0.0) … Gray{N0f8}(0.0) Gray{N0f8}(0.0); Gray{N0f8}(0.0) Gray{N0f8}(0.0) … Gray{N0f8}(0.0) Gray{N0f8}(0.0); … ; Gray{N0f8}(0.0) Gray{N0f8}(0.0) … Gray{N0f8}(0.0) Gray{N0f8}(0.0); Gray{N0f8}(0.0) Gray{N0f8}(0.0) … Gray{N0f8}(0.0) Gray{N0f8}(0.0)]\n",
       " ColorTypes.Gray{FixedPointNumbers.Normed{UInt8,8}}[Gray{N0f8}(0.0) Gray{N0f8}(0.0) … Gray{N0f8}(0.0) Gray{N0f8}(0.0); Gray{N0f8}(0.0) Gray{N0f8}(0.0) … Gray{N0f8}(0.0) Gray{N0f8}(0.0); … ; Gray{N0f8}(0.0) Gray{N0f8}(0.0) … Gray{N0f8}(0.0) Gray{N0f8}(0.0); Gray{N0f8}(0.0) Gray{N0f8}(0.0) … Gray{N0f8}(0.0) Gray{N0f8}(0.0)]  …  ColorTypes.Gray{FixedPointNumbers.Normed{UInt8,8}}[Gray{N0f8}(0.0) Gray{N0f8}(0.0) … Gray{N0f8}(0.0) Gray{N0f8}(0.0); Gray{N0f8}(0.0) Gray{N0f8}(0.0) … Gray{N0f8}(0.0) Gray{N0f8}(0.0); … ; Gray{N0f8}(0.0) Gray{N0f8}(0.0) … Gray{N0f8}(0.0) Gray{N0f8}(0.0); Gray{N0f8}(0.0) Gray{N0f8}(0.0) … Gray{N0f8}(0.0) Gray{N0f8}(0.0)]\n",
       " ColorTypes.Gray{FixedPointNumbers.Normed{UInt8,8}}[Gray{N0f8}(0.0) Gray{N0f8}(0.0) … Gray{N0f8}(0.0) Gray{N0f8}(0.0); Gray{N0f8}(0.0) Gray{N0f8}(0.0) … Gray{N0f8}(0.0) Gray{N0f8}(0.0); … ; Gray{N0f8}(0.0) Gray{N0f8}(0.0) … Gray{N0f8}(0.0) Gray{N0f8}(0.0); Gray{N0f8}(0.0) Gray{N0f8}(0.0) … Gray{N0f8}(0.0) Gray{N0f8}(0.0)]     ColorTypes.Gray{FixedPointNumbers.Normed{UInt8,8}}[Gray{N0f8}(0.0) Gray{N0f8}(0.0) … Gray{N0f8}(0.0) Gray{N0f8}(0.0); Gray{N0f8}(0.0) Gray{N0f8}(0.0) … Gray{N0f8}(0.0) Gray{N0f8}(0.0); … ; Gray{N0f8}(0.0) Gray{N0f8}(0.0) … Gray{N0f8}(0.0) Gray{N0f8}(0.0); Gray{N0f8}(0.0) Gray{N0f8}(0.0) … Gray{N0f8}(0.0) Gray{N0f8}(0.0)]\n",
       " ColorTypes.Gray{FixedPointNumbers.Normed{UInt8,8}}[Gray{N0f8}(0.0) Gray{N0f8}(0.0) … Gray{N0f8}(0.0) Gray{N0f8}(0.0); Gray{N0f8}(0.0) Gray{N0f8}(0.0) … Gray{N0f8}(0.0) Gray{N0f8}(0.0); … ; Gray{N0f8}(0.0) Gray{N0f8}(0.0) … Gray{N0f8}(0.0) Gray{N0f8}(0.0); Gray{N0f8}(0.0) Gray{N0f8}(0.0) … Gray{N0f8}(0.0) Gray{N0f8}(0.0)]     ColorTypes.Gray{FixedPointNumbers.Normed{UInt8,8}}[Gray{N0f8}(0.0) Gray{N0f8}(0.0) … Gray{N0f8}(0.0) Gray{N0f8}(0.0); Gray{N0f8}(0.0) Gray{N0f8}(0.0) … Gray{N0f8}(0.0) Gray{N0f8}(0.0); … ; Gray{N0f8}(0.0) Gray{N0f8}(0.0) … Gray{N0f8}(0.0) Gray{N0f8}(0.0); Gray{N0f8}(0.0) Gray{N0f8}(0.0) … Gray{N0f8}(0.0) Gray{N0f8}(0.0)]"
      ]
     },
     "metadata": {},
     "output_type": "display_data"
    },
    {
     "name": "stdout",
     "output_type": "stream",
     "text": [
      "[5 0 4 1 9 2 1 3 1 4 3 5 3 6 1 7 2 8 6 9 4 0 9 1]\n"
     ]
    }
   ],
   "source": [
    "display(reshape(imgs[1:24],8,3))\n",
    "println(labels[1:24]')"
   ]
  },
  {
   "cell_type": "markdown",
   "metadata": {},
   "source": [
    "There are 60,000 of these images, each with 784 pixels. This means our dataset is of size `784 x 60000`, and our data is 784-dimensional."
   ]
  },
  {
   "cell_type": "code",
   "execution_count": 4,
   "metadata": {},
   "outputs": [
    {
     "data": {
      "text/plain": [
       "(784, 60000)"
      ]
     },
     "execution_count": 4,
     "metadata": {},
     "output_type": "execute_result"
    }
   ],
   "source": [
    "matrix =  hcat([vec(Float64.(i)) for i in imgs]...);\n",
    "size(matrix)"
   ]
  },
  {
   "cell_type": "markdown",
   "metadata": {},
   "source": [
    "## Dimensionality reduction classification\n",
    "\n",
    "First let's generate training data. The command we use is as follows:"
   ]
  },
  {
   "cell_type": "code",
   "execution_count": 54,
   "metadata": {},
   "outputs": [],
   "source": [
    "training_size  = 500\n",
    "singular_vec_size = 25\n",
    "training_data = [ matrix[:,find(labels.== (i%10))[1:training_size]] for i=0:9];"
   ]
  },
  {
   "cell_type": "markdown",
   "metadata": {},
   "source": [
    "This makes `training_data[i]` an array of 500 samples for the `i`th digit, i.e. `training_data[5]` is 500 images of the digit `5`. \n",
    "\n",
    "Train one PCA model on each of these data subsets (on each of the arrays contained in `training_data`). Store the models in an output called `Ms`.\n",
    "\n",
    "Note: for simplicity, set a maximum output dimension as 25 when you fit PCA.\n",
    "\n",
    "#### Solution"
   ]
  },
  {
   "cell_type": "code",
   "execution_count": 55,
   "metadata": {},
   "outputs": [
    {
     "data": {
      "text/plain": [
       "10-element Array{MultivariateStats.PCA{Float64},1}:\n",
       " PCA(indim = 784, outdim = 25, principalratio = 0.81313)\n",
       " PCA(indim = 784, outdim = 25, principalratio = 0.87906)\n",
       " PCA(indim = 784, outdim = 25, principalratio = 0.73980)\n",
       " PCA(indim = 784, outdim = 25, principalratio = 0.74834)\n",
       " PCA(indim = 784, outdim = 25, principalratio = 0.76589)\n",
       " PCA(indim = 784, outdim = 25, principalratio = 0.76377)\n",
       " PCA(indim = 784, outdim = 25, principalratio = 0.79426)\n",
       " PCA(indim = 784, outdim = 25, principalratio = 0.79719)\n",
       " PCA(indim = 784, outdim = 25, principalratio = 0.72730)\n",
       " PCA(indim = 784, outdim = 25, principalratio = 0.79546)"
      ]
     },
     "execution_count": 55,
     "metadata": {},
     "output_type": "execute_result"
    }
   ],
   "source": [
    "using MultivariateStats\n",
    "Ms = [fit(PCA, training_data[i], maxoutdim = 25) for i=1:10]"
   ]
  },
  {
   "cell_type": "markdown",
   "metadata": {},
   "source": [
    "Now we have that `Ms[i]` is the PCA model for the `i`th digit. Now let's calculate how well each PCA does on an image. The way we do this is to take a data point (a column of `matrix`). Then, for each PCA model\n",
    "\n",
    "1. Transform to the PC axis (dimensionality reduce)\n",
    "2. Reconstruct the original data point by reversing the dimensionality reduction\n",
    "3. Calculate the difference between the original data point and the reconstructed data point\n",
    "\n",
    "At this point, you should be able to classify the image associated with the original data point by identifying the PCA model that does the best at reconstructing it.\n",
    "\n",
    "Write a function that takes the dataset (`matrix`), chooses a random image from it, and returns both the image's label and its classification. \n",
    "\n",
    "#### Solution"
   ]
  },
  {
   "cell_type": "code",
   "execution_count": 58,
   "metadata": {},
   "outputs": [
    {
     "data": {
      "text/plain": [
       "test_classification (generic function with 1 method)"
      ]
     },
     "execution_count": 58,
     "metadata": {},
     "output_type": "execute_result"
    }
   ],
   "source": [
    "function test_classification(data, labels, models)\n",
    "    # Choose a random data point/image\n",
    "    i = rand(1:size(data, 2))\n",
    "    point = data[:, i]\n",
    "    true_label = labels[i]\n",
    "    # initialize the reconstruction cost to infinity\n",
    "    # and the classification to \"unlabeled\"\n",
    "    # These will be updated for every model in the input\n",
    "    # `models` until the best one is found.\n",
    "    min_reconstruction_cost = Inf\n",
    "    classification = \"unlabeled\"\n",
    "    \n",
    "    N = length(models)\n",
    "    for j in 1:N\n",
    "        # transform and reconstruct the image\n",
    "        y = transform(Ms[j], point)\n",
    "        reconstructed = reconstruct(Ms[j], y)\n",
    "        # calculate a \"cost\" of reconstructing with this model\n",
    "        reconstruction_cost = sum(abs2, reconstructed .- point)\n",
    "        if reconstruction_cost < min_reconstruction_cost\n",
    "            min_reconstruction_cost = reconstruction_cost\n",
    "            classification = j - 1 # Digits are 0 to 9, not 1 to 10\n",
    "        end\n",
    "    end\n",
    "   return true_label, classification \n",
    "end"
   ]
  },
  {
   "cell_type": "code",
   "execution_count": 82,
   "metadata": {},
   "outputs": [
    {
     "name": "stdout",
     "output_type": "stream",
     "text": [
      "(1, 1)\n",
      "(2, 2)\n",
      "(5, 5)\n",
      "(1, 1)\n",
      "(4, 4)\n",
      "(2, 2)\n",
      "(8, 8)\n",
      "(7, 7)\n",
      "(6, 6)\n",
      "(8, 8)\n",
      "(1, 1)\n",
      "(1, 1)\n",
      "(8, 8)\n",
      "(7, 7)\n",
      "(4, 4)\n",
      "(2, 2)\n",
      "(0, 0)\n",
      "(1, 1)\n",
      "(6, 6)\n",
      "(9, 9)\n"
     ]
    }
   ],
   "source": [
    "for i in 1:20\n",
    "    println(test_classification(matrix, labels, Ms))\n",
    "end"
   ]
  },
  {
   "cell_type": "code",
   "execution_count": 83,
   "metadata": {},
   "outputs": [
    {
     "data": {
      "text/plain": [
       "test_classification2 (generic function with 1 method)"
      ]
     },
     "execution_count": 83,
     "metadata": {},
     "output_type": "execute_result"
    }
   ],
   "source": [
    "# Alternatively\n",
    "\n",
    "function test_classification2(data, labels, models)\n",
    "    # Choose a random data point/image\n",
    "    i = rand(1:size(data, 2))\n",
    "    point = data[:, i]\n",
    "    true_label = labels[i]\n",
    "\n",
    "    # store costs\n",
    "    costs = rand(10)\n",
    "    N = length(models)\n",
    "    for j in 1:N\n",
    "        # transform and reconstruct the image\n",
    "        y = transform(Ms[j], point)\n",
    "        reconstructed = reconstruct(Ms[j], y)\n",
    "        # calculate a \"cost\" of reconstructing with this model\n",
    "        costs[j] = sum(abs2, reconstructed .- point)\n",
    "    end\n",
    "    classification = findmin(costs)[2] - 1\n",
    "    return true_label, classification \n",
    "end"
   ]
  },
  {
   "cell_type": "code",
   "execution_count": 84,
   "metadata": {},
   "outputs": [
    {
     "name": "stdout",
     "output_type": "stream",
     "text": [
      "(7, 7)\n",
      "(8, 8)\n",
      "(2, 2)\n",
      "(8, 8)\n",
      "(7, 7)\n",
      "(9, 9)\n",
      "(4, 4)\n",
      "(9, 9)\n",
      "(9, 9)\n",
      "(0, 0)\n",
      "(9, 9)\n",
      "(8, 8)\n",
      "(7, 7)\n",
      "(3, 3)\n",
      "(8, 8)\n",
      "(3, 3)\n",
      "(8, 8)\n",
      "(3, 3)\n",
      "(7, 7)\n",
      "(2, 2)\n"
     ]
    }
   ],
   "source": [
    "for i in 1:20\n",
    "    println(test_classification2(matrix, labels, Ms))\n",
    "end"
   ]
  },
  {
   "cell_type": "markdown",
   "metadata": {},
   "source": [
    "The above is the solution to what was asked for, but here's some more code that may help you see what's going on:"
   ]
  },
  {
   "cell_type": "code",
   "execution_count": 86,
   "metadata": {},
   "outputs": [
    {
     "data": {
      "image/png": "[encoded data removed]",
      "text/plain": [
       "28×28 Array{Gray{N0f8},2}:\n",
       " Gray{N0f8}(0.0)  Gray{N0f8}(0.0)  …  Gray{N0f8}(0.0)  Gray{N0f8}(0.0)\n",
       " Gray{N0f8}(0.0)  Gray{N0f8}(0.0)     Gray{N0f8}(0.0)  Gray{N0f8}(0.0)\n",
       " Gray{N0f8}(0.0)  Gray{N0f8}(0.0)     Gray{N0f8}(0.0)  Gray{N0f8}(0.0)\n",
       " Gray{N0f8}(0.0)  Gray{N0f8}(0.0)     Gray{N0f8}(0.0)  Gray{N0f8}(0.0)\n",
       " Gray{N0f8}(0.0)  Gray{N0f8}(0.0)     Gray{N0f8}(0.0)  Gray{N0f8}(0.0)\n",
       " Gray{N0f8}(0.0)  Gray{N0f8}(0.0)  …  Gray{N0f8}(0.0)  Gray{N0f8}(0.0)\n",
       " Gray{N0f8}(0.0)  Gray{N0f8}(0.0)     Gray{N0f8}(0.0)  Gray{N0f8}(0.0)\n",
       " Gray{N0f8}(0.0)  Gray{N0f8}(0.0)     Gray{N0f8}(0.0)  Gray{N0f8}(0.0)\n",
       " Gray{N0f8}(0.0)  Gray{N0f8}(0.0)     Gray{N0f8}(0.0)  Gray{N0f8}(0.0)\n",
       " Gray{N0f8}(0.0)  Gray{N0f8}(0.0)     Gray{N0f8}(0.0)  Gray{N0f8}(0.0)\n",
       " Gray{N0f8}(0.0)  Gray{N0f8}(0.0)  …  Gray{N0f8}(0.0)  Gray{N0f8}(0.0)\n",
       " Gray{N0f8}(0.0)  Gray{N0f8}(0.0)     Gray{N0f8}(0.0)  Gray{N0f8}(0.0)\n",
       " Gray{N0f8}(0.0)  Gray{N0f8}(0.0)     Gray{N0f8}(0.0)  Gray{N0f8}(0.0)\n",
       " ⋮                                 ⋱                                  \n",
       " Gray{N0f8}(0.0)  Gray{N0f8}(0.0)     Gray{N0f8}(0.0)  Gray{N0f8}(0.0)\n",
       " Gray{N0f8}(0.0)  Gray{N0f8}(0.0)     Gray{N0f8}(0.0)  Gray{N0f8}(0.0)\n",
       " Gray{N0f8}(0.0)  Gray{N0f8}(0.0)     Gray{N0f8}(0.0)  Gray{N0f8}(0.0)\n",
       " Gray{N0f8}(0.0)  Gray{N0f8}(0.0)     Gray{N0f8}(0.0)  Gray{N0f8}(0.0)\n",
       " Gray{N0f8}(0.0)  Gray{N0f8}(0.0)  …  Gray{N0f8}(0.0)  Gray{N0f8}(0.0)\n",
       " Gray{N0f8}(0.0)  Gray{N0f8}(0.0)     Gray{N0f8}(0.0)  Gray{N0f8}(0.0)\n",
       " Gray{N0f8}(0.0)  Gray{N0f8}(0.0)     Gray{N0f8}(0.0)  Gray{N0f8}(0.0)\n",
       " Gray{N0f8}(0.0)  Gray{N0f8}(0.0)     Gray{N0f8}(0.0)  Gray{N0f8}(0.0)\n",
       " Gray{N0f8}(0.0)  Gray{N0f8}(0.0)     Gray{N0f8}(0.0)  Gray{N0f8}(0.0)\n",
       " Gray{N0f8}(0.0)  Gray{N0f8}(0.0)  …  Gray{N0f8}(0.0)  Gray{N0f8}(0.0)\n",
       " Gray{N0f8}(0.0)  Gray{N0f8}(0.0)     Gray{N0f8}(0.0)  Gray{N0f8}(0.0)\n",
       " Gray{N0f8}(0.0)  Gray{N0f8}(0.0)     Gray{N0f8}(0.0)  Gray{N0f8}(0.0)"
      ]
     },
     "metadata": {},
     "output_type": "display_data"
    }
   ],
   "source": [
    "# Select a random image\n",
    "rand_img_idx = rand(1:length(imgs))\n",
    "rand_img = imgs[rand_img_idx]\n",
    "display(rand_img)"
   ]
  },
  {
   "cell_type": "code",
   "execution_count": 87,
   "metadata": {},
   "outputs": [
    {
     "data": {
      "image/png": "[encoded data removed]",
      "text/plain": [
       "28×28 Array{Gray{Float64},2}:\n",
       " Gray{Float64}(4.13912e-16)   …  Gray{Float64}(0.0)\n",
       " Gray{Float64}(5.88858e-16)      Gray{Float64}(0.0)\n",
       " Gray{Float64}(3.92884e-16)      Gray{Float64}(0.0)\n",
       " Gray{Float64}(1.10629e-15)      Gray{Float64}(0.0)\n",
       " Gray{Float64}(2.57178e-16)      Gray{Float64}(0.0)\n",
       " Gray{Float64}(1.35414e-15)   …  Gray{Float64}(0.0)\n",
       " Gray{Float64}(1.66008e-16)      Gray{Float64}(0.0)\n",
       " Gray{Float64}(-5.3807e-16)      Gray{Float64}(0.0)\n",
       " Gray{Float64}(1.44112e-16)      Gray{Float64}(0.0)\n",
       " Gray{Float64}(-1.38724e-16)     Gray{Float64}(0.0)\n",
       " Gray{Float64}(-6.58049e-17)  …  Gray{Float64}(0.0)\n",
       " Gray{Float64}(1.62082e-16)      Gray{Float64}(0.0)\n",
       " Gray{Float64}(4.48879e-16)      Gray{Float64}(0.0)\n",
       " ⋮                            ⋱                    \n",
       " Gray{Float64}(1.67982e-16)      Gray{Float64}(0.0)\n",
       " Gray{Float64}(3.59235e-16)      Gray{Float64}(0.0)\n",
       " Gray{Float64}(-1.06147e-16)     Gray{Float64}(0.0)\n",
       " Gray{Float64}(-2.10285e-16)     Gray{Float64}(0.0)\n",
       " Gray{Float64}(1.56473e-16)   …  Gray{Float64}(0.0)\n",
       " Gray{Float64}(-3.54451e-17)     Gray{Float64}(0.0)\n",
       " Gray{Float64}(-1.13476e-16)     Gray{Float64}(0.0)\n",
       " Gray{Float64}(-2.11957e-16)     Gray{Float64}(0.0)\n",
       " Gray{Float64}(7.06123e-17)      Gray{Float64}(0.0)\n",
       " Gray{Float64}(-2.09482e-17)  …  Gray{Float64}(0.0)\n",
       " Gray{Float64}(1.08259e-16)      Gray{Float64}(0.0)\n",
       " Gray{Float64}(-2.77395e-16)     Gray{Float64}(0.0)"
      ]
     },
     "metadata": {},
     "output_type": "display_data"
    },
    {
     "data": {
      "image/png": "[encoded data removed]",
      "text/plain": [
       "28×28 Array{Gray{Float64},2}:\n",
       " Gray{Float64}(-8.71637e-16)  …  Gray{Float64}(0.0)        \n",
       " Gray{Float64}(-8.4611e-17)      Gray{Float64}(0.0)        \n",
       " Gray{Float64}(1.625e-16)        Gray{Float64}(0.0)        \n",
       " Gray{Float64}(4.38736e-16)      Gray{Float64}(0.0)        \n",
       " Gray{Float64}(1.7524e-16)       Gray{Float64}(0.0)        \n",
       " Gray{Float64}(-6.11574e-17)  …  Gray{Float64}(0.0)        \n",
       " Gray{Float64}(7.60459e-16)      Gray{Float64}(0.0)        \n",
       " Gray{Float64}(1.00495e-16)      Gray{Float64}(0.0)        \n",
       " Gray{Float64}(8.78496e-17)      Gray{Float64}(0.0)        \n",
       " Gray{Float64}(1.4483e-16)       Gray{Float64}(0.0)        \n",
       " Gray{Float64}(1.31968e-19)   …  Gray{Float64}(0.0)        \n",
       " Gray{Float64}(-2.87401e-16)     Gray{Float64}(0.0)        \n",
       " Gray{Float64}(-1.33505e-16)     Gray{Float64}(0.0)        \n",
       " ⋮                            ⋱                            \n",
       " Gray{Float64}(-1.62747e-16)     Gray{Float64}(0.0)        \n",
       " Gray{Float64}(1.91866e-16)      Gray{Float64}(0.000358264)\n",
       " Gray{Float64}(-2.0008e-17)      Gray{Float64}(0.0124128)  \n",
       " Gray{Float64}(1.35021e-19)      Gray{Float64}(0.00732222) \n",
       " Gray{Float64}(1.01162e-16)   …  Gray{Float64}(0.0)        \n",
       " Gray{Float64}(1.44017e-16)      Gray{Float64}(0.0)        \n",
       " Gray{Float64}(-4.80925e-17)     Gray{Float64}(0.0)        \n",
       " Gray{Float64}(2.19215e-16)      Gray{Float64}(0.0)        \n",
       " Gray{Float64}(1.46573e-16)      Gray{Float64}(0.0)        \n",
       " Gray{Float64}(-9.63869e-18)  …  Gray{Float64}(0.0)        \n",
       " Gray{Float64}(-1.14965e-16)     Gray{Float64}(0.0)        \n",
       " Gray{Float64}(1.90116e-16)      Gray{Float64}(0.0)        "
      ]
     },
     "metadata": {},
     "output_type": "display_data"
    },
    {
     "data": {
      "image/png": "[encoded data removed]",
      "text/plain": [
       "28×28 Array{Gray{Float64},2}:\n",
       " Gray{Float64}(-1.23001e-16)  …  Gray{Float64}(0.0)        \n",
       " Gray{Float64}(-1.14407e-15)     Gray{Float64}(0.0)        \n",
       " Gray{Float64}(2.58282e-16)      Gray{Float64}(0.0)        \n",
       " Gray{Float64}(7.22598e-17)      Gray{Float64}(0.0)        \n",
       " Gray{Float64}(-1.28403e-16)     Gray{Float64}(0.0)        \n",
       " Gray{Float64}(8.69749e-17)   …  Gray{Float64}(0.0)        \n",
       " Gray{Float64}(-9.54599e-17)     Gray{Float64}(0.0)        \n",
       " Gray{Float64}(-2.00414e-16)     Gray{Float64}(0.0)        \n",
       " Gray{Float64}(4.18234e-16)      Gray{Float64}(0.0)        \n",
       " Gray{Float64}(1.98015e-16)      Gray{Float64}(0.0)        \n",
       " Gray{Float64}(-2.49799e-16)  …  Gray{Float64}(0.0)        \n",
       " Gray{Float64}(7.55637e-17)      Gray{Float64}(0.0)        \n",
       " Gray{Float64}(1.14556e-16)      Gray{Float64}(0.0)        \n",
       " ⋮                            ⋱                            \n",
       " Gray{Float64}(2.59485e-16)      Gray{Float64}(0.0)        \n",
       " Gray{Float64}(-5.33936e-17)     Gray{Float64}(-8.31203e-5)\n",
       " Gray{Float64}(-1.78126e-17)     Gray{Float64}(-3.39631e-5)\n",
       " Gray{Float64}(6.02151e-17)      Gray{Float64}(0.0)        \n",
       " Gray{Float64}(-1.35636e-16)  …  Gray{Float64}(0.0)        \n",
       " Gray{Float64}(-2.73332e-17)     Gray{Float64}(0.0)        \n",
       " Gray{Float64}(4.32127e-17)      Gray{Float64}(0.0)        \n",
       " Gray{Float64}(7.46585e-17)      Gray{Float64}(0.0)        \n",
       " Gray{Float64}(1.21068e-16)      Gray{Float64}(0.0)        \n",
       " Gray{Float64}(-2.25197e-16)  …  Gray{Float64}(0.0)        \n",
       " Gray{Float64}(-1.2192e-17)      Gray{Float64}(0.0)        \n",
       " Gray{Float64}(8.37883e-17)      Gray{Float64}(0.0)        "
      ]
     },
     "metadata": {},
     "output_type": "display_data"
    },
    {
     "data": {
      "image/png": "[encoded data removed]",
      "text/plain": [
       "28×28 Array{Gray{Float64},2}:\n",
       " Gray{Float64}(1.74882e-16)   …  Gray{Float64}(0.0)\n",
       " Gray{Float64}(3.73696e-16)      Gray{Float64}(0.0)\n",
       " Gray{Float64}(-4.66976e-16)     Gray{Float64}(0.0)\n",
       " Gray{Float64}(-2.6516e-16)      Gray{Float64}(0.0)\n",
       " Gray{Float64}(6.20875e-16)      Gray{Float64}(0.0)\n",
       " Gray{Float64}(-3.44509e-16)  …  Gray{Float64}(0.0)\n",
       " Gray{Float64}(7.4041e-17)       Gray{Float64}(0.0)\n",
       " Gray{Float64}(-3.28119e-16)     Gray{Float64}(0.0)\n",
       " Gray{Float64}(-1.14655e-15)     Gray{Float64}(0.0)\n",
       " Gray{Float64}(5.52731e-16)      Gray{Float64}(0.0)\n",
       " Gray{Float64}(1.34879e-16)   …  Gray{Float64}(0.0)\n",
       " Gray{Float64}(5.60496e-16)      Gray{Float64}(0.0)\n",
       " Gray{Float64}(-2.21837e-16)     Gray{Float64}(0.0)\n",
       " ⋮                            ⋱                    \n",
       " Gray{Float64}(-3.28314e-16)     Gray{Float64}(0.0)\n",
       " Gray{Float64}(2.64133e-17)      Gray{Float64}(0.0)\n",
       " Gray{Float64}(1.97965e-16)      Gray{Float64}(0.0)\n",
       " Gray{Float64}(5.44857e-17)      Gray{Float64}(0.0)\n",
       " Gray{Float64}(-1.5484e-16)   …  Gray{Float64}(0.0)\n",
       " Gray{Float64}(-4.81602e-17)     Gray{Float64}(0.0)\n",
       " Gray{Float64}(6.75826e-18)      Gray{Float64}(0.0)\n",
       " Gray{Float64}(-6.91485e-17)     Gray{Float64}(0.0)\n",
       " Gray{Float64}(1.53914e-16)      Gray{Float64}(0.0)\n",
       " Gray{Float64}(1.69132e-16)   …  Gray{Float64}(0.0)\n",
       " Gray{Float64}(1.31258e-17)      Gray{Float64}(0.0)\n",
       " Gray{Float64}(-1.10746e-17)     Gray{Float64}(0.0)"
      ]
     },
     "metadata": {},
     "output_type": "display_data"
    },
    {
     "data": {
      "image/png": "[encoded data removed]",
      "text/plain": [
       "28×28 Array{Gray{Float64},2}:\n",
       " Gray{Float64}(3.47664e-16)   …  Gray{Float64}(0.0)        \n",
       " Gray{Float64}(6.21783e-16)      Gray{Float64}(0.0)        \n",
       " Gray{Float64}(9.26397e-17)      Gray{Float64}(0.0)        \n",
       " Gray{Float64}(1.80709e-16)      Gray{Float64}(0.0)        \n",
       " Gray{Float64}(6.31005e-16)      Gray{Float64}(0.0)        \n",
       " Gray{Float64}(4.35024e-16)   …  Gray{Float64}(0.0)        \n",
       " Gray{Float64}(1.94111e-16)      Gray{Float64}(0.0)        \n",
       " Gray{Float64}(-7.14749e-17)     Gray{Float64}(0.0)        \n",
       " Gray{Float64}(3.20573e-16)      Gray{Float64}(0.0)        \n",
       " Gray{Float64}(2.63342e-16)      Gray{Float64}(0.0)        \n",
       " Gray{Float64}(-1.61111e-17)  …  Gray{Float64}(0.0)        \n",
       " Gray{Float64}(-1.75592e-16)     Gray{Float64}(0.0)        \n",
       " Gray{Float64}(1.35921e-16)      Gray{Float64}(0.0)        \n",
       " ⋮                            ⋱                            \n",
       " Gray{Float64}(8.74942e-17)      Gray{Float64}(-2.06794e-5)\n",
       " Gray{Float64}(1.24946e-16)      Gray{Float64}(-2.06794e-5)\n",
       " Gray{Float64}(-2.55148e-16)     Gray{Float64}(-7.5198e-6) \n",
       " Gray{Float64}(1.1173e-16)       Gray{Float64}(0.0)        \n",
       " Gray{Float64}(2.28212e-17)   …  Gray{Float64}(0.0)        \n",
       " Gray{Float64}(-1.26838e-18)     Gray{Float64}(0.0)        \n",
       " Gray{Float64}(-1.84276e-16)     Gray{Float64}(0.0)        \n",
       " Gray{Float64}(-5.9892e-18)      Gray{Float64}(0.0)        \n",
       " Gray{Float64}(2.84237e-18)      Gray{Float64}(0.0)        \n",
       " Gray{Float64}(5.40558e-17)   …  Gray{Float64}(0.0)        \n",
       " Gray{Float64}(2.66159e-17)      Gray{Float64}(0.0)        \n",
       " Gray{Float64}(1.57702e-16)      Gray{Float64}(0.0)        "
      ]
     },
     "metadata": {},
     "output_type": "display_data"
    },
    {
     "data": {
      "image/png": "[encoded data removed]",
      "text/plain": [
       "28×28 Array{Gray{Float64},2}:\n",
       " Gray{Float64}(2.35659e-16)   …  Gray{Float64}(0.0)         \n",
       " Gray{Float64}(4.77623e-16)      Gray{Float64}(0.0)         \n",
       " Gray{Float64}(-3.3649e-16)      Gray{Float64}(0.0)         \n",
       " Gray{Float64}(-2.45379e-16)     Gray{Float64}(0.0)         \n",
       " Gray{Float64}(-1.25453e-16)     Gray{Float64}(0.0)         \n",
       " Gray{Float64}(3.6135e-18)    …  Gray{Float64}(0.000104255) \n",
       " Gray{Float64}(-3.74633e-16)     Gray{Float64}(-0.000740083)\n",
       " Gray{Float64}(1.29599e-16)      Gray{Float64}(-0.00217103) \n",
       " Gray{Float64}(1.97063e-16)      Gray{Float64}(-0.00911153) \n",
       " Gray{Float64}(2.18254e-16)      Gray{Float64}(-0.00361403) \n",
       " Gray{Float64}(-5.65251e-17)  …  Gray{Float64}(0.0)         \n",
       " Gray{Float64}(3.8808e-17)       Gray{Float64}(0.0)         \n",
       " Gray{Float64}(-8.80754e-17)     Gray{Float64}(0.0)         \n",
       " ⋮                            ⋱                             \n",
       " Gray{Float64}(7.78141e-17)      Gray{Float64}(0.0)         \n",
       " Gray{Float64}(-1.77552e-16)     Gray{Float64}(0.0)         \n",
       " Gray{Float64}(1.3008e-16)       Gray{Float64}(0.0)         \n",
       " Gray{Float64}(-1.14548e-16)     Gray{Float64}(0.0)         \n",
       " Gray{Float64}(5.33774e-17)   …  Gray{Float64}(0.0)         \n",
       " Gray{Float64}(-6.1142e-17)      Gray{Float64}(0.0)         \n",
       " Gray{Float64}(2.98929e-17)      Gray{Float64}(0.0)         \n",
       " Gray{Float64}(8.38591e-17)      Gray{Float64}(0.0)         \n",
       " Gray{Float64}(4.74633e-17)      Gray{Float64}(0.0)         \n",
       " Gray{Float64}(-8.7812e-17)   …  Gray{Float64}(0.0)         \n",
       " Gray{Float64}(2.43285e-17)      Gray{Float64}(0.0)         \n",
       " Gray{Float64}(4.92942e-18)      Gray{Float64}(0.0)         "
      ]
     },
     "metadata": {},
     "output_type": "display_data"
    },
    {
     "data": {
      "image/png": "[encoded data removed]",
      "text/plain": [
       "28×28 Array{Gray{Float64},2}:\n",
       " Gray{Float64}(-3.62778e-17)  …  Gray{Float64}(0.0)      \n",
       " Gray{Float64}(-1.31301e-15)     Gray{Float64}(0.0)      \n",
       " Gray{Float64}(-2.24301e-16)     Gray{Float64}(0.0)      \n",
       " Gray{Float64}(-3.6204e-16)      Gray{Float64}(0.0)      \n",
       " Gray{Float64}(-4.98475e-17)     Gray{Float64}(0.0)      \n",
       " Gray{Float64}(-6.86156e-16)  …  Gray{Float64}(0.0)      \n",
       " Gray{Float64}(2.90113e-16)      Gray{Float64}(0.0254182)\n",
       " Gray{Float64}(3.81647e-16)      Gray{Float64}(0.0164659)\n",
       " Gray{Float64}(2.39509e-16)      Gray{Float64}(0.0)      \n",
       " Gray{Float64}(1.47354e-16)      Gray{Float64}(0.0)      \n",
       " Gray{Float64}(-1.62467e-16)  …  Gray{Float64}(0.0)      \n",
       " Gray{Float64}(-9.87128e-17)     Gray{Float64}(0.0)      \n",
       " Gray{Float64}(5.65407e-17)      Gray{Float64}(0.0)      \n",
       " ⋮                            ⋱                          \n",
       " Gray{Float64}(-2.06543e-16)     Gray{Float64}(0.0)      \n",
       " Gray{Float64}(-8.55722e-16)     Gray{Float64}(0.0)      \n",
       " Gray{Float64}(9.48957e-18)      Gray{Float64}(0.0)      \n",
       " Gray{Float64}(1.33562e-16)      Gray{Float64}(0.0)      \n",
       " Gray{Float64}(9.72576e-17)   …  Gray{Float64}(0.0)      \n",
       " Gray{Float64}(4.55163e-17)      Gray{Float64}(0.0)      \n",
       " Gray{Float64}(2.10692e-16)      Gray{Float64}(0.0)      \n",
       " Gray{Float64}(-2.24408e-16)     Gray{Float64}(0.0)      \n",
       " Gray{Float64}(2.59692e-16)      Gray{Float64}(0.0)      \n",
       " Gray{Float64}(1.23437e-17)   …  Gray{Float64}(0.0)      \n",
       " Gray{Float64}(-2.57914e-16)     Gray{Float64}(0.0)      \n",
       " Gray{Float64}(1.9226e-16)       Gray{Float64}(0.0)      "
      ]
     },
     "metadata": {},
     "output_type": "display_data"
    },
    {
     "data": {
      "image/png": "[encoded data removed]",
      "text/plain": [
       "28×28 Array{Gray{Float64},2}:\n",
       " Gray{Float64}(-6.1821e-16)   …  Gray{Float64}(0.0)\n",
       " Gray{Float64}(1.8507e-16)       Gray{Float64}(0.0)\n",
       " Gray{Float64}(-2.38726e-17)     Gray{Float64}(0.0)\n",
       " Gray{Float64}(-1.22572e-16)     Gray{Float64}(0.0)\n",
       " Gray{Float64}(-9.44202e-19)     Gray{Float64}(0.0)\n",
       " Gray{Float64}(2.53406e-16)   …  Gray{Float64}(0.0)\n",
       " Gray{Float64}(1.62315e-16)      Gray{Float64}(0.0)\n",
       " Gray{Float64}(0.00256837)       Gray{Float64}(0.0)\n",
       " Gray{Float64}(0.0104374)        Gray{Float64}(0.0)\n",
       " Gray{Float64}(0.00169403)       Gray{Float64}(0.0)\n",
       " Gray{Float64}(7.9544e-18)    …  Gray{Float64}(0.0)\n",
       " Gray{Float64}(7.04476e-17)      Gray{Float64}(0.0)\n",
       " Gray{Float64}(-6.4557e-17)      Gray{Float64}(0.0)\n",
       " ⋮                            ⋱                    \n",
       " Gray{Float64}(-1.71854e-16)     Gray{Float64}(0.0)\n",
       " Gray{Float64}(1.82084e-16)      Gray{Float64}(0.0)\n",
       " Gray{Float64}(-1.86655e-16)     Gray{Float64}(0.0)\n",
       " Gray{Float64}(-1.30712e-16)     Gray{Float64}(0.0)\n",
       " Gray{Float64}(-2.21465e-16)  …  Gray{Float64}(0.0)\n",
       " Gray{Float64}(1.85112e-16)      Gray{Float64}(0.0)\n",
       " Gray{Float64}(3.57813e-16)      Gray{Float64}(0.0)\n",
       " Gray{Float64}(2.39055e-16)      Gray{Float64}(0.0)\n",
       " Gray{Float64}(2.80553e-16)      Gray{Float64}(0.0)\n",
       " Gray{Float64}(2.60398e-16)   …  Gray{Float64}(0.0)\n",
       " Gray{Float64}(-1.72224e-16)     Gray{Float64}(0.0)\n",
       " Gray{Float64}(1.94158e-16)      Gray{Float64}(0.0)"
      ]
     },
     "metadata": {},
     "output_type": "display_data"
    },
    {
     "data": {
      "image/png": "[encoded data removed]",
      "text/plain": [
       "28×28 Array{Gray{Float64},2}:\n",
       " Gray{Float64}(1.08405e-16)   …  Gray{Float64}(0.0)        \n",
       " Gray{Float64}(4.00306e-16)      Gray{Float64}(0.0)        \n",
       " Gray{Float64}(-2.83534e-16)     Gray{Float64}(0.0)        \n",
       " Gray{Float64}(-1.63601e-16)     Gray{Float64}(0.0)        \n",
       " Gray{Float64}(1.80646e-16)      Gray{Float64}(0.0)        \n",
       " Gray{Float64}(7.24241e-16)   …  Gray{Float64}(0.0)        \n",
       " Gray{Float64}(4.83613e-16)      Gray{Float64}(0.00166609) \n",
       " Gray{Float64}(5.93312e-17)      Gray{Float64}(0.000192745)\n",
       " Gray{Float64}(-1.11707e-17)     Gray{Float64}(-0.00168199)\n",
       " Gray{Float64}(-1.30886e-16)     Gray{Float64}(-1.88987e-5)\n",
       " Gray{Float64}(-9.26607e-16)  …  Gray{Float64}(0.0)        \n",
       " Gray{Float64}(-1.99474e-16)     Gray{Float64}(0.00061035) \n",
       " Gray{Float64}(2.47739e-16)      Gray{Float64}(0.00209263) \n",
       " ⋮                            ⋱                            \n",
       " Gray{Float64}(6.03625e-17)      Gray{Float64}(0.0)        \n",
       " Gray{Float64}(-4.09022e-16)     Gray{Float64}(0.0)        \n",
       " Gray{Float64}(-1.13067e-16)     Gray{Float64}(0.0)        \n",
       " Gray{Float64}(-2.75825e-16)     Gray{Float64}(0.0)        \n",
       " Gray{Float64}(1.33885e-16)   …  Gray{Float64}(0.0)        \n",
       " Gray{Float64}(-2.62756e-16)     Gray{Float64}(0.0)        \n",
       " Gray{Float64}(1.19487e-16)      Gray{Float64}(0.0)        \n",
       " Gray{Float64}(3.01561e-17)      Gray{Float64}(0.0)        \n",
       " Gray{Float64}(2.77146e-17)      Gray{Float64}(0.0)        \n",
       " Gray{Float64}(7.4886e-17)    …  Gray{Float64}(0.0)        \n",
       " Gray{Float64}(-1.76789e-16)     Gray{Float64}(0.0)        \n",
       " Gray{Float64}(-3.93101e-18)     Gray{Float64}(0.0)        "
      ]
     },
     "metadata": {},
     "output_type": "display_data"
    },
    {
     "data": {
      "image/png": "[encoded data removed]",
      "text/plain": [
       "28×28 Array{Gray{Float64},2}:\n",
       " Gray{Float64}(-7.89427e-16)  …  Gray{Float64}(0.0)\n",
       " Gray{Float64}(-5.50439e-16)     Gray{Float64}(0.0)\n",
       " Gray{Float64}(-8.15019e-16)     Gray{Float64}(0.0)\n",
       " Gray{Float64}(-1.01749e-15)     Gray{Float64}(0.0)\n",
       " Gray{Float64}(4.25389e-16)      Gray{Float64}(0.0)\n",
       " Gray{Float64}(-7.98923e-17)  …  Gray{Float64}(0.0)\n",
       " Gray{Float64}(1.09892e-15)      Gray{Float64}(0.0)\n",
       " Gray{Float64}(-2.36339e-16)     Gray{Float64}(0.0)\n",
       " Gray{Float64}(2.0022e-16)       Gray{Float64}(0.0)\n",
       " Gray{Float64}(5.2985e-16)       Gray{Float64}(0.0)\n",
       " Gray{Float64}(5.8704e-17)    …  Gray{Float64}(0.0)\n",
       " Gray{Float64}(1.69427e-16)      Gray{Float64}(0.0)\n",
       " Gray{Float64}(-6.79721e-16)     Gray{Float64}(0.0)\n",
       " ⋮                            ⋱                    \n",
       " Gray{Float64}(8.71682e-17)      Gray{Float64}(0.0)\n",
       " Gray{Float64}(-2.61583e-16)     Gray{Float64}(0.0)\n",
       " Gray{Float64}(5.21468e-17)      Gray{Float64}(0.0)\n",
       " Gray{Float64}(1.64632e-16)      Gray{Float64}(0.0)\n",
       " Gray{Float64}(3.15636e-17)   …  Gray{Float64}(0.0)\n",
       " Gray{Float64}(1.14642e-17)      Gray{Float64}(0.0)\n",
       " Gray{Float64}(-5.55751e-17)     Gray{Float64}(0.0)\n",
       " Gray{Float64}(3.73262e-17)      Gray{Float64}(0.0)\n",
       " Gray{Float64}(-9.05883e-17)     Gray{Float64}(0.0)\n",
       " Gray{Float64}(-7.40113e-17)  …  Gray{Float64}(0.0)\n",
       " Gray{Float64}(-1.56408e-16)     Gray{Float64}(0.0)\n",
       " Gray{Float64}(7.2617e-17)       Gray{Float64}(0.0)"
      ]
     },
     "metadata": {},
     "output_type": "display_data"
    }
   ],
   "source": [
    "# Examine each possible model-- show a reconstructed image\n",
    "costs = []\n",
    "for midx in 1:10\n",
    "    model = Ms[midx]\n",
    "    reduced_img = transform(model, matrix[:, rand_img_idx])\n",
    "    reconstructed_img = reconstruct(model, reduced_img)\n",
    "    display(Gray.(reshape(reconstructed_img, (28, 28))))\n",
    "    reconstruction_cost = sum(abs2, matrix[:, rand_img_idx] .- reconstructed_img)\n",
    "    push!(costs, reconstruction_cost)\n",
    "end"
   ]
  },
  {
   "cell_type": "code",
   "execution_count": 88,
   "metadata": {},
   "outputs": [
    {
     "data": {
      "text/plain": [
       "(10.375548559625937, 4)"
      ]
     },
     "execution_count": 88,
     "metadata": {},
     "output_type": "execute_result"
    }
   ],
   "source": [
    "findmin(costs)"
   ]
  },
  {
   "cell_type": "code",
   "execution_count": 90,
   "metadata": {},
   "outputs": [
    {
     "data": {
      "text/plain": [
       "4"
      ]
     },
     "execution_count": 90,
     "metadata": {},
     "output_type": "execute_result"
    }
   ],
   "source": [
    "model_number = findmin(costs)[2]"
   ]
  },
  {
   "cell_type": "code",
   "execution_count": 91,
   "metadata": {},
   "outputs": [
    {
     "data": {
      "text/plain": [
       "3"
      ]
     },
     "execution_count": 91,
     "metadata": {},
     "output_type": "execute_result"
    }
   ],
   "source": [
    "classification = model_number - 1"
   ]
  },
  {
   "cell_type": "code",
   "execution_count": 92,
   "metadata": {},
   "outputs": [
    {
     "data": {
      "text/plain": [
       "3"
      ]
     },
     "execution_count": 92,
     "metadata": {},
     "output_type": "execute_result"
    }
   ],
   "source": [
    "true_label = labels[rand_img_idx]"
   ]
  },
  {
   "cell_type": "markdown",
   "metadata": {},
   "source": [
    "## Conclusion\n",
    "\n",
    "One way to think about dimensionality reduction is as information retention. Dimensionality reduction models try to retain as much information as possible with as few numbers as possible. Different pieces of the dataset utilize different numbers, and thus the way you would want to dimensionally reduce is dependent on what you want to store. For the pictures of apples, the mean of the red pixels and the height of the apple might be most of the information, while for a banana the height may not be a differentiating factor. Thus by seeing how the dimensionality reduction is able to reproduce the image, we are able to back out what image we are looking at!"
   ]
  },
  {
   "cell_type": "markdown",
   "metadata": {},
   "source": [
    "## Mathematical bonus (Optional, for the mathematically-inclined!)\n",
    "\n",
    "Above we used statistics packages for dimensionality reduction, but we could do this directly by using the \n",
    "**singular value decomposition** (SVD). This is the mathematical operation of finding a matrix factorization `A = U S V'`, where `U`'s leading columns are a low rank approximation to `A`. Thus we can generate projection matrices using this matrix from the factorization:"
   ]
  },
  {
   "cell_type": "code",
   "execution_count": null,
   "metadata": {
    "collapsed": true
   },
   "outputs": [],
   "source": [
    "u = [svdfact(training_data[i])[:U][:,1:singular_vec_size] for i=1:10];"
   ]
  },
  {
   "cell_type": "markdown",
   "metadata": {},
   "source": [
    "And then we can classify based on the reconstruction error using this low-rank approximation"
   ]
  },
  {
   "cell_type": "code",
   "execution_count": null,
   "metadata": {
    "collapsed": true
   },
   "outputs": [],
   "source": [
    "z = vcat([sum((u[i]'matrix).^2,1) for i=1:10]...)\n",
    "result = rem.( [ findmax(z[:,i])[2] for i=1:60000] ,10)\n",
    "mean(result .== labels)"
   ]
  },
  {
   "cell_type": "markdown",
   "metadata": {},
   "source": [
    "Notice that we get the same result. This shows that, internally, PCA is the dimensionality reduction algorithm which is simply using the low-rank approximation of an SVD factorization!"
   ]
  }
 ],
 "metadata": {
  "kernelspec": {
   "display_name": "Julia 0.6.2",
   "language": "julia",
   "name": "julia-0.6"
  },
  "language_info": {
   "file_extension": ".jl",
   "mimetype": "application/julia",
   "name": "julia",
   "version": "0.6.2"
  }
 },
 "nbformat": 4,
 "nbformat_minor": 2
}

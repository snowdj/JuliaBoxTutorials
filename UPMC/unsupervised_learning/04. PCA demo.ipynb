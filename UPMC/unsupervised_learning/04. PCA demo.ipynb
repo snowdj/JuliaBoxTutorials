{
 "cells": [
  {
   "cell_type": "markdown",
   "metadata": {},
   "source": [
    "# PCA for dimensionality reduction\n",
    "\n",
    "Let us try to reduce the dimensions of the price/area data from the houses dataset.\n",
    "\n",
    "We can start by loading this dataset as a table, grabbing the columns for square footage and prices of the houses, and storing them in an `Array`, `F`. To work properly with the methods we'll be using, `F` should contain `Float`s and should have one row for every feature/dimension and one column for every data point/sample.\n",
    "\n",
    "As before, we'll load `JuliaDB` and filter out the data points for which no square footage was recorded."
   ]
  },
  {
   "cell_type": "code",
   "execution_count": null,
   "metadata": {},
   "outputs": [],
   "source": [
    "using JuliaDB\n",
    "using Plots; gr()"
   ]
  },
  {
   "cell_type": "code",
   "execution_count": null,
   "metadata": {},
   "outputs": [],
   "source": [
    "houses = loadtable(\"houses.csv\")\n",
    "filtered_houses = filter(x -> x > 0, houses; select = :sq__ft);"
   ]
  },
  {
   "cell_type": "markdown",
   "metadata": {},
   "source": [
    "From `filtered_houses`, we'll use `select` to grab the columns of interest."
   ]
  },
  {
   "cell_type": "code",
   "execution_count": null,
   "metadata": {},
   "outputs": [],
   "source": [
    "F = select(filtered_houses, (:sq__ft, :price))"
   ]
  },
  {
   "cell_type": "markdown",
   "metadata": {},
   "source": [
    "For the purpose of processing the data in table `F`, we want to have this data stored in an `Array`. We'll convert `F` to an `Array` with the following bit of code:"
   ]
  },
  {
   "cell_type": "code",
   "execution_count": null,
   "metadata": {},
   "outputs": [],
   "source": [
    "Farray = hcat(columns(F)...)'"
   ]
  },
  {
   "cell_type": "markdown",
   "metadata": {},
   "source": [
    "What did we just do here?\n",
    "\n",
    "Let's take a moment to look at each of the functions composed in the above command, one at a time.\n",
    "\n",
    "First, we have the `columns` command. This returns a `Tuple` storing an `Array` for each column in the input data structure."
   ]
  },
  {
   "cell_type": "code",
   "execution_count": null,
   "metadata": {},
   "outputs": [],
   "source": [
    "columns(F)"
   ]
  },
  {
   "cell_type": "code",
   "execution_count": null,
   "metadata": {},
   "outputs": [],
   "source": [
    "columns(F)[1]"
   ]
  },
  {
   "cell_type": "markdown",
   "metadata": {},
   "source": [
    "The `hcat` command will build a multidimensional array from a set of input `Vector`s, or  1D `Array`s. For example,"
   ]
  },
  {
   "cell_type": "code",
   "execution_count": null,
   "metadata": {},
   "outputs": [],
   "source": [
    "hcat([1, 2, 3], [4, 5, 6])"
   ]
  },
  {
   "cell_type": "markdown",
   "metadata": {},
   "source": [
    "We want to use `hcat` to construct a 2D `Array` (or `Matrix`) from the `Vector`s that we get from `columns`.\n",
    "\n",
    "However, if we try to run `hcat` directly on the output of `columns`, it won't do what we expect."
   ]
  },
  {
   "cell_type": "code",
   "execution_count": null,
   "metadata": {},
   "outputs": [],
   "source": [
    "hcat(columns(F))"
   ]
  },
  {
   "cell_type": "markdown",
   "metadata": {},
   "source": [
    "What we want is a 2D `Array` with 814 rows, but we've accidentally created a 1x1 `Array`.\n",
    "\n",
    "The issue is that we need to pass **the components** of the output of `columns`, **not the output** of `columns`. We can think of the \"splat\" command, `...`, as unraveling the data structure it follows.\n",
    "\n",
    "Compare the difference of the two calls to `hcat`:"
   ]
  },
  {
   "cell_type": "code",
   "execution_count": null,
   "metadata": {},
   "outputs": [],
   "source": [
    "hcat([[1, 2], [3, 4]])"
   ]
  },
  {
   "cell_type": "code",
   "execution_count": null,
   "metadata": {},
   "outputs": [],
   "source": [
    "hcat([[1, 2], [3, 4]]...)"
   ]
  },
  {
   "cell_type": "markdown",
   "metadata": {},
   "source": [
    "Let's store the `Array` version of `F` in `F` itself:"
   ]
  },
  {
   "cell_type": "code",
   "execution_count": null,
   "metadata": {},
   "outputs": [],
   "source": [
    "F = hcat(columns(F)...)'"
   ]
  },
  {
   "cell_type": "markdown",
   "metadata": {},
   "source": [
    "Recall how the data looks when we plot housing prices against square footage."
   ]
  },
  {
   "cell_type": "code",
   "execution_count": null,
   "metadata": {},
   "outputs": [],
   "source": [
    "scatter(F[1,:],F[2,:], legend = false)\n",
    "xlabel!(\"Square footage\")\n",
    "ylabel!(\"Housing prices\")\n",
    "title!(\"Housing prices vs. square footage\")"
   ]
  },
  {
   "cell_type": "markdown",
   "metadata": {},
   "source": [
    "We can use the `MultivariateStats` package to run PCA"
   ]
  },
  {
   "cell_type": "code",
   "execution_count": null,
   "metadata": {
    "collapsed": true
   },
   "outputs": [],
   "source": [
    "# Pkg.add(\"MultivariateStats\")\n",
    "using MultivariateStats"
   ]
  },
  {
   "cell_type": "markdown",
   "metadata": {},
   "source": [
    "Next we'll use `fit` to fit the model, but `fit` won't work on an `Array` `F` of `Int`s. Let's convert `F` to an `Array` of `Float`s."
   ]
  },
  {
   "cell_type": "code",
   "execution_count": null,
   "metadata": {},
   "outputs": [],
   "source": [
    "F = convert(Array{Float64}, F)"
   ]
  },
  {
   "cell_type": "markdown",
   "metadata": {},
   "source": [
    "Now use `fit` to fit the model"
   ]
  },
  {
   "cell_type": "code",
   "execution_count": null,
   "metadata": {},
   "outputs": [],
   "source": [
    "M = fit(PCA, F)"
   ]
  },
  {
   "cell_type": "markdown",
   "metadata": {},
   "source": [
    "Note that you can choose the maximum dimension of the new space by setting `maxoutdim`, and you can change the method to, for example, `:svd` with the following syntax.\n",
    "\n",
    "```julia\n",
    "fit(PCA, F; maxoutdim = 1,method=:svd)\n",
    "```"
   ]
  },
  {
   "cell_type": "markdown",
   "metadata": {},
   "source": [
    "It seems like we only get one dimension with PCA! Let's use `transform` to map all of our 2D data in `F` to `1D` data with our model, `M`."
   ]
  },
  {
   "cell_type": "code",
   "execution_count": null,
   "metadata": {},
   "outputs": [],
   "source": [
    "y = transform(M, F)"
   ]
  },
  {
   "cell_type": "markdown",
   "metadata": {},
   "source": [
    "Let's use `reconstruct` to put our now 1D data, `y`, in a form that we can easily overlay (`Xr`) with our 2D data in `F` along the principle direction/component."
   ]
  },
  {
   "cell_type": "code",
   "execution_count": null,
   "metadata": {},
   "outputs": [],
   "source": [
    "Xr = reconstruct(M, y)"
   ]
  },
  {
   "cell_type": "markdown",
   "metadata": {},
   "source": [
    "And now we create that overlay, where we can see points along the principle component in red. \n",
    "\n",
    "(Each blue point maps uniquely to some red point!)"
   ]
  },
  {
   "cell_type": "code",
   "execution_count": null,
   "metadata": {},
   "outputs": [],
   "source": [
    "scatter(F[1,:],F[2,:], label = \"Original data\")\n",
    "scatter!(Xr[1,:],Xr[2,:], label = \"PCA data\")\n",
    "xlabel!(\"Square footage\")\n",
    "ylabel!(\"Housing prices\")\n",
    "title!(\"Housing data overlaid with reconstructed data from PCA\")"
   ]
  },
  {
   "cell_type": "code",
   "execution_count": null,
   "metadata": {
    "collapsed": true
   },
   "outputs": [],
   "source": []
  },
  {
   "cell_type": "code",
   "execution_count": null,
   "metadata": {
    "collapsed": true
   },
   "outputs": [],
   "source": []
  }
 ],
 "metadata": {
  "kernelspec": {
   "display_name": "Julia 0.6.0",
   "language": "julia",
   "name": "julia-0.6"
  },
  "language_info": {
   "file_extension": ".jl",
   "mimetype": "application/julia",
   "name": "julia",
   "version": "0.6.0"
  }
 },
 "nbformat": 4,
 "nbformat_minor": 2
}

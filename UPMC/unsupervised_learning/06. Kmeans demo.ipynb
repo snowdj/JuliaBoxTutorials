{
 "cells": [
  {
   "cell_type": "markdown",
   "metadata": {},
   "source": [
    "# Kmeans Clustering\n",
    "\n",
    "In this notebook, we'll practice kmeans clustering on the housing data.\n",
    "\n",
    "In addition to `JuliaDB` and `Plots`, we will load the `Clustering` package to do this."
   ]
  },
  {
   "cell_type": "code",
   "execution_count": null,
   "metadata": {},
   "outputs": [],
   "source": [
    "using JuliaDB, Plots; gr()"
   ]
  },
  {
   "cell_type": "code",
   "execution_count": null,
   "metadata": {
    "collapsed": true
   },
   "outputs": [],
   "source": [
    "using Clustering"
   ]
  },
  {
   "cell_type": "markdown",
   "metadata": {},
   "source": [
    "For this exercise, we're interested in seeing how where the houses in our dataset fall on a spatial map. So, we'll grab their latitudes and longitudes with `select` and the column symbols, `:latitude` and `:longitude`."
   ]
  },
  {
   "cell_type": "code",
   "execution_count": null,
   "metadata": {},
   "outputs": [],
   "source": [
    "houses = loadtable(\"houses.csv\")\n",
    "locations = select(houses, (:latitude, :longitude))"
   ]
  },
  {
   "cell_type": "markdown",
   "metadata": {},
   "source": [
    "As in the last demo for PCA, we want our data in an `Array` to be compatible with our kmeans implementation. We'll convert `locations` to an `Array` with the following code (see notebook 4 if you forgot what this means):"
   ]
  },
  {
   "cell_type": "code",
   "execution_count": null,
   "metadata": {},
   "outputs": [],
   "source": [
    "locations = hcat(columns(locations)...)"
   ]
  },
  {
   "cell_type": "markdown",
   "metadata": {},
   "source": [
    "At this point, each data point is stored as a row of `locations`, but we can transpose `locations` to make these samples correspond to columns of `locations`."
   ]
  },
  {
   "cell_type": "code",
   "execution_count": null,
   "metadata": {},
   "outputs": [],
   "source": [
    "locations = locations'"
   ]
  },
  {
   "cell_type": "markdown",
   "metadata": {},
   "source": [
    "As a first pass at guessing how many clusters we might need, let's use the number of zip codes in our data.\n",
    "\n",
    "(Try changing this to see how it impacts results!)"
   ]
  },
  {
   "cell_type": "code",
   "execution_count": null,
   "metadata": {},
   "outputs": [],
   "source": [
    "k = length(unique(select(houses, :zip)) )"
   ]
  },
  {
   "cell_type": "markdown",
   "metadata": {},
   "source": [
    "We can use the `kmeans` function to do kmeans clustering!"
   ]
  },
  {
   "cell_type": "code",
   "execution_count": null,
   "metadata": {},
   "outputs": [],
   "source": [
    "C = kmeans(locations, k)"
   ]
  },
  {
   "cell_type": "markdown",
   "metadata": {},
   "source": [
    "Now let's create a new table, `clustered_houses`, with all the same data as `filtered_houses` that also includes a column for the cluster to which each house has been assigned.\n",
    "\n",
    "Our output from `kmeans()` has an `assigments` field that stores the cluster assignments for each data point."
   ]
  },
  {
   "cell_type": "code",
   "execution_count": null,
   "metadata": {},
   "outputs": [],
   "source": [
    "C.assignments"
   ]
  },
  {
   "cell_type": "markdown",
   "metadata": {},
   "source": [
    "To create a new table from `houses` with a column for these cluster assignments, use `setcol`. Here `setcol` takes as inputs\n",
    "\n",
    "* the name of the table to add to\n",
    "* the name of the new column to add\n",
    "* the data for the new column to add"
   ]
  },
  {
   "cell_type": "code",
   "execution_count": null,
   "metadata": {},
   "outputs": [],
   "source": [
    "clustered_houses = setcol(houses, :cluster, C.assignments )"
   ]
  },
  {
   "cell_type": "markdown",
   "metadata": {},
   "source": [
    "Let's plot each cluster as a different color."
   ]
  },
  {
   "cell_type": "code",
   "execution_count": null,
   "metadata": {},
   "outputs": [],
   "source": [
    "clusters_figure = plot()\n",
    "for i = 1:k\n",
    "    houses_in_cluster_i = filter(x -> x == i, clustered_houses, select = :cluster)\n",
    "    xvals = select(houses_in_cluster_i, :latitude)\n",
    "    yvals = select(houses_in_cluster_i, :longitude)\n",
    "    scatter!(xvals, yvals, markersize=4)\n",
    "end\n",
    "xlabel!(\"Latitude\")\n",
    "ylabel!(\"Longitude\")\n",
    "title!(\"Houses color-coded by cluster\")\n",
    "display(clusters_figure)"
   ]
  },
  {
   "cell_type": "markdown",
   "metadata": {},
   "source": [
    "And now let's try coloring them by zip code."
   ]
  },
  {
   "cell_type": "code",
   "execution_count": null,
   "metadata": {},
   "outputs": [],
   "source": [
    "unique_zips = unique(select(houses, :zip))\n",
    "zips_figure = plot()\n",
    "for uzip in unique_zips\n",
    "    subs = filter(x -> x == uzip, houses, select = :zip)\n",
    "    x = select(subs, :latitude)\n",
    "    y = select(subs, :longitude)\n",
    "    scatter!(zips_figure,x,y)\n",
    "end\n",
    "xlabel!(\"Latitude\")\n",
    "ylabel!(\"Longitude\")\n",
    "title!(\"Houses color-coded by zip code\")\n",
    "display(zips_figure)"
   ]
  },
  {
   "cell_type": "markdown",
   "metadata": {},
   "source": [
    "Let's see the two plots side by side."
   ]
  },
  {
   "cell_type": "code",
   "execution_count": null,
   "metadata": {},
   "outputs": [],
   "source": [
    "plot(clusters_figure,zips_figure, layout=(2, 1), legend = false)"
   ]
  },
  {
   "cell_type": "markdown",
   "metadata": {},
   "source": [
    "It's not an exact match, but there are some structural similarities! Now we know that ZIP codes are not randomly assigned. :)"
   ]
  },
  {
   "cell_type": "code",
   "execution_count": null,
   "metadata": {
    "collapsed": true
   },
   "outputs": [],
   "source": []
  }
 ],
 "metadata": {
  "kernelspec": {
   "display_name": "Julia 0.6.0",
   "language": "julia",
   "name": "julia-0.6"
  },
  "language_info": {
   "file_extension": ".jl",
   "mimetype": "application/julia",
   "name": "julia",
   "version": "0.6.0"
  }
 },
 "nbformat": 4,
 "nbformat_minor": 2
}

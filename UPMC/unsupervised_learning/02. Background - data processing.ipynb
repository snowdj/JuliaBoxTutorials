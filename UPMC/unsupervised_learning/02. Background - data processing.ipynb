{
 "cells": [
  {
   "cell_type": "markdown",
   "metadata": {},
   "source": [
    "# Background - data processing\n",
    "\n",
    "In the coming sections, we'll see how to use a few standard machine learning algorithms in Julia. In order to apply these algorithms, you'll need to first know how to load and manipulate the *data* that you'll pass to these algorithms. \n",
    "\n",
    "We'll be using `JuliaDB`, a Julia package designed to allow you to work with \"large, persistent datasets\", to process our data. In this notebook, we'll review a few `JuliaDB` commands and familiarize you a bit with the dataset we'll use in later notebooks."
   ]
  },
  {
   "cell_type": "code",
   "execution_count": null,
   "metadata": {
    "collapsed": true
   },
   "outputs": [],
   "source": [
    "using JuliaDB"
   ]
  },
  {
   "cell_type": "markdown",
   "metadata": {},
   "source": [
    "Let's start with some data.\n",
    "\n",
    "The Sacramento real estate transactions file that we download next is a list of 985 real estate transactions in the Sacramento area reported over a five-day period,"
   ]
  },
  {
   "cell_type": "code",
   "execution_count": null,
   "metadata": {
    "collapsed": true
   },
   "outputs": [],
   "source": [
    "houses = loadtable(\"../Intro-to-Julia/houses.csv\")"
   ]
  },
  {
   "cell_type": "markdown",
   "metadata": {},
   "source": [
    "`loadtable` is giving us a summary with the names of and types stored in all columns. Let's start by looking at how the housing prices (column 10) change with the house size/square footage (column 7).\n",
    "\n",
    "To grab each column of interest from the `houses` table, we'll use the `select` command."
   ]
  },
  {
   "cell_type": "code",
   "execution_count": null,
   "metadata": {
    "collapsed": true
   },
   "outputs": [],
   "source": [
    "x = select(houses, :sq__ft)\n",
    "y = select(houses, :price)"
   ]
  },
  {
   "cell_type": "markdown",
   "metadata": {},
   "source": [
    "We'll use `Plots` to plot with the `pyplot` backend and `scatter` to create a scatter plot."
   ]
  },
  {
   "cell_type": "code",
   "execution_count": null,
   "metadata": {
    "collapsed": true
   },
   "outputs": [],
   "source": [
    "using Plots\n",
    "scatter(x,y,markersize=3)\n",
    "xlabel!(\"Square footage\")\n",
    "ylabel!(\"Price\")\n",
    "title!(\"House prices vs. square footage\")"
   ]
  },
  {
   "cell_type": "markdown",
   "metadata": {},
   "source": [
    "*Why are there houses with 0 square feet that cost money?*\n",
    "\n",
    "The square footage seems to not have been recorded in these cases. \n",
    "\n",
    "Filtering these houses out is easy to do with `filter`!\n",
    "\n",
    "Below we pass three inputs to `filter` to create a new table, `filtered_houses`:\n",
    "\n",
    "* the rule to follow when filtering (only keep data where x > 0)\n",
    "* the table to which we should apply the filtering rule\n",
    "* the column of the table to which we should apply the filtering rule (using the `select` keyword argument)"
   ]
  },
  {
   "cell_type": "code",
   "execution_count": null,
   "metadata": {
    "collapsed": true
   },
   "outputs": [],
   "source": [
    "filtered_houses = filter(x -> x > 0, houses; select = :sq__ft)"
   ]
  },
  {
   "cell_type": "markdown",
   "metadata": {},
   "source": [
    "We again use `select` to grab the columns for house sizes and prices from the filtered table, and then we generate a new plot."
   ]
  },
  {
   "cell_type": "code",
   "execution_count": null,
   "metadata": {
    "collapsed": true
   },
   "outputs": [],
   "source": [
    "x = select(filtered_houses, :sq__ft)\n",
    "y = select(filtered_houses, :price)\n",
    "scatter(x,y)\n",
    "xlabel!(\"Square footage\")\n",
    "ylabel!(\"Price\")\n",
    "title!(\"House prices vs. square footage (recorded only!)\")"
   ]
  },
  {
   "cell_type": "markdown",
   "metadata": {},
   "source": [
    "This makes sense! The higher the square footage, the higher the price.\n",
    "\n",
    "In the next notebooks, we'll learn about dimensionality reduction and how to see this upward trend in prices with size more formally."
   ]
  },
  {
   "cell_type": "code",
   "execution_count": null,
   "metadata": {
    "collapsed": true
   },
   "outputs": [],
   "source": []
  }
 ],
 "metadata": {
  "kernelspec": {
   "display_name": "Julia 0.6.0",
   "language": "julia",
   "name": "julia-0.6"
  },
  "language_info": {
   "file_extension": ".jl",
   "mimetype": "application/julia",
   "name": "julia",
   "version": "0.6.0"
  }
 },
 "nbformat": 4,
 "nbformat_minor": 2
}

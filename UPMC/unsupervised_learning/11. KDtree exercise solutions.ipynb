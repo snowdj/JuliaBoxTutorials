{
 "cells": [
  {
   "cell_type": "markdown",
   "metadata": {},
   "source": [
    "## KD Tree Exercises\n",
    "\n",
    "### Load data\n",
    "\n",
    "As before, start by loading in the data!"
   ]
  },
  {
   "cell_type": "code",
   "execution_count": 4,
   "metadata": {},
   "outputs": [],
   "source": [
    "using JuliaDB, MNIST \n",
    "\n",
    "rescale(A, dim::Integer=1) = (A .- mean(A, dim)) ./ max.(std(A, dim), eps())\n",
    "\n",
    "# Fruit dataset\n",
    "fruit_table = loadtable([\"../training/data/Apple_Golden_1.dat\",\"../training/data/bananas.dat\"]; delim = '\\t', filenamecol=:apple => (x) -> x == \"../training/data/Apple_Golden_1.dat\" ? true : false)\n",
    "\n",
    "matdata = hcat(columns(fruit_table)...)\n",
    "fruit_data = rescale(matdata[:,2:end], 1)\n",
    "fruit_labels = ifelse.(matdata[:,1].==1, \"Apple\",\"Banana\")\n",
    "\n",
    "# Mystery dataset\n",
    "mystery_data, labels = traindata()\n",
    "N = 2500\n",
    "mystery_data = rescale(convert(Matrix{Float64}, mystery_data[:, 1:N])',1)\n",
    "mystery_labels = Int.(labels)[1:N];"
   ]
  },
  {
   "cell_type": "markdown",
   "metadata": {},
   "source": [
    "### Build KD Trees\n",
    "\n",
    "Build `KDTree`s from your fruit and mystery data sets called `fruit_kdtree` and `mystery_kdtree`.\n",
    "\n",
    "#### Solution"
   ]
  },
  {
   "cell_type": "code",
   "execution_count": 5,
   "metadata": {},
   "outputs": [
    {
     "data": {
      "text/plain": [
       "NearestNeighbors.KDTree{StaticArrays.SArray{Tuple{784},Float64,1,784},Distances.Euclidean,Float64}\n",
       "  Number of points: 2500\n",
       "  Dimensions: 784\n",
       "  Metric: Distances.Euclidean(0.0)\n",
       "  Reordered: true"
      ]
     },
     "execution_count": 5,
     "metadata": {},
     "output_type": "execute_result"
    }
   ],
   "source": [
    "using NearestNeighbors\n",
    "\n",
    "fruit_kdtree = KDTree(fruit_data')\n",
    "mystery_kdtree = KDTree(mystery_data')"
   ]
  },
  {
   "cell_type": "markdown",
   "metadata": {},
   "source": [
    "### KNN\n",
    "\n",
    "Try out `knn` on your kd trees. For each dataset, look at the ten nearest neighbors for a random point in your dataset. Do those ten nearest neighbors have the correct classification? (Try this for a few random points!)\n",
    "\n",
    "#### Solution for fruits: "
   ]
  },
  {
   "cell_type": "markdown",
   "metadata": {},
   "source": [
    "First, let's find the indices of the neighbors of a random point"
   ]
  },
  {
   "cell_type": "code",
   "execution_count": 6,
   "metadata": {},
   "outputs": [
    {
     "name": "stdout",
     "output_type": "stream",
     "text": [
      "Randomly chose point 471, whose nearest neighbors are points [471, 467, 477, 476, 478, 479, 470, 466, 473, 472]\n"
     ]
    }
   ],
   "source": [
    "# Define the number of nearest neighbors\n",
    "knearest = 10\n",
    "# Randomly choose the index of one of the points in your dataset\n",
    "fruit_i = rand(1:size(fruit_data, 1))\n",
    "# Use this index to grab the relevant point in  your dataset\n",
    "fruit_point = fruit_data[fruit_i, :]\n",
    "# Perform KNN to get the knearest nearest neighbors\n",
    "fruit_idxs, dists = knn(fruit_kdtree, fruit_point, knearest, true)\n",
    "println(\"Randomly chose point $fruit_i, whose nearest neighbors are points $fruit_idxs\")"
   ]
  },
  {
   "cell_type": "markdown",
   "metadata": {},
   "source": [
    "Now that we have these indices, let's check the labels of all of these points. Do they match the label of the randomly chosen point?"
   ]
  },
  {
   "cell_type": "code",
   "execution_count": 7,
   "metadata": {},
   "outputs": [
    {
     "data": {
      "text/plain": [
       "\"Apple\""
      ]
     },
     "execution_count": 7,
     "metadata": {},
     "output_type": "execute_result"
    }
   ],
   "source": [
    "fruit_labels[fruit_i]"
   ]
  },
  {
   "cell_type": "code",
   "execution_count": 8,
   "metadata": {},
   "outputs": [
    {
     "data": {
      "text/plain": [
       "10-element Array{String,1}:\n",
       " \"Apple\"\n",
       " \"Apple\"\n",
       " \"Apple\"\n",
       " \"Apple\"\n",
       " \"Apple\"\n",
       " \"Apple\"\n",
       " \"Apple\"\n",
       " \"Apple\"\n",
       " \"Apple\"\n",
       " \"Apple\""
      ]
     },
     "execution_count": 8,
     "metadata": {},
     "output_type": "execute_result"
    }
   ],
   "source": [
    "fruit_labels[fruit_idxs]"
   ]
  },
  {
   "cell_type": "markdown",
   "metadata": {},
   "source": [
    "The labels of your neighbors should be the same as the label of your randomly chosen point!\n",
    "\n",
    "Now let's try this for the mystery dataset (which, if you haven't noticed yet, is the MNIST dataset. :) )\n",
    "\n",
    "#### Solution for MNIST:\n"
   ]
  },
  {
   "cell_type": "code",
   "execution_count": 9,
   "metadata": {},
   "outputs": [
    {
     "name": "stdout",
     "output_type": "stream",
     "text": [
      "Randomly chose point 1527, whose nearest neighbors are points [1527, 2479, 1975, 1962, 1207, 1357, 441, 597, 2069, 57]\n"
     ]
    }
   ],
   "source": [
    "# Define the number of nearest neighbors\n",
    "knearest = 10\n",
    "# Randomly choose the index of one of the points in your dataset\n",
    "mnist_i = rand(1:size(mystery_data, 1))\n",
    "# Use this index to grab the relevant point in  your dataset\n",
    "mnist_point = mystery_data[mnist_i, :]\n",
    "# Perform KNN to get the knearest nearest neighbors\n",
    "mnist_idxs, dists = knn(mystery_kdtree, mnist_point, knearest, true)\n",
    "println(\"Randomly chose point $mnist_i, whose nearest neighbors are points $mnist_idxs\")"
   ]
  },
  {
   "cell_type": "markdown",
   "metadata": {},
   "source": [
    "Now let's check the labels!"
   ]
  },
  {
   "cell_type": "code",
   "execution_count": 10,
   "metadata": {},
   "outputs": [
    {
     "data": {
      "text/plain": [
       "5"
      ]
     },
     "execution_count": 10,
     "metadata": {},
     "output_type": "execute_result"
    }
   ],
   "source": [
    "mystery_labels[mnist_i]"
   ]
  },
  {
   "cell_type": "code",
   "execution_count": 11,
   "metadata": {},
   "outputs": [
    {
     "data": {
      "text/plain": [
       "10-element Array{Int64,1}:\n",
       " 5\n",
       " 5\n",
       " 8\n",
       " 5\n",
       " 5\n",
       " 5\n",
       " 0\n",
       " 0\n",
       " 8\n",
       " 0"
      ]
     },
     "execution_count": 11,
     "metadata": {},
     "output_type": "execute_result"
    }
   ],
   "source": [
    "mystery_labels[mnist_idxs]"
   ]
  },
  {
   "cell_type": "markdown",
   "metadata": {},
   "source": [
    "Whether or not this works well will probably depend on which integer you randomly draw first. From my attempts, for example, it seems that the number 1 is more easily recognized than the number 3."
   ]
  },
  {
   "cell_type": "markdown",
   "metadata": {},
   "source": [
    "### Exploring neighborhood size\n",
    "\n",
    "We would expect that points that are closer together (in terms of their feature similarity) are more likely to be similar to one another than those that are farther apart.\n",
    "\n",
    "Use kd trees and knn to determine what fraction of the `knearest` nearest neighbors have the same label as a randomly chosen point in each dataset. To gather some statistics, try choosing ~100 random points for each of many neighbor sizes (numbers of nearest neighbors).\n",
    "\n",
    "Plot how the fraction of like neighbors to a randomly chosen point varies with the number of neighbors investigated. (For example,  you might look at neighborhoods from as small as 1 to as large as the whole dataset.)\n",
    "\n",
    "#### Solution for fruits"
   ]
  },
  {
   "cell_type": "code",
   "execution_count": 12,
   "metadata": {},
   "outputs": [
    {
     "data": {
      "text/plain": [
       "how_many_like_neighbors"
      ]
     },
     "execution_count": 12,
     "metadata": {},
     "output_type": "execute_result"
    }
   ],
   "source": [
    "\"\"\"\n",
    "    how_many_like_neighbors(i, neighbors, labels)\n",
    "\n",
    "Returns the number of point i's neighbors that share i's labels.\n",
    "\n",
    "Takes the index of a point (i), an array of indices for i's neighbors (neighbors), and the labels for the points in the dataset from which i and the elements of neighbors come. \n",
    "\"\"\"\n",
    "function how_many_like_neighbors(i, neighbors, labels)\n",
    "    # grab the label of the randomly chosen (ith) point\n",
    "    label_i = labels[i]\n",
    "    # determine labels of the ith point's neighbors\n",
    "    neighbor_labels = labels[neighbors]\n",
    "    # count how many of the neighbors are like point i\n",
    "    sum = 0\n",
    "    for n in neighbor_labels\n",
    "        if n == label_i\n",
    "            sum += 1\n",
    "        end\n",
    "    end\n",
    "    return sum\n",
    "end"
   ]
  },
  {
   "cell_type": "code",
   "execution_count": 13,
   "metadata": {},
   "outputs": [
    {
     "data": {
      "text/plain": [
       "fraction_like_neighbors"
      ]
     },
     "execution_count": 13,
     "metadata": {},
     "output_type": "execute_result"
    }
   ],
   "source": [
    "\"\"\"\n",
    "    fraction_like_neighbors(data, knearest, labels, samples = 100)\n",
    "\n",
    "Returns the average fraction of `knearest` nearest neighbors that have the same label as a randomly chosen point.\n",
    "\n",
    "Takes a dataset, the number of nearest neighbors, the labels associated with the dataset, and, optionally, the number of samples to use to determine this average (the number of randomly chosen points drawn).\n",
    "\"\"\"\n",
    "function fraction_like_neighbors(data, knearest, labels, samples = 100)\n",
    "    kdtree = KDTree(data')\n",
    "    matching_neighbors = 0\n",
    "    for i in 1:samples\n",
    "        # grab a random point\n",
    "        j = rand(1:size(data, 1))\n",
    "        point = data[j, :]\n",
    "        # determine the neighbors of that random point\n",
    "        neighbor_idxs, dists = knn(kdtree, point, knearest, true)\n",
    "        # account for all neighbors with the same label as the rndm point\n",
    "        matching_neighbors += how_many_like_neighbors(j, neighbor_idxs, labels)\n",
    "    end\n",
    "    # Determine the average fraction of matching neighbors from `samples` number of samples\n",
    "    return matching_neighbors/(samples * knearest)\n",
    "end"
   ]
  },
  {
   "cell_type": "markdown",
   "metadata": {},
   "source": [
    "We can call the above function to determine the fraction of like neighbors for 100 nearest neighbors like"
   ]
  },
  {
   "cell_type": "code",
   "execution_count": 14,
   "metadata": {},
   "outputs": [
    {
     "data": {
      "text/plain": [
       "0.9921"
      ]
     },
     "execution_count": 14,
     "metadata": {},
     "output_type": "execute_result"
    }
   ],
   "source": [
    "like_neighbor_ratio = fraction_like_neighbors(fruit_data, 100, fruit_labels)"
   ]
  },
  {
   "cell_type": "markdown",
   "metadata": {},
   "source": [
    "Now let's plot how this fraction changes with neighborhood size."
   ]
  },
  {
   "cell_type": "code",
   "execution_count": 15,
   "metadata": {},
   "outputs": [
    {
     "data": {
      "text/plain": [
       "Plots.GRBackend()"
      ]
     },
     "execution_count": 15,
     "metadata": {},
     "output_type": "execute_result"
    }
   ],
   "source": [
    "using Plots\n",
    "gr()"
   ]
  },
  {
   "cell_type": "code",
   "execution_count": 18,
   "metadata": {},
   "outputs": [],
   "source": [
    "neighborhood_sizes = push!([x for x in 5:15:150], [x for x in 200:60:980]...);"
   ]
  },
  {
   "cell_type": "code",
   "execution_count": 17,
   "metadata": {},
   "outputs": [],
   "source": [
    "fractions_like_nn = []\n",
    "for knearest in neighborhood_sizes\n",
    "    like_neighbor_ratio = fraction_like_neighbors(fruit_data, knearest, fruit_labels)\n",
    "    push!(fractions_like_nn, like_neighbor_ratio)\n",
    "end"
   ]
  },
  {
   "cell_type": "code",
   "execution_count": 21,
   "metadata": {},
   "outputs": [
    {
     "data": {
      "image/svg+xml": [
       "<?xml version=\"1.0\" encoding=\"utf-8\"?>\n",
       "<svg xmlns=\"http://www.w3.org/2000/svg\" xmlns:xlink=\"http://www.w3.org/1999/xlink\" width=\"600\" height=\"400\" viewBox=\"0 0 600 400\">\n",
       "<defs>\n",
       "  <clipPath id=\"clip4100\">\n",
       "    <rect x=\"0\" y=\"0\" width=\"600\" height=\"400\"/>\n",
       "  </clipPath>\n",
       "</defs>\n",
       "<polygon clip-path=\"url(#clip4100)\" points=\"\n",
       "0,400 600,400 600,0 0,0 \n",
       "  \" fill=\"#ffffff\" fill-opacity=\"1\"/>\n",
       "<defs>\n",
       "  <clipPath id=\"clip4101\">\n",
       "    <rect x=\"120\" y=\"0\" width=\"421\" height=\"400\"/>\n",
       "  </clipPath>\n",
       "</defs>\n",
       "<polygon clip-path=\"url(#clip4100)\" points=\"\n",
       "48.2225,360.121 580.315,360.121 580.315,31.4961 48.2225,31.4961 \n",
       "  \" fill=\"#ffffff\" fill-opacity=\"1\"/>\n",
       "<defs>\n",
       "  <clipPath id=\"clip4102\">\n",
       "    <rect x=\"48\" y=\"31\" width=\"533\" height=\"330\"/>\n",
       "  </clipPath>\n",
       "</defs>\n",
       "<polyline clip-path=\"url(#clip4102)\" style=\"stroke:#000000; stroke-width:0.5; stroke-opacity:0.1; fill:none\" points=\"\n",
       "  154.641,360.121 154.641,31.4961 \n",
       "  \"/>\n",
       "<polyline clip-path=\"url(#clip4102)\" style=\"stroke:#000000; stroke-width:0.5; stroke-opacity:0.1; fill:none\" points=\"\n",
       "  263.788,360.121 263.788,31.4961 \n",
       "  \"/>\n",
       "<polyline clip-path=\"url(#clip4102)\" style=\"stroke:#000000; stroke-width:0.5; stroke-opacity:0.1; fill:none\" points=\"\n",
       "  372.935,360.121 372.935,31.4961 \n",
       "  \"/>\n",
       "<polyline clip-path=\"url(#clip4102)\" style=\"stroke:#000000; stroke-width:0.5; stroke-opacity:0.1; fill:none\" points=\"\n",
       "  482.083,360.121 482.083,31.4961 \n",
       "  \"/>\n",
       "<polyline clip-path=\"url(#clip4102)\" style=\"stroke:#000000; stroke-width:0.5; stroke-opacity:0.1; fill:none\" points=\"\n",
       "  48.2225,360.04 580.315,360.04 \n",
       "  \"/>\n",
       "<polyline clip-path=\"url(#clip4102)\" style=\"stroke:#000000; stroke-width:0.5; stroke-opacity:0.1; fill:none\" points=\"\n",
       "  48.2225,294.331 580.315,294.331 \n",
       "  \"/>\n",
       "<polyline clip-path=\"url(#clip4102)\" style=\"stroke:#000000; stroke-width:0.5; stroke-opacity:0.1; fill:none\" points=\"\n",
       "  48.2225,228.623 580.315,228.623 \n",
       "  \"/>\n",
       "<polyline clip-path=\"url(#clip4102)\" style=\"stroke:#000000; stroke-width:0.5; stroke-opacity:0.1; fill:none\" points=\"\n",
       "  48.2225,162.914 580.315,162.914 \n",
       "  \"/>\n",
       "<polyline clip-path=\"url(#clip4102)\" style=\"stroke:#000000; stroke-width:0.5; stroke-opacity:0.1; fill:none\" points=\"\n",
       "  48.2225,97.2049 580.315,97.2049 \n",
       "  \"/>\n",
       "<polyline clip-path=\"url(#clip4102)\" style=\"stroke:#000000; stroke-width:0.5; stroke-opacity:0.1; fill:none\" points=\"\n",
       "  48.2225,31.4961 580.315,31.4961 \n",
       "  \"/>\n",
       "<polyline clip-path=\"url(#clip4100)\" style=\"stroke:#000000; stroke-width:1; stroke-opacity:1; fill:none\" points=\"\n",
       "  48.2225,360.121 580.315,360.121 \n",
       "  \"/>\n",
       "<polyline clip-path=\"url(#clip4100)\" style=\"stroke:#000000; stroke-width:1; stroke-opacity:1; fill:none\" points=\"\n",
       "  48.2225,360.121 48.2225,31.4961 \n",
       "  \"/>\n",
       "<polyline clip-path=\"url(#clip4100)\" style=\"stroke:#000000; stroke-width:1; stroke-opacity:1; fill:none\" points=\"\n",
       "  154.641,360.121 154.641,355.191 \n",
       "  \"/>\n",
       "<polyline clip-path=\"url(#clip4100)\" style=\"stroke:#000000; stroke-width:1; stroke-opacity:1; fill:none\" points=\"\n",
       "  263.788,360.121 263.788,355.191 \n",
       "  \"/>\n",
       "<polyline clip-path=\"url(#clip4100)\" style=\"stroke:#000000; stroke-width:1; stroke-opacity:1; fill:none\" points=\"\n",
       "  372.935,360.121 372.935,355.191 \n",
       "  \"/>\n",
       "<polyline clip-path=\"url(#clip4100)\" style=\"stroke:#000000; stroke-width:1; stroke-opacity:1; fill:none\" points=\"\n",
       "  482.083,360.121 482.083,355.191 \n",
       "  \"/>\n",
       "<polyline clip-path=\"url(#clip4100)\" style=\"stroke:#000000; stroke-width:1; stroke-opacity:1; fill:none\" points=\"\n",
       "  48.2225,360.04 56.2039,360.04 \n",
       "  \"/>\n",
       "<polyline clip-path=\"url(#clip4100)\" style=\"stroke:#000000; stroke-width:1; stroke-opacity:1; fill:none\" points=\"\n",
       "  48.2225,294.331 56.2039,294.331 \n",
       "  \"/>\n",
       "<polyline clip-path=\"url(#clip4100)\" style=\"stroke:#000000; stroke-width:1; stroke-opacity:1; fill:none\" points=\"\n",
       "  48.2225,228.623 56.2039,228.623 \n",
       "  \"/>\n",
       "<polyline clip-path=\"url(#clip4100)\" style=\"stroke:#000000; stroke-width:1; stroke-opacity:1; fill:none\" points=\"\n",
       "  48.2225,162.914 56.2039,162.914 \n",
       "  \"/>\n",
       "<polyline clip-path=\"url(#clip4100)\" style=\"stroke:#000000; stroke-width:1; stroke-opacity:1; fill:none\" points=\"\n",
       "  48.2225,97.2049 56.2039,97.2049 \n",
       "  \"/>\n",
       "<polyline clip-path=\"url(#clip4100)\" style=\"stroke:#000000; stroke-width:1; stroke-opacity:1; fill:none\" points=\"\n",
       "  48.2225,31.4961 56.2039,31.4961 \n",
       "  \"/>\n",
       "<g clip-path=\"url(#clip4100)\">\n",
       "<text style=\"fill:#000000; fill-opacity:1; font-family:Arial,Helvetica Neue,Helvetica,sans-serif; font-size:12; text-anchor:middle;\" transform=\"rotate(0, 154.641, 373.921)\" x=\"154.641\" y=\"373.921\">200</text>\n",
       "</g>\n",
       "<g clip-path=\"url(#clip4100)\">\n",
       "<text style=\"fill:#000000; fill-opacity:1; font-family:Arial,Helvetica Neue,Helvetica,sans-serif; font-size:12; text-anchor:middle;\" transform=\"rotate(0, 263.788, 373.921)\" x=\"263.788\" y=\"373.921\">400</text>\n",
       "</g>\n",
       "<g clip-path=\"url(#clip4100)\">\n",
       "<text style=\"fill:#000000; fill-opacity:1; font-family:Arial,Helvetica Neue,Helvetica,sans-serif; font-size:12; text-anchor:middle;\" transform=\"rotate(0, 372.935, 373.921)\" x=\"372.935\" y=\"373.921\">600</text>\n",
       "</g>\n",
       "<g clip-path=\"url(#clip4100)\">\n",
       "<text style=\"fill:#000000; fill-opacity:1; font-family:Arial,Helvetica Neue,Helvetica,sans-serif; font-size:12; text-anchor:middle;\" transform=\"rotate(0, 482.083, 373.921)\" x=\"482.083\" y=\"373.921\">800</text>\n",
       "</g>\n",
       "<g clip-path=\"url(#clip4100)\">\n",
       "<text style=\"fill:#000000; fill-opacity:1; font-family:Arial,Helvetica Neue,Helvetica,sans-serif; font-size:12; text-anchor:end;\" transform=\"rotate(0, 42.2225, 364.54)\" x=\"42.2225\" y=\"364.54\">0.5</text>\n",
       "</g>\n",
       "<g clip-path=\"url(#clip4100)\">\n",
       "<text style=\"fill:#000000; fill-opacity:1; font-family:Arial,Helvetica Neue,Helvetica,sans-serif; font-size:12; text-anchor:end;\" transform=\"rotate(0, 42.2225, 298.831)\" x=\"42.2225\" y=\"298.831\">0.6</text>\n",
       "</g>\n",
       "<g clip-path=\"url(#clip4100)\">\n",
       "<text style=\"fill:#000000; fill-opacity:1; font-family:Arial,Helvetica Neue,Helvetica,sans-serif; font-size:12; text-anchor:end;\" transform=\"rotate(0, 42.2225, 233.123)\" x=\"42.2225\" y=\"233.123\">0.7</text>\n",
       "</g>\n",
       "<g clip-path=\"url(#clip4100)\">\n",
       "<text style=\"fill:#000000; fill-opacity:1; font-family:Arial,Helvetica Neue,Helvetica,sans-serif; font-size:12; text-anchor:end;\" transform=\"rotate(0, 42.2225, 167.414)\" x=\"42.2225\" y=\"167.414\">0.8</text>\n",
       "</g>\n",
       "<g clip-path=\"url(#clip4100)\">\n",
       "<text style=\"fill:#000000; fill-opacity:1; font-family:Arial,Helvetica Neue,Helvetica,sans-serif; font-size:12; text-anchor:end;\" transform=\"rotate(0, 42.2225, 101.705)\" x=\"42.2225\" y=\"101.705\">0.9</text>\n",
       "</g>\n",
       "<g clip-path=\"url(#clip4100)\">\n",
       "<text style=\"fill:#000000; fill-opacity:1; font-family:Arial,Helvetica Neue,Helvetica,sans-serif; font-size:12; text-anchor:end;\" transform=\"rotate(0, 42.2225, 35.9961)\" x=\"42.2225\" y=\"35.9961\">1.0</text>\n",
       "</g>\n",
       "<g clip-path=\"url(#clip4100)\">\n",
       "<text style=\"fill:#000000; fill-opacity:1; font-family:Arial,Helvetica Neue,Helvetica,sans-serif; font-size:21; text-anchor:middle;\" transform=\"rotate(0, 314.269, 18)\" x=\"314.269\" y=\"18\">Exploring neighborhoods in fruit data</text>\n",
       "</g>\n",
       "<g clip-path=\"url(#clip4100)\">\n",
       "<text style=\"fill:#000000; fill-opacity:1; font-family:Arial,Helvetica Neue,Helvetica,sans-serif; font-size:16; text-anchor:middle;\" transform=\"rotate(0, 314.269, 397.6)\" x=\"314.269\" y=\"397.6\">Number of nearest neighbors considered</text>\n",
       "</g>\n",
       "<g clip-path=\"url(#clip4100)\">\n",
       "<text style=\"fill:#000000; fill-opacity:1; font-family:Arial,Helvetica Neue,Helvetica,sans-serif; font-size:16; text-anchor:middle;\" transform=\"rotate(-90, 14.4, 195.808)\" x=\"14.4\" y=\"195.808\">Fraction of like nearest neighbors</text>\n",
       "</g>\n",
       "<polyline clip-path=\"url(#clip4102)\" style=\"stroke:#009af9; stroke-width:1; stroke-opacity:1; fill:none\" points=\"\n",
       "  48.2225,31.4961 56.4086,31.4961 64.5946,31.4961 72.7806,31.4961 80.9667,31.7993 89.1527,33.5495 97.3388,36.7528 105.525,36.932 113.711,34.4398 121.897,38.8648 \n",
       "  154.641,45.2292 187.385,40.2909 220.129,50.2436 252.873,53.5085 285.618,56.5252 318.362,92.8812 351.106,150.945 383.85,201.237 416.594,234.933 449.338,266.636 \n",
       "  482.083,296.278 514.827,325.52 547.571,345.584 580.315,360.121 \n",
       "  \"/>\n",
       "</svg>\n"
      ]
     },
     "execution_count": 21,
     "metadata": {},
     "output_type": "execute_result"
    }
   ],
   "source": [
    "plot(neighborhood_sizes, fractions_like_nn, legend = false)\n",
    "xlabel!(\"Number of nearest neighbors considered\")\n",
    "ylabel!(\"Fraction of like nearest neighbors\")\n",
    "title!(\"Exploring neighborhoods in fruit data\")"
   ]
  },
  {
   "cell_type": "markdown",
   "metadata": {},
   "source": [
    "What we see in the above plot is that KDTrees are very good at grouping like data in our fruit dataset. Neighbors are mostly predicted to be like the randomly chosen point of origin until around the time that the number of neighbors chosen is larger than the number of like data points."
   ]
  },
  {
   "cell_type": "markdown",
   "metadata": {},
   "source": [
    "#### Solution for mystery data/mnist data"
   ]
  },
  {
   "cell_type": "markdown",
   "metadata": {},
   "source": [
    "As before, we can determine the fraction of like neighbors for 100 nearest neighbors like"
   ]
  },
  {
   "cell_type": "code",
   "execution_count": 22,
   "metadata": {},
   "outputs": [
    {
     "data": {
      "text/plain": [
       "0.5467"
      ]
     },
     "execution_count": 22,
     "metadata": {},
     "output_type": "execute_result"
    }
   ],
   "source": [
    "like_neighbor_ratio = fraction_like_neighbors(mystery_data, 100, mystery_labels)"
   ]
  },
  {
   "cell_type": "markdown",
   "metadata": {},
   "source": [
    "Let's see how this number changes with neighborhood size"
   ]
  },
  {
   "cell_type": "code",
   "execution_count": 29,
   "metadata": {},
   "outputs": [
    {
     "data": {
      "text/plain": [
       "9-element Array{Int64,1}:\n",
       "    5\n",
       "   10\n",
       "   20\n",
       "   40\n",
       "   80\n",
       "  160\n",
       "  320\n",
       "  640\n",
       " 1280"
      ]
     },
     "execution_count": 29,
     "metadata": {},
     "output_type": "execute_result"
    }
   ],
   "source": [
    "neighborhood_sizes = [5 * 2^i for i in 0:8]"
   ]
  },
  {
   "cell_type": "code",
   "execution_count": 30,
   "metadata": {},
   "outputs": [],
   "source": [
    "fractions_like_nn = []\n",
    "for knearest in neighborhood_sizes\n",
    "    like_neighbor_ratio = fraction_like_neighbors(mystery_data, knearest, mystery_labels)\n",
    "    push!(fractions_like_nn, like_neighbor_ratio)\n",
    "end"
   ]
  },
  {
   "cell_type": "code",
   "execution_count": 32,
   "metadata": {},
   "outputs": [
    {
     "data": {
      "image/svg+xml": [
       "<?xml version=\"1.0\" encoding=\"utf-8\"?>\n",
       "<svg xmlns=\"http://www.w3.org/2000/svg\" xmlns:xlink=\"http://www.w3.org/1999/xlink\" width=\"600\" height=\"400\" viewBox=\"0 0 600 400\">\n",
       "<defs>\n",
       "  <clipPath id=\"clip4500\">\n",
       "    <rect x=\"0\" y=\"0\" width=\"600\" height=\"400\"/>\n",
       "  </clipPath>\n",
       "</defs>\n",
       "<polygon clip-path=\"url(#clip4500)\" points=\"\n",
       "0,400 600,400 600,0 0,0 \n",
       "  \" fill=\"#ffffff\" fill-opacity=\"1\"/>\n",
       "<defs>\n",
       "  <clipPath id=\"clip4501\">\n",
       "    <rect x=\"120\" y=\"0\" width=\"421\" height=\"400\"/>\n",
       "  </clipPath>\n",
       "</defs>\n",
       "<polygon clip-path=\"url(#clip4500)\" points=\"\n",
       "48.2225,360.121 580.315,360.121 580.315,31.4961 48.2225,31.4961 \n",
       "  \" fill=\"#ffffff\" fill-opacity=\"1\"/>\n",
       "<defs>\n",
       "  <clipPath id=\"clip4502\">\n",
       "    <rect x=\"48\" y=\"31\" width=\"533\" height=\"330\"/>\n",
       "  </clipPath>\n",
       "</defs>\n",
       "<polyline clip-path=\"url(#clip4502)\" style=\"stroke:#000000; stroke-width:0.5; stroke-opacity:0.1; fill:none\" points=\"\n",
       "  61.3132,360.121 61.3132,31.4961 \n",
       "  \"/>\n",
       "<polyline clip-path=\"url(#clip4502)\" style=\"stroke:#000000; stroke-width:0.5; stroke-opacity:0.1; fill:none\" points=\"\n",
       "  140.054,360.121 140.054,31.4961 \n",
       "  \"/>\n",
       "<polyline clip-path=\"url(#clip4502)\" style=\"stroke:#000000; stroke-width:0.5; stroke-opacity:0.1; fill:none\" points=\"\n",
       "  218.795,360.121 218.795,31.4961 \n",
       "  \"/>\n",
       "<polyline clip-path=\"url(#clip4502)\" style=\"stroke:#000000; stroke-width:0.5; stroke-opacity:0.1; fill:none\" points=\"\n",
       "  297.536,360.121 297.536,31.4961 \n",
       "  \"/>\n",
       "<polyline clip-path=\"url(#clip4502)\" style=\"stroke:#000000; stroke-width:0.5; stroke-opacity:0.1; fill:none\" points=\"\n",
       "  376.277,360.121 376.277,31.4961 \n",
       "  \"/>\n",
       "<polyline clip-path=\"url(#clip4502)\" style=\"stroke:#000000; stroke-width:0.5; stroke-opacity:0.1; fill:none\" points=\"\n",
       "  455.018,360.121 455.018,31.4961 \n",
       "  \"/>\n",
       "<polyline clip-path=\"url(#clip4502)\" style=\"stroke:#000000; stroke-width:0.5; stroke-opacity:0.1; fill:none\" points=\"\n",
       "  533.759,360.121 533.759,31.4961 \n",
       "  \"/>\n",
       "<polyline clip-path=\"url(#clip4502)\" style=\"stroke:#000000; stroke-width:0.5; stroke-opacity:0.1; fill:none\" points=\"\n",
       "  48.2225,322.892 580.315,322.892 \n",
       "  \"/>\n",
       "<polyline clip-path=\"url(#clip4502)\" style=\"stroke:#000000; stroke-width:0.5; stroke-opacity:0.1; fill:none\" points=\"\n",
       "  48.2225,241.125 580.315,241.125 \n",
       "  \"/>\n",
       "<polyline clip-path=\"url(#clip4502)\" style=\"stroke:#000000; stroke-width:0.5; stroke-opacity:0.1; fill:none\" points=\"\n",
       "  48.2225,159.358 580.315,159.358 \n",
       "  \"/>\n",
       "<polyline clip-path=\"url(#clip4502)\" style=\"stroke:#000000; stroke-width:0.5; stroke-opacity:0.1; fill:none\" points=\"\n",
       "  48.2225,77.5917 580.315,77.5917 \n",
       "  \"/>\n",
       "<polyline clip-path=\"url(#clip4500)\" style=\"stroke:#000000; stroke-width:1; stroke-opacity:1; fill:none\" points=\"\n",
       "  48.2225,360.121 580.315,360.121 \n",
       "  \"/>\n",
       "<polyline clip-path=\"url(#clip4500)\" style=\"stroke:#000000; stroke-width:1; stroke-opacity:1; fill:none\" points=\"\n",
       "  48.2225,360.121 48.2225,31.4961 \n",
       "  \"/>\n",
       "<polyline clip-path=\"url(#clip4500)\" style=\"stroke:#000000; stroke-width:1; stroke-opacity:1; fill:none\" points=\"\n",
       "  61.3132,360.121 61.3132,355.191 \n",
       "  \"/>\n",
       "<polyline clip-path=\"url(#clip4500)\" style=\"stroke:#000000; stroke-width:1; stroke-opacity:1; fill:none\" points=\"\n",
       "  140.054,360.121 140.054,355.191 \n",
       "  \"/>\n",
       "<polyline clip-path=\"url(#clip4500)\" style=\"stroke:#000000; stroke-width:1; stroke-opacity:1; fill:none\" points=\"\n",
       "  218.795,360.121 218.795,355.191 \n",
       "  \"/>\n",
       "<polyline clip-path=\"url(#clip4500)\" style=\"stroke:#000000; stroke-width:1; stroke-opacity:1; fill:none\" points=\"\n",
       "  297.536,360.121 297.536,355.191 \n",
       "  \"/>\n",
       "<polyline clip-path=\"url(#clip4500)\" style=\"stroke:#000000; stroke-width:1; stroke-opacity:1; fill:none\" points=\"\n",
       "  376.277,360.121 376.277,355.191 \n",
       "  \"/>\n",
       "<polyline clip-path=\"url(#clip4500)\" style=\"stroke:#000000; stroke-width:1; stroke-opacity:1; fill:none\" points=\"\n",
       "  455.018,360.121 455.018,355.191 \n",
       "  \"/>\n",
       "<polyline clip-path=\"url(#clip4500)\" style=\"stroke:#000000; stroke-width:1; stroke-opacity:1; fill:none\" points=\"\n",
       "  533.759,360.121 533.759,355.191 \n",
       "  \"/>\n",
       "<polyline clip-path=\"url(#clip4500)\" style=\"stroke:#000000; stroke-width:1; stroke-opacity:1; fill:none\" points=\"\n",
       "  48.2225,322.892 56.2039,322.892 \n",
       "  \"/>\n",
       "<polyline clip-path=\"url(#clip4500)\" style=\"stroke:#000000; stroke-width:1; stroke-opacity:1; fill:none\" points=\"\n",
       "  48.2225,241.125 56.2039,241.125 \n",
       "  \"/>\n",
       "<polyline clip-path=\"url(#clip4500)\" style=\"stroke:#000000; stroke-width:1; stroke-opacity:1; fill:none\" points=\"\n",
       "  48.2225,159.358 56.2039,159.358 \n",
       "  \"/>\n",
       "<polyline clip-path=\"url(#clip4500)\" style=\"stroke:#000000; stroke-width:1; stroke-opacity:1; fill:none\" points=\"\n",
       "  48.2225,77.5917 56.2039,77.5917 \n",
       "  \"/>\n",
       "<g clip-path=\"url(#clip4500)\">\n",
       "<text style=\"fill:#000000; fill-opacity:1; font-family:Arial,Helvetica Neue,Helvetica,sans-serif; font-size:12; text-anchor:middle;\" transform=\"rotate(0, 61.3132, 373.921)\" x=\"61.3132\" y=\"373.921\">0</text>\n",
       "</g>\n",
       "<g clip-path=\"url(#clip4500)\">\n",
       "<text style=\"fill:#000000; fill-opacity:1; font-family:Arial,Helvetica Neue,Helvetica,sans-serif; font-size:12; text-anchor:middle;\" transform=\"rotate(0, 140.054, 373.921)\" x=\"140.054\" y=\"373.921\">200</text>\n",
       "</g>\n",
       "<g clip-path=\"url(#clip4500)\">\n",
       "<text style=\"fill:#000000; fill-opacity:1; font-family:Arial,Helvetica Neue,Helvetica,sans-serif; font-size:12; text-anchor:middle;\" transform=\"rotate(0, 218.795, 373.921)\" x=\"218.795\" y=\"373.921\">400</text>\n",
       "</g>\n",
       "<g clip-path=\"url(#clip4500)\">\n",
       "<text style=\"fill:#000000; fill-opacity:1; font-family:Arial,Helvetica Neue,Helvetica,sans-serif; font-size:12; text-anchor:middle;\" transform=\"rotate(0, 297.536, 373.921)\" x=\"297.536\" y=\"373.921\">600</text>\n",
       "</g>\n",
       "<g clip-path=\"url(#clip4500)\">\n",
       "<text style=\"fill:#000000; fill-opacity:1; font-family:Arial,Helvetica Neue,Helvetica,sans-serif; font-size:12; text-anchor:middle;\" transform=\"rotate(0, 376.277, 373.921)\" x=\"376.277\" y=\"373.921\">800</text>\n",
       "</g>\n",
       "<g clip-path=\"url(#clip4500)\">\n",
       "<text style=\"fill:#000000; fill-opacity:1; font-family:Arial,Helvetica Neue,Helvetica,sans-serif; font-size:12; text-anchor:middle;\" transform=\"rotate(0, 455.018, 373.921)\" x=\"455.018\" y=\"373.921\">1000</text>\n",
       "</g>\n",
       "<g clip-path=\"url(#clip4500)\">\n",
       "<text style=\"fill:#000000; fill-opacity:1; font-family:Arial,Helvetica Neue,Helvetica,sans-serif; font-size:12; text-anchor:middle;\" transform=\"rotate(0, 533.759, 373.921)\" x=\"533.759\" y=\"373.921\">1200</text>\n",
       "</g>\n",
       "<g clip-path=\"url(#clip4500)\">\n",
       "<text style=\"fill:#000000; fill-opacity:1; font-family:Arial,Helvetica Neue,Helvetica,sans-serif; font-size:12; text-anchor:end;\" transform=\"rotate(0, 42.2225, 327.392)\" x=\"42.2225\" y=\"327.392\">0.2</text>\n",
       "</g>\n",
       "<g clip-path=\"url(#clip4500)\">\n",
       "<text style=\"fill:#000000; fill-opacity:1; font-family:Arial,Helvetica Neue,Helvetica,sans-serif; font-size:12; text-anchor:end;\" transform=\"rotate(0, 42.2225, 245.625)\" x=\"42.2225\" y=\"245.625\">0.4</text>\n",
       "</g>\n",
       "<g clip-path=\"url(#clip4500)\">\n",
       "<text style=\"fill:#000000; fill-opacity:1; font-family:Arial,Helvetica Neue,Helvetica,sans-serif; font-size:12; text-anchor:end;\" transform=\"rotate(0, 42.2225, 163.858)\" x=\"42.2225\" y=\"163.858\">0.6</text>\n",
       "</g>\n",
       "<g clip-path=\"url(#clip4500)\">\n",
       "<text style=\"fill:#000000; fill-opacity:1; font-family:Arial,Helvetica Neue,Helvetica,sans-serif; font-size:12; text-anchor:end;\" transform=\"rotate(0, 42.2225, 82.0917)\" x=\"42.2225\" y=\"82.0917\">0.8</text>\n",
       "</g>\n",
       "<g clip-path=\"url(#clip4500)\">\n",
       "<text style=\"fill:#000000; fill-opacity:1; font-family:Arial,Helvetica Neue,Helvetica,sans-serif; font-size:21; text-anchor:middle;\" transform=\"rotate(0, 314.269, 18)\" x=\"314.269\" y=\"18\">Exploring neighborhoods in mnist data</text>\n",
       "</g>\n",
       "<g clip-path=\"url(#clip4500)\">\n",
       "<text style=\"fill:#000000; fill-opacity:1; font-family:Arial,Helvetica Neue,Helvetica,sans-serif; font-size:16; text-anchor:middle;\" transform=\"rotate(0, 314.269, 397.6)\" x=\"314.269\" y=\"397.6\">Number of nearest neighbors considered</text>\n",
       "</g>\n",
       "<g clip-path=\"url(#clip4500)\">\n",
       "<text style=\"fill:#000000; fill-opacity:1; font-family:Arial,Helvetica Neue,Helvetica,sans-serif; font-size:16; text-anchor:middle;\" transform=\"rotate(-90, 14.4, 195.808)\" x=\"14.4\" y=\"195.808\">Fraction of like nearest neighbors</text>\n",
       "</g>\n",
       "<polyline clip-path=\"url(#clip4502)\" style=\"stroke:#009af9; stroke-width:1; stroke-opacity:1; fill:none\" points=\"\n",
       "  63.2817,40.7968 65.2503,86.5861 69.1873,98.4422 77.0614,125.221 92.8096,160.687 124.306,218.69 187.299,267.737 313.284,320.962 565.256,350.82 \n",
       "  \"/>\n",
       "<circle clip-path=\"url(#clip4502)\" style=\"fill:#000000; stroke:none; fill-opacity:1\" cx=\"63.2817\" cy=\"40.7968\" r=\"4\"/>\n",
       "<circle clip-path=\"url(#clip4502)\" style=\"fill:#e26f46; stroke:none; fill-opacity:1\" cx=\"63.2817\" cy=\"40.7968\" r=\"3\"/>\n",
       "<circle clip-path=\"url(#clip4502)\" style=\"fill:#000000; stroke:none; fill-opacity:1\" cx=\"65.2503\" cy=\"86.5861\" r=\"4\"/>\n",
       "<circle clip-path=\"url(#clip4502)\" style=\"fill:#e26f46; stroke:none; fill-opacity:1\" cx=\"65.2503\" cy=\"86.5861\" r=\"3\"/>\n",
       "<circle clip-path=\"url(#clip4502)\" style=\"fill:#000000; stroke:none; fill-opacity:1\" cx=\"69.1873\" cy=\"98.4422\" r=\"4\"/>\n",
       "<circle clip-path=\"url(#clip4502)\" style=\"fill:#e26f46; stroke:none; fill-opacity:1\" cx=\"69.1873\" cy=\"98.4422\" r=\"3\"/>\n",
       "<circle clip-path=\"url(#clip4502)\" style=\"fill:#000000; stroke:none; fill-opacity:1\" cx=\"77.0614\" cy=\"125.221\" r=\"4\"/>\n",
       "<circle clip-path=\"url(#clip4502)\" style=\"fill:#e26f46; stroke:none; fill-opacity:1\" cx=\"77.0614\" cy=\"125.221\" r=\"3\"/>\n",
       "<circle clip-path=\"url(#clip4502)\" style=\"fill:#000000; stroke:none; fill-opacity:1\" cx=\"92.8096\" cy=\"160.687\" r=\"4\"/>\n",
       "<circle clip-path=\"url(#clip4502)\" style=\"fill:#e26f46; stroke:none; fill-opacity:1\" cx=\"92.8096\" cy=\"160.687\" r=\"3\"/>\n",
       "<circle clip-path=\"url(#clip4502)\" style=\"fill:#000000; stroke:none; fill-opacity:1\" cx=\"124.306\" cy=\"218.69\" r=\"4\"/>\n",
       "<circle clip-path=\"url(#clip4502)\" style=\"fill:#e26f46; stroke:none; fill-opacity:1\" cx=\"124.306\" cy=\"218.69\" r=\"3\"/>\n",
       "<circle clip-path=\"url(#clip4502)\" style=\"fill:#000000; stroke:none; fill-opacity:1\" cx=\"187.299\" cy=\"267.737\" r=\"4\"/>\n",
       "<circle clip-path=\"url(#clip4502)\" style=\"fill:#e26f46; stroke:none; fill-opacity:1\" cx=\"187.299\" cy=\"267.737\" r=\"3\"/>\n",
       "<circle clip-path=\"url(#clip4502)\" style=\"fill:#000000; stroke:none; fill-opacity:1\" cx=\"313.284\" cy=\"320.962\" r=\"4\"/>\n",
       "<circle clip-path=\"url(#clip4502)\" style=\"fill:#e26f46; stroke:none; fill-opacity:1\" cx=\"313.284\" cy=\"320.962\" r=\"3\"/>\n",
       "<circle clip-path=\"url(#clip4502)\" style=\"fill:#000000; stroke:none; fill-opacity:1\" cx=\"565.256\" cy=\"350.82\" r=\"4\"/>\n",
       "<circle clip-path=\"url(#clip4502)\" style=\"fill:#e26f46; stroke:none; fill-opacity:1\" cx=\"565.256\" cy=\"350.82\" r=\"3\"/>\n",
       "</svg>\n"
      ]
     },
     "execution_count": 32,
     "metadata": {},
     "output_type": "execute_result"
    }
   ],
   "source": [
    "plot(neighborhood_sizes, fractions_like_nn, legend = false)\n",
    "scatter!(neighborhood_sizes, fractions_like_nn, legend = false)\n",
    "xlabel!(\"Number of nearest neighbors considered\")\n",
    "ylabel!(\"Fraction of like nearest neighbors\")\n",
    "title!(\"Exploring neighborhoods in mnist data\")"
   ]
  },
  {
   "cell_type": "markdown",
   "metadata": {},
   "source": [
    "This works significantly less well for this dataset! Since we have 2500 data points and 10 digits, we would expect to have ~250 points in each dataset. Yet here KDTrees can only identify like neighbors for very small neighborhoods."
   ]
  },
  {
   "cell_type": "code",
   "execution_count": null,
   "metadata": {},
   "outputs": [],
   "source": []
  }
 ],
 "metadata": {
  "kernelspec": {
   "display_name": "Julia 0.6.2",
   "language": "julia",
   "name": "julia-0.6"
  },
  "language_info": {
   "file_extension": ".jl",
   "mimetype": "application/julia",
   "name": "julia",
   "version": "0.6.2"
  }
 },
 "nbformat": 4,
 "nbformat_minor": 2
}

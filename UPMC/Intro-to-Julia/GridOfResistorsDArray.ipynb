{
 "cells": [
  {
   "cell_type": "markdown",
   "metadata": {},
   "source": [
    "# Grid of Resistors (DistributedArrays version)\n",
    "## Stencil computation with DArrays\n",
    "\n",
    "Again we provide the reference code but "
   ]
  },
  {
   "cell_type": "code",
   "execution_count": null,
   "metadata": {},
   "outputs": [],
   "source": [
    "using BenchmarkTools\n",
    "using JuliaRunClient\n",
    "initializeCluster(2)\n",
    "# addprocs(2) # local version\n",
    "using DistributedArrays"
   ]
  },
  {
   "cell_type": "markdown",
   "metadata": {},
   "source": [
    "We'll resume where the sequential version of the grid of resistors exercise ended. It is critical for good parallel performance to identify data dependencies such that communication can be minimized. Hence we will use the result of the exercise where you rewrote the sequential version such that the loop body for the loop over repetitions consisted of two function calls such that everything within each of the functions could be executed concurrently. A version of the solution is shown below."
   ]
  },
  {
   "cell_type": "code",
   "execution_count": null,
   "metadata": {},
   "outputs": [],
   "source": [
    "function stencil(v, b, ω, i, j)\n",
    "    return (1 - ω)*v[i, j] +\n",
    "        ω*(v[i + 1, j] + v[i - 1, j] + v[i, j + 1] + v[i, j - 1] + \n",
    "            b[i, j])/4\n",
    "end\n",
    "\n",
    "function apply_stencil_eeoo!(v, b, ω, n)\n",
    "    # even-even and odd-odd\n",
    "    for j in 1:n\n",
    "        for i in 1:(n - 1)\n",
    "            v[2*i, 2*j]         = stencil(v, b, ω, 2*i    , 2*j)\n",
    "            v[2*i + 1, 2*j + 1] = stencil(v, b, ω, 2*i + 1, 2*j + 1)\n",
    "        end\n",
    "        v[2*n, 2*j] = stencil(v, b, ω, 2*n, 2*j)\n",
    "    end\n",
    "    return v\n",
    "end\n",
    "                \n",
    "function apply_stencil_eooe!(v, b, ω, n)\n",
    "    # even-odd and odd-even\n",
    "    for j in 1:n\n",
    "        for i in 1:(n - 1)\n",
    "            v[2*i, 2*j + 1] = stencil(v, b, ω, 2*i    , 2*j + 1)\n",
    "            v[2*i + 1, 2*j] = stencil(v, b, ω, 2*i + 1, 2*j)\n",
    "        end\n",
    "        v[2*n, 2*j + 1] = stencil(v, b, ω, 2*n, 2*j + 1)\n",
    "    end\n",
    "    return v\n",
    "end\n",
    "\n",
    "function compute_resistance(n, reps = 100)\n",
    "    # assume n and omega already defined or take\n",
    "    # the following values for the optimal omega\n",
    "    μ = (cos(π/(2*n)) + cos(π/(2*n + 1)))/2\n",
    "    ω = 2*(1 - sqrt(1 - μ^2))/μ^2\n",
    "    # (See page 409 of Strang Intro to Applied Math , this is equation 16)\n",
    "\n",
    "    # Initialize voltages\n",
    "    v = zeros(2*n + 1, 2*n + 2)\n",
    "\n",
    "    # Define Input Currents\n",
    "    b = copy(v)\n",
    "    b[n + 1, (n + 1):(n + 2)]  = [1 -1]\n",
    "\n",
    "    # Jacobi Steps\n",
    "    for k in 1:reps\n",
    "\n",
    "        apply_stencil_eeoo!(v, b, ω, n)\n",
    "        apply_stencil_eooe!(v, b, ω, n)\n",
    "        \n",
    "    end\n",
    "# Compute resistance = v_A - v_b = 2 v_A\n",
    "    r = 2*v[n + 1, n + 1]\n",
    "    return v, r, b\n",
    "end"
   ]
  },
  {
   "cell_type": "code",
   "execution_count": null,
   "metadata": {},
   "outputs": [],
   "source": [
    "@btime compute_resistance(400)[2]"
   ]
  },
  {
   "cell_type": "markdown",
   "metadata": {},
   "source": [
    "This problam (as is the case for most parallel problems) can be decomposed into an embarrassingly parallel part and a part with communication. Our strategy for utilizing multiple processes to speed up the computation is to split the `v` array into equal chunks over the number of processes. This can be done with `DArray` from the `DistributedArrays` package.\n",
    "\n",
    "The problem with splitting up `v` is that some of the stencil computations now have a dependency across processes. The solutions is to introduce  ghost regions around each array that hold values that identical to values on the neighborring arrays.\n",
    "\n",
    "This is easiest to demonstrate for a small array. We can use the `compute_resistance` function to compute a `v` matrix of size $5\\times6$."
   ]
  },
  {
   "cell_type": "code",
   "execution_count": null,
   "metadata": {},
   "outputs": [],
   "source": [
    "v, r, b = compute_resistance(2)\n",
    "v"
   ]
  },
  {
   "cell_type": "markdown",
   "metadata": {},
   "source": [
    "We can now use the `remotecall` function to create chunks on the processes 2 and 3."
   ]
  },
  {
   "cell_type": "code",
   "execution_count": null,
   "metadata": {},
   "outputs": [],
   "source": [
    "r1 = remotecall(2) do\n",
    "    v[:, 1:4]\n",
    "end\n",
    "r2 = remotecall(3) do\n",
    "    v[:, 3:6]\n",
    "end"
   ]
  },
  {
   "cell_type": "markdown",
   "metadata": {},
   "source": [
    "There is a `DArray` contructor that takes an array of remote references as input and constructs a `DArray`."
   ]
  },
  {
   "cell_type": "code",
   "execution_count": null,
   "metadata": {},
   "outputs": [],
   "source": [
    "dv = DArray([r1 r2])"
   ]
  },
  {
   "cell_type": "markdown",
   "metadata": {},
   "source": [
    "Adjust the two `apply_stencil_xxxx!` functions to use the size of `v` instead of `n` to determine the loop ranges"
   ]
  },
  {
   "cell_type": "code",
   "execution_count": null,
   "metadata": {},
   "outputs": [],
   "source": [
    "@everywhere function stencil(v, b, ω, i, j)\n",
    "    return  (1 - ω)*v[i, j] +\n",
    "        ω*(v[i + 1, j] + v[i - 1, j] + v[i, j + 1] + v[i, j - 1] + \n",
    "            b[i, j])/4\n",
    "end\n",
    "\n",
    "@everywhere function apply_stencil_eeoo!(v, b, ω)\n",
    "    # even-even and odd-odd\n",
    "    m = div(size(v, 1), 2)     # hard coded distribution\n",
    "    n = div(size(v, 2), 2) - 1 # hard coded distribution\n",
    "    for j in 1:n\n",
    "        for i in 1:(m - 1)\n",
    "            v[2*i, 2*j]         = stencil(v, b, ω, 2*i    , 2*j)\n",
    "            v[2*i + 1, 2*j + 1] = stencil(v, b, ω, 2*i + 1, 2*j + 1)\n",
    "        end\n",
    "        v[2*m, 2*j] = stencil(v, b, ω, 2*m, 2*j)\n",
    "    end\n",
    "    return nothing\n",
    "end\n",
    "                \n",
    "@everywhere function apply_stencil_eooe!(v, b, ω)\n",
    "    # even-odd and odd-even\n",
    "    m = div(size(v, 1), 2)     # hard coded distribution\n",
    "    n = div(size(v, 2), 2) - 1 # hard coded distribution\n",
    "    for j in 1:n\n",
    "        for i in 1:(m - 1)\n",
    "            v[2*i, 2*j + 1] = stencil(v, b, ω, 2*i    , 2*j + 1)\n",
    "            v[2*i + 1, 2*j] = stencil(v, b, ω, 2*i + 1, 2*j)\n",
    "        end\n",
    "        v[2*m, 2*j + 1] = stencil(v, b, ω, 2*m, 2*j + 1)\n",
    "    end\n",
    "    return nothing\n",
    "end"
   ]
  },
  {
   "cell_type": "markdown",
   "metadata": {},
   "source": [
    "Before turning to the distributed version, we will first introduce the `localpart` function which will be needed for the parallel version. The function simply returns the local memory part of a distributed array.\n",
    "\n",
    "**Exercise** Allocate a distributed random matrix with `drand(6,8)` and print the `localpart`s.\n",
    "\n",
    "Below is a distributed version of the resistance calculation. (Be aware that it is just a toy model to show how `remotecall`s work in Julia.) The code has the same structure as the sequential version so they are easier to compare."
   ]
  },
  {
   "cell_type": "code",
   "execution_count": null,
   "metadata": {},
   "outputs": [],
   "source": [
    "function compute_resistance_dist(n, reps = 100)\n",
    "    # To make things simple, we only allow even n\n",
    "    iseven(n) || throw(ArgumentError(\"only even n allowed\"))\n",
    "    \n",
    "    # assume n and omega already defined or take\n",
    "    # the following values for the optimal omega\n",
    "    μ = (cos(π/(2*n)) + cos(π/(2*n + 1)))/2\n",
    "    ω = 2*(1 - sqrt(1 - μ^2))/μ^2\n",
    "    # (See page 409 of Strang Intro to Applied Math , this is equation 16)\n",
    "\n",
    "    dv = dzeros((2*n + 1, 2*n + 2 + 2), [2, 3])\n",
    "    db = copy(dv)\n",
    "    \n",
    "    remotecall_fetch(2) do\n",
    "        DistributedArrays.localpart(db)[n + 1, n + 1] =  1\n",
    "        DistributedArrays.localpart(db)[n + 1, n + 2] = -1\n",
    "    end\n",
    "    remotecall_fetch(3) do\n",
    "        DistributedArrays.localpart(db)[n + 1, 1] =  1\n",
    "        DistributedArrays.localpart(db)[n + 1, 2] = -1\n",
    "    end\n",
    "    \n",
    "    # Jacobi Steps\n",
    "    for k in 1:reps\n",
    "\n",
    "        # even-even and odd-odd\n",
    "        remotecall_fetch(2) do\n",
    "            apply_stencil_eeoo!(DistributedArrays.localpart(dv), DistributedArrays.localpart(db), ω)\n",
    "        end\n",
    "        remotecall_fetch(3) do\n",
    "            apply_stencil_eeoo!(DistributedArrays.localpart(dv), DistributedArrays.localpart(db), ω)\n",
    "        end\n",
    "\n",
    "        # Make ghost regions consistent\n",
    "        tmp = remotecall_fetch(2) do\n",
    "            DistributedArrays.localpart(dv)[3:2:(2*n - 1), end - 1]\n",
    "        end\n",
    "        tmp = remotecall_fetch(3) do\n",
    "            DistributedArrays.localpart(dv)[3:2:(2*n - 1), 1] = tmp\n",
    "            DistributedArrays.localpart(dv)[2:2:(2*n), 2]\n",
    "        end\n",
    "        remotecall_fetch(2) do\n",
    "            DistributedArrays.localpart(dv)[2:2:(2*n), end] = tmp\n",
    "            nothing\n",
    "        end\n",
    "\n",
    "        # even-odd and odd-even\n",
    "        remotecall_fetch(2) do\n",
    "            apply_stencil_eooe!(DistributedArrays.localpart(dv), DistributedArrays.localpart(db), ω)\n",
    "        end\n",
    "        remotecall_fetch(3) do\n",
    "            apply_stencil_eooe!(DistributedArrays.localpart(dv), DistributedArrays.localpart(db), ω)\n",
    "        end\n",
    "\n",
    "        # Make ghost regions consistent\n",
    "        tmp = remotecall_fetch(2) do\n",
    "            DistributedArrays.localpart(dv)[2:(2*n), end - 1]\n",
    "        end\n",
    "        tmp = remotecall_fetch(3) do\n",
    "            DistributedArrays.localpart(dv)[2:(2*n), 1] = tmp\n",
    "            DistributedArrays.localpart(dv)[2:(2*n + 1), 2]\n",
    "        end\n",
    "        remotecall_fetch(2) do\n",
    "            DistributedArrays.localpart(dv)[2:(2*n + 1), end] = tmp\n",
    "            nothing\n",
    "        end\n",
    "    end\n",
    "# Compute resistance = v_A - v_b = 2 v_A\n",
    "    r = 2*dv[n + 1, n + 1]\n",
    "    return dv, r, db\n",
    "end"
   ]
  },
  {
   "cell_type": "markdown",
   "metadata": {},
   "source": [
    "**Exercise** Read through the code and make sure you understand. Can you tell why some of the anonymous functions return `nothing`?\n",
    "\n",
    "**Exercise** Time the distributed version and compare to the sequential version. This version isn't fast at all. What is wrong?\n",
    "\n",
    "**Exercise** Add `@sync` and `@async` statements to the code to speed it up. Increase the size of the problem. Can you make the distributed version faster than the sequential?"
   ]
  },
  {
   "cell_type": "code",
   "execution_count": null,
   "metadata": {},
   "outputs": [],
   "source": [
    "@time dv, dr, db = compute_resistance_dist(n)"
   ]
  },
  {
   "cell_type": "code",
   "execution_count": null,
   "metadata": {},
   "outputs": [],
   "source": [
    "# releaseCluster();"
   ]
  }
 ],
 "metadata": {
  "kernelspec": {
   "display_name": "Julia 0.6.2",
   "language": "julia",
   "name": "julia-0.6"
  },
  "language_info": {
   "file_extension": ".jl",
   "mimetype": "application/julia",
   "name": "julia",
   "version": "0.6.3"
  }
 },
 "nbformat": 4,
 "nbformat_minor": 2
}

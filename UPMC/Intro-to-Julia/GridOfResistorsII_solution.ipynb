{
 "cells": [
  {
   "cell_type": "markdown",
   "metadata": {},
   "source": [
    "# Grid of Resistors II\n",
    "## Compute the effective resistance of a 2n+1 by 2n+2 grid of resistors\n",
    "## Using SOR with red-black ordering\n"
   ]
  },
  {
   "cell_type": "code",
   "execution_count": 11,
   "metadata": {},
   "outputs": [],
   "source": [
    "using BenchmarkTools"
   ]
  },
  {
   "cell_type": "markdown",
   "metadata": {},
   "source": [
    "Consider again the reference implementation of the resistance computation."
   ]
  },
  {
   "cell_type": "code",
   "execution_count": 12,
   "metadata": {},
   "outputs": [
    {
     "data": {
      "text/plain": [
       "compute_resistance (generic function with 2 methods)"
      ]
     },
     "execution_count": 12,
     "metadata": {},
     "output_type": "execute_result"
    }
   ],
   "source": [
    "function compute_resistance(n, nreps = 100)\n",
    "    # Original MATLAB version, Alan Edelman, January 1994\n",
    "    # Julia translations, Andreas Noack, June 2018\n",
    "\n",
    "    # assume n and omega already defined or take\n",
    "    # the following values for the optimal omega\n",
    "    μ = (cos(π/(2*n)) + cos(π/(2*n + 1)))/2\n",
    "    ω = 2*(1 - sqrt(1 - μ^2))/μ^2\n",
    "    # (See page 409 of Strang Intro to Applied Math , this is equation 16)\n",
    "\n",
    "    # Initialize voltages\n",
    "    v = zeros(Float32, 2*n + 1, 2*n + 2)\n",
    "\n",
    "    # Define Input Currents\n",
    "    b = copy(v)\n",
    "    b[n + 1, (n + 1):(n + 2)]  = [1 -1]\n",
    "\n",
    "    # Makes indices easy to read\n",
    "    ie = 2:2:(2*n)      # even i's\n",
    "    io = 3:2:(2*n - 1)  # odd i's\n",
    "    je = 2:2:(2*n)      # even j's\n",
    "    jo = 3:2:(2*n + 1)  # odd j's\n",
    "\n",
    "    # Jacobi Steps\n",
    "    for k in 1:nreps\n",
    "        v[ie, je] = (1 - ω) * v[ie,je] +\n",
    "                      ω*(v[ie + 1, je] + v[ie - 1, je] + v[ie, je + 1] + v[ie, je - 1] + b[ie, je])/4\n",
    "        v[io, jo] = (1 - ω) * v[io, jo] +\n",
    "                      ω*(v[io + 1, jo] + v[io - 1, jo] + v[io, jo + 1] + v[io, jo - 1] + b[io, jo])/4\n",
    "        v[ie, jo] = (1 - ω) * v[ie, jo] +\n",
    "                      ω*(v[ie + 1, jo] + v[ie - 1, jo] + v[ie, jo + 1] + v[ie, jo - 1] + b[ie, jo])/4\n",
    "        v[io, je] = (1 - ω) * v[io, je] +\n",
    "                      ω*(v[io + 1, je] + v[io - 1, je] + v[io, je + 1] + v[io, je - 1] + b[io, je])/4\n",
    "    end\n",
    "    # Compute resistance = v_A - v_b = 2 v_A\n",
    "    r = 2*v[n + 1, n + 1]\n",
    "    return v, r\n",
    "end\n"
   ]
  },
  {
   "cell_type": "markdown",
   "metadata": {},
   "source": [
    "In the previous exercise, we saw how the number of allocations could be reduced by using the dot syntax for broadcasting. However, the function still allocated a lot so the aim of this exercise is to reduce the number of allocations even further.\n",
    "\n",
    "A the array \"slicing\" is what is causing the many allocations since slicing will create copies. A typical optimization in hot Julia code is to *devectorize* the code since that will will avoid allocations.\n",
    "\n",
    "**Exercise** As a first step in the process of optimizing, implement af function with the signature\n",
    "```julia\n",
    "stencil(v::Matrix, b::Matrix, ω::Number, i::Int, j::Int)\n",
    "```"
   ]
  },
  {
   "cell_type": "code",
   "execution_count": 22,
   "metadata": {},
   "outputs": [
    {
     "data": {
      "text/plain": [
       "stencil (generic function with 1 method)"
      ]
     },
     "execution_count": 22,
     "metadata": {},
     "output_type": "execute_result"
    }
   ],
   "source": [
    "stencil(v::Matrix, b::Matrix, ω::Number, i::Int, j::Int) = \n",
    "    (1 - ω) * v[i,j] +\n",
    "        ω*(v[i + 1, j] + v[i - 1, j] + v[i, j + 1] + v[i, j - 1] + b[i, j])/4"
   ]
  },
  {
   "cell_type": "markdown",
   "metadata": {},
   "source": [
    "**Exercise** Now use this function to rewrite a devectorized version of `compute_resistance` and call it `compute_resistance_devec`. The trick is to use a double `for` loop over the ranges `ie`, `io`, `je`, and `jo` as appropriate. Make sure that the function produces the correct result and time it. This version should have seven allocations."
   ]
  },
  {
   "cell_type": "code",
   "execution_count": 30,
   "metadata": {},
   "outputs": [
    {
     "data": {
      "text/plain": [
       "compute_resistance_devec (generic function with 2 methods)"
      ]
     },
     "execution_count": 30,
     "metadata": {},
     "output_type": "execute_result"
    }
   ],
   "source": [
    "function compute_resistance_devec(n, reps = 100)\n",
    "    # assume n and omega already defined or take\n",
    "    # the following values for the optimal omega\n",
    "    μ = (cos(π/(2*n)) + cos(π/(2*n + 1)))/2\n",
    "    ω = 2*(1 - sqrt(1 - μ^2))/μ^2\n",
    "    # (See page 409 of Strang Intro to Applied Math , this is equation 16)\n",
    "\n",
    "    # Initialize voltages\n",
    "    v = zeros(Float32, 2*n + 1, 2*n + 2)\n",
    "\n",
    "    # Define Input Currents\n",
    "    b = copy(v)\n",
    "    b[n + 1, (n + 1):(n + 2)]  = [1 -1]\n",
    "\n",
    "    # Makes indices easy to read\n",
    "    ie = 2:2:(2*n)      # even i's\n",
    "    io = 3:2:(2*n - 1)  # odd i's\n",
    "    je = 2:2:(2*n)      # even j's\n",
    "    jo = 3:2:(2*n + 1)  # odd j's\n",
    "\n",
    "    # Jacobi Steps\n",
    "    for k in 1:reps\n",
    "        for j in je, i in ie\n",
    "            v[i,j] = stencil(v, b, ω, i, j)\n",
    "        end\n",
    "\n",
    "        for j in jo, i in io\n",
    "            v[i,j] = stencil(v, b, ω, i, j)\n",
    "        end\n",
    "        \n",
    "        for j in jo, i in ie\n",
    "            v[i,j] = stencil(v, b, ω, i, j)\n",
    "        end\n",
    "        \n",
    "        for j in je, i in io\n",
    "            v[i,j] = stencil(v, b, ω, i, j)\n",
    "        end\n",
    "    end\n",
    "# Compute resistance = v_A - v_b = 2 v_A\n",
    "    r = 2*v[n + 1, n + 1]\n",
    "    return v, r\n",
    "end"
   ]
  },
  {
   "cell_type": "code",
   "execution_count": 24,
   "metadata": {},
   "outputs": [
    {
     "name": "stdout",
     "output_type": "stream",
     "text": [
      "  447.523 ms (7 allocations: 9.80 MiB)\n"
     ]
    }
   ],
   "source": [
    "@btime compute_resistance_devec(400);"
   ]
  },
  {
   "cell_type": "markdown",
   "metadata": {},
   "source": [
    "**Exercise** Look at the output from `@code_lowered compute_resistance_devec(400, 100)` and identify the calls to `stencil`.\n",
    "\n",
    "**Exercise** ook at the output from `@code_typed compute_resistance_devec(400, 100)` and verify that there are no calls to `stencil`.\n",
    "\n",
    "Julia has *inlined* the function call to avoid the overhead of the function call and to allow compiler optimizations of the whole loop body.\n",
    "\n",
    "**Exercise** The function iterates over the arrays four times. That is more than necessary. Identify the any dependencies between the four double loops and reduce it to two double loops. Time the result."
   ]
  },
  {
   "cell_type": "code",
   "execution_count": 25,
   "metadata": {},
   "outputs": [
    {
     "data": {
      "text/plain": [
       "CodeInfo(:(begin \n",
       "        NewvarNode(:(r))\n",
       "        SSAValue(26) = (Base.div_float)(3.141592653589793, (Base.sitofp)(Float64, (Base.mul_int)(2, n)::Int64)::Float64)::Float64\n",
       "        $(Expr(:inbounds, false))\n",
       "        # meta: location math.jl cos 419\n",
       "        SSAValue(28) = $(Expr(:foreigncall, (\"cos\", \"libopenlibm\"), Float64, svec(Float64), SSAValue(26), 0))\n",
       "        # meta: location math.jl nan_dom_err 300\n",
       "        unless (Base.and_int)((Base.ne_float)(SSAValue(28), SSAValue(28))::Bool, (Base.not_int)((Base.ne_float)(SSAValue(26), SSAValue(26))::Bool)::Bool)::Bool goto 10\n",
       "        #temp#@_32 = (Base.Math.throw)($(QuoteNode(DomainError())))::Union{}\n",
       "        goto 12\n",
       "        10: \n",
       "        #temp#@_32 = SSAValue(28)\n",
       "        12: \n",
       "        # meta: pop location\n",
       "        # meta: pop location\n",
       "        $(Expr(:inbounds, :pop))\n",
       "        SSAValue(23) = (Base.div_float)(3.141592653589793, (Base.sitofp)(Float64, (Base.add_int)((Base.mul_int)(2, n)::Int64, 1)::Int64)::Float64)::Float64\n",
       "        $(Expr(:inbounds, false))\n",
       "        # meta: location math.jl cos 419\n",
       "        SSAValue(25) = $(Expr(:foreigncall, (\"cos\", \"libopenlibm\"), Float64, svec(Float64), SSAValue(23), 0))\n",
       "        # meta: location math.jl nan_dom_err 300\n",
       "        unless (Base.and_int)((Base.ne_float)(SSAValue(25), SSAValue(25))::Bool, (Base.not_int)((Base.ne_float)(SSAValue(23), SSAValue(23))::Bool)::Bool)::Bool goto 24\n",
       "        #temp#@_31 = (Base.Math.throw)($(QuoteNode(DomainError())))::Union{}\n",
       "        goto 26\n",
       "        24: \n",
       "        #temp#@_31 = SSAValue(25)\n",
       "        26: \n",
       "        # meta: pop location\n",
       "        # meta: pop location\n",
       "        $(Expr(:inbounds, :pop))\n",
       "        μ = (Base.div_float)((Base.add_float)(#temp#@_32, #temp#@_31)::Float64, (Base.sitofp)(Float64, 2)::Float64)::Float64 # line 5:\n",
       "        SSAValue(29) = (Base.Math.sqrt_llvm)((Base.sub_float)((Base.sitofp)(Float64, 1)::Float64, (Base.mul_float)(μ, μ)::Float64)::Float64)::Float64\n",
       "        ω = (Base.div_float)((Base.mul_float)((Base.sitofp)(Float64, 2)::Float64, (Base.sub_float)((Base.sitofp)(Float64, 1)::Float64, SSAValue(29))::Float64)::Float64, (Base.mul_float)(μ, μ)::Float64)::Float64 # line 9:\n",
       "        SSAValue(72) = (Base.add_int)((Base.mul_int)(2, n)::Int64, 1)::Int64\n",
       "        SSAValue(73) = (Base.add_int)((Base.mul_int)(2, n)::Int64, 2)::Int64\n",
       "        $(Expr(:inbounds, false))\n",
       "        # meta: location array.jl zeros 261\n",
       "        # meta: location array.jl zeros 259\n",
       "        # meta: location array.jl zeros 258\n",
       "        SSAValue(34) = SSAValue(72)\n",
       "        SSAValue(35) = SSAValue(73)\n",
       "        # meta: pop location\n",
       "        # meta: pop location\n",
       "        # meta: pop location\n",
       "        $(Expr(:inbounds, :pop))\n",
       "        v = $(Expr(:invoke, MethodInstance for fill!(::Array{Float64,2}, ::Float64), :(Base.fill!), :($(Expr(:foreigncall, :(:jl_alloc_array_2d), Array{Float64,2}, svec(Any, Int64, Int64), Array{Float64,2}, 0, SSAValue(34), 0, SSAValue(35), 0))), :((Base.sitofp)(Float64, 0)::Float64))) # line 12:\n",
       "        b = $(Expr(:foreigncall, :(:jl_array_copy), Ref{Array{Float64,2}}, svec(Any), :(v), 0)) # line 13:\n",
       "        SSAValue(0) = $(Expr(:invoke, MethodInstance for hcat(::Int64, ::Int64), :(Main.hcat), 1, -1))\n",
       "        SSAValue(37) = (Base.add_int)(n, 1)::Int64\n",
       "        SSAValue(36) = (Base.add_int)(n, 2)::Int64\n",
       "        SSAValue(74) = (Base.add_int)(n, 1)::Int64\n",
       "        SSAValue(75) = $(Expr(:new, UnitRange{Int64}, SSAValue(37), :((Base.select_value)((Base.sle_int)(SSAValue(37), SSAValue(36))::Bool, SSAValue(36), (Base.sub_int)(SSAValue(37), 1)::Int64)::Int64)))\n",
       "        # meta: location abstractarray.jl setindex! 968\n",
       "        $(Expr(:inbounds, false))\n",
       "        # meta: location indices.jl to_indices 213\n",
       "        # meta: location abstractarray.jl indices 64\n",
       "        (Base.arraysize)(b, 1)::Int64\n",
       "        (Base.arraysize)(b, 2)::Int64\n",
       "        # meta: pop location\n",
       "        # meta: pop location\n",
       "        $(Expr(:inbounds, :pop))\n",
       "        SSAValue(66) = SSAValue(74)\n",
       "        SSAValue(67) = SSAValue(75)\n",
       "        $(Expr(:inbounds, false))\n",
       "        # meta: location multidimensional.jl _setindex! 537\n",
       "        # meta: location multidimensional.jl # line 540:\n",
       "        SSAValue(46) = (Core.tuple)(SSAValue(66), SSAValue(67))::Tuple{Int64,UnitRange{Int64}}\n",
       "        # meta: location abstractarray.jl checkbounds 362\n",
       "        SSAValue(63) = (Core.getfield)(SSAValue(46), 1)::Int64\n",
       "        SSAValue(64) = (Core.getfield)(SSAValue(46), 2)::UnitRange{Int64}\n",
       "        # meta: location abstractarray.jl checkbounds 342\n",
       "        # meta: location abstractarray.jl indices 64\n",
       "        SSAValue(52) = (Base.arraysize)(b, 1)::Int64\n",
       "        SSAValue(53) = (Base.arraysize)(b, 2)::Int64\n",
       "        # meta: pop location\n",
       "        SSAValue(62) = (Base.select_value)((Base.slt_int)(SSAValue(52), 0)::Bool, 0, SSAValue(52))::Int64\n",
       "        SSAValue(65) = (Base.select_value)((Base.slt_int)(SSAValue(53), 0)::Bool, 0, SSAValue(53))::Int64\n",
       "        # meta: location abstractarray.jl checkbounds_indices 389\n",
       "        # meta: location abstractarray.jl checkbounds_indices 402\n",
       "        # meta: location abstractarray.jl checkindex 460\n",
       "        SSAValue(58) = (Core.getfield)(SSAValue(64), :start)::Int64\n",
       "        SSAValue(57) = (Core.getfield)(SSAValue(64), :stop)::Int64\n",
       "        # meta: pop location\n",
       "        # meta: pop location\n",
       "        # meta: pop location\n",
       "        # meta: pop location\n",
       "        SSAValue(47) = (Base.and_int)((Base.and_int)((Base.sle_int)(1, SSAValue(63))::Bool, (Base.sle_int)(SSAValue(63), SSAValue(62))::Bool)::Bool, (Base.or_int)((Base.slt_int)((Core.getfield)(SSAValue(64), :stop)::Int64, (Core.getfield)(SSAValue(64), :start)::Int64)::Bool, (Base.and_int)((Base.and_int)((Base.sle_int)(1, SSAValue(58))::Bool, (Base.sle_int)(SSAValue(58), SSAValue(65))::Bool)::Bool, (Base.and_int)((Base.sle_int)(1, SSAValue(57))::Bool, (Base.sle_int)(SSAValue(57), SSAValue(65))::Bool)::Bool)::Bool)::Bool)::Bool\n",
       "        unless SSAValue(47) goto 94\n",
       "        goto 96\n",
       "        94: \n",
       "        $(Expr(:invoke, MethodInstance for throw_boundserror(::Array{Float64,2}, ::Tuple{Int64,UnitRange{Int64}}), :(Base.throw_boundserror), :(b), SSAValue(46)))\n",
       "        96: \n",
       "        # meta: pop location # line 541:\n",
       "        $(Expr(:invoke, MethodInstance for _unsafe_setindex!(::IndexLinear, ::Array{Float64,2}, ::Array{Int64,2}, ::Int64, ::UnitRange{Int64}), :(Base._unsafe_setindex!), :($(QuoteNode(IndexLinear()))), :(b), SSAValue(0), SSAValue(66), SSAValue(67)))\n",
       "        # meta: pop location\n",
       "        # meta: pop location\n",
       "        $(Expr(:inbounds, :pop))\n",
       "        # meta: pop location # line 16:\n",
       "        $(Expr(:inbounds, false))\n",
       "        # meta: location range.jl colon 30\n",
       "        # meta: location range.jl _colon 32\n",
       "        # meta: location range.jl Type 145\n",
       "        # meta: location range.jl Type 93\n",
       "        SSAValue(68) = $(Expr(:invoke, MethodInstance for steprange_last(::Int64, ::Int64, ::Int64), :(Base.steprange_last), 2, 2, :((Base.mul_int)(2, n)::Int64)))\n",
       "        # meta: pop location\n",
       "        # meta: pop location\n",
       "        # meta: pop location\n",
       "        # meta: pop location\n",
       "        $(Expr(:inbounds, :pop)) # line 17:\n",
       "        $(Expr(:inbounds, false))\n",
       "        # meta: location range.jl colon 30\n",
       "        # meta: location range.jl _colon 32\n",
       "        # meta: location range.jl Type 145\n",
       "        # meta: location range.jl Type 93\n",
       "        SSAValue(69) = $(Expr(:invoke, MethodInstance for steprange_last(::Int64, ::Int64, ::Int64), :(Base.steprange_last), 3, 2, :((Base.sub_int)((Base.mul_int)(2, n)::Int64, 1)::Int64)))\n",
       "        # meta: pop location\n",
       "        # meta: pop location\n",
       "        # meta: pop location\n",
       "        # meta: pop location\n",
       "        $(Expr(:inbounds, :pop)) # line 18:\n",
       "        $(Expr(:inbounds, false))\n",
       "        # meta: location range.jl colon 30\n",
       "        # meta: location range.jl _colon 32\n",
       "        # meta: location range.jl Type 145\n",
       "        # meta: location range.jl Type 93\n",
       "        SSAValue(70) = $(Expr(:invoke, MethodInstance for steprange_last(::Int64, ::Int64, ::Int64), :(Base.steprange_last), 2, 2, :((Base.mul_int)(2, n)::Int64)))\n",
       "        # meta: pop location\n",
       "        # meta: pop location\n",
       "        # meta: pop location\n",
       "        # meta: pop location\n",
       "        $(Expr(:inbounds, :pop)) # line 19:\n",
       "        $(Expr(:inbounds, false))\n",
       "        # meta: location range.jl colon 30\n",
       "        # meta: location range.jl _colon 32\n",
       "        # meta: location range.jl Type 145\n",
       "        # meta: location range.jl Type 93\n",
       "        SSAValue(71) = $(Expr(:invoke, MethodInstance for steprange_last(::Int64, ::Int64, ::Int64), :(Base.steprange_last), 3, 2, :((Base.add_int)((Base.mul_int)(2, n)::Int64, 1)::Int64)))\n",
       "        # meta: pop location\n",
       "        # meta: pop location\n",
       "        # meta: pop location\n",
       "        # meta: pop location\n",
       "        $(Expr(:inbounds, :pop)) # line 22:\n",
       "        SSAValue(76) = (Base.select_value)((Base.sle_int)(1, reps)::Bool, reps, (Base.sub_int)(1, 1)::Int64)::Int64\n",
       "        #temp#@_21 = 1\n",
       "        155: \n",
       "        unless (Base.not_int)((#temp#@_21 === (Base.add_int)(SSAValue(76), 1)::Int64)::Bool)::Bool goto 253\n",
       "        SSAValue(77) = #temp#@_21\n",
       "        SSAValue(78) = (Base.add_int)(#temp#@_21, 1)::Int64\n",
       "        #temp#@_21 = SSAValue(78) # line 23:\n",
       "        #temp#@_7 = 2\n",
       "        162: \n",
       "        unless (Base.not_int)((Base.or_int)((Base.and_int)((Base.not_int)((2 === SSAValue(70))::Bool)::Bool, (Base.not_int)(((Base.slt_int)(0, 2)::Bool === (Base.slt_int)(2, SSAValue(70))::Bool)::Bool)::Bool)::Bool, (#temp#@_7 === (Base.add_int)(SSAValue(70), 2)::Int64)::Bool)::Bool)::Bool goto 182\n",
       "        SSAValue(79) = #temp#@_7\n",
       "        SSAValue(80) = (Base.add_int)(#temp#@_7, 2)::Int64\n",
       "        j@_6 = SSAValue(79)\n",
       "        #temp#@_7 = SSAValue(80)\n",
       "        #temp#@_5 = 2\n",
       "        169: \n",
       "        unless (Base.not_int)((Base.or_int)((Base.and_int)((Base.not_int)((2 === SSAValue(68))::Bool)::Bool, (Base.not_int)(((Base.slt_int)(0, 2)::Bool === (Base.slt_int)(2, SSAValue(68))::Bool)::Bool)::Bool)::Bool, (#temp#@_5 === (Base.add_int)(SSAValue(68), 2)::Int64)::Bool)::Bool)::Bool goto 180\n",
       "        SSAValue(81) = #temp#@_5\n",
       "        SSAValue(82) = (Base.add_int)(#temp#@_5, 2)::Int64\n",
       "        i@_4 = SSAValue(81)\n",
       "        #temp#@_5 = SSAValue(82) # line 24:\n",
       "        SSAValue(7) = $(Expr(:invoke, MethodInstance for stencil(::Array{Float64,2}, ::Array{Float64,2}, ::Float64, ::Int64, ::Int64), :(Main.stencil), :(v), :(b), :(ω), :(i@_4), :(j@_6)))\n",
       "        (Base.arrayset)(v, SSAValue(7), i@_4, j@_6)::Array{Float64,2}\n",
       "        178: \n",
       "        goto 169\n",
       "        180: \n",
       "        goto 162\n",
       "        182:  # line 27:\n",
       "        #temp#@_11 = 3\n",
       "        185: \n",
       "        unless (Base.not_int)((Base.or_int)((Base.and_int)((Base.not_int)((3 === SSAValue(71))::Bool)::Bool, (Base.not_int)(((Base.slt_int)(0, 2)::Bool === (Base.slt_int)(3, SSAValue(71))::Bool)::Bool)::Bool)::Bool, (#temp#@_11 === (Base.add_int)(SSAValue(71), 2)::Int64)::Bool)::Bool)::Bool goto 205\n",
       "        SSAValue(83) = #temp#@_11\n",
       "        SSAValue(84) = (Base.add_int)(#temp#@_11, 2)::Int64\n",
       "        j@_10 = SSAValue(83)\n",
       "        #temp#@_11 = SSAValue(84)\n",
       "        #temp#@_9 = 3\n",
       "        192: \n",
       "        unless (Base.not_int)((Base.or_int)((Base.and_int)((Base.not_int)((3 === SSAValue(69))::Bool)::Bool, (Base.not_int)(((Base.slt_int)(0, 2)::Bool === (Base.slt_int)(3, SSAValue(69))::Bool)::Bool)::Bool)::Bool, (#temp#@_9 === (Base.add_int)(SSAValue(69), 2)::Int64)::Bool)::Bool)::Bool goto 203\n",
       "        SSAValue(85) = #temp#@_9\n",
       "        SSAValue(86) = (Base.add_int)(#temp#@_9, 2)::Int64\n",
       "        i@_8 = SSAValue(85)\n",
       "        #temp#@_9 = SSAValue(86) # line 28:\n",
       "        SSAValue(12) = $(Expr(:invoke, MethodInstance for stencil(::Array{Float64,2}, ::Array{Float64,2}, ::Float64, ::Int64, ::Int64), :(Main.stencil), :(v), :(b), :(ω), :(i@_8), :(j@_10)))\n",
       "        (Base.arrayset)(v, SSAValue(12), i@_8, j@_10)::Array{Float64,2}\n",
       "        201: \n",
       "        goto 192\n",
       "        203: \n",
       "        goto 185\n",
       "        205:  # line 31:\n",
       "        #temp#@_15 = 3\n",
       "        208: \n",
       "        unless (Base.not_int)((Base.or_int)((Base.and_int)((Base.not_int)((3 === SSAValue(71))::Bool)::Bool, (Base.not_int)(((Base.slt_int)(0, 2)::Bool === (Base.slt_int)(3, SSAValue(71))::Bool)::Bool)::Bool)::Bool, (#temp#@_15 === (Base.add_int)(SSAValue(71), 2)::Int64)::Bool)::Bool)::Bool goto 228\n",
       "        SSAValue(87) = #temp#@_15\n",
       "        SSAValue(88) = (Base.add_int)(#temp#@_15, 2)::Int64\n",
       "        j@_14 = SSAValue(87)\n",
       "        #temp#@_15 = SSAValue(88)\n",
       "        #temp#@_13 = 2\n",
       "        215: \n",
       "        unless (Base.not_int)((Base.or_int)((Base.and_int)((Base.not_int)((2 === SSAValue(68))::Bool)::Bool, (Base.not_int)(((Base.slt_int)(0, 2)::Bool === (Base.slt_int)(2, SSAValue(68))::Bool)::Bool)::Bool)::Bool, (#temp#@_13 === (Base.add_int)(SSAValue(68), 2)::Int64)::Bool)::Bool)::Bool goto 226\n",
       "        SSAValue(89) = #temp#@_13\n",
       "        SSAValue(90) = (Base.add_int)(#temp#@_13, 2)::Int64\n",
       "        i@_12 = SSAValue(89)\n",
       "        #temp#@_13 = SSAValue(90) # line 32:\n",
       "        SSAValue(17) = $(Expr(:invoke, MethodInstance for stencil(::Array{Float64,2}, ::Array{Float64,2}, ::Float64, ::Int64, ::Int64), :(Main.stencil), :(v), :(b), :(ω), :(i@_12), :(j@_14)))\n",
       "        (Base.arrayset)(v, SSAValue(17), i@_12, j@_14)::Array{Float64,2}\n",
       "        224: \n",
       "        goto 215\n",
       "        226: \n",
       "        goto 208\n",
       "        228:  # line 35:\n",
       "        #temp#@_19 = 2\n",
       "        231: \n",
       "        unless (Base.not_int)((Base.or_int)((Base.and_int)((Base.not_int)((2 === SSAValue(70))::Bool)::Bool, (Base.not_int)(((Base.slt_int)(0, 2)::Bool === (Base.slt_int)(2, SSAValue(70))::Bool)::Bool)::Bool)::Bool, (#temp#@_19 === (Base.add_int)(SSAValue(70), 2)::Int64)::Bool)::Bool)::Bool goto 251\n",
       "        SSAValue(91) = #temp#@_19\n",
       "        SSAValue(92) = (Base.add_int)(#temp#@_19, 2)::Int64\n",
       "        j@_18 = SSAValue(91)\n",
       "        #temp#@_19 = SSAValue(92)\n",
       "        #temp#@_17 = 3\n",
       "        238: \n",
       "        unless (Base.not_int)((Base.or_int)((Base.and_int)((Base.not_int)((3 === SSAValue(69))::Bool)::Bool, (Base.not_int)(((Base.slt_int)(0, 2)::Bool === (Base.slt_int)(3, SSAValue(69))::Bool)::Bool)::Bool)::Bool, (#temp#@_17 === (Base.add_int)(SSAValue(69), 2)::Int64)::Bool)::Bool)::Bool goto 249\n",
       "        SSAValue(93) = #temp#@_17\n",
       "        SSAValue(94) = (Base.add_int)(#temp#@_17, 2)::Int64\n",
       "        i@_16 = SSAValue(93)\n",
       "        #temp#@_17 = SSAValue(94) # line 36:\n",
       "        SSAValue(22) = $(Expr(:invoke, MethodInstance for stencil(::Array{Float64,2}, ::Array{Float64,2}, ::Float64, ::Int64, ::Int64), :(Main.stencil), :(v), :(b), :(ω), :(i@_16), :(j@_18)))\n",
       "        (Base.arrayset)(v, SSAValue(22), i@_16, j@_18)::Array{Float64,2}\n",
       "        247: \n",
       "        goto 238\n",
       "        249: \n",
       "        goto 231\n",
       "        251: \n",
       "        goto 155\n",
       "        253:  # line 40:\n",
       "        r = (Base.mul_float)((Base.sitofp)(Float64, 2)::Float64, (Base.arrayref)(v, (Base.add_int)(n, 1)::Int64, (Base.add_int)(n, 1)::Int64)::Float64)::Float64 # line 41:\n",
       "        return (Core.tuple)(v, r)::Tuple{Array{Float64,2},Float64}\n",
       "    end))=>Tuple{Array{Float64,2},Float64}"
      ]
     },
     "execution_count": 25,
     "metadata": {},
     "output_type": "execute_result"
    }
   ],
   "source": [
    "@code_typed compute_resistance_devec(400, 100)"
   ]
  },
  {
   "cell_type": "code",
   "execution_count": null,
   "metadata": {},
   "outputs": [],
   "source": [
    "function compute_resistance_devec2(n, reps = 100)\n",
    "    # assume n and omega already defined or take\n",
    "    # the following values for the optimal omega\n",
    "    μ = (cos(π/(2*n)) + cos(π/(2*n + 1)))/2\n",
    "    ω = 2*(1 - sqrt(1 - μ^2))/μ^2\n",
    "    # (See page 409 of Strang Intro to Applied Math , this is equation 16)\n",
    "\n",
    "    # Initialize voltages\n",
    "    v = zeros(Float32, 2*n + 1, 2*n + 2)\n",
    "\n",
    "    # Define Input Currents\n",
    "    b = copy(v)\n",
    "    b[n + 1, (n + 1):(n + 2)]  = [1 -1]\n",
    "\n",
    "    # Jacobi Steps\n",
    "    for k in 1:reps\n",
    "        \n",
    "        # even-even and odd-odd\n",
    "        for j in 1:n\n",
    "            for i in 1:(n - 1)\n",
    "                v[2*i, 2*j]         = stencil(v, b, ω, 2*i    , 2*j)\n",
    "                v[2*i + 1, 2*j + 1] = stencil(v, b, ω, 2*i + 1, 2*j + 1)\n",
    "            end\n",
    "            v[2*n, 2*j] = stencil(v, b, ω, 2*n, 2*j)\n",
    "        end\n",
    "                \n",
    "        # even-odd and odd-even\n",
    "        for j in 1:n\n",
    "            for i in 1:(n - 1)\n",
    "                v[2*i, 2*j + 1] = stencil(v, b, ω, 2*i    , 2*j + 1)\n",
    "                v[2*i + 1, 2*j] = stencil(v, b, ω, 2*i + 1, 2*j)\n",
    "            end\n",
    "            v[2*n, 2*j + 1] = stencil(v, b, ω, 2*n, 2*j + 1)\n",
    "        end\n",
    "    end\n",
    "# Compute resistance = v_A - v_b = 2 v_A\n",
    "    r = 2*v[n + 1, n + 1]\n",
    "    return v, r\n",
    "end"
   ]
  },
  {
   "cell_type": "code",
   "execution_count": null,
   "metadata": {},
   "outputs": [],
   "source": [
    "@btime compute_resistance_devec2(400);"
   ]
  },
  {
   "cell_type": "code",
   "execution_count": 31,
   "metadata": {},
   "outputs": [],
   "source": [
    "v1, r1 = compute_resistance(400);\n",
    "v2, r2 = compute_resistance_devec(400);"
   ]
  },
  {
   "cell_type": "code",
   "execution_count": 32,
   "metadata": {},
   "outputs": [
    {
     "data": {
      "text/plain": [
       "0.0f0"
      ]
     },
     "execution_count": 32,
     "metadata": {},
     "output_type": "execute_result"
    }
   ],
   "source": [
    "r1 - r2"
   ]
  },
  {
   "cell_type": "code",
   "execution_count": 28,
   "metadata": {},
   "outputs": [
    {
     "data": {
      "text/plain": [
       "0.5002341f0"
      ]
     },
     "execution_count": 28,
     "metadata": {},
     "output_type": "execute_result"
    }
   ],
   "source": [
    "r1"
   ]
  },
  {
   "cell_type": "code",
   "execution_count": 29,
   "metadata": {},
   "outputs": [
    {
     "data": {
      "text/plain": [
       "0.5002340652149473"
      ]
     },
     "execution_count": 29,
     "metadata": {},
     "output_type": "execute_result"
    }
   ],
   "source": [
    "r2"
   ]
  },
  {
   "cell_type": "code",
   "execution_count": null,
   "metadata": {},
   "outputs": [],
   "source": []
  }
 ],
 "metadata": {
  "kernelspec": {
   "display_name": "Julia 0.6.2",
   "language": "julia",
   "name": "julia-0.6"
  },
  "language_info": {
   "file_extension": ".jl",
   "mimetype": "application/julia",
   "name": "julia",
   "version": "0.6.3"
  }
 },
 "nbformat": 4,
 "nbformat_minor": 2
}

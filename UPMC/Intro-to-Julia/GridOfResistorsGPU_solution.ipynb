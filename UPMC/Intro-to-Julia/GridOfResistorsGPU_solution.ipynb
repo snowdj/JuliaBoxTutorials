{
 "cells": [
  {
   "cell_type": "markdown",
   "metadata": {},
   "source": [
    "# Grid of resistors (GPU version)\n",
    "## Stencil computation with CUDAnative\n",
    "\n",
    "In this notebook will you will learn how to run a few simple GPU kernels in Julia by using the `CUDAnative` package. The exercise will introduce a GPU translation of the \"Grid of resistors\" code as an example of how to write GPU kernels in Julia. The purpose is to write the simples or fastest GPU stencil code but to introduce GPU kernel computations in Julia.\n",
    "\n",
    "First load some packages that will be used as part of the exercise"
   ]
  },
  {
   "cell_type": "code",
   "execution_count": 10,
   "metadata": {},
   "outputs": [],
   "source": [
    "using CUDAnative # Compile Julia programs to GPUs\n",
    "using CuArrays   # Arrays on GPU\n",
    "using BenchmarkTools"
   ]
  },
  {
   "cell_type": "markdown",
   "metadata": {},
   "source": [
    "As explained in the \"π in many ways\" notebook, the command `nvidia-smi` can be used to listing available NVidia CPUs"
   ]
  },
  {
   "cell_type": "code",
   "execution_count": 11,
   "metadata": {},
   "outputs": [
    {
     "name": "stdout",
     "output_type": "stream",
     "text": [
      "Wed Jul  4 04:10:42 2018       \n",
      "+-----------------------------------------------------------------------------+\n",
      "| NVIDIA-SMI 390.59                 Driver Version: 390.59                    |\n",
      "|-------------------------------+----------------------+----------------------+\n",
      "| GPU  Name        Persistence-M| Bus-Id        Disp.A | Volatile Uncorr. ECC |\n",
      "| Fan  Temp  Perf  Pwr:Usage/Cap|         Memory-Usage | GPU-Util  Compute M. |\n",
      "|===============================+======================+======================|\n",
      "|   0  GeForce GTX 108...  Off  | 00000000:04:00.0 Off |                  N/A |\n",
      "| 23%   24C    P8    15W / 250W |     10MiB / 11178MiB |      0%      Default |\n",
      "+-------------------------------+----------------------+----------------------+\n",
      "|   1  GeForce GTX 108...  Off  | 00000000:0E:00.0 Off |                  N/A |\n",
      "| 23%   26C    P8     8W / 250W |     10MiB / 11178MiB |      0%      Default |\n",
      "+-------------------------------+----------------------+----------------------+\n",
      "|   2  Tesla P100-PCIE...  Off  | 00000000:0F:00.0 Off |                    0 |\n",
      "| N/A   45C    P0    40W / 250W |  16277MiB / 16280MiB |     89%      Default |\n",
      "+-------------------------------+----------------------+----------------------+\n",
      "|   3  Tesla P100-PCIE...  Off  | 00000000:10:00.0 Off |                    0 |\n",
      "| N/A   35C    P0    25W / 250W |     10MiB / 16280MiB |      0%      Default |\n",
      "+-------------------------------+----------------------+----------------------+\n",
      "|   4  Tesla V100-PCIE...  Off  | 00000000:11:00.0 Off |                    0 |\n",
      "| N/A   38C    P0    39W / 250W |   1771MiB / 16160MiB |      0%      Default |\n",
      "+-------------------------------+----------------------+----------------------+\n",
      "                                                                               \n",
      "+-----------------------------------------------------------------------------+\n",
      "| Processes:                                                       GPU Memory |\n",
      "|  GPU       PID   Type   Process name                             Usage      |\n",
      "|=============================================================================|\n",
      "|    2      3604      C   /home/avik-pal/julia/julia                 16267MiB |\n",
      "|    4      6226      C   julia07                                     1066MiB |\n",
      "|    4     11651      C   /home/andreasnoack/julia/usr/bin/julia       694MiB |\n",
      "+-----------------------------------------------------------------------------+\n"
     ]
    }
   ],
   "source": [
    ";nvidia-smi"
   ]
  },
  {
   "cell_type": "markdown",
   "metadata": {},
   "source": [
    "Now we will allocate two GPU arrays where `A` will contain random values except at the boundary which will be zero a both ends."
   ]
  },
  {
   "cell_type": "code",
   "execution_count": 13,
   "metadata": {},
   "outputs": [
    {
     "name": "stdout",
     "output_type": "stream",
     "text": [
      "A = CuArray(Float32[0.0, 0.431209, 0.820723, 0.234987, 0.00420462, 0.461162, 0.346231, 0.777714, 0.508115, 0.864385, 0.579559, 0.124908, 0.347255, 0.0388117, 0.874848, 0.0])\n",
      "B = CuArray(Float32[0.0, 0.0, 0.0, 0.0, 0.0, 0.0, 0.0, 0.0, 0.0, 0.0, 0.0, 0.0, 0.0, 0.0, 0.0, 0.0])\n"
     ]
    }
   ],
   "source": [
    "A = CuArray(zeros(Float32, 16))\n",
    "B = CuArray(zeros(Float32, 16))\n",
    "rand!(A[2:15])\n",
    "@show A\n",
    "@show B;"
   ]
  },
  {
   "cell_type": "markdown",
   "metadata": {},
   "source": [
    "Below is a first example of a stencil kernel."
   ]
  },
  {
   "cell_type": "code",
   "execution_count": 14,
   "metadata": {},
   "outputs": [
    {
     "data": {
      "text/plain": [
       "stencil_kernel! (generic function with 1 method)"
      ]
     },
     "execution_count": 14,
     "metadata": {},
     "output_type": "execute_result"
    }
   ],
   "source": [
    "function stencil_kernel!(B, A)\n",
    "    i = (blockIdx().x-1) * blockDim().x + threadIdx().x\n",
    "    if i > 1 && i < 16\n",
    "        B[i] = A[i-1] - 2*A[i] + A[i+1]    \n",
    "    end\n",
    "    \n",
    "    return nothing\n",
    "end"
   ]
  },
  {
   "cell_type": "markdown",
   "metadata": {},
   "source": [
    "**Exercise** If you are not familiar with CUDA programming then try to explain the code. What is the value of `i`?\n",
    "\n",
    "We will now launch the kernel on the GPU by using the `@cuda` macro. The first argument to the macro is a tuple of the grid dimension and the block dimension. Each are allow to be either a scalar or a length two or three tuple but we wil only be using scalars in this notebook.\n",
    "\n",
    "**Exercise** Try running `@cuda (1, 16) stencil_kernel!(B, A)` and print `B`. Exaplain what has happened."
   ]
  },
  {
   "cell_type": "code",
   "execution_count": 18,
   "metadata": {},
   "outputs": [
    {
     "data": {
      "text/plain": [
       "16-element CuArray{Float32,1}:\n",
       "   0.0     \n",
       "   4.04747 \n",
       "  -6.41678 \n",
       "   2.66617 \n",
       "   4.56534 \n",
       "  -8.71407 \n",
       "   9.68398 \n",
       " -10.1086  \n",
       "   9.50052 \n",
       "  -5.49083 \n",
       "   0.704027\n",
       "   0.676997\n",
       "  -0.530789\n",
       "   1.14448 \n",
       "  -1.71088 \n",
       "   0.0     "
      ]
     },
     "execution_count": 18,
     "metadata": {},
     "output_type": "execute_result"
    }
   ],
   "source": [
    "@cuda (1, 16) stencil_kernel!(B, A)\n",
    "B"
   ]
  },
  {
   "cell_type": "markdown",
   "metadata": {},
   "source": [
    "**Exercise** Add these two lines to the kernel\n",
    "```julia\n",
    "@cuprintf(\"blockIdx().x = %d, blockDim().x = %d, threadIdx().x = %d, i = %d\\n\",\n",
    "    Int32(blockIdx().x), Int32(blockDim().x), Int32(threadIdx().x), Int32(i))\n",
    "```\n",
    "Now launch the kernel with combinations of grid and block sizes for which the product is 16. Explain."
   ]
  },
  {
   "cell_type": "code",
   "execution_count": 22,
   "metadata": {},
   "outputs": [
    {
     "data": {
      "text/plain": [
       "stencil_kernel! (generic function with 1 method)"
      ]
     },
     "execution_count": 22,
     "metadata": {},
     "output_type": "execute_result"
    }
   ],
   "source": [
    "function stencil_kernel!(B, A)\n",
    "    i = (blockIdx().x-1) * blockDim().x + threadIdx().x\n",
    "    @cuprintf(\"blockIdx().x = %d, blockDim().x = %d, threadIdx().x = %d, i = %d\\n\",\n",
    "        Int32(blockIdx().x), Int32(blockDim().x), Int32(threadIdx().x), Int32(i))\n",
    "    if i > 1 && i < 16\n",
    "        B[i] = A[i-1] - 2*A[i] + A[i+1]    \n",
    "    end\n",
    "    \n",
    "    return nothing\n",
    "end"
   ]
  },
  {
   "cell_type": "code",
   "execution_count": 26,
   "metadata": {},
   "outputs": [
    {
     "name": "stdout",
     "output_type": "stream",
     "text": [
      "blockIdx().x = 1, blockDim().x = 16, threadIdx().x = 1, i = 1\n",
      "blockIdx().x = 1, blockDim().x = 16, threadIdx().x = 2, i = 2\n",
      "blockIdx().x = 1, blockDim().x = 16, threadIdx().x = 3, i = 3\n",
      "blockIdx().x = 1, blockDim().x = 16, threadIdx().x = 4, i = 4\n",
      "blockIdx().x = 1, blockDim().x = 16, threadIdx().x = 5, i = 5\n",
      "blockIdx().x = 1, blockDim().x = 16, threadIdx().x = 6, i = 6\n",
      "blockIdx().x = 1, blockDim().x = 16, threadIdx().x = 7, i = 7\n",
      "blockIdx().x = 1, blockDim().x = 16, threadIdx().x = 8, i = 8\n",
      "blockIdx().x = 1, blockDim().x = 16, threadIdx().x = 9, i = 9\n",
      "blockIdx().x = 1, blockDim().x = 16, threadIdx().x = 10, i = 10\n",
      "blockIdx().x = 1, blockDim().x = 16, threadIdx().x = 11, i = 11\n",
      "blockIdx().x = 1, blockDim().x = 16, threadIdx().x = 12, i = 12\n",
      "blockIdx().x = 1, blockDim().x = 16, threadIdx().x = 13, i = 13\n",
      "blockIdx().x = 1, blockDim().x = 16, threadIdx().x = 14, i = 14\n",
      "blockIdx().x = 1, blockDim().x = 16, threadIdx().x = 15, i = 15\n",
      "blockIdx().x = 1, blockDim().x = 16, threadIdx().x = 16, i = 16\n",
      "blockIdx().x = 1, blockDim().x = 8, threadIdx().x = 1, i = 1\n",
      "blockIdx().x = 1, blockDim().x = 8, threadIdx().x = 2, i = 2\n",
      "blockIdx().x = 1, blockDim().x = 8, threadIdx().x = 3, i = 3\n",
      "blockIdx().x = 1, blockDim().x = 8, threadIdx().x = 4, i = 4\n",
      "blockIdx().x = 1, blockDim().x = 8, threadIdx().x = 5, i = 5\n",
      "blockIdx().x = 1, blockDim().x = 8, threadIdx().x = 6, i = 6\n",
      "blockIdx().x = 1, blockDim().x = 8, threadIdx().x = 7, i = 7\n",
      "blockIdx().x = 1, blockDim().x = 8, threadIdx().x = 8, i = 8\n",
      "blockIdx().x = 2, blockDim().x = 8, threadIdx().x = 1, i = 9\n",
      "blockIdx().x = 2, blockDim().x = 8, threadIdx().x = 2, i = 10\n",
      "blockIdx().x = 2, blockDim().x = 8, threadIdx().x = 3, i = 11\n",
      "blockIdx().x = 2, blockDim().x = 8, threadIdx().x = 4, i = 12\n",
      "blockIdx().x = 2, blockDim().x = 8, threadIdx().x = 5, i = 13\n",
      "blockIdx().x = 2, blockDim().x = 8, threadIdx().x = 6, i = 14\n",
      "blockIdx().x = 2, blockDim().x = 8, threadIdx().x = 7, i = 15\n",
      "blockIdx().x = 2, blockDim().x = 8, threadIdx().x = 8, i = 16\n",
      "blockIdx().x = 4, blockDim().x = 4, threadIdx().x = 1, i = 13\n",
      "blockIdx().x = 4, blockDim().x = 4, threadIdx().x = 2, i = 14\n",
      "blockIdx().x = 4, blockDim().x = 4, threadIdx().x = 3, i = 15\n",
      "blockIdx().x = 4, blockDim().x = 4, threadIdx().x = 4, i = 16\n",
      "blockIdx().x = 1, blockDim().x = 4, threadIdx().x = 1, i = 1\n",
      "blockIdx().x = 1, blockDim().x = 4, threadIdx().x = 2, i = 2\n",
      "blockIdx().x = 1, blockDim().x = 4, threadIdx().x = 3, i = 3\n",
      "blockIdx().x = 1, blockDim().x = 4, threadIdx().x = 4, i = 4\n",
      "blockIdx().x = 2, blockDim().x = 4, threadIdx().x = 1, i = 5\n",
      "blockIdx().x = 2, blockDim().x = 4, threadIdx().x = 2, i = 6\n",
      "blockIdx().x = 2, blockDim().x = 4, threadIdx().x = 3, i = 7\n",
      "blockIdx().x = 2, blockDim().x = 4, threadIdx().x = 4, i = 8\n",
      "blockIdx().x = 3, blockDim().x = 4, threadIdx().x = 1, i = 9\n",
      "blockIdx().x = 3, blockDim().x = 4, threadIdx().x = 2, i = 10\n",
      "blockIdx().x = 3, blockDim().x = 4, threadIdx().x = 3, i = 11\n",
      "blockIdx().x = 3, blockDim().x = 4, threadIdx().x = 4, i = 12\n"
     ]
    }
   ],
   "source": [
    "@cuda (1, 16) stencil_kernel!(A, B)\n",
    "@cuda (2, 8) stencil_kernel!(A, B)\n",
    "@cuda (4, 4) stencil_kernel!(A, B)"
   ]
  },
  {
   "cell_type": "markdown",
   "metadata": {},
   "source": [
    "We will now turn to the grid of resistors computation. First we repeat the original version for easy reference and comparison of results."
   ]
  },
  {
   "cell_type": "code",
   "execution_count": 53,
   "metadata": {},
   "outputs": [
    {
     "data": {
      "text/plain": [
       "compute_resistance (generic function with 2 methods)"
      ]
     },
     "execution_count": 53,
     "metadata": {},
     "output_type": "execute_result"
    }
   ],
   "source": [
    "function compute_resistance(n, nreps = 100)\n",
    "    # Original MATLAB version, Alan Edelman, January 1994\n",
    "    # Julia translations, Andreas Noack, June 2018\n",
    "\n",
    "    # assume n and omega already defined or take\n",
    "    # the following values for the optimal omega\n",
    "    μ = (cos(π/(2*n)) + cos(π/(2*n + 1)))/2\n",
    "    ω = 2*(1 - sqrt(1 - μ^2))/μ^2\n",
    "    # (See page 409 of Strang Intro to Applied Math , this is equation 16)\n",
    "\n",
    "    # Initialize voltages\n",
    "    v = zeros(Float32, 2*n + 1, 2*n + 2)\n",
    "\n",
    "    # Define Input Currents\n",
    "    b = copy(v)\n",
    "    b[n + 1, (n + 1):(n + 2)]  = [1 -1]\n",
    "\n",
    "    # Makes indices easy to read\n",
    "    ie = 2:2:(2*n)      # even i's\n",
    "    io = 3:2:(2*n - 1)  # odd i's\n",
    "    je = 2:2:(2*n)      # even j's\n",
    "    jo = 3:2:(2*n + 1)  # odd j's\n",
    "\n",
    "    # Jacobi Steps\n",
    "    for k in 1:nreps\n",
    "        v[ie, je] = (1 - ω) * v[ie,je] +\n",
    "                      ω*(v[ie + 1, je] + v[ie - 1, je] + v[ie, je + 1] + v[ie, je - 1] + b[ie, je])/4\n",
    "        v[io, jo] = (1 - ω) * v[io, jo] +\n",
    "                      ω*(v[io + 1, jo] + v[io - 1, jo] + v[io, jo + 1] + v[io, jo - 1] + b[io, jo])/4\n",
    "        v[ie, jo] = (1 - ω) * v[ie, jo] +\n",
    "                      ω*(v[ie + 1, jo] + v[ie - 1, jo] + v[ie, jo + 1] + v[ie, jo - 1] + b[ie, jo])/4\n",
    "        v[io, je] = (1 - ω) * v[io, je] +\n",
    "                      ω*(v[io + 1, je] + v[io - 1, je] + v[io, je + 1] + v[io, je - 1] + b[io, je])/4\n",
    "    end\n",
    "    # Compute resistance = v_A - v_b = 2 v_A\n",
    "    r = 2*v[n + 1, n + 1]\n",
    "    return v, r\n",
    "end"
   ]
  },
  {
   "cell_type": "markdown",
   "metadata": {},
   "source": [
    "Below is a first GPU version."
   ]
  },
  {
   "cell_type": "code",
   "execution_count": 55,
   "metadata": {},
   "outputs": [
    {
     "data": {
      "text/plain": [
       "compute_resistance_gpu_bad (generic function with 3 methods)"
      ]
     },
     "execution_count": 55,
     "metadata": {},
     "output_type": "execute_result"
    }
   ],
   "source": [
    "function stencil(v, b, ω, i, j)\n",
    "    vij = (1 - ω)*v[i, j] +\n",
    "        ω*(v[i + 1, j] + v[i - 1, j] + v[i, j + 1] + v[i, j - 1] + \n",
    "            b[i, j])/4\n",
    "    return vij\n",
    "end\n",
    "\n",
    "function stencil_inner_kernel!(v, b, ω, n)\n",
    "    li = (blockIdx().x-1) * blockDim().x + threadIdx().x\n",
    "    mm, nn = size(v)\n",
    "    i, j = ind2sub(v, li)\n",
    "    \n",
    "    # even-even\n",
    "    if iseven(i) && i <= 2n &&\n",
    "       iseven(j) && j <= 2n\n",
    "       \n",
    "        vij = stencil(v, b, ω, i, j)\n",
    "        v[i, j] = vij\n",
    "    end\n",
    "    sync_threads()\n",
    "    \n",
    "    # odd-odd\n",
    "    if isodd(i) && 1 < i <= (2n - 1) &&\n",
    "       isodd(j) && 1 < j <= (2n + 1)\n",
    "        \n",
    "        vij = stencil(v, b, ω, i, j)\n",
    "        v[i, j] = vij\n",
    "    end\n",
    "    sync_threads()\n",
    "    \n",
    "    # even-odd\n",
    "    if iseven(i) && i <= 2n &&\n",
    "       isodd(j)  && 1 < j <= (2n + 1)\n",
    "        \n",
    "        vij = stencil(v, b, ω, i, j)\n",
    "        v[i, j] = vij\n",
    "    end\n",
    "    sync_threads()\n",
    "    \n",
    "    # odd-even\n",
    "    if isodd(i)  && 1 < i <= (2n - 1) &&\n",
    "       iseven(j) && j <= 2n\n",
    "        \n",
    "        vij = stencil(v, b, ω, i, j)\n",
    "        v[i, j] = vij\n",
    "    end    \n",
    "    sync_threads()\n",
    "\n",
    "    return nothing\n",
    "end\n",
    "\n",
    "function stencil_outer_kernel!(v, b, ω, n, iter)\n",
    "    for i in 1:iter\n",
    "        stencil_inner_kernel!(v, b, ω, n)\n",
    "    end\n",
    "    \n",
    "    return nothing\n",
    "end\n",
    "\n",
    "function compute_resistance_gpu_bad(n, nreps = 100, blocksize = 64)\n",
    "    # assume n and omega already defined or take\n",
    "    # the following values for the optimal omega\n",
    "    μ = (cos(π/(2*n)) + cos(π/(2*n + 1)))/2\n",
    "    ω = 2*(1 - sqrt(1 - μ^2))/μ^2\n",
    "    # (See page 409 of Strang Intro to Applied Math , this is equation 16)\n",
    "\n",
    "    # Initialize voltages\n",
    "    v = fill!(CuArray{Float32}(2*n + 1, 2*n + 2), 0)\n",
    "\n",
    "    # Define Input Currents\n",
    "    b = copy(v)\n",
    "    b[n + 1, (n + 1):(n + 2)]  = [1 -1]\n",
    "    \n",
    "    # Jacobi Steps\n",
    "    @show mn = length(v)\n",
    "    @show gridsize = div(mn, blocksize) + 1\n",
    "    @show blocksize\n",
    "    @cuda (gridsize, blocksize) stencil_outer_kernel!(v, b, ω, n, nreps)\n",
    "\n",
    "    # Compute resistance = v_A - v_b = 2 v_A\n",
    "    r = 2*v[n + 1, n + 1]\n",
    "    return v, r\n",
    "end"
   ]
  },
  {
   "cell_type": "markdown",
   "metadata": {},
   "source": [
    "**Exercise** Read the code an try to understand what is going on\n",
    "**Exercise** Launch the *bad* kernel with `n=3` and compare to the original version. Next try with `n=4`. Can you explain what happens?"
   ]
  },
  {
   "cell_type": "code",
   "execution_count": 66,
   "metadata": {},
   "outputs": [
    {
     "name": "stdout",
     "output_type": "stream",
     "text": [
      "mn = length(v) = 56\n",
      "gridsize = div(mn, blocksize) + 1 = 1\n",
      "blocksize = 64\n"
     ]
    },
    {
     "data": {
      "text/plain": [
       "0.4876364f0"
      ]
     },
     "execution_count": 66,
     "metadata": {},
     "output_type": "execute_result"
    }
   ],
   "source": [
    "compute_resistance_gpu_bad(3)[2]"
   ]
  },
  {
   "cell_type": "code",
   "execution_count": 65,
   "metadata": {},
   "outputs": [
    {
     "name": "stdout",
     "output_type": "stream",
     "text": [
      "mn = length(v) = 90\n",
      "gridsize = div(mn, blocksize) + 1 = 2\n",
      "blocksize = 64\n"
     ]
    },
    {
     "data": {
      "text/plain": [
       "0.516162f0"
      ]
     },
     "execution_count": 65,
     "metadata": {},
     "output_type": "execute_result"
    }
   ],
   "source": [
    "compute_resistance_gpu_bad(4)[2]"
   ]
  },
  {
   "cell_type": "markdown",
   "metadata": {},
   "source": [
    "To force synchronization across grid blocks, we'd need to exit the CUDA kernel.\n",
    "\n",
    "**Exercise** Discuss how the previous program could be modified to force synchonization\n",
    "\n",
    "Launching CUDA kernel is associated with some costs so we'd like to minimize the number of launches. \n",
    "\n",
    "**Exercise** Define the the two kernel functions `stencil_kernel_eeoo!(v, b, ω, n)` and `stencil_kernel_eooe!(v, b, ω, n)` from the source of `stencil_inner_kernel!` where `eeoo` means the \"even-even and odd-odd\" loop indices and vice versa."
   ]
  },
  {
   "cell_type": "code",
   "execution_count": 49,
   "metadata": {},
   "outputs": [
    {
     "data": {
      "text/plain": [
       "compute_resistance_gpu_good (generic function with 2 methods)"
      ]
     },
     "execution_count": 49,
     "metadata": {},
     "output_type": "execute_result"
    }
   ],
   "source": [
    "function stencil_kernel_eeoo!(v, b, ω, n)\n",
    "    li = (blockIdx().x-1) * blockDim().x + threadIdx().x\n",
    "    mm, nn = size(v)\n",
    "    i, j = ind2sub(v, li)\n",
    "    \n",
    "    # even-even\n",
    "    if iseven(i) && i <= 2n &&\n",
    "       iseven(j) && j <= 2n\n",
    "       \n",
    "        vij = stencil(v, b, ω, i, j)\n",
    "        v[i, j] = vij\n",
    "    end\n",
    "    \n",
    "    # odd-odd\n",
    "    if isodd(i) && 1 < i <= (2n - 1) &&\n",
    "       isodd(j) && 1 < j <= (2n + 1)\n",
    "        \n",
    "        vij = stencil(v, b, ω, i, j)\n",
    "        v[i, j] = vij\n",
    "    end\n",
    "\n",
    "    return nothing\n",
    "end\n",
    "\n",
    "function stencil_kernel_eooe!(v, b, ω, n)\n",
    "    li = (blockIdx().x-1) * blockDim().x + threadIdx().x\n",
    "    mm, nn = size(v)\n",
    "    i, j = ind2sub(v, li)\n",
    "    \n",
    "    # even-odd\n",
    "    if iseven(i) && i <= 2n &&\n",
    "       isodd(j)  && 1 < j <= (2n + 1)\n",
    "        \n",
    "        vij = stencil(v, b, ω, i, j)\n",
    "        v[i, j] = vij\n",
    "    end\n",
    "    \n",
    "    # odd-even\n",
    "    if isodd(i)  && 1 < i <= (2n - 1) &&\n",
    "       iseven(j) && j <= 2n\n",
    "        \n",
    "        vij = stencil(v, b, ω, i, j)\n",
    "        v[i, j] = vij\n",
    "    end    \n",
    "\n",
    "    return nothing\n",
    "end"
   ]
  },
  {
   "cell_type": "markdown",
   "metadata": {},
   "source": [
    "**Exercise** Add the two kernel functions to the loop with the right block and grid sizes. Verify that the result is correct."
   ]
  },
  {
   "cell_type": "code",
   "execution_count": null,
   "metadata": {},
   "outputs": [],
   "source": [
    "function compute_resistance_gpu_good(n, nreps = 100, blocksize = 32)\n",
    "    # assume n and omega already defined or take\n",
    "    # the following values for the optimal omega\n",
    "    μ = (cos(π/(2*n)) + cos(π/(2*n + 1)))/2\n",
    "    ω = 2*(1 - sqrt(1 - μ^2))/μ^2\n",
    "    # (See page 409 of Strang Intro to Applied Math , this is equation 16)\n",
    "\n",
    "    # Initialize voltages\n",
    "    v = fill!(CuArray{Float32}(2*n + 1, 2*n + 2), 0)\n",
    "\n",
    "    # Define Input Currents\n",
    "    b = copy(v)\n",
    "    b[n + 1, (n + 1):(n + 2)]  = [1 -1]\n",
    "    \n",
    "    # Jacobi Steps\n",
    "    mn = length(v)\n",
    "    gridsize = div(mn, blocksize) + 1\n",
    "    for i in 1:nreps\n",
    "        @cuda (gridsize, blocksize) stencil_kernel_eeoo!(v, b, ω, n)\n",
    "        @cuda (gridsize, blocksize) stencil_kernel_eooe!(v, b, ω, n)\n",
    "    end\n",
    "\n",
    "    # Compute resistance = v_A - v_b = 2 v_A\n",
    "    r = 2*v[n + 1, n + 1]\n",
    "    return v, r\n",
    "end"
   ]
  },
  {
   "cell_type": "markdown",
   "metadata": {},
   "source": [
    "**Exercise** Compare timings to the original version"
   ]
  }
 ],
 "metadata": {
  "kernelspec": {
   "display_name": "Julia 0.6.2",
   "language": "julia",
   "name": "julia-0.6"
  },
  "language_info": {
   "file_extension": ".jl",
   "mimetype": "application/julia",
   "name": "julia",
   "version": "0.6.3"
  }
 },
 "nbformat": 4,
 "nbformat_minor": 2
}

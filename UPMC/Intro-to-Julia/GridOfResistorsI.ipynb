{
 "cells": [
  {
   "cell_type": "markdown",
   "metadata": {},
   "source": [
    "# Grid of Resistors I\n",
    "## Compute the effective resistance of a 2n+1 by 2n+2 grid of resistors\n",
    "## Using SOR with red-black ordering\n",
    "\n",
    "The problem is to compute the voltages and the effective resistance of a 2n+1 by 2n+2 grid of 1 ohm resistors if a battery is connected to the two center points. This is a discrete version of finding the lines of force using iron filings for a magnet.\n",
    "\n",
    "The pictures below describe the two dimensional problem. We will use this problem as a common theme when introducing various aspects of Julia ranging from optimizing sequential code to GPU and distributed computing in Julia.\n",
    "\n",
    "<img src='battery.gif'>\n",
    "\n",
    "The method of solution that we will use here is successive overrelaxation (SOR) with red-black ordering. This is certainly not the fastest way to solve the problem, but it does illustrate many important programming ideas. \n",
    "\n",
    "It is not so important that you know the details of SOR. (Some of the basic ideas may be found on pages 407-409 of Gil Strang's Introduction to Applied Mathematics, a somewhat more in depth discussion may be found in any serious numerical analysis text such as Stoer and Bulirsch's Introduction to Numerical Analysis.) What is important is that you see that the nodes are divided in half into red nodes and black nodes. During the first pass, the red nodes obtain the voltages as a weighted average of their original voltage, the input (if any) and the four surrounding black nodes. During the second pass, the black nodes obtain voltages from the four surrounding red nodes. The process converges in the limit to the correct answer for the finite grid. The following Julia code solves the 2D problem: "
   ]
  },
  {
   "cell_type": "code",
   "execution_count": null,
   "metadata": {},
   "outputs": [],
   "source": [
    "# First load some package not directly related to the resistors problem\n",
    "using BenchmarkTools\n",
    "using PlotlyJS\n",
    "using Interact\n",
    "\n",
    "function compute_resistance(n, nreps = 100)\n",
    "    # Original MATLAB version, Alan Edelman, January 1994\n",
    "    # Julia translations, Andreas Noack, June 2018\n",
    "\n",
    "    # assume n and omega already defined or take\n",
    "    # the following values for the optimal omega\n",
    "    μ = (cos(π/(2*n)) + cos(π/(2*n + 1)))/2\n",
    "    ω = 2*(1 - sqrt(1 - μ^2))/μ^2\n",
    "    # (See page 409 of Strang Intro to Applied Math , this is equation 16)\n",
    "\n",
    "    # Initialize voltages\n",
    "    v = zeros(Float32, 2*n + 1, 2*n + 2)\n",
    "\n",
    "    # Define Input Currents\n",
    "    b = copy(v)\n",
    "    b[n + 1, (n + 1):(n + 2)]  = [1 -1]\n",
    "\n",
    "    # Makes indices easy to read\n",
    "    ie = 2:2:(2*n)      # even i's\n",
    "    io = 3:2:(2*n - 1)  # odd i's\n",
    "    je = 2:2:(2*n)      # even j's\n",
    "    jo = 3:2:(2*n + 1)  # odd j's\n",
    "\n",
    "    # Jacobi Steps\n",
    "    for k in 1:nreps\n",
    "        v[ie, je] = (1 - ω) * v[ie,je] +\n",
    "                      ω*(v[ie + 1, je] + v[ie - 1, je] + v[ie, je + 1] + v[ie, je - 1] + b[ie, je])/4\n",
    "        v[io, jo] = (1 - ω) * v[io, jo] +\n",
    "                      ω*(v[io + 1, jo] + v[io - 1, jo] + v[io, jo + 1] + v[io, jo - 1] + b[io, jo])/4\n",
    "        v[ie, jo] = (1 - ω) * v[ie, jo] +\n",
    "                      ω*(v[ie + 1, jo] + v[ie - 1, jo] + v[ie, jo + 1] + v[ie, jo - 1] + b[ie, jo])/4\n",
    "        v[io, je] = (1 - ω) * v[io, je] +\n",
    "                      ω*(v[io + 1, je] + v[io - 1, je] + v[io, je + 1] + v[io, je - 1] + b[io, je])/4\n",
    "    end\n",
    "    # Compute resistance = v_A - v_b = 2 v_A\n",
    "    r = 2*v[n + 1, n + 1]\n",
    "    return v, r\n",
    "end\n",
    "\n",
    "#               n=3: 81466/167063\n",
    "#               n=4: 0.49279782192042 "
   ]
  },
  {
   "cell_type": "markdown",
   "metadata": {},
   "source": [
    "A contour plot of the answer as a function of $n$ looks like"
   ]
  },
  {
   "cell_type": "code",
   "execution_count": null,
   "metadata": {},
   "outputs": [],
   "source": [
    "using Interact\n",
    "@manipulate for i in 1:10\n",
    "    v, r = compute_resistance(4, i)\n",
    "    plot(contour(z = v), Layout(yaxis_scaleanchor=\"x\"))\n",
    "end"
   ]
  },
  {
   "cell_type": "markdown",
   "metadata": {},
   "source": [
    "In this notebook, we will look at the performance of the code, how to make it faster with \"broadcsting\" and to get familiar with various ways to inspect the code to get an understanding of what is going on.\n",
    "\n",
    "First, we'll use the `@btime` macro to time the function and see how much memory it allocated."
   ]
  },
  {
   "cell_type": "code",
   "execution_count": null,
   "metadata": {},
   "outputs": [],
   "source": [
    "@btime compute_resistance(400);"
   ]
  },
  {
   "cell_type": "markdown",
   "metadata": {},
   "source": [
    "The timings reveal that the function is allocating a lot. Notice that this number is the accumuated number of allocations so most of the memory is already freed again by Julia's garbage collector. However, garbage collection halts the execution of the program and allocating memory from the system takes time, so a first optimization of Julia code is usually to reduce the allocations.\n",
    "\n",
    "**Exercise**: Look at the source code for `compute_resistance` and try to identify the places where memory might be allocated.\n",
    "\n",
    "Now we will utilize dot-broadcasting to reduce the number of temporary arrays created. See more at https://julialang.org/blog/2017/01/moredots (the implementation has changed a bit but the semantics are mostly the same).\n",
    "\n",
    "Broadcasting in Julia serves several. First of all, it allows for convenient operations such as"
   ]
  },
  {
   "cell_type": "code",
   "execution_count": null,
   "metadata": {},
   "outputs": [],
   "source": [
    "zeros(Int, 4) .+ 1"
   ]
  },
  {
   "cell_type": "markdown",
   "metadata": {},
   "source": [
    "and"
   ]
  },
  {
   "cell_type": "code",
   "execution_count": null,
   "metadata": {},
   "outputs": [],
   "source": [
    "(0:10).+(0:10)'"
   ]
  },
  {
   "cell_type": "markdown",
   "metadata": {},
   "source": [
    "but it provides an easy way to reduce the number of allocations by *fusing*. To allustrate this, consider the two functions"
   ]
  },
  {
   "cell_type": "code",
   "execution_count": null,
   "metadata": {},
   "outputs": [],
   "source": [
    "f1(x::Vector) = x + x + x\n",
    "f2(x::Vector) = x .+ x .+ x"
   ]
  },
  {
   "cell_type": "markdown",
   "metadata": {},
   "source": [
    "**Exercise**: Allocate a random vector of length 10 and use `@btime` to compare the two functions `f1` and `f2`, e.g. `@btime f1($x)`. Explain the difference. (The `$` is a timing technicality that ensures that the Julia compiler doesn't confuse the a global variable `x` and a local variable `x`.)"
   ]
  },
  {
   "cell_type": "code",
   "execution_count": null,
   "metadata": {},
   "outputs": [],
   "source": []
  },
  {
   "cell_type": "markdown",
   "metadata": {},
   "source": [
    "**Exercise**: Try prefixing a call to `f1` and `f2` with `@code_lowered` to see how the Julia parser reads the two functions differently. The output might be hard to understand but try to read it and interpret the difference."
   ]
  },
  {
   "cell_type": "code",
   "execution_count": null,
   "metadata": {},
   "outputs": [],
   "source": []
  },
  {
   "cell_type": "markdown",
   "metadata": {},
   "source": [
    "**Exercise**: Now try to utilize broadcasting to write `compute_resistance_bc` that will allocate less than the original version. Use `@btime` to time and compare to the original.\n",
    "\n",
    "**Hint**: In the final version, the number of allocations should be roughly `(9607 allocations: 2.87 GiB)` for `n=400`."
   ]
  },
  {
   "cell_type": "code",
   "execution_count": null,
   "metadata": {},
   "outputs": [],
   "source": []
  }
 ],
 "metadata": {
  "kernelspec": {
   "display_name": "Julia 0.6.2",
   "language": "julia",
   "name": "julia-0.6"
  },
  "language_info": {
   "file_extension": ".jl",
   "mimetype": "application/julia",
   "name": "julia",
   "version": "0.6.3"
  }
 },
 "nbformat": 4,
 "nbformat_minor": 2
}

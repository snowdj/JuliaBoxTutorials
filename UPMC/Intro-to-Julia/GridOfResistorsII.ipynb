{
 "cells": [
  {
   "cell_type": "markdown",
   "metadata": {},
   "source": [
    "# Grid of Resistors II\n",
    "## Compute the effective resistance of a 2n+1 by 2n+2 grid of resistors\n",
    "## Using SOR with red-black ordering\n"
   ]
  },
  {
   "cell_type": "code",
   "execution_count": null,
   "metadata": {},
   "outputs": [],
   "source": [
    "using BenchmarkTools"
   ]
  },
  {
   "cell_type": "markdown",
   "metadata": {},
   "source": [
    "Consider again the reference implementation of the resistance computation."
   ]
  },
  {
   "cell_type": "code",
   "execution_count": 1,
   "metadata": {},
   "outputs": [
    {
     "data": {
      "text/plain": [
       "compute_resistance (generic function with 2 methods)"
      ]
     },
     "execution_count": 1,
     "metadata": {},
     "output_type": "execute_result"
    }
   ],
   "source": [
    "function compute_resistance(n, nreps = 100)\n",
    "    # Original MATLAB version, Alan Edelman, January 1994\n",
    "    # Julia translations, Andreas Noack, June 2018\n",
    "\n",
    "    # assume n and omega already defined or take\n",
    "    # the following values for the optimal omega\n",
    "    μ = (cos(π/(2*n)) + cos(π/(2*n + 1)))/2\n",
    "    ω = 2*(1 - sqrt(1 - μ^2))/μ^2\n",
    "    # (See page 409 of Strang Intro to Applied Math , this is equation 16)\n",
    "\n",
    "    # Initialize voltages\n",
    "    v = zeros(Float32, 2*n + 1, 2*n + 2)\n",
    "\n",
    "    # Define Input Currents\n",
    "    b = copy(v)\n",
    "    b[n + 1, (n + 1):(n + 2)]  = [1 -1]\n",
    "\n",
    "    # Makes indices easy to read\n",
    "    ie = 2:2:(2*n)      # even i's\n",
    "    io = 3:2:(2*n - 1)  # odd i's\n",
    "    je = 2:2:(2*n)      # even j's\n",
    "    jo = 3:2:(2*n + 1)  # odd j's\n",
    "\n",
    "    # Jacobi Steps\n",
    "    for k in 1:nreps\n",
    "        v[ie, je] = (1 - ω) * v[ie,je] +\n",
    "                      ω*(v[ie + 1, je] + v[ie - 1, je] + v[ie, je + 1] + v[ie, je - 1] + b[ie, je])/4\n",
    "        v[io, jo] = (1 - ω) * v[io, jo] +\n",
    "                      ω*(v[io + 1, jo] + v[io - 1, jo] + v[io, jo + 1] + v[io, jo - 1] + b[io, jo])/4\n",
    "        v[ie, jo] = (1 - ω) * v[ie, jo] +\n",
    "                      ω*(v[ie + 1, jo] + v[ie - 1, jo] + v[ie, jo + 1] + v[ie, jo - 1] + b[ie, jo])/4\n",
    "        v[io, je] = (1 - ω) * v[io, je] +\n",
    "                      ω*(v[io + 1, je] + v[io - 1, je] + v[io, je + 1] + v[io, je - 1] + b[io, je])/4\n",
    "    end\n",
    "    # Compute resistance = v_A - v_b = 2 v_A\n",
    "    r = 2*v[n + 1, n + 1]\n",
    "    return v, r\n",
    "end\n"
   ]
  },
  {
   "cell_type": "markdown",
   "metadata": {},
   "source": [
    "In the previous exercise, we saw how the number of allocations could be reduced by using the dot syntax for broadcasting. However, the function still allocated a lot so the aim of this exercise is to reduce the number of allocations even further.\n",
    "\n",
    "A the array \"slicing\" is what is causing the many allocations since slicing will create copies. A typical optimization in hot Julia code is to *devectorize* the code since that will will avoid allocations.\n",
    "\n",
    "**Exercise** As a first step in the process of optimizing, implement af function with the signature\n",
    "```julia\n",
    "stencil(v::Matrix, b::Matrix, ω::Number, i::Int, j::Int)\n",
    "```"
   ]
  },
  {
   "cell_type": "code",
   "execution_count": null,
   "metadata": {},
   "outputs": [],
   "source": []
  },
  {
   "cell_type": "markdown",
   "metadata": {},
   "source": [
    "**Exercise** Now use this function to rewrite a devectorized version of `compute_resistance` called  `compute_resistance_devec`. The trick is to use a double `for` loop over the ranges `ie`, `io`, `je`, and `jo` as appropriate. Make sure that the function produces the correct result and time it. This version should have seven allocations."
   ]
  },
  {
   "cell_type": "code",
   "execution_count": null,
   "metadata": {},
   "outputs": [],
   "source": [
    "function compute_resistance_devec(n, reps = 100)\n",
    "    # assume n and omega already defined or take\n",
    "    # the following values for the optimal omega\n",
    "    μ = (cos(π/(2*n)) + cos(π/(2*n + 1)))/2\n",
    "    ω = 2*(1 - sqrt(1 - μ^2))/μ^2\n",
    "    # (See page 409 of Strang Intro to Applied Math , this is equation 16)\n",
    "\n",
    "    # Initialize voltages\n",
    "    v = zeros(2*n + 1, 2*n + 2)\n",
    "\n",
    "    # Define Input Currents\n",
    "    b = copy(v)\n",
    "    b[n + 1, (n + 1):(n + 2)]  = [1 -1]\n",
    "\n",
    "    # Makes indices easy to read\n",
    "    ie = 2:2:(2*n)      # even i's\n",
    "    io = 3:2:(2*n - 1)  # odd i's\n",
    "    je = 2:2:(2*n)      # even j's\n",
    "    jo = 3:2:(2*n + 1)  # odd j's\n",
    "\n",
    "    # Jacobi Steps\n",
    "\n",
    "    ### Fill in ###\n",
    "    \n",
    "# Compute resistance = v_A - v_b = 2 v_A\n",
    "    r = 2*v[n + 1, n + 1]\n",
    "    return v, r\n",
    "end"
   ]
  },
  {
   "cell_type": "code",
   "execution_count": null,
   "metadata": {},
   "outputs": [],
   "source": [
    "@btime compute_resistance_devec(400);"
   ]
  },
  {
   "cell_type": "markdown",
   "metadata": {},
   "source": [
    "**Exercise** Look at the output from `@code_lowered compute_resistance_devec(400, 100)` and identify the calls to `stencil`.\n",
    "\n",
    "**Exercise** ook at the output from `@code_typed compute_resistance_devec(400, 100)` and verify that there are no calls to `stencil`.\n",
    "\n",
    "Julia has *inlined* the function call to avoid the overhead of the function call and to allow compiler optimizations of the whole loop body.\n",
    "\n",
    "**Exercise** The function iterates over the arrays four times. That is more than necessary. Identify the any dependencies between the four double loops and reduce it to two double loops. Time the result."
   ]
  },
  {
   "cell_type": "code",
   "execution_count": null,
   "metadata": {},
   "outputs": [],
   "source": [
    "function compute_resistance_devec2(n, reps = 100)\n",
    "    # assume n and omega already defined or take\n",
    "    # the following values for the optimal omega\n",
    "    μ = (cos(π/(2*n)) + cos(π/(2*n + 1)))/2\n",
    "    ω = 2*(1 - sqrt(1 - μ^2))/μ^2\n",
    "    # (See page 409 of Strang Intro to Applied Math , this is equation 16)\n",
    "\n",
    "    # Initialize voltages\n",
    "    v = zeros(2*n + 1, 2*n + 2)\n",
    "\n",
    "    # Define Input Currents\n",
    "    b = copy(v)\n",
    "    b[n + 1, (n + 1):(n + 2)]  = [1 -1]\n",
    "\n",
    "    # Jacobi Steps\n",
    "    for k in 1:reps\n",
    "\n",
    "       ### Fill in ###\n",
    "\n",
    "    end\n",
    "# Compute resistance = v_A - v_b = 2 v_A\n",
    "    r = 2*v[n + 1, n + 1]\n",
    "    return v, r\n",
    "end"
   ]
  },
  {
   "cell_type": "code",
   "execution_count": null,
   "metadata": {},
   "outputs": [],
   "source": [
    "@btime compute_resistance_devec2(400);"
   ]
  }
 ],
 "metadata": {
  "kernelspec": {
   "display_name": "Julia 0.6.2",
   "language": "julia",
   "name": "julia-0.6"
  },
  "language_info": {
   "file_extension": ".jl",
   "mimetype": "application/julia",
   "name": "julia",
   "version": "0.6.3"
  }
 },
 "nbformat": 4,
 "nbformat_minor": 2
}

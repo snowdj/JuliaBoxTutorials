{
 "cells": [
  {
   "cell_type": "markdown",
   "metadata": {},
   "source": [
    "## Fitting data in Julia\n",
    "\n",
    "In this notebook, we'll use the `LsqFit` package to fit curves to our data."
   ]
  },
  {
   "cell_type": "code",
   "execution_count": null,
   "metadata": {
    "collapsed": true
   },
   "outputs": [],
   "source": [
    "using LsqFit"
   ]
  },
  {
   "cell_type": "markdown",
   "metadata": {},
   "source": [
    "We'll start by fitting a linear model. Then we'll move on to polynomials and exponentials!\n",
    "\n",
    "In each case, we can fit with a function from `LsqFit` called `curvefit`.\n",
    "\n",
    "### Linear models\n",
    "\n",
    "*Declare a model function*\n",
    "\n",
    "Let's begin by declaring a function of the form\n",
    "\n",
    "$$f_{m, b}(x) = mx + b$$"
   ]
  },
  {
   "cell_type": "code",
   "execution_count": null,
   "metadata": {
    "collapsed": true
   },
   "outputs": [],
   "source": [
    "\"\"\"\n",
    "    linear_model(x, parameters)\n",
    "\n",
    "Take input data, x, and the parameters to this linear model.\n",
    "Return output data that corresponds to this model.\n",
    "\"\"\"\n",
    "function linear_model(x, parameters)\n",
    "    m, b = parameters\n",
    "    return m .* x .+ b\n",
    "end"
   ]
  },
  {
   "cell_type": "markdown",
   "metadata": {},
   "source": [
    "*Create some data to fit!*\n",
    "\n",
    "Now that we have a model, let's use it to generate some data. To make it more like data we get in the real world, we'll add some noise to the data with the `randn` function."
   ]
  },
  {
   "cell_type": "code",
   "execution_count": null,
   "metadata": {
    "collapsed": true
   },
   "outputs": [],
   "source": [
    "xdata = 1:100\n",
    "ydata = linear_model(xdata, [3.14159, 42]) .+ 2 .* randn(length(xdata));"
   ]
  },
  {
   "cell_type": "markdown",
   "metadata": {},
   "source": [
    "With `Plots` we can get a sense of what this data looks like and (later on) how our fit is doing."
   ]
  },
  {
   "cell_type": "code",
   "execution_count": null,
   "metadata": {
    "collapsed": true
   },
   "outputs": [],
   "source": [
    "using Plots\n",
    "gr()\n",
    "scatter(xdata, ydata)\n",
    "xlabel!(\"x data\")\n",
    "ylabel!(\"y data\")\n",
    "title!(\"Here's the data we want to fit!\")"
   ]
  },
  {
   "cell_type": "markdown",
   "metadata": {},
   "source": [
    "*Fit our data*\n",
    "\n",
    "Now we can call the function `curve_fit` to find the parameters of our model (Here, we know the right answers are `m = 3.14159` and `b = 42`, but we want `curve_fit` to tell us this on its own!)\n",
    "\n",
    "`curve_fit` will take four inputs:\n",
    "* the function we want to fit our data to\n",
    "* our  independent variables\n",
    "* our dependent variables\n",
    "* a starting guess at the parameters of our model function\n",
    "\n",
    "For this last input, we'll pass `starting_params = [1.0, 1.0]`."
   ]
  },
  {
   "cell_type": "code",
   "execution_count": null,
   "metadata": {
    "collapsed": true
   },
   "outputs": [],
   "source": [
    "starting_params = [1.0, 1.0]\n",
    "fit = curve_fit(linear_model, xdata, ydata, starting_params)"
   ]
  },
  {
   "cell_type": "markdown",
   "metadata": {},
   "source": [
    "Our output `fit` has the type `LsqFit.LsqFitResult`. This output has a few fields that we can grab. The most important for us are\n",
    "\n",
    "* fit.param - this gives us the best values of the parameters for our model\n",
    "* fit.resid - this provides a vector of residuals\n",
    "\n",
    "We can use `fit.param` to plot the fit to `linear_model`:"
   ]
  },
  {
   "cell_type": "code",
   "execution_count": null,
   "metadata": {
    "collapsed": true
   },
   "outputs": [],
   "source": [
    "plot!(xdata, linear_model(xdata, fit.param), linewidth=3.0)\n",
    "title!(\"Here's our data, overlaid with a fit\")"
   ]
  },
  {
   "cell_type": "markdown",
   "metadata": {},
   "source": [
    "### Fitting polynomials\n",
    "\n",
    "*Declare a model function*\n",
    "\n",
    "This time, let's fit a higher order polynomial function.\n",
    "\n",
    "We could declare a model function like this"
   ]
  },
  {
   "cell_type": "code",
   "execution_count": null,
   "metadata": {
    "collapsed": true
   },
   "outputs": [],
   "source": [
    "function third_order_poly(x, p)\n",
    "    p[1] .* x.^3 .+ p[2] .* x.^2 .+ p[3] .* x .+ p[4]\n",
    "end"
   ]
  },
  {
   "cell_type": "markdown",
   "metadata": {},
   "source": [
    "*Generate trial data*\n",
    "\n",
    "Again, let's generate some data and then plot it!"
   ]
  },
  {
   "cell_type": "code",
   "execution_count": null,
   "metadata": {
    "collapsed": true
   },
   "outputs": [],
   "source": [
    "xdata = linspace(-10, 10, 100)\n",
    "correct_parameters = [1, 1, 2, 4]\n",
    "ydata = third_order_poly(xdata, correct_parameters) .+ 20 * randn(length(xdata));"
   ]
  },
  {
   "cell_type": "code",
   "execution_count": null,
   "metadata": {
    "collapsed": true
   },
   "outputs": [],
   "source": [
    "scatter(xdata, ydata)\n",
    "xlabel!(\"xdata\")\n",
    "ylabel!(\"ydata\")\n",
    "title!(\"Data to fit to a third order polynomial\")"
   ]
  },
  {
   "cell_type": "markdown",
   "metadata": {},
   "source": [
    "*Fit our data to our model function*\n",
    "\n",
    "The interface for `curvefit` is the same as before!\n",
    "\n",
    "(Except now we need to pass a collection for our starting parameters that stores four values.)"
   ]
  },
  {
   "cell_type": "code",
   "execution_count": null,
   "metadata": {
    "collapsed": true
   },
   "outputs": [],
   "source": [
    "starting_params = fill(1.0, (4))"
   ]
  },
  {
   "cell_type": "code",
   "execution_count": null,
   "metadata": {
    "collapsed": true
   },
   "outputs": [],
   "source": [
    "fit = curve_fit(third_order_poly, xdata, ydata, starting_params)"
   ]
  },
  {
   "cell_type": "markdown",
   "metadata": {},
   "source": [
    "Finally, we can overlay this fit with our input data to see how we're doing:"
   ]
  },
  {
   "cell_type": "code",
   "execution_count": null,
   "metadata": {
    "collapsed": true
   },
   "outputs": [],
   "source": [
    "plot!(xdata, third_order_poly(xdata, fit.param), linewidth=3)\n",
    "title!(\"Overlay of our fit and our data for a 3rd order polynomial\")"
   ]
  },
  {
   "cell_type": "markdown",
   "metadata": {},
   "source": [
    "#### 13.1\n",
    "\n",
    "Declare a function of the form\n",
    "\n",
    "$$ f_{a, b}(x) = a\\exp(-bx)$$\n",
    "\n",
    "and use it to fit `xdata` and `ydata` using `curvefit`."
   ]
  },
  {
   "cell_type": "code",
   "execution_count": null,
   "metadata": {
    "collapsed": true
   },
   "outputs": [],
   "source": [
    "xdata = 1:100\n",
    "ydata = [0.406006, 0.0549469, 0.00743626, 0.00100639, 0.0001362, 1.84326e-5, 2.49459e-6, 3.37606e-7, 4.56899e-8, 6.18346e-9, 8.3684e-10, 1.13254e-10, 1.53273e-11, 2.07432e-12, 2.80729e-13, 3.79925e-14, 5.14173e-15, 6.95857e-16, 9.4174e-17, 1.27451e-17, 1.72486e-18, 2.33434e-19, 3.15919e-20, 4.27549e-21, 5.78625e-22, 7.83084e-23, 1.05979e-23, 1.43427e-24, 1.94107e-25, 2.62695e-26, 3.55519e-27, 4.81143e-28, 6.51157e-29, 8.81245e-30, 1.19263e-30, 1.61406e-31, 2.18439e-32, 2.95625e-33, 4.00084e-34, 5.41455e-35, 7.3278e-36, 9.9171e-37, 1.34213e-37, 1.81638e-38, 2.4582e-39, 3.32682e-40, 4.50236e-41, 6.09328e-42, 8.24636e-43, 1.11602e-43, 1.51037e-44, 2.04407e-45, 2.76634e-46, 3.74384e-47, 5.06674e-48, 6.85708e-49, 9.28005e-50, 1.25592e-50, 1.6997e-51, 2.30029e-52, 3.11311e-53, 4.21314e-54, 5.70186e-55, 7.71663e-56, 1.04433e-56, 1.41335e-57, 1.91276e-58, 2.58864e-59, 3.50334e-60, 4.74126e-61, 6.4166e-62, 8.68392e-63, 1.17524e-63, 1.59052e-64, 2.15253e-65, 2.91313e-66, 3.94249e-67, 5.33559e-68, 7.22093e-69, 9.77247e-70, 1.32256e-70, 1.78989e-71, 2.42235e-72, 3.2783e-73, 4.43669e-74, 6.00441e-75, 8.12609e-76, 1.09975e-76, 1.48834e-77, 2.01426e-78, 2.726e-79, 3.68924e-80, 4.99284e-81, 6.75707e-82, 9.1447e-83, 1.2376e-83, 1.67491e-84, 2.26675e-85, 3.06771e-86, 4.15169e-87];"
   ]
  },
  {
   "cell_type": "code",
   "execution_count": null,
   "metadata": {
    "collapsed": true
   },
   "outputs": [],
   "source": []
  }
 ],
 "metadata": {
  "kernelspec": {
   "display_name": "Julia 0.6.0",
   "language": "julia",
   "name": "julia-0.6"
  },
  "language_info": {
   "file_extension": ".jl",
   "mimetype": "application/julia",
   "name": "julia",
   "version": "0.6.0"
  }
 },
 "nbformat": 4,
 "nbformat_minor": 2
}
